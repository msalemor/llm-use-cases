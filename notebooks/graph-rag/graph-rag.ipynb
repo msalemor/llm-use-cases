{
 "cells": [
  {
   "cell_type": "code",
   "execution_count": 20,
   "metadata": {},
   "outputs": [
    {
     "name": "stdout",
     "output_type": "stream",
     "text": [
      "\n",
      "\u001b[1m[\u001b[0m\u001b[34;49mnotice\u001b[0m\u001b[1;39;49m]\u001b[0m\u001b[39;49m A new release of pip is available: \u001b[0m\u001b[31;49m24.0\u001b[0m\u001b[39;49m -> \u001b[0m\u001b[32;49m24.1.2\u001b[0m\n",
      "\u001b[1m[\u001b[0m\u001b[34;49mnotice\u001b[0m\u001b[1;39;49m]\u001b[0m\u001b[39;49m To update, run: \u001b[0m\u001b[32;49mpip install --upgrade pip\u001b[0m\n",
      "Note: you may need to restart the kernel to use updated packages.\n"
     ]
    }
   ],
   "source": [
    "%pip install --upgrade --quiet  langchain langchain-community langchain-openai langchain-experimental neo4j wikipedia tiktoken yfiles_jupyter_graphs python-dotenv"
   ]
  },
  {
   "cell_type": "code",
   "execution_count": 22,
   "metadata": {},
   "outputs": [],
   "source": [
    "import os\n",
    "\n",
    "from langchain_core.runnables import (\n",
    "    RunnableBranch,\n",
    "    RunnableLambda,\n",
    "    RunnableParallel,\n",
    "    RunnablePassthrough,\n",
    ")\n",
    "\n",
    "from langchain_core.prompts import ChatPromptTemplate\n",
    "from langchain_core.prompts.prompt import PromptTemplate\n",
    "\n",
    "from typing import Tuple, List, Optional\n",
    "\n",
    "from langchain_core.messages import AIMessage, HumanMessage\n",
    "from langchain_core.output_parsers import StrOutputParser\n",
    "\n",
    "from langchain_core.runnables import ConfigurableField\n",
    "\n",
    "from yfiles_jupyter_graphs import GraphWidget\n",
    "from neo4j import GraphDatabase\n",
    "\n",
    "from langchain_community.vectorstores import Neo4jVector\n",
    "from langchain_community.graphs import Neo4jGraph\n",
    "\n",
    "from langchain.document_loaders import WikipediaLoader\n",
    "\n",
    "from dotenv import load_dotenv"
   ]
  },
  {
   "cell_type": "code",
   "execution_count": 39,
   "metadata": {},
   "outputs": [
    {
     "name": "stdout",
     "output_type": "stream",
     "text": [
      "ada\n"
     ]
    }
   ],
   "source": [
    "load_dotenv()\n",
    "\n",
    "NEO4J_URI=os.getenv(\"NEO4J_URI\")\n",
    "NEO4J_USERNAME=os.getenv(\"NEO4J_USERNAME\")\n",
    "NEO4J_PASSWORD=os.getenv(\"NEO4J_PASSWORD\")\n",
    "\n",
    "AZURE_OPENAI_ENDPOINT=os.getenv(\"AZURE_OPENAI_ENDPOINT\")\n",
    "AZURE_OPENAI_KEY=os.getenv(\"AZURE_OPENAI_KEY\")\n",
    "AZURE_OPENAI_API_VERSION=os.getenv(\"AZURE_OPENAI_API_VERSION\")\n",
    "AZURE_OPENAI_DEPLOYMENT_NAME = os.getenv(\"AZURE_OPENAI_DEPLOYMENT_NAME\")\n",
    "AZURE_OPENAI_ADA_DEPLOYMENT_NAME=os.getenv(\"AZURE_OPENAI_ADA_DEPLOYMENT_NAME\")"
   ]
  },
  {
   "cell_type": "markdown",
   "metadata": {},
   "source": [
    "### Download some sample data from wikipedia"
   ]
  },
  {
   "cell_type": "code",
   "execution_count": 8,
   "metadata": {},
   "outputs": [
    {
     "name": "stderr",
     "output_type": "stream",
     "text": [
      "/home/alex/temp/graph-rag/.venv/lib/python3.11/site-packages/wikipedia/wikipedia.py:389: GuessedAtParserWarning: No parser was explicitly specified, so I'm using the best available HTML parser for this system (\"html.parser\"). This usually isn't a problem, but if you run this code on another system, or in a different virtual environment, it may use a different parser and behave differently.\n",
      "\n",
      "The code that caused this warning is on line 389 of the file /home/alex/temp/graph-rag/.venv/lib/python3.11/site-packages/wikipedia/wikipedia.py. To get rid of this warning, pass the additional argument 'features=\"html.parser\"' to the BeautifulSoup constructor.\n",
      "\n",
      "  lis = BeautifulSoup(html).find_all('li')\n"
     ]
    }
   ],
   "source": [
    "raw_documents = WikipediaLoader(query=\"Elizabeth I\").load()\n",
    "len(raw_documents)\n",
    "raw_documents[:3]"
   ]
  },
  {
   "cell_type": "markdown",
   "metadata": {},
   "source": [
    "### Split the downloaded documents into chunks"
   ]
  },
  {
   "cell_type": "code",
   "execution_count": 13,
   "metadata": {},
   "outputs": [
    {
     "data": {
      "text/plain": [
       "[Document(metadata={'title': 'Elizabeth I', 'summary': 'Elizabeth I (7 September 1533 – 24 March 1603) was Queen of England and Ireland from 17 November 1558 until her death in 1603. She was the last monarch of the House of Tudor.\\nElizabeth was the only surviving child of Henry VIII and his second wife, Anne Boleyn. When Elizabeth was two years old, her parents\\' marriage was annulled, her mother was executed, and Elizabeth was declared illegitimate. Henry restored her to the line of succession when she was 10, via the Third Succession Act 1543. After Henry\\'s death in 1547, Elizabeth\\'s younger half-brother Edward VI ruled until his own death in 1553, bequeathing the crown to a Protestant cousin, Lady Jane Grey, and ignoring the claims of his two half-sisters, the Catholic Mary and the younger Elizabeth, in spite of statutes to the contrary. Edward\\'s will was set aside within weeks of his death and Mary became queen, deposing and executing Jane. During Mary\\'s reign, Elizabeth was imprisoned for nearly a year on suspicion of supporting Protestant rebels.\\nUpon her half-sister\\'s death in 1558, Elizabeth succeeded to the throne and set out to rule by good counsel. She depended heavily on a group of trusted advisers led by William Cecil, whom she created Baron Burghley. One of her first actions as queen was the establishment of an English Protestant church, of which she became the supreme governor. This era, later named the Elizabethan Religious Settlement, would evolve into the Church of England. It was expected that Elizabeth would marry and produce an heir; however, despite numerous courtships, she never did, and because of this she is sometimes referred to as the \"Virgin Queen\". She was eventually succeeded by her first cousin twice removed, James VI of Scotland, the son of Mary, Queen of Scots.\\nIn government, Elizabeth was more moderate than her father and siblings had been. One of her mottoes was video et taceo (\"I see and keep silent\"). In religion, she was relatively tolerant and avoided systematic persecution. After the pope declared her illegitimate in 1570, which in theory released English Catholics from allegiance to her, several conspiracies threatened her life, all of which were defeated with the help of her ministers\\' secret service, run by Sir Francis Walsingham. Elizabeth was cautious in foreign affairs, manoeuvring between the major powers of France and Spain. She half-heartedly supported a number of ineffective, poorly resourced military campaigns in the Netherlands, France, and Ireland. By the mid-1580s, England could no longer avoid war with Spain.\\nAs she grew older, Elizabeth became celebrated for her virginity. A cult of personality grew around her which was celebrated in the portraits, pageants, and literature of the day. Elizabeth\\'s reign became known as the Elizabethan era. The period is famous for the flourishing of English drama, led by playwrights such as William Shakespeare and Christopher Marlowe, the prowess of English maritime adventurers, such as Francis Drake and Walter Raleigh, and for the defeat of the Spanish Armada. Some historians depict Elizabeth as a short-tempered, sometimes indecisive ruler, who enjoyed more than her fair share of luck. Towards the end of her reign, a series of economic and military problems weakened her popularity. Elizabeth is acknowledged as a charismatic performer (\"Gloriana\") and a dogged survivor (\"Good Queen Bess\") in an era when government was ramshackle and limited, and when monarchs in neighbouring countries faced internal problems that jeopardised their thrones. After the short, disastrous reigns of her half-siblings, her 44 years on the throne provided welcome stability for the kingdom and helped to forge a sense of national identity.', 'source': 'https://en.wikipedia.org/wiki/Elizabeth_I'}, page_content='Elizabeth I (7 September 1533 – 24 March 1603) was Queen of England and Ireland from 17 November 1558 until her death in 1603. She was the last monarch of the House of Tudor.\\nElizabeth was the only surviving child of Henry VIII and his second wife, Anne Boleyn. When Elizabeth was two years old, her parents\\' marriage was annulled, her mother was executed, and Elizabeth was declared illegitimate. Henry restored her to the line of succession when she was 10, via the Third Succession Act 1543. After Henry\\'s death in 1547, Elizabeth\\'s younger half-brother Edward VI ruled until his own death in 1553, bequeathing the crown to a Protestant cousin, Lady Jane Grey, and ignoring the claims of his two half-sisters, the Catholic Mary and the younger Elizabeth, in spite of statutes to the contrary. Edward\\'s will was set aside within weeks of his death and Mary became queen, deposing and executing Jane. During Mary\\'s reign, Elizabeth was imprisoned for nearly a year on suspicion of supporting Protestant rebels.\\nUpon her half-sister\\'s death in 1558, Elizabeth succeeded to the throne and set out to rule by good counsel. She depended heavily on a group of trusted advisers led by William Cecil, whom she created Baron Burghley. One of her first actions as queen was the establishment of an English Protestant church, of which she became the supreme governor. This era, later named the Elizabethan Religious Settlement, would evolve into the Church of England. It was expected that Elizabeth would marry and produce an heir; however, despite numerous courtships, she never did, and because of this she is sometimes referred to as the \"Virgin Queen\". She was eventually succeeded by her first cousin twice removed, James VI of Scotland, the son of Mary, Queen of Scots.\\nIn government, Elizabeth was more moderate than her father and siblings had been. One of her mottoes was video et taceo (\"I see and keep silent\"). In religion, she was relatively tolerant and avoided systematic persecution. After the pope declared her illegitimate in 1570, which in theory released English Catholics from allegiance to her, several conspiracies threatened her life, all of which were defeated with the help of her ministers\\' secret service, run by Sir Francis Walsingham. Elizabeth was cautious in foreign affairs, manoeuvring between the major powers of France and Spain. She half-heartedly supported a number of ineffective, poorly resourced military campaigns in the Netherlands, France'),\n",
       " Document(metadata={'title': 'Elizabeth I', 'summary': 'Elizabeth I (7 September 1533 – 24 March 1603) was Queen of England and Ireland from 17 November 1558 until her death in 1603. She was the last monarch of the House of Tudor.\\nElizabeth was the only surviving child of Henry VIII and his second wife, Anne Boleyn. When Elizabeth was two years old, her parents\\' marriage was annulled, her mother was executed, and Elizabeth was declared illegitimate. Henry restored her to the line of succession when she was 10, via the Third Succession Act 1543. After Henry\\'s death in 1547, Elizabeth\\'s younger half-brother Edward VI ruled until his own death in 1553, bequeathing the crown to a Protestant cousin, Lady Jane Grey, and ignoring the claims of his two half-sisters, the Catholic Mary and the younger Elizabeth, in spite of statutes to the contrary. Edward\\'s will was set aside within weeks of his death and Mary became queen, deposing and executing Jane. During Mary\\'s reign, Elizabeth was imprisoned for nearly a year on suspicion of supporting Protestant rebels.\\nUpon her half-sister\\'s death in 1558, Elizabeth succeeded to the throne and set out to rule by good counsel. She depended heavily on a group of trusted advisers led by William Cecil, whom she created Baron Burghley. One of her first actions as queen was the establishment of an English Protestant church, of which she became the supreme governor. This era, later named the Elizabethan Religious Settlement, would evolve into the Church of England. It was expected that Elizabeth would marry and produce an heir; however, despite numerous courtships, she never did, and because of this she is sometimes referred to as the \"Virgin Queen\". She was eventually succeeded by her first cousin twice removed, James VI of Scotland, the son of Mary, Queen of Scots.\\nIn government, Elizabeth was more moderate than her father and siblings had been. One of her mottoes was video et taceo (\"I see and keep silent\"). In religion, she was relatively tolerant and avoided systematic persecution. After the pope declared her illegitimate in 1570, which in theory released English Catholics from allegiance to her, several conspiracies threatened her life, all of which were defeated with the help of her ministers\\' secret service, run by Sir Francis Walsingham. Elizabeth was cautious in foreign affairs, manoeuvring between the major powers of France and Spain. She half-heartedly supported a number of ineffective, poorly resourced military campaigns in the Netherlands, France, and Ireland. By the mid-1580s, England could no longer avoid war with Spain.\\nAs she grew older, Elizabeth became celebrated for her virginity. A cult of personality grew around her which was celebrated in the portraits, pageants, and literature of the day. Elizabeth\\'s reign became known as the Elizabethan era. The period is famous for the flourishing of English drama, led by playwrights such as William Shakespeare and Christopher Marlowe, the prowess of English maritime adventurers, such as Francis Drake and Walter Raleigh, and for the defeat of the Spanish Armada. Some historians depict Elizabeth as a short-tempered, sometimes indecisive ruler, who enjoyed more than her fair share of luck. Towards the end of her reign, a series of economic and military problems weakened her popularity. Elizabeth is acknowledged as a charismatic performer (\"Gloriana\") and a dogged survivor (\"Good Queen Bess\") in an era when government was ramshackle and limited, and when monarchs in neighbouring countries faced internal problems that jeopardised their thrones. After the short, disastrous reigns of her half-siblings, her 44 years on the throne provided welcome stability for the kingdom and helped to forge a sense of national identity.', 'source': 'https://en.wikipedia.org/wiki/Elizabeth_I'}, page_content=' France and Spain. She half-heartedly supported a number of ineffective, poorly resourced military campaigns in the Netherlands, France, and Ireland. By the mid-1580s, England could no longer avoid war with Spain.\\nAs she grew older, Elizabeth became celebrated for her virginity. A cult of personality grew around her which was celebrated in the portraits, pageants, and literature of the day. Elizabeth\\'s reign became known as the Elizabethan era. The period is famous for the flourishing of English drama, led by playwrights such as William Shakespeare and Christopher Marlowe, the prowess of English maritime adventurers, such as Francis Drake and Walter Raleigh, and for the defeat of the Spanish Armada. Some historians depict Elizabeth as a short-tempered, sometimes indecisive ruler, who enjoyed more than her fair share of luck. Towards the end of her reign, a series of economic and military problems weakened her popularity. Elizabeth is acknowledged as a charismatic performer (\"Gloriana\") and a dogged survivor (\"Good Queen Bess\") in an era when government was ramshackle and limited, and when monarchs in neighbouring countries faced internal problems that jeopardised their thrones. After the short, disastrous reigns of her half-siblings, her 44 years on the throne provided welcome stability for the kingdom and helped to forge a sense of national identity.\\n\\n\\n== Early life ==\\n\\nElizabeth was born at Greenwich Palace on 7 September 1533 and was named after her grandmothers, Elizabeth of York and Lady Elizabeth Howard. She was the second child of Henry VIII of England born in wedlock to survive infancy. Her mother was Henry\\'s second wife, Ann'),\n",
       " Document(metadata={'title': 'Elizabeth of Russia', 'summary': \"Elizabeth or Elizaveta Petrovna (Russian: Елизаве́та Петро́вна; 29 December [O.S. 18 December] 1709 – 5 January [O.S. 25 December] 1762) was Empress of Russia from 1741 until her death in 1762. She remains one of the most popular Russian monarchs because of her decision not to execute a single person during her reign, her numerous construction projects, and her strong opposition to Prussian policies.\\nThe second-eldest daughter of Tsar Peter the Great (r.\\u20091682–1725), Elizabeth lived through the confused successions of her father's descendants following her half-brother Alexei's death in 1718. The throne first passed to her mother Catherine I of Russia (r.\\u20091725–1727), then to her nephew Peter II, who died in 1730 and was succeeded by Elizabeth's first cousin Anna (r.\\u20091730–1740). After the brief rule of Anna's infant great-nephew, Ivan VI, Elizabeth seized the throne with the military's support and declared her own nephew, the future Peter III, her heir.\\nDuring her reign Elizabeth continued the policies of her father and brought about a remarkable Age of Enlightenment in Russia. Her domestic policies allowed the nobles to gain dominance in local government while shortening their terms of service to the state. She encouraged Mikhail Lomonosov's foundation of the University of Moscow, the highest-ranking Russian educational institution. Her court became one of the most splendid in all Europe, especially regarding architecture: she modernised Russia's roads, encouraged Ivan Shuvalov's foundation of the Imperial Academy of Arts, and financed grandiose Baroque projects of her favourite architect, Bartolomeo Rastrelli, particularly in Peterhof Palace. The Winter Palace and the Smolny Cathedral in Saint Petersburg are among the chief monuments of her reign.\\nElizabeth led the Russian Empire during the two major European conflicts of her time: the War of Austrian Succession (1740–1748) and the Seven Years' War (1756–1763). She and diplomat Aleksey Bestuzhev-Ryumin solved the first event by forming an alliance with Austria and France, but indirectly caused the second. Russian troops enjoyed several victories against Prussia and briefly occupied Berlin, but when Frederick the Great was finally considering surrender in January 1762, the Russian Empress died. She was the last agnatic member of the House of Romanov to reign over the Russian Empire.\\n\\n\", 'source': 'https://en.wikipedia.org/wiki/Elizabeth_of_Russia'}, page_content=\"Elizabeth or Elizaveta Petrovna (Russian: Елизаве́та Петро́вна; 29 December [O.S. 18 December] 1709 – 5 January [O.S. 25 December] 1762) was Empress of Russia from 1741 until her death in 1762. She remains one of the most popular Russian monarchs because of her decision not to execute a single person during her reign, her numerous construction projects, and her strong opposition to Prussian policies.\\nThe second-eldest daughter of Tsar Peter the Great (r.\\u20091682–1725), Elizabeth lived through the confused successions of her father's descendants following her half-brother Alexei's death in 1718. The throne first passed to her mother Catherine I of Russia (r.\\u20091725–1727), then to her nephew Peter II, who died in 1730 and was succeeded by Elizabeth's first cousin Anna (r.\\u20091730–1740). After the brief rule of Anna's infant great-nephew, Ivan VI, Elizabeth seized the throne with the military's support and declared her own nephew, the future Peter III, her heir.\\nDuring her reign Elizabeth continued the policies of her father and brought about a remarkable Age of Enlightenment in Russia. Her domestic policies allowed the nobles to gain dominance in local government while shortening their terms of service to the state. She encouraged Mikhail Lomonosov's foundation of the University of Moscow, the highest-ranking Russian educational institution. Her court became one of the most splendid in all Europe, especially regarding architecture: she modernised Russia's roads, encouraged Ivan Shuvalov's foundation of the Imperial Academy of Arts, and financed grandiose Baroque projects of her favourite architect, Bartolomeo Rastrelli, particularly in Peterhof Palace. The Winter Palace and the Smolny Cathedral in Saint Petersburg are among the chief monuments of her reign.\\nElizabeth led the Russian Empire during the two major European conflicts of her time: the War of Austrian Succession (1740–1748) and the Seven Years' War (1756–1763). She and diplomat Aleksey Bestuzhev-Ryumin solved the first event by forming an alliance with Austria and France, but indirectly caused the second. Russian troops enjoyed several victories against Prussia and briefly occupied Berlin, but when Frederick the Great was finally considering surrender in January\"),\n",
       " Document(metadata={'title': 'Elizabeth of Russia', 'summary': \"Elizabeth or Elizaveta Petrovna (Russian: Елизаве́та Петро́вна; 29 December [O.S. 18 December] 1709 – 5 January [O.S. 25 December] 1762) was Empress of Russia from 1741 until her death in 1762. She remains one of the most popular Russian monarchs because of her decision not to execute a single person during her reign, her numerous construction projects, and her strong opposition to Prussian policies.\\nThe second-eldest daughter of Tsar Peter the Great (r.\\u20091682–1725), Elizabeth lived through the confused successions of her father's descendants following her half-brother Alexei's death in 1718. The throne first passed to her mother Catherine I of Russia (r.\\u20091725–1727), then to her nephew Peter II, who died in 1730 and was succeeded by Elizabeth's first cousin Anna (r.\\u20091730–1740). After the brief rule of Anna's infant great-nephew, Ivan VI, Elizabeth seized the throne with the military's support and declared her own nephew, the future Peter III, her heir.\\nDuring her reign Elizabeth continued the policies of her father and brought about a remarkable Age of Enlightenment in Russia. Her domestic policies allowed the nobles to gain dominance in local government while shortening their terms of service to the state. She encouraged Mikhail Lomonosov's foundation of the University of Moscow, the highest-ranking Russian educational institution. Her court became one of the most splendid in all Europe, especially regarding architecture: she modernised Russia's roads, encouraged Ivan Shuvalov's foundation of the Imperial Academy of Arts, and financed grandiose Baroque projects of her favourite architect, Bartolomeo Rastrelli, particularly in Peterhof Palace. The Winter Palace and the Smolny Cathedral in Saint Petersburg are among the chief monuments of her reign.\\nElizabeth led the Russian Empire during the two major European conflicts of her time: the War of Austrian Succession (1740–1748) and the Seven Years' War (1756–1763). She and diplomat Aleksey Bestuzhev-Ryumin solved the first event by forming an alliance with Austria and France, but indirectly caused the second. Russian troops enjoyed several victories against Prussia and briefly occupied Berlin, but when Frederick the Great was finally considering surrender in January 1762, the Russian Empress died. She was the last agnatic member of the House of Romanov to reign over the Russian Empire.\\n\\n\", 'source': 'https://en.wikipedia.org/wiki/Elizabeth_of_Russia'}, page_content=' Russian troops enjoyed several victories against Prussia and briefly occupied Berlin, but when Frederick the Great was finally considering surrender in January 1762, the Russian Empress died. She was the last agnatic member of the House of Romanov to reign over the Russian Empire.\\n\\n\\n== Early life ==\\n\\n\\n=== Childhood and teenage years ===\\n\\nElizabeth was born at Kolomenskoye, near Moscow, Russia, on 18 December 1709 (O.S.). Her parents were Peter the Great, Tsar of Russia and Catherine. Catherine was the daughter of Samuel Skowroński, a subject of Grand Duchy of Lithuania. Although no documentary record exists, her parents were said to have married secretly at the Cathedral of the Holy Trinity in Saint Petersburg at some point between 23 October and 1 December 1707. Their official marriage was at Saint Isaac\\'s Cathedral in Saint Petersburg on 9 February 1712. On this day, the two children previously born to the couple (Anna and Elizabeth) were legitimised by their father and given the title of Tsarevna (\"princess\") on 6 March 1711. Of the twelve children born to Peter and Catherine (five sons and seven daughters), only the sisters survived to adulthood. They had one older surviving sibling, crown prince Alexei Petrovich, who was Peter\\'s son by his first wife, noblewoman Eudoxia Lopukhina.\\nAs a child, Elizabeth was the favourite of her father, whom she resembled both physically and temperamentally. Even though he adored his daughter, Peter did not devote time or attention to her education; having both a son and grandson from his first marriage to a noblewoman, he did not anticipate that a daughter born to his former maid might one day inherit the Russian throne, which had until that point never been occupied by a woman; as such, it was left to Catherine to raise the girls, a task met with considerable difficulty due to her own lack of education. Despite this, Elizabeth was still '),\n",
       " Document(metadata={'title': 'Portraiture of Elizabeth I', 'summary': 'The portraiture of Queen Elizabeth I (1533–1603) spans the evolution of English royal portraits in the early modern period (1400/1500-1800), from the earliest representations of simple likenesses to the later complex imagery used to convey the power and aspirations of the state, as well as of the monarch at its head.\\nEven the earliest portraits of Elizabeth I contain symbolic objects such as roses and prayer books that would have carried meaning to viewers of her day. Later portraits of Elizabeth layer the iconography of empire—globes, crowns, swords and columns—and representations of virginity and purity, such as moons and pearls, with classical allusions, to present a complex \"story\" that conveyed to Elizabethan era viewers the majesty and significance of the \\'Virgin Queen\\'.', 'source': 'https://en.wikipedia.org/wiki/Portraiture_of_Elizabeth_I'}, page_content='The portraiture of Queen Elizabeth I (1533–1603) spans the evolution of English royal portraits in the early modern period (1400/1500-1800), from the earliest representations of simple likenesses to the later complex imagery used to convey the power and aspirations of the state, as well as of the monarch at its head.\\nEven the earliest portraits of Elizabeth I contain symbolic objects such as roses and prayer books that would have carried meaning to viewers of her day. Later portraits of Elizabeth layer the iconography of empire—globes, crowns, swords and columns—and representations of virginity and purity, such as moons and pearls, with classical allusions, to present a complex \"story\" that conveyed to Elizabethan era viewers the majesty and significance of the \\'Virgin Queen\\'.\\n\\n\\n== Overview ==\\n\\n\\n=== Portraiture in Tudor England ===\\n\\nTwo portraiture traditions had arisen in the Tudor court since the days of Elizabeth\\'s father, Henry VIII. The portrait miniature developed from the illuminated manuscript tradition. These small personal images were almost invariably painted from life over the space of a few days in watercolours on vellum, stiffened by being glued to a playing card. Panel paintings in oils on prepared wood surfaces were based on preparatory drawings and were usually executed at life size, as were oil paintings on canvas.\\nUnlike her contemporaries in France, Elizabeth never granted rights to produce her portrait to a single artist, although Nicholas Hilliard was appointed her official limner, or miniaturist and goldsmith. George Gower, a fashionable court portraitist created Serjeant Painter in 1581, was responsible for approving all portraits of the queen created by other artists from 1581 until his death in 1596.\\nElizabeth sat for a number of artists over the years, including Hilliard, Cornelis Ketel, Federico Zuccaro or Zuccari, Isaac Oliver, and most likely to Gower and Marcus Gheeraerts the Younger. Portraits were commissioned by the government as gifts to foreign monarchs and to show to prospective suitors. Courtiers commissioned heavily symbolic paintings to demonstrate their devotion to the queen, and the fashionable long galleries of later Elizabethan country houses were filled with sets of portraits. The studios of Tudor artists produced images of Elizabeth working from approved \"face patterns\", or approved drawings of the queen, to meet this growing demand for her image, an important symbol of loyalty and reverence for the crown in times of turbulence.\\n\\n\\n==='),\n",
       " Document(metadata={'title': 'Portraiture of Elizabeth I', 'summary': 'The portraiture of Queen Elizabeth I (1533–1603) spans the evolution of English royal portraits in the early modern period (1400/1500-1800), from the earliest representations of simple likenesses to the later complex imagery used to convey the power and aspirations of the state, as well as of the monarch at its head.\\nEven the earliest portraits of Elizabeth I contain symbolic objects such as roses and prayer books that would have carried meaning to viewers of her day. Later portraits of Elizabeth layer the iconography of empire—globes, crowns, swords and columns—and representations of virginity and purity, such as moons and pearls, with classical allusions, to present a complex \"story\" that conveyed to Elizabethan era viewers the majesty and significance of the \\'Virgin Queen\\'.', 'source': 'https://en.wikipedia.org/wiki/Portraiture_of_Elizabeth_I'}, page_content=' growing demand for her image, an important symbol of loyalty and reverence for the crown in times of turbulence.\\n\\n\\n=== European context ===\\n\\nBy far the most impressive models of portraiture available to English portraitists were the many portraits by Hans Holbein the Younger, the outstanding Northern portraitist of the first half of the 16th century, who had made two lengthy visits to England, and had been Henry VIII\\'s court artist. Holbein had accustomed the English court to the full-length life-size portrait, although none of his originals now survive. His great dynastic mural at Whitehall Palace, destroyed in 1698, and perhaps other original large portraits, would have been familiar to Elizabethan artists.\\nBoth Holbein and his great Italian contemporary Titian had combined great psychological penetration with a sufficiently majestic impression to satisfy their royal patrons. By his second visit, Holbein had already begun to move away from a strictly realist depiction; in his Jane Seymour, \"the figure is no longer seen as displacing with its bulk a recognizable section of space: it approaches rather to a flat pattern, made alive by a bounding and vital outline\". This tendency was to be taken much further by the later portraits of Elizabeth, where \"Likeness of feature and an interest in form and volume have gradually been abandoned in favour of an effect of splendid majesty obtained by decorative pattern, and the forms have been flattened accordingly\".\\n\\nTitian continued to paint royal portraits, especially of Philip II of Spain, until the 1570s, but in sharply reduce')]"
      ]
     },
     "execution_count": 13,
     "metadata": {},
     "output_type": "execute_result"
    }
   ],
   "source": [
    "from langchain.text_splitter import TokenTextSplitter\n",
    "text_splitter = TokenTextSplitter(chunk_size=512, chunk_overlap=24)\n",
    "documents = text_splitter.split_documents(raw_documents[:3])\n",
    "documents"
   ]
  },
  {
   "cell_type": "markdown",
   "metadata": {},
   "source": [
    "### Connect to the Neo4J database\n",
    "\n",
    "> **Note:** if using docker, it requires special configuration to enable `APOC` support."
   ]
  },
  {
   "cell_type": "code",
   "execution_count": 24,
   "metadata": {},
   "outputs": [
    {
     "data": {
      "text/plain": [
       "<langchain_community.graphs.neo4j_graph.Neo4jGraph at 0x7f21b4676650>"
      ]
     },
     "execution_count": 24,
     "metadata": {},
     "output_type": "execute_result"
    }
   ],
   "source": [
    "os.environ[\"NEO4J_URI\"] = NEO4J_URI\n",
    "os.environ[\"NEO4J_USERNAME\"] = NEO4J_USERNAME\n",
    "os.environ[\"NEO4J_PASSWORD\"] = NEO4J_PASSWORD\n",
    "\n",
    "graph = Neo4jGraph()\n",
    "graph"
   ]
  },
  {
   "cell_type": "markdown",
   "metadata": {},
   "source": [
    "### Create an Azure OpenAI client"
   ]
  },
  {
   "cell_type": "code",
   "execution_count": 32,
   "metadata": {},
   "outputs": [],
   "source": [
    "from langchain_openai import AzureChatOpenAI\n",
    "\n",
    "llm = AzureChatOpenAI(\n",
    "    azure_endpoint=AZURE_OPENAI_ENDPOINT,\n",
    "    api_key=AZURE_OPENAI_KEY,\n",
    "    azure_deployment=AZURE_OPENAI_DEPLOYMENT_NAME,\n",
    "    openai_api_version=AZURE_OPENAI_API_VERSION,\n",
    ")"
   ]
  },
  {
   "cell_type": "markdown",
   "metadata": {},
   "source": [
    "###  Transform text into grah document using the LLMGraphTransformer\n",
    "\n",
    "Extracting graph data from text enables the transformation of unstructured information into structured formats, facilitating deeper insights and more efficient navigation through complex relationships and patterns. The LLMGraphTransformer converts text documents into structured graph documents by leveraging a LLM to parse and categorize entities and their relationships. The selection of the LLM model significantly influences the output by determining the accuracy and nuance of the extracted graph data.\n",
    "\n",
    "References:\n",
    "\n",
    "-  https://python.langchain.com/v0.2/docs/how_to/graph_constructing/\n",
    "-  https://api.python.langchain.com/en/latest/graph_transformers/langchain_experimental.graph_transformers.llm.LLMGraphTransformer.html"
   ]
  },
  {
   "cell_type": "code",
   "execution_count": 33,
   "metadata": {},
   "outputs": [],
   "source": [
    "\n",
    "from langchain_experimental.graph_transformers import LLMGraphTransformer\n",
    "llm_transformer = LLMGraphTransformer(llm=llm)"
   ]
  },
  {
   "cell_type": "markdown",
   "metadata": {},
   "source": [
    "### Convert the text documents into graph documents"
   ]
  },
  {
   "cell_type": "code",
   "execution_count": 34,
   "metadata": {},
   "outputs": [
    {
     "data": {
      "text/plain": [
       "[GraphDocument(nodes=[Node(id='Elizabeth I', type='Person'), Node(id='England', type='Place'), Node(id='Ireland', type='Place'), Node(id='Henry Viii', type='Person'), Node(id='Anne Boleyn', type='Person'), Node(id='Edward Vi', type='Person'), Node(id='Lady Jane Grey', type='Person'), Node(id='Mary I', type='Person'), Node(id='William Cecil', type='Person'), Node(id='Church Of England', type='Organization'), Node(id='James Vi Of Scotland', type='Person'), Node(id='Mary, Queen Of Scots', type='Person'), Node(id='Sir Francis Walsingham', type='Person'), Node(id='France', type='Place'), Node(id='Spain', type='Place')], relationships=[Relationship(source=Node(id='Elizabeth I', type='Person'), target=Node(id='England', type='Place'), type='QUEEN_OF'), Relationship(source=Node(id='Elizabeth I', type='Person'), target=Node(id='Ireland', type='Place'), type='QUEEN_OF'), Relationship(source=Node(id='Elizabeth I', type='Person'), target=Node(id='Henry Viii', type='Person'), type='CHILD_OF'), Relationship(source=Node(id='Elizabeth I', type='Person'), target=Node(id='Anne Boleyn', type='Person'), type='CHILD_OF'), Relationship(source=Node(id='Elizabeth I', type='Person'), target=Node(id='Edward Vi', type='Person'), type='SIBLING_OF'), Relationship(source=Node(id='Elizabeth I', type='Person'), target=Node(id='Mary I', type='Person'), type='SIBLING_OF'), Relationship(source=Node(id='Henry Viii', type='Person'), target=Node(id='Anne Boleyn', type='Person'), type='SPOUSE'), Relationship(source=Node(id='Elizabeth I', type='Person'), target=Node(id='William Cecil', type='Person'), type='ADVISOR'), Relationship(source=Node(id='Elizabeth I', type='Person'), target=Node(id='Church Of England', type='Organization'), type='SUPREME_GOVERNOR_OF'), Relationship(source=Node(id='Elizabeth I', type='Person'), target=Node(id='James Vi Of Scotland', type='Person'), type='SUCCEEDED_BY'), Relationship(source=Node(id='James Vi Of Scotland', type='Person'), target=Node(id='Mary, Queen Of Scots', type='Person'), type='CHILD_OF'), Relationship(source=Node(id='Elizabeth I', type='Person'), target=Node(id='Sir Francis Walsingham', type='Person'), type='ADVISOR'), Relationship(source=Node(id='Elizabeth I', type='Person'), target=Node(id='France', type='Place'), type='FOREIGN_AFFAIRS_WITH'), Relationship(source=Node(id='Elizabeth I', type='Person'), target=Node(id='Spain', type='Place'), type='FOREIGN_AFFAIRS_WITH')], source=Document(metadata={'title': 'Elizabeth I', 'summary': 'Elizabeth I (7 September 1533 – 24 March 1603) was Queen of England and Ireland from 17 November 1558 until her death in 1603. She was the last monarch of the House of Tudor.\\nElizabeth was the only surviving child of Henry VIII and his second wife, Anne Boleyn. When Elizabeth was two years old, her parents\\' marriage was annulled, her mother was executed, and Elizabeth was declared illegitimate. Henry restored her to the line of succession when she was 10, via the Third Succession Act 1543. After Henry\\'s death in 1547, Elizabeth\\'s younger half-brother Edward VI ruled until his own death in 1553, bequeathing the crown to a Protestant cousin, Lady Jane Grey, and ignoring the claims of his two half-sisters, the Catholic Mary and the younger Elizabeth, in spite of statutes to the contrary. Edward\\'s will was set aside within weeks of his death and Mary became queen, deposing and executing Jane. During Mary\\'s reign, Elizabeth was imprisoned for nearly a year on suspicion of supporting Protestant rebels.\\nUpon her half-sister\\'s death in 1558, Elizabeth succeeded to the throne and set out to rule by good counsel. She depended heavily on a group of trusted advisers led by William Cecil, whom she created Baron Burghley. One of her first actions as queen was the establishment of an English Protestant church, of which she became the supreme governor. This era, later named the Elizabethan Religious Settlement, would evolve into the Church of England. It was expected that Elizabeth would marry and produce an heir; however, despite numerous courtships, she never did, and because of this she is sometimes referred to as the \"Virgin Queen\". She was eventually succeeded by her first cousin twice removed, James VI of Scotland, the son of Mary, Queen of Scots.\\nIn government, Elizabeth was more moderate than her father and siblings had been. One of her mottoes was video et taceo (\"I see and keep silent\"). In religion, she was relatively tolerant and avoided systematic persecution. After the pope declared her illegitimate in 1570, which in theory released English Catholics from allegiance to her, several conspiracies threatened her life, all of which were defeated with the help of her ministers\\' secret service, run by Sir Francis Walsingham. Elizabeth was cautious in foreign affairs, manoeuvring between the major powers of France and Spain. She half-heartedly supported a number of ineffective, poorly resourced military campaigns in the Netherlands, France, and Ireland. By the mid-1580s, England could no longer avoid war with Spain.\\nAs she grew older, Elizabeth became celebrated for her virginity. A cult of personality grew around her which was celebrated in the portraits, pageants, and literature of the day. Elizabeth\\'s reign became known as the Elizabethan era. The period is famous for the flourishing of English drama, led by playwrights such as William Shakespeare and Christopher Marlowe, the prowess of English maritime adventurers, such as Francis Drake and Walter Raleigh, and for the defeat of the Spanish Armada. Some historians depict Elizabeth as a short-tempered, sometimes indecisive ruler, who enjoyed more than her fair share of luck. Towards the end of her reign, a series of economic and military problems weakened her popularity. Elizabeth is acknowledged as a charismatic performer (\"Gloriana\") and a dogged survivor (\"Good Queen Bess\") in an era when government was ramshackle and limited, and when monarchs in neighbouring countries faced internal problems that jeopardised their thrones. After the short, disastrous reigns of her half-siblings, her 44 years on the throne provided welcome stability for the kingdom and helped to forge a sense of national identity.', 'source': 'https://en.wikipedia.org/wiki/Elizabeth_I'}, page_content='Elizabeth I (7 September 1533 – 24 March 1603) was Queen of England and Ireland from 17 November 1558 until her death in 1603. She was the last monarch of the House of Tudor.\\nElizabeth was the only surviving child of Henry VIII and his second wife, Anne Boleyn. When Elizabeth was two years old, her parents\\' marriage was annulled, her mother was executed, and Elizabeth was declared illegitimate. Henry restored her to the line of succession when she was 10, via the Third Succession Act 1543. After Henry\\'s death in 1547, Elizabeth\\'s younger half-brother Edward VI ruled until his own death in 1553, bequeathing the crown to a Protestant cousin, Lady Jane Grey, and ignoring the claims of his two half-sisters, the Catholic Mary and the younger Elizabeth, in spite of statutes to the contrary. Edward\\'s will was set aside within weeks of his death and Mary became queen, deposing and executing Jane. During Mary\\'s reign, Elizabeth was imprisoned for nearly a year on suspicion of supporting Protestant rebels.\\nUpon her half-sister\\'s death in 1558, Elizabeth succeeded to the throne and set out to rule by good counsel. She depended heavily on a group of trusted advisers led by William Cecil, whom she created Baron Burghley. One of her first actions as queen was the establishment of an English Protestant church, of which she became the supreme governor. This era, later named the Elizabethan Religious Settlement, would evolve into the Church of England. It was expected that Elizabeth would marry and produce an heir; however, despite numerous courtships, she never did, and because of this she is sometimes referred to as the \"Virgin Queen\". She was eventually succeeded by her first cousin twice removed, James VI of Scotland, the son of Mary, Queen of Scots.\\nIn government, Elizabeth was more moderate than her father and siblings had been. One of her mottoes was video et taceo (\"I see and keep silent\"). In religion, she was relatively tolerant and avoided systematic persecution. After the pope declared her illegitimate in 1570, which in theory released English Catholics from allegiance to her, several conspiracies threatened her life, all of which were defeated with the help of her ministers\\' secret service, run by Sir Francis Walsingham. Elizabeth was cautious in foreign affairs, manoeuvring between the major powers of France and Spain. She half-heartedly supported a number of ineffective, poorly resourced military campaigns in the Netherlands, France')),\n",
       " GraphDocument(nodes=[Node(id='France', type='Place'), Node(id='Spain', type='Place'), Node(id='Netherlands', type='Place'), Node(id='Ireland', type='Place'), Node(id='England', type='Place'), Node(id='Elizabeth', type='Person'), Node(id='Elizabethan_Era', type='Period'), Node(id='William_Shakespeare', type='Person'), Node(id='Christopher_Marlowe', type='Person'), Node(id='Francis_Drake', type='Person'), Node(id='Walter_Raleigh', type='Person'), Node(id='Spanish_Armada', type='Event'), Node(id='Gloriana', type='Person'), Node(id='Good_Queen_Bess', type='Person'), Node(id='Greenwich_Palace', type='Place'), Node(id='7_September_1533', type='Date'), Node(id='Elizabeth_Of_York', type='Person'), Node(id='Lady_Elizabeth_Howard', type='Person'), Node(id='Henry_Viii_Of_England', type='Person'), Node(id='Ann', type='Person')], relationships=[Relationship(source=Node(id='Elizabeth', type='Person'), target=Node(id='France', type='Place'), type='SUPPORTED_CAMPAIGN_IN'), Relationship(source=Node(id='Elizabeth', type='Person'), target=Node(id='Spain', type='Place'), type='SUPPORTED_CAMPAIGN_IN'), Relationship(source=Node(id='Elizabeth', type='Person'), target=Node(id='Netherlands', type='Place'), type='SUPPORTED_CAMPAIGN_IN'), Relationship(source=Node(id='Elizabeth', type='Person'), target=Node(id='Ireland', type='Place'), type='SUPPORTED_CAMPAIGN_IN'), Relationship(source=Node(id='England', type='Place'), target=Node(id='Spain', type='Place'), type='WENT_TO_WAR_WITH'), Relationship(source=Node(id='Elizabeth', type='Person'), target=Node(id='Elizabethan_Era', type='Period'), type='REIGN'), Relationship(source=Node(id='Elizabethan_Era', type='Period'), target=Node(id='William_Shakespeare', type='Person'), type='FEATURED'), Relationship(source=Node(id='Elizabethan_Era', type='Period'), target=Node(id='Christopher_Marlowe', type='Person'), type='FEATURED'), Relationship(source=Node(id='Elizabethan_Era', type='Period'), target=Node(id='Francis_Drake', type='Person'), type='FEATURED'), Relationship(source=Node(id='Elizabethan_Era', type='Period'), target=Node(id='Walter_Raleigh', type='Person'), type='FEATURED'), Relationship(source=Node(id='Elizabethan_Era', type='Period'), target=Node(id='Spanish_Armada', type='Event'), type='FEATURED'), Relationship(source=Node(id='Elizabeth', type='Person'), target=Node(id='Gloriana', type='Person'), type='ALIAS'), Relationship(source=Node(id='Elizabeth', type='Person'), target=Node(id='Good_Queen_Bess', type='Person'), type='ALIAS'), Relationship(source=Node(id='Elizabeth', type='Person'), target=Node(id='Greenwich_Palace', type='Place'), type='BORN_IN'), Relationship(source=Node(id='Elizabeth', type='Person'), target=Node(id='7_September_1533', type='Date'), type='BIRTH_DATE'), Relationship(source=Node(id='Elizabeth', type='Person'), target=Node(id='Elizabeth_Of_York', type='Person'), type='NAMED_AFTER'), Relationship(source=Node(id='Elizabeth', type='Person'), target=Node(id='Lady_Elizabeth_Howard', type='Person'), type='NAMED_AFTER'), Relationship(source=Node(id='Elizabeth', type='Person'), target=Node(id='Henry_Viii_Of_England', type='Person'), type='CHILD_OF'), Relationship(source=Node(id='Elizabeth', type='Person'), target=Node(id='Ann', type='Person'), type='CHILD_OF')], source=Document(metadata={'title': 'Elizabeth I', 'summary': 'Elizabeth I (7 September 1533 – 24 March 1603) was Queen of England and Ireland from 17 November 1558 until her death in 1603. She was the last monarch of the House of Tudor.\\nElizabeth was the only surviving child of Henry VIII and his second wife, Anne Boleyn. When Elizabeth was two years old, her parents\\' marriage was annulled, her mother was executed, and Elizabeth was declared illegitimate. Henry restored her to the line of succession when she was 10, via the Third Succession Act 1543. After Henry\\'s death in 1547, Elizabeth\\'s younger half-brother Edward VI ruled until his own death in 1553, bequeathing the crown to a Protestant cousin, Lady Jane Grey, and ignoring the claims of his two half-sisters, the Catholic Mary and the younger Elizabeth, in spite of statutes to the contrary. Edward\\'s will was set aside within weeks of his death and Mary became queen, deposing and executing Jane. During Mary\\'s reign, Elizabeth was imprisoned for nearly a year on suspicion of supporting Protestant rebels.\\nUpon her half-sister\\'s death in 1558, Elizabeth succeeded to the throne and set out to rule by good counsel. She depended heavily on a group of trusted advisers led by William Cecil, whom she created Baron Burghley. One of her first actions as queen was the establishment of an English Protestant church, of which she became the supreme governor. This era, later named the Elizabethan Religious Settlement, would evolve into the Church of England. It was expected that Elizabeth would marry and produce an heir; however, despite numerous courtships, she never did, and because of this she is sometimes referred to as the \"Virgin Queen\". She was eventually succeeded by her first cousin twice removed, James VI of Scotland, the son of Mary, Queen of Scots.\\nIn government, Elizabeth was more moderate than her father and siblings had been. One of her mottoes was video et taceo (\"I see and keep silent\"). In religion, she was relatively tolerant and avoided systematic persecution. After the pope declared her illegitimate in 1570, which in theory released English Catholics from allegiance to her, several conspiracies threatened her life, all of which were defeated with the help of her ministers\\' secret service, run by Sir Francis Walsingham. Elizabeth was cautious in foreign affairs, manoeuvring between the major powers of France and Spain. She half-heartedly supported a number of ineffective, poorly resourced military campaigns in the Netherlands, France, and Ireland. By the mid-1580s, England could no longer avoid war with Spain.\\nAs she grew older, Elizabeth became celebrated for her virginity. A cult of personality grew around her which was celebrated in the portraits, pageants, and literature of the day. Elizabeth\\'s reign became known as the Elizabethan era. The period is famous for the flourishing of English drama, led by playwrights such as William Shakespeare and Christopher Marlowe, the prowess of English maritime adventurers, such as Francis Drake and Walter Raleigh, and for the defeat of the Spanish Armada. Some historians depict Elizabeth as a short-tempered, sometimes indecisive ruler, who enjoyed more than her fair share of luck. Towards the end of her reign, a series of economic and military problems weakened her popularity. Elizabeth is acknowledged as a charismatic performer (\"Gloriana\") and a dogged survivor (\"Good Queen Bess\") in an era when government was ramshackle and limited, and when monarchs in neighbouring countries faced internal problems that jeopardised their thrones. After the short, disastrous reigns of her half-siblings, her 44 years on the throne provided welcome stability for the kingdom and helped to forge a sense of national identity.', 'source': 'https://en.wikipedia.org/wiki/Elizabeth_I'}, page_content=' France and Spain. She half-heartedly supported a number of ineffective, poorly resourced military campaigns in the Netherlands, France, and Ireland. By the mid-1580s, England could no longer avoid war with Spain.\\nAs she grew older, Elizabeth became celebrated for her virginity. A cult of personality grew around her which was celebrated in the portraits, pageants, and literature of the day. Elizabeth\\'s reign became known as the Elizabethan era. The period is famous for the flourishing of English drama, led by playwrights such as William Shakespeare and Christopher Marlowe, the prowess of English maritime adventurers, such as Francis Drake and Walter Raleigh, and for the defeat of the Spanish Armada. Some historians depict Elizabeth as a short-tempered, sometimes indecisive ruler, who enjoyed more than her fair share of luck. Towards the end of her reign, a series of economic and military problems weakened her popularity. Elizabeth is acknowledged as a charismatic performer (\"Gloriana\") and a dogged survivor (\"Good Queen Bess\") in an era when government was ramshackle and limited, and when monarchs in neighbouring countries faced internal problems that jeopardised their thrones. After the short, disastrous reigns of her half-siblings, her 44 years on the throne provided welcome stability for the kingdom and helped to forge a sense of national identity.\\n\\n\\n== Early life ==\\n\\nElizabeth was born at Greenwich Palace on 7 September 1533 and was named after her grandmothers, Elizabeth of York and Lady Elizabeth Howard. She was the second child of Henry VIII of England born in wedlock to survive infancy. Her mother was Henry\\'s second wife, Ann')),\n",
       " GraphDocument(nodes=[Node(id='Elizabeth', type='Person'), Node(id='Empress Of Russia', type='Title'), Node(id='Russia', type='Country'), Node(id='Tsar Peter The Great', type='Person'), Node(id='Alexei', type='Person'), Node(id='Catherine I Of Russia', type='Person'), Node(id='Peter Ii', type='Person'), Node(id='Anna', type='Person'), Node(id='Ivan Vi', type='Person'), Node(id='Peter Iii', type='Person'), Node(id='Mikhail Lomonosov', type='Person'), Node(id='University Of Moscow', type='Institution'), Node(id='Ivan Shuvalov', type='Person'), Node(id='Imperial Academy Of Arts', type='Institution'), Node(id='Bartolomeo Rastrelli', type='Person'), Node(id='Peterhof Palace', type='Place'), Node(id='Winter Palace', type='Place'), Node(id='Smolny Cathedral', type='Place'), Node(id='War Of Austrian Succession', type='Event'), Node(id=\"Seven Years' War\", type='Event'), Node(id='Aleksey Bestuzhev-Ryumin', type='Person'), Node(id='Austria', type='Country'), Node(id='France', type='Country'), Node(id='Prussia', type='Country'), Node(id='Frederick The Great', type='Person'), Node(id='Berlin', type='Place')], relationships=[Relationship(source=Node(id='Elizabeth', type='Person'), target=Node(id='Empress Of Russia', type='Title'), type='HELD_TITLE'), Relationship(source=Node(id='Elizabeth', type='Person'), target=Node(id='Russia', type='Country'), type='RULED'), Relationship(source=Node(id='Elizabeth', type='Person'), target=Node(id='Tsar Peter The Great', type='Person'), type='CHILD_OF'), Relationship(source=Node(id='Elizabeth', type='Person'), target=Node(id='Catherine I Of Russia', type='Person'), type='CHILD_OF'), Relationship(source=Node(id='Elizabeth', type='Person'), target=Node(id='Peter Iii', type='Person'), type='AUNT_OF'), Relationship(source=Node(id='Elizabeth', type='Person'), target=Node(id='Mikhail Lomonosov', type='Person'), type='ENCOURAGED'), Relationship(source=Node(id='Mikhail Lomonosov', type='Person'), target=Node(id='University Of Moscow', type='Institution'), type='FOUNDED'), Relationship(source=Node(id='Elizabeth', type='Person'), target=Node(id='Ivan Shuvalov', type='Person'), type='ENCOURAGED'), Relationship(source=Node(id='Ivan Shuvalov', type='Person'), target=Node(id='Imperial Academy Of Arts', type='Institution'), type='FOUNDED'), Relationship(source=Node(id='Elizabeth', type='Person'), target=Node(id='Bartolomeo Rastrelli', type='Person'), type='FAVORED'), Relationship(source=Node(id='Bartolomeo Rastrelli', type='Person'), target=Node(id='Peterhof Palace', type='Place'), type='DESIGNED'), Relationship(source=Node(id='Bartolomeo Rastrelli', type='Person'), target=Node(id='Winter Palace', type='Place'), type='DESIGNED'), Relationship(source=Node(id='Bartolomeo Rastrelli', type='Person'), target=Node(id='Smolny Cathedral', type='Place'), type='DESIGNED'), Relationship(source=Node(id='Elizabeth', type='Person'), target=Node(id='War Of Austrian Succession', type='Event'), type='LED'), Relationship(source=Node(id='Elizabeth', type='Person'), target=Node(id=\"Seven Years' War\", type='Event'), type='LED'), Relationship(source=Node(id='Elizabeth', type='Person'), target=Node(id='Aleksey Bestuzhev-Ryumin', type='Person'), type='COLLABORATED_WITH'), Relationship(source=Node(id='Elizabeth', type='Person'), target=Node(id='Austria', type='Country'), type='ALLIED_WITH'), Relationship(source=Node(id='Elizabeth', type='Person'), target=Node(id='France', type='Country'), type='ALLIED_WITH'), Relationship(source=Node(id='Elizabeth', type='Person'), target=Node(id='Prussia', type='Country'), type='OPPOSED'), Relationship(source=Node(id='Elizabeth', type='Person'), target=Node(id='Berlin', type='Place'), type='OCCUPIED'), Relationship(source=Node(id='Elizabeth', type='Person'), target=Node(id='Frederick The Great', type='Person'), type='OPPOSED')], source=Document(metadata={'title': 'Elizabeth of Russia', 'summary': \"Elizabeth or Elizaveta Petrovna (Russian: Елизаве́та Петро́вна; 29 December [O.S. 18 December] 1709 – 5 January [O.S. 25 December] 1762) was Empress of Russia from 1741 until her death in 1762. She remains one of the most popular Russian monarchs because of her decision not to execute a single person during her reign, her numerous construction projects, and her strong opposition to Prussian policies.\\nThe second-eldest daughter of Tsar Peter the Great (r.\\u20091682–1725), Elizabeth lived through the confused successions of her father's descendants following her half-brother Alexei's death in 1718. The throne first passed to her mother Catherine I of Russia (r.\\u20091725–1727), then to her nephew Peter II, who died in 1730 and was succeeded by Elizabeth's first cousin Anna (r.\\u20091730–1740). After the brief rule of Anna's infant great-nephew, Ivan VI, Elizabeth seized the throne with the military's support and declared her own nephew, the future Peter III, her heir.\\nDuring her reign Elizabeth continued the policies of her father and brought about a remarkable Age of Enlightenment in Russia. Her domestic policies allowed the nobles to gain dominance in local government while shortening their terms of service to the state. She encouraged Mikhail Lomonosov's foundation of the University of Moscow, the highest-ranking Russian educational institution. Her court became one of the most splendid in all Europe, especially regarding architecture: she modernised Russia's roads, encouraged Ivan Shuvalov's foundation of the Imperial Academy of Arts, and financed grandiose Baroque projects of her favourite architect, Bartolomeo Rastrelli, particularly in Peterhof Palace. The Winter Palace and the Smolny Cathedral in Saint Petersburg are among the chief monuments of her reign.\\nElizabeth led the Russian Empire during the two major European conflicts of her time: the War of Austrian Succession (1740–1748) and the Seven Years' War (1756–1763). She and diplomat Aleksey Bestuzhev-Ryumin solved the first event by forming an alliance with Austria and France, but indirectly caused the second. Russian troops enjoyed several victories against Prussia and briefly occupied Berlin, but when Frederick the Great was finally considering surrender in January 1762, the Russian Empress died. She was the last agnatic member of the House of Romanov to reign over the Russian Empire.\\n\\n\", 'source': 'https://en.wikipedia.org/wiki/Elizabeth_of_Russia'}, page_content=\"Elizabeth or Elizaveta Petrovna (Russian: Елизаве́та Петро́вна; 29 December [O.S. 18 December] 1709 – 5 January [O.S. 25 December] 1762) was Empress of Russia from 1741 until her death in 1762. She remains one of the most popular Russian monarchs because of her decision not to execute a single person during her reign, her numerous construction projects, and her strong opposition to Prussian policies.\\nThe second-eldest daughter of Tsar Peter the Great (r.\\u20091682–1725), Elizabeth lived through the confused successions of her father's descendants following her half-brother Alexei's death in 1718. The throne first passed to her mother Catherine I of Russia (r.\\u20091725–1727), then to her nephew Peter II, who died in 1730 and was succeeded by Elizabeth's first cousin Anna (r.\\u20091730–1740). After the brief rule of Anna's infant great-nephew, Ivan VI, Elizabeth seized the throne with the military's support and declared her own nephew, the future Peter III, her heir.\\nDuring her reign Elizabeth continued the policies of her father and brought about a remarkable Age of Enlightenment in Russia. Her domestic policies allowed the nobles to gain dominance in local government while shortening their terms of service to the state. She encouraged Mikhail Lomonosov's foundation of the University of Moscow, the highest-ranking Russian educational institution. Her court became one of the most splendid in all Europe, especially regarding architecture: she modernised Russia's roads, encouraged Ivan Shuvalov's foundation of the Imperial Academy of Arts, and financed grandiose Baroque projects of her favourite architect, Bartolomeo Rastrelli, particularly in Peterhof Palace. The Winter Palace and the Smolny Cathedral in Saint Petersburg are among the chief monuments of her reign.\\nElizabeth led the Russian Empire during the two major European conflicts of her time: the War of Austrian Succession (1740–1748) and the Seven Years' War (1756–1763). She and diplomat Aleksey Bestuzhev-Ryumin solved the first event by forming an alliance with Austria and France, but indirectly caused the second. Russian troops enjoyed several victories against Prussia and briefly occupied Berlin, but when Frederick the Great was finally considering surrender in January\")),\n",
       " GraphDocument(nodes=[Node(id='Russian Troops', type='Group'), Node(id='Prussia', type='Place'), Node(id='Berlin', type='Place'), Node(id='Frederick The Great', type='Person'), Node(id='Russian Empress', type='Person'), Node(id='House Of Romanov', type='Group'), Node(id='Russian Empire', type='Place'), Node(id='Elizabeth', type='Person'), Node(id='Kolomenskoye', type='Place'), Node(id='Moscow', type='Place'), Node(id='Peter The Great', type='Person'), Node(id='Catherine', type='Person'), Node(id='Samuel Skowroński', type='Person'), Node(id='Grand Duchy Of Lithuania', type='Place'), Node(id='Cathedral Of The Holy Trinity', type='Place'), Node(id='Saint Petersburg', type='Place'), Node(id=\"Saint Isaac'S Cathedral\", type='Place'), Node(id='Anna', type='Person'), Node(id='Alexei Petrovich', type='Person'), Node(id='Eudoxia Lopukhina', type='Person')], relationships=[Relationship(source=Node(id='Russian Troops', type='Group'), target=Node(id='Prussia', type='Place'), type='VICTORY'), Relationship(source=Node(id='Russian Troops', type='Group'), target=Node(id='Berlin', type='Place'), type='OCCUPIED'), Relationship(source=Node(id='Frederick The Great', type='Person'), target=Node(id='Russian Empress', type='Person'), type='CONSIDERED_SURRENDER'), Relationship(source=Node(id='Russian Empress', type='Person'), target=Node(id='House Of Romanov', type='Group'), type='LAST_AGNATIC_MEMBER'), Relationship(source=Node(id='House Of Romanov', type='Group'), target=Node(id='Russian Empire', type='Place'), type='REIGNED_OVER'), Relationship(source=Node(id='Elizabeth', type='Person'), target=Node(id='Kolomenskoye', type='Place'), type='BORN_IN'), Relationship(source=Node(id='Kolomenskoye', type='Place'), target=Node(id='Moscow', type='Place'), type='NEAR'), Relationship(source=Node(id='Elizabeth', type='Person'), target=Node(id='Peter The Great', type='Person'), type='CHILD_OF'), Relationship(source=Node(id='Elizabeth', type='Person'), target=Node(id='Catherine', type='Person'), type='CHILD_OF'), Relationship(source=Node(id='Catherine', type='Person'), target=Node(id='Samuel Skowroński', type='Person'), type='CHILD_OF'), Relationship(source=Node(id='Samuel Skowroński', type='Person'), target=Node(id='Grand Duchy Of Lithuania', type='Place'), type='SUBJECT_OF'), Relationship(source=Node(id='Peter The Great', type='Person'), target=Node(id='Catherine', type='Person'), type='SPOUSE'), Relationship(source=Node(id='Peter The Great', type='Person'), target=Node(id='Cathedral Of The Holy Trinity', type='Place'), type='MARRIED_AT'), Relationship(source=Node(id='Catherine', type='Person'), target=Node(id='Cathedral Of The Holy Trinity', type='Place'), type='MARRIED_AT'), Relationship(source=Node(id='Peter The Great', type='Person'), target=Node(id=\"Saint Isaac'S Cathedral\", type='Place'), type='MARRIED_AT'), Relationship(source=Node(id='Catherine', type='Person'), target=Node(id=\"Saint Isaac'S Cathedral\", type='Place'), type='MARRIED_AT'), Relationship(source=Node(id='Anna', type='Person'), target=Node(id='Peter The Great', type='Person'), type='CHILD_OF'), Relationship(source=Node(id='Anna', type='Person'), target=Node(id='Catherine', type='Person'), type='CHILD_OF'), Relationship(source=Node(id='Anna', type='Person'), target=Node(id='Elizabeth', type='Person'), type='SIBLING'), Relationship(source=Node(id='Alexei Petrovich', type='Person'), target=Node(id='Peter The Great', type='Person'), type='CHILD_OF'), Relationship(source=Node(id='Alexei Petrovich', type='Person'), target=Node(id='Eudoxia Lopukhina', type='Person'), type='CHILD_OF'), Relationship(source=Node(id='Peter The Great', type='Person'), target=Node(id='Eudoxia Lopukhina', type='Person'), type='SPOUSE')], source=Document(metadata={'title': 'Elizabeth of Russia', 'summary': \"Elizabeth or Elizaveta Petrovna (Russian: Елизаве́та Петро́вна; 29 December [O.S. 18 December] 1709 – 5 January [O.S. 25 December] 1762) was Empress of Russia from 1741 until her death in 1762. She remains one of the most popular Russian monarchs because of her decision not to execute a single person during her reign, her numerous construction projects, and her strong opposition to Prussian policies.\\nThe second-eldest daughter of Tsar Peter the Great (r.\\u20091682–1725), Elizabeth lived through the confused successions of her father's descendants following her half-brother Alexei's death in 1718. The throne first passed to her mother Catherine I of Russia (r.\\u20091725–1727), then to her nephew Peter II, who died in 1730 and was succeeded by Elizabeth's first cousin Anna (r.\\u20091730–1740). After the brief rule of Anna's infant great-nephew, Ivan VI, Elizabeth seized the throne with the military's support and declared her own nephew, the future Peter III, her heir.\\nDuring her reign Elizabeth continued the policies of her father and brought about a remarkable Age of Enlightenment in Russia. Her domestic policies allowed the nobles to gain dominance in local government while shortening their terms of service to the state. She encouraged Mikhail Lomonosov's foundation of the University of Moscow, the highest-ranking Russian educational institution. Her court became one of the most splendid in all Europe, especially regarding architecture: she modernised Russia's roads, encouraged Ivan Shuvalov's foundation of the Imperial Academy of Arts, and financed grandiose Baroque projects of her favourite architect, Bartolomeo Rastrelli, particularly in Peterhof Palace. The Winter Palace and the Smolny Cathedral in Saint Petersburg are among the chief monuments of her reign.\\nElizabeth led the Russian Empire during the two major European conflicts of her time: the War of Austrian Succession (1740–1748) and the Seven Years' War (1756–1763). She and diplomat Aleksey Bestuzhev-Ryumin solved the first event by forming an alliance with Austria and France, but indirectly caused the second. Russian troops enjoyed several victories against Prussia and briefly occupied Berlin, but when Frederick the Great was finally considering surrender in January 1762, the Russian Empress died. She was the last agnatic member of the House of Romanov to reign over the Russian Empire.\\n\\n\", 'source': 'https://en.wikipedia.org/wiki/Elizabeth_of_Russia'}, page_content=' Russian troops enjoyed several victories against Prussia and briefly occupied Berlin, but when Frederick the Great was finally considering surrender in January 1762, the Russian Empress died. She was the last agnatic member of the House of Romanov to reign over the Russian Empire.\\n\\n\\n== Early life ==\\n\\n\\n=== Childhood and teenage years ===\\n\\nElizabeth was born at Kolomenskoye, near Moscow, Russia, on 18 December 1709 (O.S.). Her parents were Peter the Great, Tsar of Russia and Catherine. Catherine was the daughter of Samuel Skowroński, a subject of Grand Duchy of Lithuania. Although no documentary record exists, her parents were said to have married secretly at the Cathedral of the Holy Trinity in Saint Petersburg at some point between 23 October and 1 December 1707. Their official marriage was at Saint Isaac\\'s Cathedral in Saint Petersburg on 9 February 1712. On this day, the two children previously born to the couple (Anna and Elizabeth) were legitimised by their father and given the title of Tsarevna (\"princess\") on 6 March 1711. Of the twelve children born to Peter and Catherine (five sons and seven daughters), only the sisters survived to adulthood. They had one older surviving sibling, crown prince Alexei Petrovich, who was Peter\\'s son by his first wife, noblewoman Eudoxia Lopukhina.\\nAs a child, Elizabeth was the favourite of her father, whom she resembled both physically and temperamentally. Even though he adored his daughter, Peter did not devote time or attention to her education; having both a son and grandson from his first marriage to a noblewoman, he did not anticipate that a daughter born to his former maid might one day inherit the Russian throne, which had until that point never been occupied by a woman; as such, it was left to Catherine to raise the girls, a task met with considerable difficulty due to her own lack of education. Despite this, Elizabeth was still ')),\n",
       " GraphDocument(nodes=[Node(id='Queen Elizabeth I', type='Person'), Node(id='Early Modern Period', type='Time_period'), Node(id='English Royal Portraits', type='Art'), Node(id='State', type='Concept'), Node(id='Monarch', type='Concept'), Node(id='Elizabethan Era', type='Time_period'), Node(id='Virgin Queen', type='Concept'), Node(id='Henry Viii', type='Person'), Node(id='Nicholas Hilliard', type='Person'), Node(id='George Gower', type='Person'), Node(id='Cornelis Ketel', type='Person'), Node(id='Federico Zuccaro', type='Person'), Node(id='Isaac Oliver', type='Person'), Node(id='Marcus Gheeraerts The Younger', type='Person')], relationships=[Relationship(source=Node(id='Queen Elizabeth I', type='Person'), target=Node(id='Early Modern Period', type='Time_period'), type='EXISTED_IN'), Relationship(source=Node(id='Queen Elizabeth I', type='Person'), target=Node(id='English Royal Portraits', type='Art'), type='FEATURED_IN'), Relationship(source=Node(id='English Royal Portraits', type='Art'), target=Node(id='State', type='Concept'), type='CONVEYED'), Relationship(source=Node(id='English Royal Portraits', type='Art'), target=Node(id='Monarch', type='Concept'), type='CONVEYED'), Relationship(source=Node(id='English Royal Portraits', type='Art'), target=Node(id='Virgin Queen', type='Concept'), type='REPRESENTED'), Relationship(source=Node(id='Nicholas Hilliard', type='Person'), target=Node(id='Queen Elizabeth I', type='Person'), type='OFFICIAL_LIMNER_FOR'), Relationship(source=Node(id='George Gower', type='Person'), target=Node(id='Queen Elizabeth I', type='Person'), type='SERJEANT_PAINTER_FOR'), Relationship(source=Node(id='Cornelis Ketel', type='Person'), target=Node(id='Queen Elizabeth I', type='Person'), type='PAINTED'), Relationship(source=Node(id='Federico Zuccaro', type='Person'), target=Node(id='Queen Elizabeth I', type='Person'), type='PAINTED'), Relationship(source=Node(id='Isaac Oliver', type='Person'), target=Node(id='Queen Elizabeth I', type='Person'), type='PAINTED'), Relationship(source=Node(id='Marcus Gheeraerts The Younger', type='Person'), target=Node(id='Queen Elizabeth I', type='Person'), type='PAINTED'), Relationship(source=Node(id='George Gower', type='Person'), target=Node(id='English Royal Portraits', type='Art'), type='APPROVED')], source=Document(metadata={'title': 'Portraiture of Elizabeth I', 'summary': 'The portraiture of Queen Elizabeth I (1533–1603) spans the evolution of English royal portraits in the early modern period (1400/1500-1800), from the earliest representations of simple likenesses to the later complex imagery used to convey the power and aspirations of the state, as well as of the monarch at its head.\\nEven the earliest portraits of Elizabeth I contain symbolic objects such as roses and prayer books that would have carried meaning to viewers of her day. Later portraits of Elizabeth layer the iconography of empire—globes, crowns, swords and columns—and representations of virginity and purity, such as moons and pearls, with classical allusions, to present a complex \"story\" that conveyed to Elizabethan era viewers the majesty and significance of the \\'Virgin Queen\\'.', 'source': 'https://en.wikipedia.org/wiki/Portraiture_of_Elizabeth_I'}, page_content='The portraiture of Queen Elizabeth I (1533–1603) spans the evolution of English royal portraits in the early modern period (1400/1500-1800), from the earliest representations of simple likenesses to the later complex imagery used to convey the power and aspirations of the state, as well as of the monarch at its head.\\nEven the earliest portraits of Elizabeth I contain symbolic objects such as roses and prayer books that would have carried meaning to viewers of her day. Later portraits of Elizabeth layer the iconography of empire—globes, crowns, swords and columns—and representations of virginity and purity, such as moons and pearls, with classical allusions, to present a complex \"story\" that conveyed to Elizabethan era viewers the majesty and significance of the \\'Virgin Queen\\'.\\n\\n\\n== Overview ==\\n\\n\\n=== Portraiture in Tudor England ===\\n\\nTwo portraiture traditions had arisen in the Tudor court since the days of Elizabeth\\'s father, Henry VIII. The portrait miniature developed from the illuminated manuscript tradition. These small personal images were almost invariably painted from life over the space of a few days in watercolours on vellum, stiffened by being glued to a playing card. Panel paintings in oils on prepared wood surfaces were based on preparatory drawings and were usually executed at life size, as were oil paintings on canvas.\\nUnlike her contemporaries in France, Elizabeth never granted rights to produce her portrait to a single artist, although Nicholas Hilliard was appointed her official limner, or miniaturist and goldsmith. George Gower, a fashionable court portraitist created Serjeant Painter in 1581, was responsible for approving all portraits of the queen created by other artists from 1581 until his death in 1596.\\nElizabeth sat for a number of artists over the years, including Hilliard, Cornelis Ketel, Federico Zuccaro or Zuccari, Isaac Oliver, and most likely to Gower and Marcus Gheeraerts the Younger. Portraits were commissioned by the government as gifts to foreign monarchs and to show to prospective suitors. Courtiers commissioned heavily symbolic paintings to demonstrate their devotion to the queen, and the fashionable long galleries of later Elizabethan country houses were filled with sets of portraits. The studios of Tudor artists produced images of Elizabeth working from approved \"face patterns\", or approved drawings of the queen, to meet this growing demand for her image, an important symbol of loyalty and reverence for the crown in times of turbulence.\\n\\n\\n===')),\n",
       " GraphDocument(nodes=[Node(id='Hans Holbein The Younger', type='Person'), Node(id='Henry Viii', type='Person'), Node(id='Whitehall Palace', type='Location'), Node(id='Jane Seymour', type='Person'), Node(id='Titian', type='Person'), Node(id='Philip Ii Of Spain', type='Person')], relationships=[Relationship(source=Node(id='Hans Holbein The Younger', type='Person'), target=Node(id='Henry Viii', type='Person'), type='COURT_ARTIST'), Relationship(source=Node(id='Hans Holbein The Younger', type='Person'), target=Node(id='Whitehall Palace', type='Location'), type='CREATED_DYNASTIC_MURAL'), Relationship(source=Node(id='Hans Holbein The Younger', type='Person'), target=Node(id='Jane Seymour', type='Person'), type='PAINTED'), Relationship(source=Node(id='Titian', type='Person'), target=Node(id='Philip Ii Of Spain', type='Person'), type='PAINTED')], source=Document(metadata={'title': 'Portraiture of Elizabeth I', 'summary': 'The portraiture of Queen Elizabeth I (1533–1603) spans the evolution of English royal portraits in the early modern period (1400/1500-1800), from the earliest representations of simple likenesses to the later complex imagery used to convey the power and aspirations of the state, as well as of the monarch at its head.\\nEven the earliest portraits of Elizabeth I contain symbolic objects such as roses and prayer books that would have carried meaning to viewers of her day. Later portraits of Elizabeth layer the iconography of empire—globes, crowns, swords and columns—and representations of virginity and purity, such as moons and pearls, with classical allusions, to present a complex \"story\" that conveyed to Elizabethan era viewers the majesty and significance of the \\'Virgin Queen\\'.', 'source': 'https://en.wikipedia.org/wiki/Portraiture_of_Elizabeth_I'}, page_content=' growing demand for her image, an important symbol of loyalty and reverence for the crown in times of turbulence.\\n\\n\\n=== European context ===\\n\\nBy far the most impressive models of portraiture available to English portraitists were the many portraits by Hans Holbein the Younger, the outstanding Northern portraitist of the first half of the 16th century, who had made two lengthy visits to England, and had been Henry VIII\\'s court artist. Holbein had accustomed the English court to the full-length life-size portrait, although none of his originals now survive. His great dynastic mural at Whitehall Palace, destroyed in 1698, and perhaps other original large portraits, would have been familiar to Elizabethan artists.\\nBoth Holbein and his great Italian contemporary Titian had combined great psychological penetration with a sufficiently majestic impression to satisfy their royal patrons. By his second visit, Holbein had already begun to move away from a strictly realist depiction; in his Jane Seymour, \"the figure is no longer seen as displacing with its bulk a recognizable section of space: it approaches rather to a flat pattern, made alive by a bounding and vital outline\". This tendency was to be taken much further by the later portraits of Elizabeth, where \"Likeness of feature and an interest in form and volume have gradually been abandoned in favour of an effect of splendid majesty obtained by decorative pattern, and the forms have been flattened accordingly\".\\n\\nTitian continued to paint royal portraits, especially of Philip II of Spain, until the 1570s, but in sharply reduce'))]"
      ]
     },
     "execution_count": 34,
     "metadata": {},
     "output_type": "execute_result"
    }
   ],
   "source": [
    "graph_documents = llm_transformer.convert_to_graph_documents(documents)\n",
    "graph_documents"
   ]
  },
  {
   "cell_type": "markdown",
   "metadata": {},
   "source": [
    "### Add the graph documents to the graph database"
   ]
  },
  {
   "cell_type": "code",
   "execution_count": 35,
   "metadata": {},
   "outputs": [],
   "source": [
    "graph.add_graph_documents(\n",
    "    graph_documents,\n",
    "    baseEntityLabel=True,\n",
    "    include_source=True\n",
    ")"
   ]
  },
  {
   "cell_type": "code",
   "execution_count": 36,
   "metadata": {},
   "outputs": [],
   "source": [
    "from yfiles_jupyter_graphs import GraphWidget\n",
    "from neo4j import GraphDatabase"
   ]
  },
  {
   "cell_type": "markdown",
   "metadata": {},
   "source": [
    "### Create an Azure OpenAI embedding client"
   ]
  },
  {
   "cell_type": "code",
   "execution_count": 41,
   "metadata": {},
   "outputs": [],
   "source": [
    "from langchain_openai import AzureOpenAIEmbeddings\n",
    "\n",
    "embeder = AzureOpenAIEmbeddings(\n",
    "    azure_endpoint=AZURE_OPENAI_ENDPOINT,\n",
    "    api_key=AZURE_OPENAI_KEY,\n",
    "    azure_deployment=AZURE_OPENAI_ADA_DEPLOYMENT_NAME,\n",
    "    openai_api_version=AZURE_OPENAI_API_VERSION,\n",
    ")"
   ]
  },
  {
   "cell_type": "markdown",
   "metadata": {},
   "source": [
    "### Embed the data on the existing graph"
   ]
  },
  {
   "cell_type": "code",
   "execution_count": 42,
   "metadata": {},
   "outputs": [
    {
     "name": "stderr",
     "output_type": "stream",
     "text": [
      "Received notification from DBMS server: {severity: WARNING} {code: Neo.ClientNotification.Statement.FeatureDeprecationWarning} {category: DEPRECATION} {title: This feature is deprecated and will be removed in future versions.} {description: The query used a deprecated procedure. ('db.create.setVectorProperty' has been replaced by 'db.create.setNodeVectorProperty')} {position: line: 1, column: 70, offset: 69} for query: \"UNWIND $data AS row MATCH (n:`Document`) WHERE elementId(n) = row.id CALL db.create.setVectorProperty(n, 'embedding', row.embedding) YIELD node RETURN count(*)\"\n"
     ]
    }
   ],
   "source": [
    "from langchain_community.vectorstores import Neo4jVector\n",
    "vector_index = Neo4jVector.from_existing_graph(\n",
    "    embeder,\n",
    "    search_type=\"hybrid\",\n",
    "    node_label=\"Document\",\n",
    "    text_node_properties=[\"text\"],\n",
    "    embedding_node_property=\"embedding\"\n",
    ")"
   ]
  },
  {
   "cell_type": "markdown",
   "metadata": {},
   "source": [
    "### Create an Neo4J index for the documents"
   ]
  },
  {
   "cell_type": "code",
   "execution_count": 43,
   "metadata": {},
   "outputs": [
    {
     "data": {
      "text/plain": [
       "[]"
      ]
     },
     "execution_count": 43,
     "metadata": {},
     "output_type": "execute_result"
    }
   ],
   "source": [
    "graph.query(\"CREATE FULLTEXT INDEX entity IF NOT EXISTS FOR (e:__Entity__) ON EACH [e.id]\")"
   ]
  },
  {
   "cell_type": "code",
   "execution_count": 44,
   "metadata": {},
   "outputs": [],
   "source": [
    "from langchain_core.pydantic_v1 import BaseModel, Field\n",
    "# Extract entities from text\n",
    "class Entities(BaseModel):\n",
    "    \"\"\"Identifying information about entities.\"\"\"\n",
    "\n",
    "    names: List[str] = Field(\n",
    "        ...,\n",
    "        description=\"All the person, organization, or business entities that \"\n",
    "        \"appear in the text\",\n",
    "    )"
   ]
  },
  {
   "cell_type": "code",
   "execution_count": 45,
   "metadata": {},
   "outputs": [],
   "source": [
    "from langchain_core.prompts import ChatPromptTemplate\n",
    "from langchain_core.prompts.prompt import PromptTemplate"
   ]
  },
  {
   "cell_type": "code",
   "execution_count": 46,
   "metadata": {},
   "outputs": [],
   "source": [
    "prompt = ChatPromptTemplate.from_messages(\n",
    "    [\n",
    "        (\n",
    "            \"system\",\n",
    "            \"You are extracting organization and person entities from the text.\",\n",
    "        ),\n",
    "        (\n",
    "            \"human\",\n",
    "            \"Use the given format to extract information from the following \"\n",
    "            \"input: {question}\",\n",
    "        ),\n",
    "    ]\n",
    ")"
   ]
  },
  {
   "cell_type": "code",
   "execution_count": 47,
   "metadata": {},
   "outputs": [],
   "source": [
    "entity_chain = prompt | llm.with_structured_output(Entities)"
   ]
  },
  {
   "cell_type": "code",
   "execution_count": 48,
   "metadata": {},
   "outputs": [
    {
     "data": {
      "text/plain": [
       "['Amelia Earhart']"
      ]
     },
     "execution_count": 48,
     "metadata": {},
     "output_type": "execute_result"
    }
   ],
   "source": [
    "entity_chain.invoke({\"question\": \"Where was Amelia Earhart born?\"}).names"
   ]
  },
  {
   "cell_type": "code",
   "execution_count": 49,
   "metadata": {},
   "outputs": [],
   "source": [
    "from langchain_community.vectorstores.neo4j_vector import remove_lucene_chars"
   ]
  },
  {
   "cell_type": "code",
   "execution_count": 50,
   "metadata": {},
   "outputs": [],
   "source": [
    "def generate_full_text_query(input: str) -> str:\n",
    "    full_text_query = \"\"\n",
    "    words = [el for el in remove_lucene_chars(input).split() if el]\n",
    "    for word in words[:-1]:\n",
    "        full_text_query += f\" {word}~2 AND\"\n",
    "    full_text_query += f\" {words[-1]}~2\"\n",
    "    return full_text_query.strip()"
   ]
  },
  {
   "cell_type": "code",
   "execution_count": 51,
   "metadata": {},
   "outputs": [],
   "source": [
    "def structured_retriever(question: str) -> str:\n",
    "    result = \"\"\n",
    "    entities = entity_chain.invoke({\"question\": question})\n",
    "    for entity in entities.names:\n",
    "        response = graph.query(\n",
    "            \"\"\"CALL db.index.fulltext.queryNodes('entity', $query, {limit:2})\n",
    "            YIELD node,score\n",
    "            CALL {\n",
    "              WITH node\n",
    "              MATCH (node)-[r:!MENTIONS]->(neighbor)\n",
    "              RETURN node.id + ' - ' + type(r) + ' -> ' + neighbor.id AS output\n",
    "              UNION ALL\n",
    "              WITH node\n",
    "              MATCH (node)<-[r:!MENTIONS]-(neighbor)\n",
    "              RETURN neighbor.id + ' - ' + type(r) + ' -> ' +  node.id AS output\n",
    "            }\n",
    "            RETURN output LIMIT 50\n",
    "            \"\"\",\n",
    "            {\"query\": generate_full_text_query(entity)},\n",
    "        )\n",
    "        result += \"\\n\".join([el['output'] for el in response])\n",
    "    return result"
   ]
  },
  {
   "cell_type": "code",
   "execution_count": 52,
   "metadata": {},
   "outputs": [
    {
     "name": "stdout",
     "output_type": "stream",
     "text": [
      "Elizabeth I - FOREIGN_AFFAIRS_WITH -> Spain\n",
      "Elizabeth I - FOREIGN_AFFAIRS_WITH -> France\n",
      "Elizabeth I - ADVISOR -> Sir Francis Walsingham\n",
      "Elizabeth I - SUCCEEDED_BY -> James Vi Of Scotland\n",
      "Elizabeth I - SUPREME_GOVERNOR_OF -> Church Of England\n",
      "Elizabeth I - ADVISOR -> William Cecil\n",
      "Elizabeth I - SIBLING_OF -> Mary I\n",
      "Elizabeth I - SIBLING_OF -> Edward Vi\n",
      "Elizabeth I - CHILD_OF -> Anne Boleyn\n",
      "Elizabeth I - CHILD_OF -> Henry Viii\n",
      "Elizabeth I - QUEEN_OF -> Ireland\n",
      "Elizabeth I - QUEEN_OF -> England\n",
      "Queen Elizabeth I - EXISTED_IN -> Early Modern Period\n",
      "Queen Elizabeth I - FEATURED_IN -> English Royal Portraits\n",
      "Marcus Gheeraerts The Younger - PAINTED -> Queen Elizabeth I\n",
      "George Gower - SERJEANT_PAINTER_FOR -> Queen Elizabeth I\n",
      "Cornelis Ketel - PAINTED -> Queen Elizabeth I\n",
      "Nicholas Hilliard - OFFICIAL_LIMNER_FOR -> Queen Elizabeth I\n",
      "Isaac Oliver - PAINTED -> Queen Elizabeth I\n",
      "Federico Zuccaro - PAINTED -> Queen Elizabeth I\n"
     ]
    }
   ],
   "source": [
    "print(structured_retriever(\"Who is Elizabeth I?\"))"
   ]
  },
  {
   "cell_type": "code",
   "execution_count": 53,
   "metadata": {},
   "outputs": [],
   "source": [
    "def retriever(question: str):\n",
    "    print(f\"Search query: {question}\")\n",
    "    structured_data = structured_retriever(question)\n",
    "    unstructured_data = [el.page_content for el in vector_index.similarity_search(question)]\n",
    "    final_data = f\"\"\"Structured data:\n",
    "{structured_data}\n",
    "Unstructured data:\n",
    "{\"#Document \". join(unstructured_data)}\n",
    "    \"\"\"\n",
    "    return final_data"
   ]
  },
  {
   "cell_type": "code",
   "execution_count": 54,
   "metadata": {},
   "outputs": [],
   "source": [
    "_template = \"\"\"Given the following conversation and a follow up question, rephrase the follow up question to be a standalone question,\n",
    "in its original language.\n",
    "Chat History:\n",
    "{chat_history}\n",
    "Follow Up Input: {question}\n",
    "Standalone question:\"\"\""
   ]
  },
  {
   "cell_type": "code",
   "execution_count": 55,
   "metadata": {},
   "outputs": [],
   "source": [
    "CONDENSE_QUESTION_PROMPT = PromptTemplate.from_template(_template)"
   ]
  },
  {
   "cell_type": "code",
   "execution_count": 56,
   "metadata": {},
   "outputs": [],
   "source": [
    "def _format_chat_history(chat_history: List[Tuple[str, str]]) -> List:\n",
    "    buffer = []\n",
    "    for human, ai in chat_history:\n",
    "        buffer.append(HumanMessage(content=human))\n",
    "        buffer.append(AIMessage(content=ai))\n",
    "    return buffer"
   ]
  },
  {
   "cell_type": "code",
   "execution_count": 58,
   "metadata": {},
   "outputs": [],
   "source": [
    "azureChatOpenAI = AzureChatOpenAI(\n",
    "    azure_endpoint=AZURE_OPENAI_ENDPOINT,\n",
    "    api_key=AZURE_OPENAI_KEY,\n",
    "    azure_deployment=AZURE_OPENAI_DEPLOYMENT_NAME,\n",
    "    openai_api_version=AZURE_OPENAI_API_VERSION,\n",
    "    temperature=0\n",
    ")"
   ]
  },
  {
   "cell_type": "code",
   "execution_count": 59,
   "metadata": {},
   "outputs": [],
   "source": [
    "_search_query = RunnableBranch(\n",
    "    # If input includes chat_history, we condense it with the follow-up question\n",
    "    (\n",
    "        RunnableLambda(lambda x: bool(x.get(\"chat_history\"))).with_config(\n",
    "            run_name=\"HasChatHistoryCheck\"\n",
    "        ),  # Condense follow-up question and chat into a standalone_question\n",
    "        RunnablePassthrough.assign(\n",
    "            chat_history=lambda x: _format_chat_history(x[\"chat_history\"])\n",
    "        )\n",
    "        | CONDENSE_QUESTION_PROMPT\n",
    "        | azureChatOpenAI\n",
    "        | StrOutputParser(),\n",
    "    ),\n",
    "    # Else, we have no chat history, so just pass through the question\n",
    "    RunnableLambda(lambda x : x[\"question\"]),\n",
    ")"
   ]
  },
  {
   "cell_type": "code",
   "execution_count": 60,
   "metadata": {},
   "outputs": [],
   "source": [
    "template = \"\"\"Answer the question based only on the following context:\n",
    "{context}\n",
    "\n",
    "Question: {question}\n",
    "Use natural language and be concise.\n",
    "Answer:\"\"\""
   ]
  },
  {
   "cell_type": "code",
   "execution_count": 61,
   "metadata": {},
   "outputs": [],
   "source": [
    "prompt = ChatPromptTemplate.from_template(template)"
   ]
  },
  {
   "cell_type": "code",
   "execution_count": 62,
   "metadata": {},
   "outputs": [],
   "source": [
    "chain = (\n",
    "    RunnableParallel(\n",
    "        {\n",
    "            \"context\": _search_query | retriever,\n",
    "            \"question\": RunnablePassthrough(),\n",
    "        }\n",
    "    )\n",
    "    | prompt\n",
    "    | llm\n",
    "    | StrOutputParser()\n",
    ")"
   ]
  },
  {
   "cell_type": "code",
   "execution_count": 63,
   "metadata": {},
   "outputs": [
    {
     "name": "stdout",
     "output_type": "stream",
     "text": [
      "Search query: Which house did Elizabeth I belong to?\n"
     ]
    },
    {
     "data": {
      "text/plain": [
       "'Elizabeth I belonged to the House of Tudor.'"
      ]
     },
     "execution_count": 63,
     "metadata": {},
     "output_type": "execute_result"
    }
   ],
   "source": [
    "chain.invoke({\"question\": \"Which house did Elizabeth I belong to?\"})"
   ]
  },
  {
   "cell_type": "code",
   "execution_count": 64,
   "metadata": {},
   "outputs": [
    {
     "name": "stdout",
     "output_type": "stream",
     "text": [
      "Search query: When was Elizabeth I born?\n"
     ]
    },
    {
     "data": {
      "text/plain": [
       "'Elizabeth I was born on 7 September 1533.'"
      ]
     },
     "execution_count": 64,
     "metadata": {},
     "output_type": "execute_result"
    }
   ],
   "source": [
    "chain.invoke(\n",
    "    {\n",
    "        \"question\": \"When was she born?\",\n",
    "        \"chat_history\": [(\"Which house did Elizabeth I belong to?\", \"House Of Tudor\")],\n",
    "    }\n",
    ")"
   ]
  }
 ],
 "metadata": {
  "kernelspec": {
   "display_name": ".venv",
   "language": "python",
   "name": "python3"
  },
  "language_info": {
   "codemirror_mode": {
    "name": "ipython",
    "version": 3
   },
   "file_extension": ".py",
   "mimetype": "text/x-python",
   "name": "python",
   "nbconvert_exporter": "python",
   "pygments_lexer": "ipython3",
   "version": "3.11.9"
  }
 },
 "nbformat": 4,
 "nbformat_minor": 2
}
