{
 "cells": [
  {
   "cell_type": "markdown",
   "metadata": {},
   "source": [
    "# Bicep Generation for architecture diagram\n",
    "\n",
    "Under this scenario, a score from 0-10, with 10 being closest match, is generated comparing a baseline response against an actual response."
   ]
  },
  {
   "cell_type": "code",
   "execution_count": 1,
   "metadata": {},
   "outputs": [],
   "source": [
    "import common\n",
    "import os\n",
    "from PIL import Image\n",
    "import requests\n",
    "from io import BytesIO\n"
   ]
  },
  {
   "cell_type": "code",
   "execution_count": 3,
   "metadata": {},
   "outputs": [],
   "source": [
    "# Get a configured model\n",
    "client = common.get_openai_client(\n",
    "        api_key=common.api_KEY,\n",
    "        api_version=common.api_version,\n",
    "        azure_endpoint=common.api_URI)"
   ]
  },
  {
   "cell_type": "code",
   "execution_count": 11,
   "metadata": {},
   "outputs": [],
   "source": [
    "def call_openai(url:str, prompt:str, max_tokens=1000, temperature=0.2):\n",
    "    response = client.chat.completions.create(\n",
    "            model=common.gpt_api_deployment,\n",
    "            messages=[\n",
    "                {\n",
    "                \"role\": \"system\",\n",
    "                \"content\": \"You are a helpful assistant can help generate Bicep code from diagrams.\"\n",
    "                },\n",
    "                {\n",
    "                \"role\": \"user\",\n",
    "                \"content\": [\n",
    "                    {\"type\": \"text\", \"text\": prompt},\n",
    "                    {\n",
    "                    \"type\": \"image_url\",\n",
    "                    \"image_url\": {\n",
    "                        \"url\": url,\n",
    "                        \"detail\": \"high\"\n",
    "                    },\n",
    "                    },\n",
    "                ],\n",
    "                }\n",
    "            ],\n",
    "            max_tokens=max_tokens,\n",
    "            temperature=temperature\n",
    "        )\n",
    "    return str(response.choices[0].message.content)"
   ]
  },
  {
   "cell_type": "code",
   "execution_count": 12,
   "metadata": {},
   "outputs": [],
   "source": [
    "def split_sentence(sentence, line_length=120):\n",
    "    words = sentence.split()\n",
    "    lines = []\n",
    "    current_line = ''\n",
    "    for word in words:\n",
    "        if len(current_line) + len(word) + 1 > line_length:\n",
    "            lines.append(current_line)\n",
    "            current_line = word\n",
    "        else:\n",
    "            current_line = current_line + ' ' + word if current_line else word\n",
    "    lines.append(current_line)\n",
    "    for line in lines:\n",
    "        print(line)\n",
    "    #return lines"
   ]
  },
  {
   "cell_type": "code",
   "execution_count": 13,
   "metadata": {},
   "outputs": [],
   "source": [
    "def get_image(url):\n",
    "    response = requests.get(url)\n",
    "    img = Image.open(BytesIO(response.content))\n",
    "    img = img.resize((img.width, img.height))\n",
    "    return img\n"
   ]
  },
  {
   "cell_type": "code",
   "execution_count": 14,
   "metadata": {},
   "outputs": [],
   "source": [
    "url = \"https://alemoraoaist.z13.web.core.windows.net/images/architecture-diagram.png\""
   ]
  },
  {
   "cell_type": "code",
   "execution_count": 15,
   "metadata": {},
   "outputs": [],
   "source": [
    "def full_process(url, question):\n",
    "    print(\"Image:\")\n",
    "    get_image(url).show()\n",
    "    print(\"User:\")\n",
    "    split_sentence(question)\n",
    "    print(\"\\nAssistant:\")\n",
    "    ans = call_openai(url, question)\n",
    "    print(ans)"
   ]
  },
  {
   "cell_type": "code",
   "execution_count": 16,
   "metadata": {},
   "outputs": [
    {
     "name": "stdout",
     "output_type": "stream",
     "text": [
      "Image:\n"
     ]
    },
    {
     "data": {
      "image/png": "[encoded data removed]",
      "text/plain": [
       "<PIL.Image.Image image mode=RGBA size=201x291>"
      ]
     },
     "metadata": {},
     "output_type": "display_data"
    },
    {
     "name": "stdout",
     "output_type": "stream",
     "text": [
      "User:\n",
      "Describe what is in the image.\n",
      "\n",
      "Assistant:\n",
      "The image is a simple diagram representing a cloud infrastructure setup. It includes the following components:\n",
      "\n",
      "1. Resource Group: There is a resource group labeled \"rg-test-poc\" which is a container that holds related resources for an Azure solution.\n",
      "\n",
      "2. Linux App Service: Within the resource group, there is a Linux App Service with the name \"app1\". This represents a managed hosting environment for deploying and running web applications on Linux.\n",
      "\n",
      "3. SQL Database: Below the Linux App Service, there is a SQL Database. The diagram shows an arrow pointing from the Linux App Service to the SQL Database, indicating that the app service is connected to or depends on the SQL Database.\n",
      "\n",
      "The diagram does not provide specific details such as the region, size, or configuration of the resources. It simply outlines the relationship between a Linux App Service and a SQL Database within a resource group.\n"
     ]
    }
   ],
   "source": [
    "question = \"Describe what is in the image.\"\n",
    "full_process(url, question)"
   ]
  },
  {
   "cell_type": "code",
   "execution_count": 10,
   "metadata": {},
   "outputs": [
    {
     "name": "stdout",
     "output_type": "stream",
     "text": [
      "Image:\n"
     ]
    },
    {
     "data": {
      "image/png": "[encoded data removed]",
      "text/plain": [
       "<PIL.Image.Image image mode=RGBA size=201x291>"
      ]
     },
     "metadata": {},
     "output_type": "display_data"
    },
    {
     "name": "stdout",
     "output_type": "stream",
     "text": [
      "User:\n",
      "Generate the Bicep code to implement the architecture in the diagram. Write the code only. Do not provide comments or\n",
      "explanations.\n",
      "\n",
      "Assistant:\n",
      "```bicep\n",
      "resource appServicePlan 'Microsoft.Web/serverfarms@2021-02-01' = {\n",
      "  name: 'appServicePlan1'\n",
      "  location: resourceGroup().location\n",
      "  sku: {\n",
      "    name: 'P1v2'\n",
      "    tier: 'PremiumV2'\n",
      "  }\n",
      "  kind: 'linux'\n",
      "  properties: {\n",
      "    reserved: true\n",
      "  }\n",
      "}\n",
      "\n",
      "resource appService 'Microsoft.Web/sites@2021-02-01' = {\n",
      "  name: 'app1'\n",
      "  location: resourceGroup().location\n",
      "  kind: 'app'\n",
      "  properties: {\n",
      "    serverFarmId: appServicePlan.id\n",
      "  }\n",
      "}\n",
      "\n",
      "resource sqlServer 'Microsoft.Sql/servers@2021-05-01-preview' = {\n",
      "  name: 'sqlServer1'\n",
      "  location: resourceGroup().location\n",
      "  properties: {\n",
      "    administratorLogin: 'sqladmin'\n",
      "    administratorLoginPassword: 'Password#1234'\n",
      "    version: '12.0'\n",
      "  }\n",
      "}\n",
      "\n",
      "resource sqlDatabase 'Microsoft.Sql/servers/databases@2021-05-01-preview' = {\n",
      "  name: 'sqlServer1/sqlDatabase1'\n",
      "  location: resourceGroup().location\n",
      "  properties: {\n",
      "    collation: 'SQL_Latin1_General_CP1_CI_AS'\n",
      "    maxSizeBytes: '2147483648'\n",
      "    sku: {\n",
      "      name: 'S0'\n",
      "      tier: 'Standard'\n",
      "    }\n",
      "  }\n",
      "  dependsOn: [\n",
      "    sqlServer\n",
      "  ]\n",
      "}\n",
      "```\n"
     ]
    }
   ],
   "source": [
    "\n",
    "question = \"Generate the Bicep code to implement the architecture in the diagram. Write the code only. Do not provide comments or explanations.\"\n",
    "full_process(url, question)\n"
   ]
  }
 ],
 "metadata": {
  "kernelspec": {
   "display_name": ".venv",
   "language": "python",
   "name": "python3"
  },
  "language_info": {
   "codemirror_mode": {
    "name": "ipython",
    "version": 3
   },
   "file_extension": ".py",
   "mimetype": "text/x-python",
   "name": "python",
   "nbconvert_exporter": "python",
   "pygments_lexer": "ipython3",
   "version": "3.10.12"
  },
  "orig_nbformat": 4
 },
 "nbformat": 4,
 "nbformat_minor": 2
}
