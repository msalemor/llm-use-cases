{
 "cells": [
  {
   "cell_type": "markdown",
   "metadata": {},
   "source": [
    "# Embeddings - Consine Similarity\n",
    "\n",
    "- Simplest example of generating an embedding with a REST call"
   ]
  },
  {
   "cell_type": "code",
   "execution_count": null,
   "metadata": {},
   "outputs": [],
   "source": [
    "import common\n",
    "import requests\n",
    "import json\n",
    "\n",
    "\"\"\"curl https://YOUR_RESOURCE_NAME.openai.azure.com/openai/deployments/YOUR_DEPLOYMENT_NAME/embeddings?api-version=2023-05-15 \\\n",
    "  -H \"Content-Type: application/json\" \\\n",
    "  -H \"api-key: YOUR_API_KEY\" \\\n",
    "  -d \"{\\\"input\\\": \\\"The food was delicious and the waiter...\\\"}\"\"\"\n"
   ]
  },
  {
   "cell_type": "code",
   "execution_count": null,
   "metadata": {},
   "outputs": [],
   "source": [
    "def post_request(url:str, prompt:str):\n",
    "    headers = {\n",
    "        \"Content-Type\": \"application/json\",\n",
    "        \"api-key\": common.ada_key\n",
    "    }\n",
    "    response = requests.post(url, headers=headers, json={\"input\": prompt})\n",
    "    return response.json()"
   ]
  },
  {
   "cell_type": "code",
   "execution_count": null,
   "metadata": {},
   "outputs": [],
   "source": [
    "def get_embedding(prompt:str):\n",
    "    res = post_request(common.ada_full_uri, prompt)\n",
    "    return (prompt,res['data'][0]['embedding'])"
   ]
  },
  {
   "cell_type": "code",
   "execution_count": null,
   "metadata": {},
   "outputs": [],
   "source": [
    "def cosine_similarity(v1, v2):\n",
    "    dot_product = sum(a*b for a, b in zip(v1, v2))\n",
    "    magnitude_A = sum(a*a for a in v1)**0.5\n",
    "    magnitude_B = sum(b*b for b in v2)**0.5\n",
    "    # cosine_similarity = dot_product(A*B) / (magnitude_A * magnitude_B) is the cosine of the angle\n",
    "    # With numpy, it's simply:\n",
    "    # dot_product = np.dot(A, B)\n",
    "    # magnitude_A = np.linalg.norm(A)\n",
    "    # magnitude_B = np.linalg.norm(B)\n",
    "    # cosine_similarity = dot_product / (magnitude_A * magnitude_B)\n",
    "    return dot_product / (magnitude_A * magnitude_B)"
   ]
  },
  {
   "cell_type": "code",
   "execution_count": null,
   "metadata": {},
   "outputs": [],
   "source": [
    "(p1,e1) = get_embedding(\"I love tacos.\")\n",
    "#r1 = post_request(common.ada_full_URI, p1)\n",
    "#e1 = r1['data'][0]['embedding']\n",
    "\n",
    "(p2,e2) = get_embedding(\"I love Mexican food.\")\n"
   ]
  },
  {
   "cell_type": "code",
   "execution_count": null,
   "metadata": {},
   "outputs": [],
   "source": [
    "print(cosine_similarity(e1,e2))"
   ]
  },
  {
   "cell_type": "code",
   "execution_count": null,
   "metadata": {},
   "outputs": [],
   "source": [
    "(p3,e3) = get_embedding(\"I am vegetarian.\")"
   ]
  },
  {
   "cell_type": "code",
   "execution_count": null,
   "metadata": {},
   "outputs": [],
   "source": [
    "print(cosine_similarity(e1,e3))"
   ]
  }
 ],
 "metadata": {
  "kernelspec": {
   "display_name": ".venv",
   "language": "python",
   "name": "python3"
  },
  "language_info": {
   "codemirror_mode": {
    "name": "ipython",
    "version": 3
   },
   "file_extension": ".py",
   "mimetype": "text/x-python",
   "name": "python",
   "nbconvert_exporter": "python",
   "pygments_lexer": "ipython3",
   "version": "3.10.13"
  },
  "orig_nbformat": 4
 },
 "nbformat": 4,
 "nbformat_minor": 2
}
