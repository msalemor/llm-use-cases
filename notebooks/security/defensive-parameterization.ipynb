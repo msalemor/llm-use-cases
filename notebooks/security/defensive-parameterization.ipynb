{
 "cells": [
  {
   "cell_type": "markdown",
   "metadata": {},
   "source": [
    "# Defensive Parameterization\n",
    "\n",
    "- Under this scenario, the Prompt would be created and completed on behalf of a user, only for allowed topics.\n"
   ]
  },
  {
   "cell_type": "code",
   "execution_count": 3,
   "metadata": {},
   "outputs": [],
   "source": [
    "# Added so that I can refer to common in the parent folder\n",
    "from pathlib import Path\n",
    "import sys\n",
    "path = str(Path(Path('.').parent.absolute()).parent.absolute())\n",
    "sys.path.insert(0, path)\n",
    "\n",
    "# Import the common module\n",
    "import common\n",
    "\n",
    "# Get a configured model\n",
    "client = common.get_openai_client(api_key=common.api_KEY,\n",
    "        api_version=common.api_version,\n",
    "        azure_endpoint=common.api_URI)"
   ]
  },
  {
   "cell_type": "code",
   "execution_count": 4,
   "metadata": {},
   "outputs": [],
   "source": [
    "hr_topics = [\"company benefits\",\"401k\",\"vacation policy\",\"leave of absence\"]"
   ]
  },
  {
   "cell_type": "code",
   "execution_count": 5,
   "metadata": {},
   "outputs": [],
   "source": [
    "prompt_template = \"\"\"System:\n",
    "You are an agent that can help draft Contoso company policies given a topic.\n",
    "\n",
    "User:\n",
    "Write a company policy document for the following topic:\n",
    "\n",
    "Topic:\n",
    "{{input}}\n",
    "\"\"\""
   ]
  },
  {
   "cell_type": "code",
   "execution_count": 6,
   "metadata": {},
   "outputs": [
    {
     "name": "stdout",
     "output_type": "stream",
     "text": [
      "Contoso Company Benefits Policy\n",
      "\n",
      "I. Purpose\n",
      "The purpose of this policy is to outline the benefits provided by Contoso Company to its eligible employees. Contoso Company is committed to offering a comprehensive benefits package that supports the health, well-being, and financial security of our employees and their families.\n",
      "\n",
      "II. Eligibility\n",
      "All full-time employees who have completed their probationary period are eligible for company benefits. Part-time employees may be eligible for certain benefits on a prorated basis, as determined by the company.\n",
      "\n",
      "III. Benefits Offered\n",
      "A. Health and Wellness\n",
      "1. Medical Insurance: Contoso Company offers a choice of medical plans, including PPO and HMO options. The company contributes a significant portion of the premium cost.\n",
      "2. Dental Insurance: Employees have access to dental coverage for preventive, basic, and major services.\n",
      "3. Vision Insurance: Vision coverage is available for eye exams, glasses, and contact lenses.\n",
      "4. Employee Assistance Program (EAP): Confidential counseling and support services are available to employees and their immediate family members.\n",
      "\n",
      "B. Financial Security\n",
      "1. Retirement Savings Plan: Contoso Company offers a 401(k) plan with a company match to help employees save for retirement.\n",
      "2. Life Insurance: Basic life insurance is provided at no cost to the employee, with the option to purchase additional coverage.\n",
      "3. Disability Insurance: Short-term and long-term disability insurance is available to provide income protection in the event of a qualifying disability.\n",
      "\n",
      "C. Work-Life Balance\n",
      "1. Paid Time Off (PTO): Employees accrue PTO based on their length of service, which can be used for vacation, personal time, or illness.\n",
      "2. Holidays: Contoso Company observes all federal holidays and provides paid time off for these days.\n",
      "3. Flexible Work Arrangements: Eligible employees may request flexible work hours or remote work options, subject to management approval.\n",
      "\n",
      "D. Additional Benefits\n",
      "1. Tuition Reimbursement: Employees seeking to further their education may be eligible for tuition reimbursement for approved courses or degree programs.\n",
      "2. Employee Discounts: Contoso Company partners with various vendors to offer discounts on products and services to employees.\n",
      "3. Wellness Programs: The company may offer wellness challenges, health screenings, and other initiatives to promote a healthy lifestyle.\n",
      "\n",
      "IV. Enrollment and Changes\n",
      "Employees may enroll in benefits during the annual open enrollment period or within 30 days of a qualifying life event, such as marriage, birth of a child, or loss of other\n"
     ]
    }
   ],
   "source": [
    "if \"company benefits\" in hr_topics:\n",
    "    rendered_template = common.render_template(prompt_template,input=\"company benefits\")    \n",
    "    print(common.Call_OpenAI(client, common.gpt_api_deployment, rendered_template, temperature=0.0, max_tokens=500))\n"
   ]
  },
  {
   "cell_type": "code",
   "execution_count": 7,
   "metadata": {},
   "outputs": [
    {
     "name": "stdout",
     "output_type": "stream",
     "text": [
      "No brokerageLink in hr_topics\n"
     ]
    }
   ],
   "source": [
    "if \"brokerageLink\" in hr_topics:\n",
    "    rendered_template = common.render_template(prompt_template,input=\"company benefits\")    \n",
    "    print(common.Call_OpenAI(client, common.gpt_api_deployment, rendered_template, temperature=0.0))\n",
    "else:\n",
    "    print(\"No brokerageLink in hr_topics\")"
   ]
  }
 ],
 "metadata": {
  "kernelspec": {
   "display_name": ".venv",
   "language": "python",
   "name": "python3"
  },
  "language_info": {
   "codemirror_mode": {
    "name": "ipython",
    "version": 3
   },
   "file_extension": ".py",
   "mimetype": "text/x-python",
   "name": "python",
   "nbconvert_exporter": "python",
   "pygments_lexer": "ipython3",
   "version": "3.10.12"
  },
  "orig_nbformat": 4
 },
 "nbformat": 4,
 "nbformat_minor": 2
}
