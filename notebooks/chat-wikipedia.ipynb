{
 "cells": [
  {
   "cell_type": "markdown",
   "metadata": {},
   "source": [
    "# Chat with Wikipedia - from Promptflow (a simplified version)\n",
    "\n",
    "## Load the required package and prepare some global variables"
   ]
  },
  {
   "cell_type": "code",
   "execution_count": null,
   "metadata": {},
   "outputs": [],
   "source": [
    "import random\n",
    "import time\n",
    "import common\n",
    "from jinja2 import Template\n",
    "import bs4\n",
    "from get_url import decode_str, get_page_sentence\n",
    "\n",
    "client = common.get_openai_client()\n",
    "deployment_name = \"gpt\"\n",
    "chat_history = []"
   ]
  },
  {
   "cell_type": "markdown",
   "metadata": {},
   "source": []
  },
  {
   "cell_type": "markdown",
   "metadata": {},
   "source": [
    "## Support function to render a Jinja2 template"
   ]
  },
  {
   "cell_type": "code",
   "execution_count": null,
   "metadata": {},
   "outputs": [],
   "source": [
    "def render_template(template_string, **kwargs) -> str:\n",
    "    return Template(template_string).render(**kwargs)"
   ]
  },
  {
   "cell_type": "markdown",
   "metadata": {},
   "source": [
    "## Execute an OpenAI call with a template"
   ]
  },
  {
   "cell_type": "code",
   "execution_count": null,
   "metadata": {},
   "outputs": [],
   "source": [
    "def Call_OpenAI(client, deployment_name, content, max_tokens=100, temperature=0.3):\n",
    "    response = client.chat.completions.create(\n",
    "        model=deployment_name,\n",
    "        messages=[\n",
    "            {\"role\": \"assistant\", \"content\": content},\n",
    "        ],\n",
    "        max_tokens=max_tokens,\n",
    "        temperature=temperature    \n",
    "    )\n",
    "    return str(response.choices[0].message.content)"
   ]
  },
  {
   "cell_type": "markdown",
   "metadata": {},
   "source": [
    "## Scrape the Microsoft Wikipedia information"
   ]
  },
  {
   "cell_type": "code",
   "execution_count": null,
   "metadata": {},
   "outputs": [],
   "source": [
    "URI = \"https://en.wikipedia.org/wiki/Microsoft\"\n",
    "\n",
    "def fetch_text_content_from_url(url: str, count: int = 10):\n",
    "    # Send a request to the URL\n",
    "    try:\n",
    "        headers = {\n",
    "            \"User-Agent\": \"Mozilla/5.0 (Windows NT 10.0; Win64; x64) AppleWebKit/537.36 (KHTML, like Gecko) \"\n",
    "            \"Chrome/113.0.0.0 Safari/537.36 Edg/113.0.1774.35\"\n",
    "        }\n",
    "        delay = random.uniform(0, 0.5)\n",
    "        time.sleep(delay)\n",
    "        response = session.get(url, headers=headers)\n",
    "        if response.status_code == 200:\n",
    "            # Parse the HTML content using BeautifulSoup\n",
    "            soup = bs4.BeautifulSoup(response.text, \"html.parser\")\n",
    "            page_content = [p_ul.get_text().strip() for p_ul in soup.find_all(\"p\") + soup.find_all(\"ul\")]\n",
    "            page = \"\"\n",
    "            for content in page_content:\n",
    "                if len(content.split(\" \")) > 2:\n",
    "                    page += decode_str(content)\n",
    "                if not content.endswith(\"\\n\"):\n",
    "                    page += \"\\n\"\n",
    "            text = get_page_sentence(page, count=count)\n",
    "            return (url, text)\n",
    "        else:\n",
    "            msg = (\n",
    "                f\"Get url failed with status code {response.status_code}.\\nURL: {url}\\nResponse: \"\n",
    "                f\"{response.text[:100]}\"\n",
    "            )\n",
    "            print(msg)\n",
    "            return (url, \"No available content\")\n",
    "\n",
    "    except Exception as e:\n",
    "        print(\"Get url failed with error: {}\".format(e))\n",
    "        return (url, \"No available content\")\n",
    "\n",
    "context = fetch_text_content_from_url(URI)\n",
    "context"
   ]
  },
  {
   "cell_type": "markdown",
   "metadata": {},
   "source": [
    "## Prepare the Jinja2 template for the first time and print it"
   ]
  },
  {
   "cell_type": "code",
   "execution_count": null,
   "metadata": {},
   "outputs": [],
   "source": [
    "question=\"Where is Microsoft?\"\n",
    "\n",
    "template = \"\"\"system:\n",
    "You are a chatbot having a conversation with a human.\n",
    "Given the following extracted parts of a long document and a question, create a final answer with references (\"SOURCES\").\n",
    "If you don't know the answer, just say that you don't know. Don't try to make up an answer.\n",
    "ALWAYS return a \"SOURCES\" part in your answer.\n",
    "\n",
    "{{contexts}}\n",
    "\n",
    "{% for item in chat_history %}\n",
    "user:\n",
    "{{item.question}}\n",
    "assistant:\n",
    "{{item.answer}}\n",
    "{% endfor %}\n",
    "\n",
    "user:\n",
    "{{question}}\"\"\"\n",
    "\n",
    "content = render_template(template, contexts=context[1]+\"\\nSources:\"+URI, chat_history=chat_history,question=question)\n",
    "print(content)"
   ]
  },
  {
   "cell_type": "markdown",
   "metadata": {},
   "source": [
    "## Submit the first question to OpenAI and add the question and answer to the history"
   ]
  },
  {
   "cell_type": "code",
   "execution_count": null,
   "metadata": {},
   "outputs": [],
   "source": [
    "ans = Call_OpenAI(client,deployment_name,content)\n",
    "print(ans)\n",
    "chat_history.append({\"question\": question, \"answer\": ans})"
   ]
  },
  {
   "cell_type": "markdown",
   "metadata": {},
   "source": [
    "## Submit the second question to OpenAI and add the question and answer to the history"
   ]
  },
  {
   "cell_type": "code",
   "execution_count": null,
   "metadata": {},
   "outputs": [],
   "source": [
    "question=\"What are some products?\"\n",
    "content = render_template(template, contexts=context[1]+\"\\nSources:\"+URI, chat_history=chat_history,question=question)\n",
    "\n",
    "ans = Call_OpenAI(client,deployment_name,content)\n",
    "print(ans)\n",
    "\n",
    "chat_history.append({\"question\": question, \"answer\": response.choices[0].message.content})"
   ]
  },
  {
   "cell_type": "markdown",
   "metadata": {},
   "source": [
    "## Print the chat_history"
   ]
  },
  {
   "cell_type": "code",
   "execution_count": null,
   "metadata": {},
   "outputs": [],
   "source": [
    "for item in chat_history:\n",
    "    print(f'Question: {item[\"question\"]}')\n",
    "    print(f'Anwer: {item[\"answer\"]}')"
   ]
  }
 ],
 "metadata": {
  "kernelspec": {
   "display_name": ".venv",
   "language": "python",
   "name": "python3"
  },
  "language_info": {
   "codemirror_mode": {
    "name": "ipython",
    "version": 3
   },
   "file_extension": ".py",
   "mimetype": "text/x-python",
   "name": "python",
   "nbconvert_exporter": "python",
   "pygments_lexer": "ipython3",
   "version": "3.10.12"
  },
  "orig_nbformat": 4
 },
 "nbformat": 4,
 "nbformat_minor": 2
}
