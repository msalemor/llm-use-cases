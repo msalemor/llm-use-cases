{
 "cells": [
  {
   "cell_type": "markdown",
   "metadata": {},
   "source": [
    "# Synthetic document generation\n",
    "\n",
    "### Import the required packages"
   ]
  },
  {
   "cell_type": "code",
   "execution_count": 2,
   "metadata": {},
   "outputs": [],
   "source": [
    "import common\n",
    "import json\n",
    "\n",
    "# Get a configured model\n",
    "client = common.get_openai_client(api_key=common.api_KEY,\n",
    "        api_version=common.api_version,\n",
    "        azure_endpoint=common.api_URI)"
   ]
  },
  {
   "cell_type": "markdown",
   "metadata": {},
   "source": [
    "### Read the content from several files"
   ]
  },
  {
   "cell_type": "code",
   "execution_count": 19,
   "metadata": {},
   "outputs": [
    {
     "name": "stdout",
     "output_type": "stream",
     "text": [
      "401k.txt\n",
      "benefits.txt\n"
     ]
    },
    {
     "data": {
      "text/plain": [
       "\"401K Policy\\nContoso\\n\\nA 401k plan is a retirement savings plan that allows you to contribute a portion of your pre-tax income to a designated account. The company offers a 401k plan to all eligible employees as part of its benefits package. The company also matches your contributions up to a certain percentage, depending on your years of service and salary level. This means that the company will add money to your 401k account for every dollar you contribute, up to the matching limit.\\n\\nThe 401k plan is administered by a third-party provider, who is responsible for investing your contributions and providing you with online access to your account. You can choose from a variety of investment options, ranging from conservative to aggressive, depending on your risk tolerance and retirement goals. You can also change your contribution amount and investment allocation at any time, subject to certain restrictions and fees.\\n\\nThe 401k plan is a great way to save for your future and take advantage of the company's generous matching contribution. However, there are also some rules and limitations that you should be aware of before enrolling in the plan. For example, you can only withdraw money from your 401k account under certain circumstances, such as reaching age 59.5, leaving the company, or experiencing a financial hardship. If you withdraw money before age 59.5, you may have to pay a 10% penalty tax and income tax on the amount withdrawn. You may also have to pay taxes and penalties if you take out a loan from your 401k account and fail to repay it on time.\\n\\nThe company encourages you to read the summary plan description (SPD) and the participant disclosure notice (PDN) for more details about the 401k plan. These documents explain the eligibility requirements, contribution limits, vesting schedule, investment options, fees, withdrawal rules, and other important information about the plan. You can find these documents on the provider's website or request a copy from the human resources department.\\n\\nIf you have any questions about the 401k plan or need assistance with enrolling or managing your account, please contact the provider's customer service center or visit their website. You can also consult with a financial planner or tax advisor for personalized advice on your retirement planning.\\n\\nCompany Benefits\\nContoso\\n\\nHealth insurance: We cover 100% of the premiums for medical, dental and vision plans for our employees and their dependents. We also offer flexible spending accounts, health savings accounts and wellness programs.\\nRetirement savings: We match 50% of our employees' contributions to their 401(k) plans, up to 6% of their salary. We also offer financial education and planning services to help them achieve their retirement goals.\\nPaid time off: We offer generous paid time off policies, including vacation, sick leave, holidays, parental leave and sabbatical leave. We encourage our employees to take time off to recharge and spend quality time with their families and friends.\\nProfessional development: We invest in our employees' growth and development by providing them with opportunities to learn new skills, advance their careers and pursue their passions. We offer tuition reimbursement, online courses, mentoring programs and internal mobility.\\nWork-life balance: We respect our employees' work-life balance and support them with flexible work arrangements, remote work options and employee assistance programs. We also have a culture of recognition and appreciation that celebrates our employees' achievements and contributions.\\n\""
      ]
     },
     "execution_count": 19,
     "metadata": {},
     "output_type": "execute_result"
    }
   ],
   "source": [
    "def read_file(file):\n",
    "    with open(file, 'r') as f:\n",
    "        return f.read()\n",
    "\n",
    "def read_files_in_folder(folder):\n",
    "    import os\n",
    "    content = \"\"\n",
    "    for file in os.listdir(folder):\n",
    "        if file.endswith('.txt'):\n",
    "            print(file)\n",
    "            content += read_file(os.path.join(folder, file))\n",
    "    return content\n",
    "\n",
    "content = read_files_in_folder('data/')\n",
    "content"
   ]
  },
  {
   "cell_type": "markdown",
   "metadata": {},
   "source": [
    "### Template to extract formatted data from one document"
   ]
  },
  {
   "cell_type": "code",
   "execution_count": 41,
   "metadata": {},
   "outputs": [],
   "source": [
    "summarize_template = \"\"\"system: \n",
    "You are an agent that can help create a synthetic document.\n",
    "\n",
    "user:\n",
    "\n",
    "summarize document:\n",
    "\n",
    "{{input}}\n",
    "\n",
    "Sample JSON output format:\n",
    "\n",
    "{\n",
    "    \"title\": \"\", // The title of the document.\n",
    "    \"summary\": \"\", // The summary of the document.\n",
    "    \"faq\":\"Q: Where is the company located?\\nA: The company headquarters are located in San Francisco, CA.\", // A list of frequenty asked quetions and answers\n",
    "    \"keywords\": [], // The keywords of the document.\n",
    "}\n",
    "\n",
    "Respond in JSON format only.\n",
    "\"\"\"\n"
   ]
  },
  {
   "cell_type": "markdown",
   "metadata": {},
   "source": [
    "### Extract the formatted data for the 401K policy and benefits document\n",
    "\n",
    "- With larger context windows this could be done without having to split the documents\n",
    "- Otherwise, a summarizer techniquie would have to be used"
   ]
  },
  {
   "cell_type": "code",
   "execution_count": 42,
   "metadata": {},
   "outputs": [
    {
     "name": "stdout",
     "output_type": "stream",
     "text": [
      "{\n",
      "    \"title\": \"401K Policy - Contoso\",\n",
      "    \"summary\": \"Contoso offers a 401k retirement savings plan to eligible employees with company matching contributions based on years of service and salary level. The plan is managed by a third-party provider, offering a range of investment options and allowing for contribution and investment changes. Withdrawals are subject to restrictions, with potential penalties and taxes for early withdrawal or loan default. Employees are encouraged to consult the SPD and PDN documents for detailed information and to seek assistance from the provider's customer service or a financial advisor for retirement planning.\",\n",
      "    \"faq\": \"Q: How does the company match contributions?\\nA: The company matches contributions up to a certain percentage based on the employee's years of service and salary level.\\n\\nQ: Can I withdraw money from my 401k account at any time?\\nA: Withdrawals are permitted under certain circumstances, such as reaching age 59.5, leaving the company, or experiencing financial hardship. Early withdrawals may incur penalties and taxes.\\n\\nQ: Where can I find more information about the 401k plan?\\nA: Detailed information can be found in the summary plan description (SPD) and the participant disclosure notice (PDN), available on the provider's website or through the human resources department.\",\n",
      "    \"keywords\": [\"401k\", \"retirement\", \"savings\", \"plan\", \"matching contributions\", \"investment options\", \"withdrawal rules\", \"penalties\", \"taxes\", \"SPD\", \"PDN\"]\n",
      "}\n"
     ]
    }
   ],
   "source": [
    "file1 = read_file('data/401k.txt')\n",
    "template = common.render_template(summarize_template, input=file1)\n",
    "ans1 = common.Call_OpenAI(client,common.gpt_api_deployment,template, max_tokens=2000)\n",
    "print(ans1)"
   ]
  },
  {
   "cell_type": "code",
   "execution_count": 43,
   "metadata": {},
   "outputs": [
    {
     "name": "stdout",
     "output_type": "stream",
     "text": [
      "{\n",
      "    \"title\": \"Company Benefits - Contoso\",\n",
      "    \"summary\": \"Contoso offers comprehensive benefits including 100% premium coverage for health insurance, 50% match on 401(k) contributions, generous paid time off, professional development opportunities, and support for work-life balance with flexible work arrangements.\",\n",
      "    \"faq\": \"Q: What kind of health insurance does Contoso provide?\n",
      "A: Contoso covers 100% of the premiums for medical, dental, and vision plans for employees and dependents.\n",
      "Q: Does Contoso offer retirement savings plans?\n",
      "A: Yes, Contoso matches 50% of employees' 401(k) contributions up to 6% of their salary.\n",
      "Q: What is Contoso's policy on paid time off?\n",
      "A: Contoso offers vacation, sick leave, holidays, parental leave, and sabbatical leave.\n",
      "Q: Are there opportunities for professional development at Contoso?\n",
      "A: Contoso provides tuition reimbursement, online courses, mentoring, and internal mobility for career advancement.\n",
      "Q: How does Contoso support work-life balance?\n",
      "A: Contoso offers flexible work arrangements, remote work options, and employee assistance programs.\",\n",
      "    \"keywords\": [\"health insurance\", \"401(k)\", \"paid time off\", \"professional development\", \"work-life balance\"]\n",
      "}\n"
     ]
    }
   ],
   "source": [
    "file2 = read_file('data/benefits.txt')\n",
    "template = common.render_template(summarize_template, input=file2)\n",
    "ans2 = common.Call_OpenAI(client,common.gpt_api_deployment,template, max_tokens=2000)\n",
    "print(ans2)"
   ]
  },
  {
   "cell_type": "markdown",
   "metadata": {},
   "source": [
    "### Template to combine the extracted data"
   ]
  },
  {
   "cell_type": "code",
   "execution_count": 44,
   "metadata": {},
   "outputs": [],
   "source": [
    "summaries_template = \"\"\"system: \n",
    "You are an agent that can help create a synthetic document.\n",
    "\n",
    "user:\n",
    "\n",
    "Combine the following sections into a single document:\n",
    "\n",
    "{{input}}\n",
    "\n",
    "Sample JSON output format:\n",
    "\n",
    "{\n",
    "    \"title\": \"\", // The title of the document.\n",
    "    \"summary\": \"\", // The summary of the document.\n",
    "    \"faq\":\"Q: What is a 401k plan?\\nA: A 401k plan is a retirement savings plan that allows employees to contribute pre-tax income to a designated account, with potential matching contributions from the employer.\\n\" // A section of frequently asked questions and answers.\n",
    "    \"keywords\": [], // The keywords of the document.\n",
    "}\n",
    "\n",
    "Respond in JSON format only.\n",
    "\"\"\""
   ]
  },
  {
   "cell_type": "markdown",
   "metadata": {},
   "source": [
    "### Generate the Synthetic document"
   ]
  },
  {
   "cell_type": "code",
   "execution_count": 45,
   "metadata": {},
   "outputs": [
    {
     "name": "stdout",
     "output_type": "stream",
     "text": [
      "{\n",
      "    \"title\": \"Employee Benefits & 401K Policy - Contoso\",\n",
      "    \"summary\": \"Contoso is dedicated to providing its employees with a comprehensive benefits package, which includes 100% premium coverage for health insurance, a 401k retirement savings plan with company matching contributions, generous paid time off, and various professional development opportunities. The 401k plan is managed by a third-party provider, offering a range of investment options and allowing for contribution and investment changes. Employees are encouraged to seek assistance from the provider's customer service or a financial advisor for retirement planning.\",\n",
      "    \"faq\": \"Q: How does the company match contributions?\\nA: The company matches 50% of employees' 401(k) contributions up to 6% of their salary, based on the employee's years of service and salary level.\\n\\nQ: Can I withdraw money from my 401k account at any time?\\nA: Withdrawals are permitted under certain circumstances, such as reaching age 59.5, leaving the company, or experiencing financial hardship. Early withdrawals may incur penalties and taxes.\\n\\nQ: What kind of health insurance does Contoso provide?\\nA: Contoso covers 100% of the premiums for medical, dental, and vision plans for employees and dependents.\\n\\nQ: What is Contoso's policy on paid time off?\\nA: Contoso offers vacation, sick leave, holidays, parental leave, and sabbatical leave.\\n\\nQ: Are there opportunities for professional development at Contoso?\\nA: Contoso provides tuition reimbursement, online courses, mentoring, and internal mobility for career advancement.\\n\\nQ: How does Contoso support work-life balance?\\nA: Contoso offers flexible work arrangements, remote work options, and employee assistance programs.\\n\\nQ: Where can I find more information about the 401k plan?\\nA: Detailed information can be found in the summary plan description (SPD) and the participant disclosure notice (PDN), available on the provider's website or through the human resources department.\",\n",
      "    \"keywords\": [\"401k\", \"retirement\", \"savings\", \"plan\", \"matching contributions\", \"investment options\", \"withdrawal rules\", \"penalties\", \"taxes\", \"SPD\", \"PDN\", \"health insurance\", \"paid time off\", \"professional development\", \"work-life balance\"]\n",
      "}\n"
     ]
    }
   ],
   "source": [
    "\n",
    "template = common.render_template(summaries_template, input=ans1+ans2)\n",
    "combined = common.Call_OpenAI(client,common.gpt_api_deployment,template, max_tokens=2000)\n",
    "print(combined)"
   ]
  }
 ],
 "metadata": {
  "kernelspec": {
   "display_name": ".venv",
   "language": "python",
   "name": "python3"
  },
  "language_info": {
   "codemirror_mode": {
    "name": "ipython",
    "version": 3
   },
   "file_extension": ".py",
   "mimetype": "text/x-python",
   "name": "python",
   "nbconvert_exporter": "python",
   "pygments_lexer": "ipython3",
   "version": "3.11.8"
  },
  "orig_nbformat": 4
 },
 "nbformat": 4,
 "nbformat_minor": 2
}
