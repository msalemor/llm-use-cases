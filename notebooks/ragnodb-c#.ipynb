{
 "cells": [
  {
   "cell_type": "markdown",
   "metadata": {},
   "source": [
    "# RAG - No vector database"
   ]
  },
  {
   "cell_type": "code",
   "execution_count": 4,
   "metadata": {
    "dotnet_interactive": {
     "language": "csharp"
    },
    "polyglot_notebook": {
     "kernelName": "csharp"
    },
    "vscode": {
     "languageId": "polyglot-notebook"
    }
   },
   "outputs": [
    {
     "data": {
      "text/html": [
       "<div><div></div><div></div><div><strong>Installed Packages</strong><ul><li><span>Azure.AI.OpenAI, 1.0.0-beta.14</span></li><li><span>dotenv.net, 3.1.3</span></li><li><span>Scriban, 5.9.1</span></li></ul></div></div>"
      ]
     },
     "metadata": {},
     "output_type": "display_data"
    }
   ],
   "source": [
    "#r \"nuget: Azure.AI.OpenAI, 1.0.0-beta.14\"\n",
    "#r \"nuget: Scriban\"\n",
    "#r \"nuget: dotenv.net\"\n",
    "\n",
    "using Azure;\n",
    "using Azure.AI.OpenAI;\n",
    "using Scriban;\n",
    "\n",
    "using dotenv.net;\n",
    "DotEnv.Load();\n",
    "\n",
    "var endpoint=Environment.GetEnvironmentVariable(\"OPENAI_URI\");\n",
    "var key=Environment.GetEnvironmentVariable(\"OPENAI_KEY\");\n",
    "var model=Environment.GetEnvironmentVariable(\"OPENAI_GPT_DEPLOYMENT\");\n",
    "\n",
    "record Car (string make, string model, string basemodel, string color, int year, string condition, int mileage, int price);"
   ]
  },
  {
   "cell_type": "markdown",
   "metadata": {},
   "source": [
    "### Process a completion using the Azure SDK"
   ]
  },
  {
   "cell_type": "code",
   "execution_count": 5,
   "metadata": {
    "dotnet_interactive": {
     "language": "csharp"
    },
    "polyglot_notebook": {
     "kernelName": "csharp"
    },
    "vscode": {
     "languageId": "polyglot-notebook"
    }
   },
   "outputs": [],
   "source": [
    "async Task<string> process_competion(string prompt, int max_tokens=500, float temperature=0.3f)\n",
    "{\n",
    "    OpenAIClient client = new(new Uri(endpoint), new AzureKeyCredential(key));\n",
    "\n",
    "    var chatCompletionsOptions = new ChatCompletionsOptions()\n",
    "    {\n",
    "        DeploymentName = model, //This must match the custom deployment name you chose for your model\n",
    "        Messages =\n",
    "        {\n",
    "            new ChatRequestAssistantMessage(prompt),\n",
    "        },\n",
    "        MaxTokens = max_tokens,\n",
    "        Temperature = temperature\n",
    "    };\n",
    "\n",
    "    Response<ChatCompletions> response = await client.GetChatCompletionsAsync(chatCompletionsOptions);\n",
    "\n",
    "    return response.Value.Choices[0].Message.Content;\n",
    "}"
   ]
  },
  {
   "cell_type": "markdown",
   "metadata": {},
   "source": [
    "### Render an Scriban template"
   ]
  },
  {
   "cell_type": "code",
   "execution_count": 6,
   "metadata": {
    "dotnet_interactive": {
     "language": "csharp"
    },
    "polyglot_notebook": {
     "kernelName": "csharp"
    },
    "vscode": {
     "languageId": "polyglot-notebook"
    }
   },
   "outputs": [],
   "source": [
    "string RenderTemplate(string template, dynamic data) {\n",
    "    var templateObject = Template.Parse(template);\n",
    "    return templateObject.Render(data);\n",
    "}"
   ]
  },
  {
   "cell_type": "markdown",
   "metadata": {},
   "source": [
    "### Prepare the Prompt"
   ]
  },
  {
   "cell_type": "code",
   "execution_count": 2,
   "metadata": {
    "dotnet_interactive": {
     "language": "csharp"
    },
    "polyglot_notebook": {
     "kernelName": "csharp"
    },
    "vscode": {
     "languageId": "polyglot-notebook"
    }
   },
   "outputs": [],
   "source": [
    "var prompt_template = @\"Using only the best answers, answer the following question: \n",
    "{{input}}\n",
    "\n",
    "\n",
    "Text: ###\n",
    "1. CRISPR (Clustered Regularly Interspaced Short Palindromic Repeats) is a revolutionary gene-editing tool that allows precise modification of an organism's DNA. It can be used to correct genetic defects, create genetically modified organisms, study gene functions, and potentially treat various diseases by editing the DNA sequence.\n",
    "\n",
    "2. Blockchain is a decentralized, distributed ledger technology. It ensures security through cryptographic techniques and consensus protocols. Each block in the chain contains a cryptographic hash of the previous block, making it tamper-evident. Transactions are validated by multiple participants (nodes) in the network, enhancing security and preventing unauthorized changes.\n",
    "\n",
    "3. Quantum computing leverages the principles of quantum mechanics to perform computations using quantum bits (qubits), which can exist in multiple states simultaneously, unlike classical bits that are either 0 or 1. This ability for qubits to exist in superposition allows quantum computers to solve certain complex problems much faster than classical computers.\n",
    "\n",
    "4. Machine learning is a subset of artificial intelligence where systems learn from data and improve their performance over time without being explicitly programmed. Its applications range from recommendation systems in online platforms, fraud detection in financial transactions, autonomous vehicles, natural language processing, to medical diagnostics and image recognition.\n",
    "\n",
    "5. Self-driving cars use a combination of sensors such as cameras, lidar, radar, and GPS to perceive the environment. These sensors collect data, which is processed by sophisticated algorithms to create a real-time map of the car's surroundings. Decision-making algorithms then analyze this data to make decisions about steering, acceleration, and braking, allowing the vehicle to navigate and operate autonomously.\n",
    "\n",
    "6. NFTs are a specialized application of blockchain technology, utilizing its security and decentralization to authenticate and establish ownership of digital assets that are unique and non-interchangeable.\n",
    "\n",
    "###\n",
    "\n",
    "Output format: ###\n",
    "Question: ''\n",
    "Answer: ''\n",
    "###\n",
    "\n",
    "\n",
    "Use only the provided text. Provide the original question and the answer. If the question cannot be answered from the text, answer \"\"I don't know.\"\"\";"
   ]
  },
  {
   "cell_type": "markdown",
   "metadata": {},
   "source": [
    "### Anser the questions"
   ]
  },
  {
   "cell_type": "code",
   "execution_count": 7,
   "metadata": {
    "dotnet_interactive": {
     "language": "csharp"
    },
    "polyglot_notebook": {
     "kernelName": "csharp"
    },
    "vscode": {
     "languageId": "polyglot-notebook"
    }
   },
   "outputs": [
    {
     "name": "stdout",
     "output_type": "stream",
     "text": [
      "Question: 'What is CRISPR?'\n",
      "Answer: 'CRISPR (Clustered Regularly Interspaced Short Palindromic Repeats) is a revolutionary gene-editing tool that allows precise modification of an organism's DNA. It can be used to correct genetic defects, create genetically modified organisms, study gene functions, and potentially treat various diseases by editing the DNA sequence.'\n"
     ]
    }
   ],
   "source": [
    "// Execute the SK function\n",
    "var input=\"What is CRISPR?\";\n",
    "var prompt = RenderTemplate(prompt_template, new {input});\n",
    "Console.WriteLine(await process_competion(prompt, 100));"
   ]
  },
  {
   "cell_type": "code",
   "execution_count": 8,
   "metadata": {
    "dotnet_interactive": {
     "language": "csharp"
    },
    "polyglot_notebook": {
     "kernelName": "csharp"
    },
    "vscode": {
     "languageId": "polyglot-notebook"
    }
   },
   "outputs": [
    {
     "name": "stdout",
     "output_type": "stream",
     "text": [
      "Question: 'What is an NFT?'\n",
      "Answer: 'NFTs are a specialized application of blockchain technology, utilizing its security and decentralization to authenticate and establish ownership of digital assets that are unique and non-interchangeable.'\n"
     ]
    }
   ],
   "source": [
    "input=\"What is an NFT?\";\n",
    "var prompt = RenderTemplate(prompt_template, new {input});\n",
    "Console.WriteLine(await process_competion(prompt, 100));\n"
   ]
  },
  {
   "cell_type": "code",
   "execution_count": 9,
   "metadata": {
    "dotnet_interactive": {
     "language": "csharp"
    },
    "polyglot_notebook": {
     "kernelName": "csharp"
    },
    "vscode": {
     "languageId": "polyglot-notebook"
    }
   },
   "outputs": [
    {
     "name": "stdout",
     "output_type": "stream",
     "text": [
      "Question: 'What is the speed of light?'\n",
      "Answer: 'I don't know.'\n"
     ]
    }
   ],
   "source": [
    "input=\"What is the speed of light?\";\n",
    "var prompt = RenderTemplate(prompt_template, new {input});\n",
    "Console.WriteLine(await process_competion(prompt, 100));"
   ]
  }
 ],
 "metadata": {
  "kernelspec": {
   "display_name": ".venv",
   "language": "python",
   "name": "python3"
  },
  "language_info": {
   "codemirror_mode": {
    "name": "ipython",
    "version": 3
   },
   "file_extension": ".py",
   "mimetype": "text/x-python",
   "name": "python",
   "nbconvert_exporter": "python",
   "pygments_lexer": "ipython3",
   "version": "3.10.12"
  },
  "orig_nbformat": 4
 },
 "nbformat": 4,
 "nbformat_minor": 2
}
