{
 "cells": [
  {
   "cell_type": "markdown",
   "metadata": {},
   "source": [
    "# Cosine Similarity - Near Search\n",
    "\n",
    "- Perform a near search using cosine similarity\n",
    "\n",
    "### Importt packages"
   ]
  },
  {
   "cell_type": "code",
   "execution_count": 65,
   "metadata": {
    "dotnet_interactive": {
     "language": "csharp"
    },
    "polyglot_notebook": {
     "kernelName": "csharp"
    },
    "vscode": {
     "languageId": "polyglot-notebook"
    }
   },
   "outputs": [
    {
     "data": {
      "text/html": [
       "<div><div></div><div></div><div><strong>Installed Packages</strong><ul><li><span>dotenv.net, 3.1.3</span></li></ul></div></div>"
      ]
     },
     "metadata": {},
     "output_type": "display_data"
    }
   ],
   "source": [
    "#r \"nuget: dotenv.net\"\n",
    "\n",
    "using System;\n",
    "using System.Net.Http;\n",
    "\n",
    "using dotenv.net;\n",
    "DotEnv.Load();\n",
    "\n",
    "var apiKey=Environment.GetEnvironmentVariable(\"OPENAI_KEY\");\n",
    "var adaEndpoint=Environment.GetEnvironmentVariable(\"OPENAI_ADA_FULLURI\");\n",
    "\n",
    "record Data(string @object, int index, double[] embedding);\n",
    "record EmbeddingResponse(string @bject, Data[] data);\n",
    "\n",
    "HttpClient client = new();\n",
    "// Json content\n",
    "client.DefaultRequestHeaders.TryAddWithoutValidation(\"Content-Type\", \"application/json\");\n",
    "client.DefaultRequestHeaders.TryAddWithoutValidation(\"api-key\", apiKey);\n"
   ]
  },
  {
   "cell_type": "markdown",
   "metadata": {},
   "source": [
    "### Get an ADA text embedding"
   ]
  },
  {
   "cell_type": "code",
   "execution_count": 66,
   "metadata": {
    "dotnet_interactive": {
     "language": "csharp"
    },
    "polyglot_notebook": {
     "kernelName": "csharp"
    },
    "vscode": {
     "languageId": "polyglot-notebook"
    }
   },
   "outputs": [],
   "source": [
    "async Task<double[]> GetEmbedding(string input) \n",
    "{\n",
    "    var content = new { input = input};\n",
    "    var json = System.Text.Json.JsonSerializer.Serialize(content);\n",
    "    var stringContent = new StringContent(json, System.Text.Encoding.UTF8, \"application/json\");    \n",
    "    var request = await client.PostAsync(adaEndpoint, stringContent);\n",
    "    if (request.IsSuccessStatusCode)\n",
    "    {\n",
    "        var response = await request.Content.ReadAsStringAsync();\n",
    "        var adares = System.Text.Json.JsonSerializer.Deserialize<EmbeddingResponse>(response);\n",
    "        return adares.data[0].embedding;\n",
    "    }\n",
    "    Console.WriteLine(request.StatusCode);\n",
    "    return [];\n",
    "}"
   ]
  },
  {
   "cell_type": "markdown",
   "metadata": {},
   "source": [
    "### Calculate the Cosine Similarity"
   ]
  },
  {
   "cell_type": "code",
   "execution_count": 67,
   "metadata": {
    "dotnet_interactive": {
     "language": "csharp"
    },
    "polyglot_notebook": {
     "kernelName": "csharp"
    },
    "vscode": {
     "languageId": "polyglot-notebook"
    }
   },
   "outputs": [],
   "source": [
    "double CosineSimilarity(double[] vectorA, double[] vectorB)\n",
    "{\n",
    "    double dotProduct = 0.0;\n",
    "    double magnitudeA = 0.0;\n",
    "    double magnitudeB = 0.0;\n",
    "    for (int i = 0; i < vectorA.Length; i++)\n",
    "    {\n",
    "        dotProduct += (vectorA[i] * vectorB[i]);\n",
    "        magnitudeA += Math.Pow(vectorA[i], 2);\n",
    "        magnitudeB += Math.Pow(vectorB[i], 2);\n",
    "    }\n",
    "    magnitudeA = Math.Sqrt(magnitudeA);\n",
    "    magnitudeB = Math.Sqrt(magnitudeB);\n",
    "    if (magnitudeA != 0 && magnitudeB != 0)\n",
    "    {\n",
    "        return dotProduct / (magnitudeA * magnitudeB);\n",
    "    }\n",
    "    else\n",
    "    {\n",
    "        return 0.0;\n",
    "    }\n",
    "}"
   ]
  },
  {
   "cell_type": "markdown",
   "metadata": {},
   "source": [
    "### Prepare the mock vector database"
   ]
  },
  {
   "cell_type": "code",
   "execution_count": 68,
   "metadata": {
    "dotnet_interactive": {
     "language": "csharp"
    },
    "polyglot_notebook": {
     "kernelName": "csharp"
    },
    "vscode": {
     "languageId": "polyglot-notebook"
    }
   },
   "outputs": [
    {
     "data": {
      "text/html": [
       "<table><thead><tr><th><i>index</i></th><th>value</th></tr></thead><tbody><tr><td>0</td><td><details class=\"dni-treeview\"><summary><span class=\"dni-code-hint\"><code>(The chemical composition of water is H2O., System.Double[])</code></span></summary><div><table><thead><tr></tr></thead><tbody><tr><td>Item1</td><td><div class=\"dni-plaintext\"><pre>The chemical composition of water is H2O.</pre></div></td></tr><tr><td>Item2</td><td><div class=\"dni-plaintext\"><pre>[ 0.022812204, 0.033907063, -0.005532173, -0.027023125, -0.006658137, -0.0070243035, -0.019748608, -0.035029978, -0.00016563336, -0.02624197, -0.0045526763, 0.03317473, -0.009642398, 0.007903105, -0.0069815842, -0.006584903, 0.018735545, -0.0050714132, 0.027828693, -0.00016267732 ... (1516 more) ]</pre></div></td></tr></tbody></table></div></details></td></tr><tr><td>1</td><td><details class=\"dni-treeview\"><summary><span class=\"dni-code-hint\"><code>(The speed of light is 300,000 km/s., System.Double[])</code></span></summary><div><table><thead><tr></tr></thead><tbody><tr><td>Item1</td><td><div class=\"dni-plaintext\"><pre>The speed of light is 300,000 km/s.</pre></div></td></tr><tr><td>Item2</td><td><div class=\"dni-plaintext\"><pre>[ -0.0035969934, 0.00456386, -0.0021389208, 0.0022228612, -0.0011285294, -0.0073494315, -0.024125038, -0.036013458, -0.0021933266, -0.025990376, 0.016079213, 0.0428779, -0.01580563, -0.02132703, -0.0075919256, 0.0103526255, 0.0053690644, -0.015793195, 0.008866573, -0.0046446915 ... (1516 more) ]</pre></div></td></tr></tbody></table></div></details></td></tr><tr><td>2</td><td><details class=\"dni-treeview\"><summary><span class=\"dni-code-hint\"><code>(Acceleration of gravity on earth is 9.8m/s^2., System.Double[])</code></span></summary><div><table><thead><tr></tr></thead><tbody><tr><td>Item1</td><td><div class=\"dni-plaintext\"><pre>Acceleration of gravity on earth is 9.8m/s^2.</pre></div></td></tr><tr><td>Item2</td><td><div class=\"dni-plaintext\"><pre>[ 0.018518053, -0.013706567, -0.007618186, -0.028572824, 0.008395426, 0.0056380746, -0.037949055, -0.027955968, 0.00073598773, -0.024304174, -0.0042964104, 0.03671534, 0.0038337675, -0.009573624, -0.007914278, -0.0052031903, 0.011152778, 0.01067163, -0.007359106, -0.011202127 ... (1516 more) ]</pre></div></td></tr></tbody></table></div></details></td></tr><tr><td>3</td><td><details class=\"dni-treeview\"><summary><span class=\"dni-code-hint\"><code>(The chemical composition of salt or sodium clorida is NaCl., System.Double[])</code></span></summary><div><table><thead><tr></tr></thead><tbody><tr><td>Item1</td><td><div class=\"dni-plaintext\"><pre>The chemical composition of salt or sodium clorida is NaCl.</pre></div></td></tr><tr><td>Item2</td><td><div class=\"dni-plaintext\"><pre>[ 0.030546002, 0.023610748, -0.0020088435, -0.027998358, 0.005574581, 6.634492E-05, -0.032604706, -0.034714874, -0.003567346, -0.01159307, -0.0019268171, 0.029568119, -0.014372319, 0.03440607, -0.011805374, 0.0019107335, 0.021178905, -0.018077984, 0.0128733255, -0.0025299527 ... (1516 more) ]</pre></div></td></tr></tbody></table></div></details></td></tr></tbody></table><style>\r\n",
       ".dni-code-hint {\r\n",
       "    font-style: italic;\r\n",
       "    overflow: hidden;\r\n",
       "    white-space: nowrap;\r\n",
       "}\r\n",
       ".dni-treeview {\r\n",
       "    white-space: nowrap;\r\n",
       "}\r\n",
       ".dni-treeview td {\r\n",
       "    vertical-align: top;\r\n",
       "    text-align: start;\r\n",
       "}\r\n",
       "details.dni-treeview {\r\n",
       "    padding-left: 1em;\r\n",
       "}\r\n",
       "table td {\r\n",
       "    text-align: start;\r\n",
       "}\r\n",
       "table tr { \r\n",
       "    vertical-align: top; \r\n",
       "    margin: 0em 0px;\r\n",
       "}\r\n",
       "table tr td pre \r\n",
       "{ \r\n",
       "    vertical-align: top !important; \r\n",
       "    margin: 0em 0px !important;\r\n",
       "} \r\n",
       "table th {\r\n",
       "    text-align: start;\r\n",
       "}\r\n",
       "</style>"
      ]
     },
     "metadata": {},
     "output_type": "display_data"
    }
   ],
   "source": [
    "List<string> content = [\n",
    "    \"The chemical composition of water is H2O.\",\n",
    "    \"The speed of light is 300,000 km/s.\",\n",
    "    \"Acceleration of gravity on earth is 9.8m/s^2.\",\n",
    "    \"The chemical composition of salt or sodium clorida is NaCl.\",\n",
    "];\n",
    "\n",
    "List<Tuple<string, double[]>> vectorDb = new();\n",
    "foreach (var item in content)\n",
    "{\n",
    "    var embedding = await GetEmbedding(item);\n",
    "    vectorDb.Add(new Tuple<string, double[]>(item, embedding));\n",
    "}"
   ]
  },
  {
   "cell_type": "markdown",
   "metadata": {},
   "source": [
    "### Embed the question"
   ]
  },
  {
   "cell_type": "code",
   "execution_count": 69,
   "metadata": {
    "dotnet_interactive": {
     "language": "csharp"
    },
    "polyglot_notebook": {
     "kernelName": "csharp"
    },
    "vscode": {
     "languageId": "polyglot-notebook"
    }
   },
   "outputs": [],
   "source": [
    "var input = \"What is the speed of light?\";\n",
    "var e1 = await GetEmbedding(input);\n"
   ]
  },
  {
   "cell_type": "markdown",
   "metadata": {},
   "source": [
    "### Perform Nearest search"
   ]
  },
  {
   "cell_type": "code",
   "execution_count": 70,
   "metadata": {
    "dotnet_interactive": {
     "language": "csharp"
    },
    "polyglot_notebook": {
     "kernelName": "csharp"
    },
    "vscode": {
     "languageId": "polyglot-notebook"
    }
   },
   "outputs": [],
   "source": [
    "const int limit=3;\n",
    "const double relevance=0.5;\n",
    "var count = 0;\n",
    "List<Tuple<string, double[]>> resultsList = new();\n",
    "foreach(var item in vectorDb)\n",
    "{\n",
    "    var sim = CosineSimilarity(e1, item.Item2);\n",
    "    if(sim>relevance)\n",
    "    {\n",
    "        //Console.WriteLine($\"{item.Item1} - {sim}\");\n",
    "        resultsList.Add(item);\n",
    "        count++;\n",
    "    }\n",
    "    if(count>=limit)\n",
    "    {\n",
    "        break;\n",
    "    }\n",
    "}"
   ]
  },
  {
   "cell_type": "markdown",
   "metadata": {},
   "source": [
    "### Print Results"
   ]
  },
  {
   "cell_type": "code",
   "execution_count": 71,
   "metadata": {
    "dotnet_interactive": {
     "language": "csharp"
    },
    "polyglot_notebook": {
     "kernelName": "csharp"
    },
    "vscode": {
     "languageId": "polyglot-notebook"
    }
   },
   "outputs": [
    {
     "name": "stdout",
     "output_type": "stream",
     "text": [
      "Similarity: 0.9076484494720922 Content: The speed of light is 300,000 km/s.\n",
      "Similarity: 0.8044927978430234 Content: Acceleration of gravity on earth is 9.8m/s^2.\n",
      "Similarity: 0.7380432345349796 Content: The chemical composition of water is H2O.\n"
     ]
    }
   ],
   "source": [
    "resultsList = resultsList.OrderByDescending(x => CosineSimilarity(e1, x.Item2)).ToList();\n",
    "foreach(var item in resultsList)\n",
    "{\n",
    "    Console.WriteLine($\"Similarity: {CosineSimilarity(e1, item.Item2)}, Content: {item.Item1}\");\n",
    "}"
   ]
  }
 ],
 "metadata": {
  "kernelspec": {
   "display_name": ".venv",
   "language": "python",
   "name": "python3"
  },
  "language_info": {
   "codemirror_mode": {
    "name": "ipython",
    "version": 3
   },
   "file_extension": ".py",
   "mimetype": "text/x-python",
   "name": "python",
   "nbconvert_exporter": "python",
   "pygments_lexer": "ipython3",
   "version": "3.10.12"
  },
  "orig_nbformat": 4
 },
 "nbformat": 4,
 "nbformat_minor": 2
}
