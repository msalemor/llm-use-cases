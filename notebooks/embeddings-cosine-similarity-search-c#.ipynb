{
 "cells": [
  {
   "cell_type": "markdown",
   "metadata": {},
   "source": [
    "# Cosine Similarity - Near Search\n",
    "\n",
    "- Perform a near search using cosine similarity\n",
    "\n",
    "### Importt packages"
   ]
  },
  {
   "cell_type": "code",
   "execution_count": 65,
   "metadata": {
    "dotnet_interactive": {
     "language": "csharp"
    },
    "polyglot_notebook": {
     "kernelName": "csharp"
    },
    "vscode": {
     "languageId": "polyglot-notebook"
    }
   },
   "outputs": [
    {
     "data": {
      "text/html": [
       "<div><div></div><div></div><div><strong>Installed Packages</strong><ul><li><span>dotenv.net, 3.1.3</span></li></ul></div></div>"
      ]
     },
     "metadata": {},
     "output_type": "display_data"
    }
   ],
   "source": [
    "#r \"nuget: dotenv.net\"\n",
    "\n",
    "using System;\n",
    "using System.Net.Http;\n",
    "\n",
    "using dotenv.net;\n",
    "DotEnv.Load();\n",
    "\n",
    "var apiKey=Environment.GetEnvironmentVariable(\"OPENAI_KEY\");\n",
    "var adaEndpoint=Environment.GetEnvironmentVariable(\"OPENAI_ADA_FULLURI\");\n",
    "\n",
    "record Data(string @object, int index, double[] embedding);\n",
    "record EmbeddingResponse(string @bject, Data[] data);\n",
    "\n",
    "HttpClient client = new();\n",
    "// Json content\n",
    "client.DefaultRequestHeaders.TryAddWithoutValidation(\"Content-Type\", \"application/json\");\n",
    "client.DefaultRequestHeaders.TryAddWithoutValidation(\"api-key\", apiKey);\n"
   ]
  },
  {
   "cell_type": "markdown",
   "metadata": {},
   "source": [
    "### Get an ADA text embedding"
   ]
  },
  {
   "cell_type": "code",
   "execution_count": 66,
   "metadata": {
    "dotnet_interactive": {
     "language": "csharp"
    },
    "polyglot_notebook": {
     "kernelName": "csharp"
    },
    "vscode": {
     "languageId": "polyglot-notebook"
    }
   },
   "outputs": [],
   "source": [
    "async Task<double[]> GetEmbedding(string input) \n",
    "{\n",
    "    var content = new { input = input};\n",
    "    var json = System.Text.Json.JsonSerializer.Serialize(content);\n",
    "    var stringContent = new StringContent(json, System.Text.Encoding.UTF8, \"application/json\");    \n",
    "    var request = await client.PostAsync(adaEndpoint, stringContent);\n",
    "    if (request.IsSuccessStatusCode)\n",
    "    {\n",
    "        var response = await request.Content.ReadAsStringAsync();\n",
    "        var adares = System.Text.Json.JsonSerializer.Deserialize<EmbeddingResponse>(response);\n",
    "        return adares.data[0].embedding;\n",
    "    }\n",
    "    Console.WriteLine(request.StatusCode);\n",
    "    return [];\n",
    "}"
   ]
  },
  {
   "cell_type": "markdown",
   "metadata": {},
   "source": [
    "### Calculate the Cosine Similarity"
   ]
  },
  {
   "cell_type": "code",
   "execution_count": 67,
   "metadata": {
    "dotnet_interactive": {
     "language": "csharp"
    },
    "polyglot_notebook": {
     "kernelName": "csharp"
    },
    "vscode": {
     "languageId": "polyglot-notebook"
    }
   },
   "outputs": [],
   "source": [
    "double CosineSimilarity(double[] vectorA, double[] vectorB)\n",
    "{\n",
    "    double dotProduct = 0.0;\n",
    "    double magnitudeA = 0.0;\n",
    "    double magnitudeB = 0.0;\n",
    "    for (int i = 0; i < vectorA.Length; i++)\n",
    "    {\n",
    "        dotProduct += (vectorA[i] * vectorB[i]);\n",
    "        magnitudeA += Math.Pow(vectorA[i], 2);\n",
    "        magnitudeB += Math.Pow(vectorB[i], 2);\n",
    "    }\n",
    "    magnitudeA = Math.Sqrt(magnitudeA);\n",
    "    magnitudeB = Math.Sqrt(magnitudeB);\n",
    "    if (magnitudeA != 0 && magnitudeB != 0)\n",
    "    {\n",
    "        return dotProduct / (magnitudeA * magnitudeB);\n",
    "    }\n",
    "    else\n",
    "    {\n",
    "        return 0.0;\n",
    "    }\n",
    "}"
   ]
  },
  {
   "cell_type": "markdown",
   "metadata": {},
   "source": [
    "### Prepare the mock vector database"
   ]
  },
  {
   "cell_type": "code",
   "execution_count": 72,
   "metadata": {
    "dotnet_interactive": {
     "language": "csharp"
    },
    "polyglot_notebook": {
     "kernelName": "csharp"
    },
    "vscode": {
     "languageId": "polyglot-notebook"
    }
   },
   "outputs": [],
   "source": [
    "List<string> content = [\n",
    "    \"The chemical composition of water is H2O.\",\n",
    "    \"The speed of light is 300,000 km/s.\",\n",
    "    \"Acceleration of gravity on earth is 9.8m/s^2.\",\n",
    "    \"The chemical composition of salt or sodium clorida is NaCl.\",\n",
    "];\n",
    "\n",
    "List<Tuple<string, double[]>> vectorDb = new();\n",
    "foreach (var item in content)\n",
    "{\n",
    "    var embedding = await GetEmbedding(item);\n",
    "    vectorDb.Add(new Tuple<string, double[]>(item, embedding));\n",
    "}"
   ]
  },
  {
   "cell_type": "markdown",
   "metadata": {},
   "source": [
    "### Embed the question"
   ]
  },
  {
   "cell_type": "code",
   "execution_count": 73,
   "metadata": {
    "dotnet_interactive": {
     "language": "csharp"
    },
    "polyglot_notebook": {
     "kernelName": "csharp"
    },
    "vscode": {
     "languageId": "polyglot-notebook"
    }
   },
   "outputs": [],
   "source": [
    "var input = \"What is the speed of light?\";\n",
    "var e1 = await GetEmbedding(input);\n"
   ]
  },
  {
   "cell_type": "markdown",
   "metadata": {},
   "source": [
    "### Perform Nearest search"
   ]
  },
  {
   "cell_type": "code",
   "execution_count": 74,
   "metadata": {
    "dotnet_interactive": {
     "language": "csharp"
    },
    "polyglot_notebook": {
     "kernelName": "csharp"
    },
    "vscode": {
     "languageId": "polyglot-notebook"
    }
   },
   "outputs": [],
   "source": [
    "const int limit=3;\n",
    "const double relevance=0.5;\n",
    "var count = 0;\n",
    "List<Tuple<string, double[]>> resultsList = new();\n",
    "foreach(var item in vectorDb)\n",
    "{\n",
    "    var sim = CosineSimilarity(e1, item.Item2);\n",
    "    if(sim>relevance)\n",
    "    {\n",
    "        //Console.WriteLine($\"{item.Item1} - {sim}\");\n",
    "        resultsList.Add(item);\n",
    "        count++;\n",
    "    }\n",
    "    if(count>=limit)\n",
    "    {\n",
    "        break;\n",
    "    }\n",
    "}"
   ]
  },
  {
   "cell_type": "markdown",
   "metadata": {},
   "source": [
    "### Print Results"
   ]
  },
  {
   "cell_type": "code",
   "execution_count": 75,
   "metadata": {
    "dotnet_interactive": {
     "language": "csharp"
    },
    "polyglot_notebook": {
     "kernelName": "csharp"
    },
    "vscode": {
     "languageId": "polyglot-notebook"
    }
   },
   "outputs": [
    {
     "name": "stdout",
     "output_type": "stream",
     "text": [
      "Similarity: 0.9076484494720922, Content: The speed of light is 300,000 km/s.\n",
      "Similarity: 0.8044927978430234, Content: Acceleration of gravity on earth is 9.8m/s^2.\n",
      "Similarity: 0.7380432345349796, Content: The chemical composition of water is H2O.\n"
     ]
    }
   ],
   "source": [
    "resultsList = resultsList.OrderByDescending(x => CosineSimilarity(e1, x.Item2)).ToList();\n",
    "foreach(var item in resultsList)\n",
    "{\n",
    "    Console.WriteLine($\"Similarity: {CosineSimilarity(e1, item.Item2)}, Content: {item.Item1}\");\n",
    "}"
   ]
  }
 ],
 "metadata": {
  "kernelspec": {
   "display_name": ".venv",
   "language": "python",
   "name": "python3"
  },
  "language_info": {
   "codemirror_mode": {
    "name": "ipython",
    "version": 3
   },
   "file_extension": ".py",
   "mimetype": "text/x-python",
   "name": "python",
   "nbconvert_exporter": "python",
   "pygments_lexer": "ipython3",
   "version": "3.10.12"
  },
  "orig_nbformat": 4
 },
 "nbformat": 4,
 "nbformat_minor": 2
}
