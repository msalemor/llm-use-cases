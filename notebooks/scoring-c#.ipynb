{
 "cells": [
  {
   "cell_type": "markdown",
   "metadata": {},
   "source": [
    "# Contract risk analysis"
   ]
  },
  {
   "cell_type": "code",
   "execution_count": 1,
   "metadata": {
    "dotnet_interactive": {
     "language": "csharp"
    },
    "polyglot_notebook": {
     "kernelName": "csharp"
    },
    "vscode": {
     "languageId": "polyglot-notebook"
    }
   },
   "outputs": [
    {
     "data": {
      "text/html": [
       "<div><div></div><div></div><div><strong>Installed Packages</strong><ul><li><span>Azure.AI.OpenAI, 1.0.0-beta.14</span></li><li><span>dotenv.net, 3.1.3</span></li><li><span>Scriban, 5.9.1</span></li></ul></div></div>"
      ]
     },
     "metadata": {},
     "output_type": "display_data"
    }
   ],
   "source": [
    "#r \"nuget: Azure.AI.OpenAI, 1.0.0-beta.14\"\n",
    "#r \"nuget: Scriban\"\n",
    "#r \"nuget: dotenv.net\"\n",
    "\n",
    "using Azure;\n",
    "using Azure.AI.OpenAI;\n",
    "using Scriban;\n",
    "\n",
    "using dotenv.net;\n",
    "DotEnv.Load();\n",
    "\n",
    "var endpoint=Environment.GetEnvironmentVariable(\"OPENAI_URI\");\n",
    "var key=Environment.GetEnvironmentVariable(\"OPENAI_KEY\");\n",
    "var model=Environment.GetEnvironmentVariable(\"OPENAI_GPT_DEPLOYMENT\");\n"
   ]
  },
  {
   "cell_type": "code",
   "execution_count": 25,
   "metadata": {
    "dotnet_interactive": {
     "language": "csharp"
    },
    "polyglot_notebook": {
     "kernelName": "csharp"
    },
    "vscode": {
     "languageId": "polyglot-notebook"
    }
   },
   "outputs": [],
   "source": [
    "async Task<string> ProcessCompletion(string prompt, int max_tokens=500, float temperature=0.3f)\n",
    "{\n",
    "    OpenAIClient client = new(new Uri(endpoint), new AzureKeyCredential(key));\n",
    "\n",
    "    \n",
    "\n",
    "    var chatCompletionsOptions = new ChatCompletionsOptions()\n",
    "    {\n",
    "        DeploymentName = model, //This must match the custom deployment name you chose for your model\n",
    "        Messages =\n",
    "        {\n",
    "            new ChatRequestAssistantMessage(prompt),\n",
    "        },\n",
    "        MaxTokens = max_tokens,\n",
    "        Temperature = temperature\n",
    "    };\n",
    "\n",
    "    Response<ChatCompletions> response = await client.GetChatCompletionsAsync(chatCompletionsOptions);\n",
    "\n",
    "    return response.Value.Choices[0].Message.Content;\n",
    "}"
   ]
  },
  {
   "cell_type": "code",
   "execution_count": 9,
   "metadata": {
    "dotnet_interactive": {
     "language": "csharp"
    },
    "polyglot_notebook": {
     "kernelName": "csharp"
    },
    "vscode": {
     "languageId": "polyglot-notebook"
    }
   },
   "outputs": [],
   "source": [
    "string RenderTemplate(string template, dynamic data) {\n",
    "    var templateObject = Template.Parse(template);\n",
    "    return templateObject.Render(data);\n",
    "}"
   ]
  },
  {
   "cell_type": "code",
   "execution_count": 10,
   "metadata": {
    "dotnet_interactive": {
     "language": "csharp"
    },
    "polyglot_notebook": {
     "kernelName": "csharp"
    },
    "vscode": {
     "languageId": "polyglot-notebook"
    }
   },
   "outputs": [],
   "source": [
    "List<Tuple<string,string>> songs = [\n",
    "new Tuple<string,string>(\"La Canción de los Gatos\",@\"En el jardín, jugando van,\n",
    "Pequeños gatos, con gran afán.\n",
    "Pelos suaves, y orejas puntiagudas,\n",
    "Saltan y juegan, ¡qué travesuras!\n",
    "\n",
    "¡Miau, miau, los gatos juegan así!\n",
    "En la luz del sol, o bajo la luna, sí.\n",
    "¡Miau, miau, saltan con destreza,\n",
    "Los gatos son la pura belleza!\n",
    "\n",
    "Con bigotes finos, y ojos brillantes,\n",
    "Exploran rincones, son tan elegantes.\n",
    "Persiguen mariposas, atrapan ratones,\n",
    "Los gatos son reyes de los callejones.\n",
    "\n",
    "¡Miau, miau, los gatos juegan así!\n",
    "En la luz del sol, o bajo la luna, sí.\n",
    "¡Miau, miau, saltan con destreza,\n",
    "Los gatos son la pura belleza!\n",
    "\n",
    "Descansan en tejados, bajo el cielo estrellado,\n",
    "Ronroneando suavemente, a veces hasta dormitando.\n",
    "Cada gato, con su propia personalidad,\n",
    "¡Son pequeños amigos llenos de vitalidad!\n",
    "\n",
    "¡Miau, miau, los gatos juegan así!\n",
    "En la luz del sol, o bajo la luna, sí.\n",
    "¡Miau, miau, saltan con destreza,\n",
    "Los gatos son la pura belleza!\n",
    "\n",
    "Y así termina la canción de los gatos,\n",
    "Con sus travesuras y sus saltos.\n",
    "Gatitos felices, en su propio rincón,\n",
    "¡Que la alegría de los gatos siga en tu corazón!\"),\n",
    "new Tuple<string,string>(\"Conquistando el Amor\",@\"En la penumbra de la noche, perdido en el laberinto,\n",
    "Caminando entre susurros, buscando el amor instinto.\n",
    "Ojos que brillan como estrellas, en la oscuridad se encuentran,\n",
    "Corazones en batalla, donde las sombras se entrelazan.\n",
    "\n",
    "Conquistando el amor, en un juego sin final,\n",
    "Donde las promesas se tejen, como hilos en el cristal.\n",
    "Entre suspiros y secretos, dos almas se entrelazan,\n",
    "En este duelo de pasiones, el amor se abalanza.\n",
    "\n",
    "En el campo de las emociones, donde la razón se desvanece,\n",
    "Se libra la batalla, entre la dicha y la tristeza.\n",
    "Susurros de seducción, en la danza de la pasión,\n",
    "Labios que pronuncian versos, creando un lazo de unión.\n",
    "\n",
    "Bajo el cielo estrellado, donde los sueños se conjugan,\n",
    "Se forja la alianza, que en el corazón se anida.\n",
    "Palabras como flechas, atraviesan el silencio,\n",
    "Conquistando el amor, en un eterno encuentro.\n",
    "\n",
    "Conquistando el amor, en un juego sin final,\n",
    "Donde las promesas se tejen, como hilos en el cristal.\n",
    "Entre suspiros y secretos, dos almas se entrelazan,\n",
    "En este duelo de pasiones, el amor se abalanza.\n",
    "\n",
    "En el jardín de los sentimientos, donde florece la esperanza,\n",
    "Se escribe la historia, de una conquista que avanza.\n",
    "Manos que se buscan, en la penumbra del deseo,\n",
    "Conquistando el amor, como un fuego que no teme.\n",
    "\n",
    "Bajo el manto de la Luna, sellando el pacto eterno,\n",
    "Dos corazones en victoria, en este amor moderno.\n",
    "Conquistando el amor, como héroes en la trama,\n",
    "En este cuento sin final, donde el amor se proclama.\"),\n",
    "];"
   ]
  },
  {
   "cell_type": "markdown",
   "metadata": {},
   "source": [
    "### Prepare the prompt template"
   ]
  },
  {
   "cell_type": "code",
   "execution_count": 29,
   "metadata": {
    "dotnet_interactive": {
     "language": "csharp"
    },
    "polyglot_notebook": {
     "kernelName": "csharp"
    },
    "vscode": {
     "languageId": "polyglot-notebook"
    }
   },
   "outputs": [],
   "source": [
    "var promptTemplate = @\"system:\n",
    "You are an assistant can help determine how easy it would be for an English speaker to learn to sing a song in Spanish. Easy songs have straightforward vocabulary and grammar and avoid complex sentence structures, metaphors, poetic structures and language, and uncommon words. Songs with familiar or universal themes, such as love, emotions, or everyday activities, can be easier for learners to relate to and understand. It helps when the context of the song is relatable to the listener. \n",
    "Rate the following song lyrics in Spanish from 1-10, with 10 being the hardest for an English speaker to learn.\n",
    "\n",
    "user:\n",
    "Song Title: ===\n",
    "{{title}}\n",
    "===\n",
    "\n",
    "Lyrics: ===\n",
    "{{input}}\n",
    "===\n",
    "\n",
    "Output format:\n",
    "{ \"\"score\"\":-1, \"\"title\"\":\"\"\"\",\"\"explanation\"\": \"\"\"\"}\n",
    "\n",
    "Provide an explanation in one sentence. Output in JSON format only.\";"
   ]
  },
  {
   "cell_type": "markdown",
   "metadata": {},
   "source": [
    "### Get the scores for each song"
   ]
  },
  {
   "cell_type": "code",
   "execution_count": 30,
   "metadata": {
    "dotnet_interactive": {
     "language": "csharp"
    },
    "polyglot_notebook": {
     "kernelName": "csharp"
    },
    "vscode": {
     "languageId": "polyglot-notebook"
    }
   },
   "outputs": [
    {
     "name": "stdout",
     "output_type": "stream",
     "text": [
      "{ \"score\":3, \"title\":\"La Canción de los Gatos\", \"explanation\": \"The song features simple vocabulary and grammar, with a relatable and universal theme of cats playing, which makes it relatively easy for an English speaker to learn.\" }\n",
      "{ \"score\":8, \"title\":\"Conquistando el Amor\", \"explanation\": \"The song uses metaphorical language, poetic structures, and some less common vocabulary, making it more challenging for an English speaker to learn.\" }\n"
     ]
    }
   ],
   "source": [
    "foreach(var song in songs) \n",
    "{\n",
    "    var prompt = RenderTemplate(promptTemplate, new { title = song.Item1, input = song.Item2 });\n",
    "    //Console.WriteLine(prompt);\n",
    "    Console.WriteLine(await ProcessCompletion(prompt));\n",
    "}"
   ]
  }
 ],
 "metadata": {
  "kernelspec": {
   "display_name": ".venv",
   "language": "python",
   "name": "python3"
  },
  "language_info": {
   "codemirror_mode": {
    "name": "ipython",
    "version": 3
   },
   "file_extension": ".py",
   "mimetype": "text/x-python",
   "name": "python",
   "nbconvert_exporter": "python",
   "pygments_lexer": "ipython3",
   "version": "3.10.12"
  },
  "orig_nbformat": 4
 },
 "nbformat": 4,
 "nbformat_minor": 2
}
