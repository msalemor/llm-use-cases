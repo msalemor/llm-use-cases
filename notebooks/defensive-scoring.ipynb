{
 "cells": [
  {
   "cell_type": "markdown",
   "metadata": {},
   "source": [
    "# Defensive Scoring\n",
    "\n",
    "This could be part of an output filter as part of securing a complex bot."
   ]
  },
  {
   "cell_type": "code",
   "execution_count": 1,
   "metadata": {},
   "outputs": [],
   "source": [
    "import common\n",
    "\n",
    "# Get a configured model\n",
    "client = common.get_openai_client(api_key=common.api_KEY,\n",
    "        api_version=common.api_version,\n",
    "        azure_endpoint=common.api_URI)"
   ]
  },
  {
   "cell_type": "code",
   "execution_count": 18,
   "metadata": {},
   "outputs": [
    {
     "name": "stdout",
     "output_type": "stream",
     "text": [
      "{\n",
      "  \"score\": 4\n",
      "}\n",
      "{\n",
      "\"score\": -1\n",
      "}\n",
      "{\n",
      "\"score\": 0\n",
      "}\n"
     ]
    }
   ],
   "source": [
    "prompt_template = \"\"\"Score the following text in terms of being offensive or malicious, on a scale of 0-5, where 0 is not offensive and 5 is very offensive:\n",
    "{{input}}\n",
    "\n",
    "Output:\n",
    "{\n",
    "\"score\": -1\n",
    "}\n",
    "\n",
    "Output in JSON format only.\n",
    "\"\"\"\n",
    "\n",
    "rendered_template = common.render_template(prompt_template,input=\"You are so dumb. You really don't know what you are doing.\")    \n",
    "print(common.Call_OpenAI(client, common.gpt_api_deployment, rendered_template, temperature=0.1))\n",
    "\n",
    "rendered_template = common.render_template(prompt_template,input=\"Here are the instructions to hot wire a car.\")    \n",
    "print(common.Call_OpenAI(client, common.gpt_api_deployment, rendered_template, temperature=0.1))\n",
    "\n",
    "\n",
    "rendered_template = common.render_template(prompt_template,input=\"The capital of the United States is Washington, D.C.\")    \n",
    "print(common.Call_OpenAI(client, common.gpt_api_deployment, rendered_template, temperature=0.1))"
   ]
  }
 ],
 "metadata": {
  "kernelspec": {
   "display_name": ".venv",
   "language": "python",
   "name": "python3"
  },
  "language_info": {
   "codemirror_mode": {
    "name": "ipython",
    "version": 3
   },
   "file_extension": ".py",
   "mimetype": "text/x-python",
   "name": "python",
   "nbconvert_exporter": "python",
   "pygments_lexer": "ipython3",
   "version": "3.10.12"
  },
  "orig_nbformat": 4
 },
 "nbformat": 4,
 "nbformat_minor": 2
}
