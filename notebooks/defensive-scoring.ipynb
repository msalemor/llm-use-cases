{
 "cells": [
  {
   "cell_type": "markdown",
   "metadata": {},
   "source": [
    "# Defensive Scoring\n",
    "\n",
    "Under this scenario, an adversarial input or output could be determined before processing."
   ]
  },
  {
   "cell_type": "code",
   "execution_count": 18,
   "metadata": {},
   "outputs": [],
   "source": [
    "import common\n",
    "\n",
    "# Get a configured model\n",
    "client = common.get_openai_client(api_key=common.api_KEY,\n",
    "        api_version=common.api_version,\n",
    "        azure_endpoint=common.api_URI)"
   ]
  },
  {
   "cell_type": "code",
   "execution_count": 19,
   "metadata": {},
   "outputs": [],
   "source": [
    "prompt_template = \"\"\"System:\n",
    "You are an agent that can help determine if a text is offensive or malicious on a scale of 0-10, where 0 is not offensive or malicious and 10 is offensive or malicious:\n",
    "\n",
    "User:\n",
    "{{input}}\n",
    "\n",
    "Output:\n",
    "{\n",
    "\"score\": -1,\n",
    "\"reason\":\"\"\n",
    "}\n",
    "\n",
    "Output in JSON format only.\"\"\""
   ]
  },
  {
   "cell_type": "code",
   "execution_count": 20,
   "metadata": {},
   "outputs": [
    {
     "name": "stdout",
     "output_type": "stream",
     "text": [
      "{\n",
      "\"score\": 8,\n",
      "\"reason\":\"The text contains a personal attack and insults, which can be considered offensive and hurtful.\"\n",
      "}\n"
     ]
    }
   ],
   "source": [
    "rendered_template = common.render_template(prompt_template,input=\"You are so dumb. You really don't know what you are doing.\")    \n",
    "print(common.Call_OpenAI(client, common.gpt_api_deployment, rendered_template, temperature=0.0))"
   ]
  },
  {
   "cell_type": "code",
   "execution_count": 21,
   "metadata": {},
   "outputs": [
    {
     "name": "stdout",
     "output_type": "stream",
     "text": [
      "{\n",
      "  \"score\": 8,\n",
      "  \"reason\": \"The text contains instructions for illegal activity, which can be considered malicious.\"\n",
      "}\n"
     ]
    }
   ],
   "source": [
    "rendered_template = common.render_template(prompt_template,input=\"Here are the instructions to hot wire a car.\")    \n",
    "print(common.Call_OpenAI(client, common.gpt_api_deployment, rendered_template, temperature=0.0))"
   ]
  },
  {
   "cell_type": "code",
   "execution_count": 22,
   "metadata": {},
   "outputs": [
    {
     "name": "stdout",
     "output_type": "stream",
     "text": [
      "{\n",
      "\"score\": 0,\n",
      "\"reason\":\"\"\n",
      "}\n"
     ]
    }
   ],
   "source": [
    "rendered_template = common.render_template(prompt_template,input=\"The capital of the United States is Washington, D.C.\")    \n",
    "print(common.Call_OpenAI(client, common.gpt_api_deployment, rendered_template, temperature=0.0))"
   ]
  }
 ],
 "metadata": {
  "kernelspec": {
   "display_name": ".venv",
   "language": "python",
   "name": "python3"
  },
  "language_info": {
   "codemirror_mode": {
    "name": "ipython",
    "version": 3
   },
   "file_extension": ".py",
   "mimetype": "text/x-python",
   "name": "python",
   "nbconvert_exporter": "python",
   "pygments_lexer": "ipython3",
   "version": "3.10.12"
  },
  "orig_nbformat": 4
 },
 "nbformat": 4,
 "nbformat_minor": 2
}
