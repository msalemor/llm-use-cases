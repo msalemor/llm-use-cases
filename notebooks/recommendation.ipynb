{
 "cells": [
  {
   "cell_type": "markdown",
   "metadata": {},
   "source": [
    "# Recommandation system\n",
    "\n",
    "### Import the required packages"
   ]
  },
  {
   "cell_type": "code",
   "execution_count": null,
   "metadata": {},
   "outputs": [],
   "source": [
    "import common\n",
    "\n",
    "# Get a configured model\n",
    "client = common.get_openai_client(api_key=common.api_KEY,\n",
    "        api_version=common.api_version,\n",
    "        azure_endpoint=common.api_URI)"
   ]
  },
  {
   "cell_type": "markdown",
   "metadata": {},
   "source": [
    "### Prepare the Prompt"
   ]
  },
  {
   "cell_type": "code",
   "execution_count": null,
   "metadata": {},
   "outputs": [],
   "source": [
    "def mock_get_restaurant_list(cityCode) -> list[str]:\n",
    "    if (cityCode == \"MIA\"):\n",
    "        return [\n",
    "            \"Joe's Stone Crab\",\n",
    "            \"Versailles\",\n",
    "            \"Hillstone\",\n",
    "            \"Casa Tua\",\t\n",
    "            \"Cecconi's\",\n",
    "            \"Yardbird Southern Table & Bar\",\n",
    "        ]\n",
    "    return []\n",
    "\n",
    "target_text=\"\"\n",
    "for restaurant in mock_get_restaurant_list(\"MIA\"):\n",
    "    target_text += f\"{restaurant}\\n\""
   ]
  },
  {
   "cell_type": "markdown",
   "metadata": {},
   "source": [
    "### Process the Completion"
   ]
  },
  {
   "cell_type": "code",
   "execution_count": null,
   "metadata": {},
   "outputs": [],
   "source": [
    "recommendation_template = 'List two top restaurants:\\n{{input}}\\nOut in JSON format.'\n",
    "rendered_template = common.render_template(recommendation_template, input=target_text)\n",
    "\n",
    "print(common.Call_OpenAI(client,common.gpt_api_deployment,rendered_template,max_tokens=200))"
   ]
  }
 ],
 "metadata": {
  "kernelspec": {
   "display_name": ".venv",
   "language": "python",
   "name": "python3"
  },
  "language_info": {
   "codemirror_mode": {
    "name": "ipython",
    "version": 3
   },
   "file_extension": ".py",
   "mimetype": "text/x-python",
   "name": "python",
   "nbconvert_exporter": "python",
   "pygments_lexer": "ipython3",
   "version": "3.10.12"
  },
  "orig_nbformat": 4
 },
 "nbformat": 4,
 "nbformat_minor": 2
}
