{
 "cells": [
  {
   "cell_type": "code",
   "execution_count": 3,
   "metadata": {},
   "outputs": [
    {
     "name": "stdout",
     "output_type": "stream",
     "text": [
      "Great choices! Based on popularity and reviews, I would recommend Joe's Stone Crab and Yardbird Southern Table & Bar as the top two restaurants in Miami, FL.\n"
     ]
    }
   ],
   "source": [
    "import os\n",
    "import openai\n",
    "from dotenv import load_dotenv\n",
    "\n",
    "load_dotenv()\n",
    "\n",
    "openai.api_type = \"azure\"\n",
    "# This comes from keys in the Azure Portal for OpenAI\n",
    "openai.api_base = os.getenv(\"OPENAI_URI\")\n",
    "# This comes from keys in the Azure Portal for OpenAI\n",
    "openai.api_key = os.getenv(\"OPENAI_KEY\") \n",
    "# This is the name in the Azure portal for OpenAI given to the ChatGPT3.5 model\n",
    "openai.api_version = \"2023-03-15-preview\"\n",
    "engine = \"gpt\" \n",
    "assistant_role = \"You are an assistant that can help with recommendations.\"\n",
    "\n",
    "languageCodes = {\n",
    "    \"en\": \"English\",\n",
    "    \"es\": \"Spanish\",\n",
    "}\n",
    "\n",
    "def mock_get_restaurant_list(cityCode) -> list[str]:\n",
    "    if (cityCode == \"MIA\"):\n",
    "        return [\n",
    "            \"Joe's Stone Crab\",\n",
    "            \"Versailles\",\n",
    "            \"Hillstone\",\n",
    "            \"Casa Tua\",\t\n",
    "            \"Cecconi's\",\n",
    "            \"Yardbird Southern Table & Bar\",\n",
    "        ]\n",
    "    return []\n",
    "\n",
    "target_text=\"\"\n",
    "for restaurant in mock_get_restaurant_list(\"MIA\"):\n",
    "    target_text += f\"{restaurant}\\n\"\n",
    "\n",
    "prompt = f'List two top restaurants in Miami, FL\\n{target_text}'\n",
    "\n",
    "response = openai.ChatCompletion.create(\n",
    "  engine=\"gpt\",\n",
    "  messages = [{\"role\":\"system\",\"content\":assistant_role},{\"role\":\"user\",\"content\":prompt}],\n",
    "  temperature=0.1,\n",
    "  max_tokens=100,\n",
    "  top_p=0.95,\n",
    "  frequency_penalty=0,\n",
    "  presence_penalty=0,\n",
    "  stop=None)\n",
    "\n",
    "completion = response.choices[0].message.content\n",
    "\n",
    "print(completion)"
   ]
  }
 ],
 "metadata": {
  "kernelspec": {
   "display_name": ".venv",
   "language": "python",
   "name": "python3"
  },
  "language_info": {
   "codemirror_mode": {
    "name": "ipython",
    "version": 3
   },
   "file_extension": ".py",
   "mimetype": "text/x-python",
   "name": "python",
   "nbconvert_exporter": "python",
   "pygments_lexer": "ipython3",
   "version": "3.10.6"
  },
  "orig_nbformat": 4
 },
 "nbformat": 4,
 "nbformat_minor": 2
}
