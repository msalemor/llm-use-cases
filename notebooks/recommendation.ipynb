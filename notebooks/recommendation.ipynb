{
 "cells": [
  {
   "cell_type": "code",
   "execution_count": null,
   "metadata": {},
   "outputs": [],
   "source": [
    "import common\n",
    "\n",
    "# Get a configured kernel\n",
    "kernel = common.get_kernel()"
   ]
  },
  {
   "cell_type": "code",
   "execution_count": null,
   "metadata": {},
   "outputs": [],
   "source": [
    "def mock_get_restaurant_list(cityCode) -> list[str]:\n",
    "    if (cityCode == \"MIA\"):\n",
    "        return [\n",
    "            \"Joe's Stone Crab\",\n",
    "            \"Versailles\",\n",
    "            \"Hillstone\",\n",
    "            \"Casa Tua\",\t\n",
    "            \"Cecconi's\",\n",
    "            \"Yardbird Southern Table & Bar\",\n",
    "        ]\n",
    "    return []\n",
    "\n",
    "target_text=\"\"\n",
    "for restaurant in mock_get_restaurant_list(\"MIA\"):\n",
    "    target_text += f\"{restaurant}\\n\"\n",
    "\n",
    "recommendationFunc = kernel.create_semantic_function('List two top restaurants:\\n{{$input}}\\nOut in JSON format.', max_tokens=200, temperature=0.3)\n",
    "\n",
    "print(recommendationFunc(target_text))"
   ]
  }
 ],
 "metadata": {
  "kernelspec": {
   "display_name": ".venv",
   "language": "python",
   "name": "python3"
  },
  "language_info": {
   "codemirror_mode": {
    "name": "ipython",
    "version": 3
   },
   "file_extension": ".py",
   "mimetype": "text/x-python",
   "name": "python",
   "nbconvert_exporter": "python",
   "pygments_lexer": "ipython3",
   "version": "3.10.12"
  },
  "orig_nbformat": 4
 },
 "nbformat": 4,
 "nbformat_minor": 2
}
