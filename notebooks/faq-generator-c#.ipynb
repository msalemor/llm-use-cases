{
 "cells": [
  {
   "cell_type": "markdown",
   "metadata": {},
   "source": [
    "# Contract risk analysis"
   ]
  },
  {
   "cell_type": "code",
   "execution_count": 5,
   "metadata": {
    "dotnet_interactive": {
     "language": "csharp"
    },
    "polyglot_notebook": {
     "kernelName": "csharp"
    },
    "vscode": {
     "languageId": "polyglot-notebook"
    }
   },
   "outputs": [
    {
     "data": {
      "text/html": [
       "<div><div></div><div></div><div><strong>Installed Packages</strong><ul><li><span>Azure.AI.OpenAI, 1.0.0-beta.14</span></li><li><span>dotenv.net, 3.1.3</span></li><li><span>Scriban, 5.9.1</span></li></ul></div></div>"
      ]
     },
     "metadata": {},
     "output_type": "display_data"
    }
   ],
   "source": [
    "#r \"nuget: Azure.AI.OpenAI, 1.0.0-beta.14\"\n",
    "#r \"nuget: Scriban\"\n",
    "#r \"nuget: dotenv.net\"\n",
    "\n",
    "using Azure;\n",
    "using Azure.AI.OpenAI;\n",
    "using Scriban;\n",
    "\n",
    "using dotenv.net;\n",
    "DotEnv.Load();\n",
    "\n",
    "var endpoint=Environment.GetEnvironmentVariable(\"OPENAI_URI\");\n",
    "var key=Environment.GetEnvironmentVariable(\"OPENAI_KEY\");\n",
    "var model=Environment.GetEnvironmentVariable(\"OPENAI_GPT_DEPLOYMENT\");\n",
    "\n",
    "record Car (string make, string model, string basemodel, string color, int year, string condition, int mileage, int price);"
   ]
  },
  {
   "cell_type": "markdown",
   "metadata": {},
   "source": [
    "### Process a completion using the Azure SDK"
   ]
  },
  {
   "cell_type": "code",
   "execution_count": 6,
   "metadata": {
    "dotnet_interactive": {
     "language": "csharp"
    },
    "polyglot_notebook": {
     "kernelName": "csharp"
    },
    "vscode": {
     "languageId": "polyglot-notebook"
    }
   },
   "outputs": [],
   "source": [
    "async Task<string> process_competion(string prompt, int max_tokens=500, float temperature=0.3f)\n",
    "{\n",
    "    OpenAIClient client = new(new Uri(endpoint), new AzureKeyCredential(key));\n",
    "\n",
    "    var chatCompletionsOptions = new ChatCompletionsOptions()\n",
    "    {\n",
    "        DeploymentName = model, //This must match the custom deployment name you chose for your model\n",
    "        Messages =\n",
    "        {\n",
    "            new ChatRequestAssistantMessage(prompt),\n",
    "        },\n",
    "        MaxTokens = max_tokens,\n",
    "        Temperature = temperature\n",
    "    };\n",
    "\n",
    "    Response<ChatCompletions> response = await client.GetChatCompletionsAsync(chatCompletionsOptions);\n",
    "\n",
    "    return response.Value.Choices[0].Message.Content;\n",
    "}"
   ]
  },
  {
   "cell_type": "code",
   "execution_count": null,
   "metadata": {
    "dotnet_interactive": {
     "language": "csharp"
    },
    "polyglot_notebook": {
     "kernelName": "csharp"
    },
    "vscode": {
     "languageId": "polyglot-notebook"
    }
   },
   "outputs": [],
   "source": []
  },
  {
   "cell_type": "markdown",
   "metadata": {},
   "source": [
    "### Render an Scriban template"
   ]
  },
  {
   "cell_type": "code",
   "execution_count": 7,
   "metadata": {
    "dotnet_interactive": {
     "language": "csharp"
    },
    "polyglot_notebook": {
     "kernelName": "csharp"
    },
    "vscode": {
     "languageId": "polyglot-notebook"
    }
   },
   "outputs": [],
   "source": [
    "string render_tempate(string template, dynamic data) {\n",
    "    var templateObject = Template.Parse(template);\n",
    "    return templateObject.Render(data);\n",
    "}"
   ]
  },
  {
   "cell_type": "code",
   "execution_count": 13,
   "metadata": {
    "dotnet_interactive": {
     "language": "csharp"
    },
    "polyglot_notebook": {
     "kernelName": "csharp"
    },
    "vscode": {
     "languageId": "polyglot-notebook"
    }
   },
   "outputs": [],
   "source": [
    "string ReadAllFiles(string path) {\n",
    "    var files = System.IO.Directory.GetFiles(path);\n",
    "    var sb = new StringBuilder();\n",
    "    foreach (var file in files) {\n",
    "        sb.Append(System.IO.File.ReadAllText(file));\n",
    "    }\n",
    "    return sb.ToString();\n",
    "}\n",
    "var content = ReadAllFiles(\"data/\");"
   ]
  },
  {
   "cell_type": "code",
   "execution_count": 14,
   "metadata": {
    "dotnet_interactive": {
     "language": "csharp"
    },
    "polyglot_notebook": {
     "kernelName": "csharp"
    },
    "vscode": {
     "languageId": "polyglot-notebook"
    }
   },
   "outputs": [
    {
     "name": "stdout",
     "output_type": "stream",
     "text": [
      "System:\n",
      "You are an agent that can help generate FAQ documents.\n",
      "Today's date is 2024-03-07 11:39:07.\n",
      "\n",
      "User:\n",
      "For the following text, generate a detailed FAQ document titled 'Contoso Company Benefits FAQ'. \n",
      "\n",
      "Text: ===\n",
      "401K Policy\n",
      "Contoso\n",
      "\n",
      "A 401k plan is a retirement savings plan that allows you to contribute a portion of your pre-tax income to a designated account. The company offers a 401k plan to all eligible employees as part of its benefits package. The company also matches your contributions up to a certain percentage, depending on your years of service and salary level. This means that the company will add money to your 401k account for every dollar you contribute, up to the matching limit.\n",
      "\n",
      "The 401k plan is administered by a third-party provider, who is responsible for investing your contributions and providing you with online access to your account. You can choose from a variety of investment options, ranging from conservative to aggressive, depending on your risk tolerance and retirement goals. You can also change your contribution amount and investment allocation at any time, subject to certain restrictions and fees.\n",
      "\n",
      "The 401k plan is a great way to save for your future and take advantage of the company's generous matching contribution. However, there are also some rules and limitations that you should be aware of before enrolling in the plan. For example, you can only withdraw money from your 401k account under certain circumstances, such as reaching age 59.5, leaving the company, or experiencing a financial hardship. If you withdraw money before age 59.5, you may have to pay a 10% penalty tax and income tax on the amount withdrawn. You may also have to pay taxes and penalties if you take out a loan from your 401k account and fail to repay it on time.\n",
      "\n",
      "The company encourages you to read the summary plan description (SPD) and the participant disclosure notice (PDN) for more details about the 401k plan. These documents explain the eligibility requirements, contribution limits, vesting schedule, investment options, fees, withdrawal rules, and other important information about the plan. You can find these documents on the provider's website or request a copy from the human resources department.\n",
      "\n",
      "If you have any questions about the 401k plan or need assistance with enrolling or managing your account, please contact the provider's customer service center or visit their website. You can also consult with a financial planner or tax advisor for personalized advice on your retirement planning.\n",
      "\n",
      "y Benefits\n",
      "Contoso\n",
      "\n",
      "Health insurance: We cover 100% of the premiums for medical, dental and vision plans for our employees and their dependents. We also offer flexible spending accounts, health savings accounts and wellness programs.\n",
      "Retirement savings: We match 50% of our employees' contributions to their 401(k) plans, up to 6% of their salary. We also offer financial education and planning services to help them achieve their retirement goals.\n",
      "Paid time off: We offer generous paid time off policies, including vacation, sick leave, holidays, parental leave and sabbatical leave. We encourage our employees to take time off to recharge and spend quality time with their families and friends.\n",
      "Professional development: We invest in our employees' growth and development by providing them with opportunities to learn new skills, advance their careers and pursue their passions. We offer tuition reimbursement, online courses, mentoring programs and internal mobility.\n",
      "Work-life balance: We respect our employees' work-life balance and support them with flexible work arrangements, remote work options and employee assistance programs. We also have a culture of recognition and appreciation that celebrates our employees' achievements and contributions.\n",
      "\n",
      "===\n",
      "\n",
      "Sample Output format: ===\n",
      "Title: // title\n",
      "Date: // Current date\n",
      "\n",
      "Q: What is 401k?\n",
      "A:  A: A 401k plan is a retirement savings plan that allows you to contribute a portion of your pre-tax income to a designated account.\n",
      "===\n",
      "\n",
      "Use only the provided text. Do not use any external sources.\n"
     ]
    }
   ],
   "source": [
    "//# Create a semantic kernel inline function\n",
    "var faq_template = @\"System:\n",
    "You are an agent that can help generate FAQ documents.\n",
    "Today's date is {{date}}.\n",
    "\n",
    "User:\n",
    "For the following text, generate a detailed FAQ document titled 'Contoso Company Benefits FAQ'. \n",
    "\n",
    "Text: ===\n",
    "{{input}}\n",
    "===\n",
    "\n",
    "Sample Output format: ===\n",
    "Title: // title\n",
    "Date: // Current date\n",
    "\n",
    "Q: What is 401k?\n",
    "A:  A: A 401k plan is a retirement savings plan that allows you to contribute a portion of your pre-tax income to a designated account.\n",
    "===\n",
    "\n",
    "Use only the provided text. Do not use any external sources.\";\n",
    "\n",
    "var datestr = DateTime.Now.ToString(\"yyyy-MM-dd HH:mm:ss\");\n",
    "var prompt = render_tempate(faq_template, new {input=content, date=datestr});\n",
    "Console.WriteLine(prompt);"
   ]
  },
  {
   "cell_type": "markdown",
   "metadata": {},
   "source": [
    "### Proces Prompt and Completion"
   ]
  },
  {
   "cell_type": "code",
   "execution_count": 15,
   "metadata": {
    "dotnet_interactive": {
     "language": "csharp"
    },
    "polyglot_notebook": {
     "kernelName": "csharp"
    },
    "vscode": {
     "languageId": "polyglot-notebook"
    }
   },
   "outputs": [
    {
     "name": "stdout",
     "output_type": "stream",
     "text": [
      "Title: Contoso Company Benefits FAQ\n",
      "Date: 2024-03-07\n",
      "\n",
      "Q: What is a 401k plan?\n",
      "A: A 401k plan is a retirement savings plan that allows you to contribute a portion of your pre-tax income to a designated account. It is part of Contoso's benefits package offered to all eligible employees.\n",
      "\n",
      "Q: Does Contoso offer any contribution matching for the 401k plan?\n",
      "A: Yes, Contoso matches your contributions up to a certain percentage, which is determined by your years of service and salary level.\n",
      "\n",
      "Q: Who administers the 401k plan for Contoso?\n",
      "A: The 401k plan is administered by a third-party provider responsible for investing your contributions and providing online access to your account.\n",
      "\n",
      "Q: Can I choose how to invest my 401k contributions?\n",
      "A: Yes, you can choose from a variety of investment options, ranging from conservative to aggressive, based on your risk tolerance and retirement goals. You can also change your contribution amount and investment allocation at any time, with certain restrictions and fees.\n",
      "\n",
      "Q: Are there any rules and limitations to the 401k plan?\n",
      "A: Yes, there are rules such as withdrawal restrictions. You can typically only withdraw money under certain circumstances, like reaching age 59.5, leaving the company, or experiencing financial hardship. Early withdrawals may incur a 10% penalty tax and income tax on the amount withdrawn. Loans from your 401k account must be repaid on time to avoid taxes and penalties.\n",
      "\n",
      "Q: Where can I find more detailed information about the 401k plan?\n",
      "A: You can read the summary plan description (SPD) and the participant disclosure notice (PDN) for more details about the plan. These documents are available on the provider's website or through the human resources department.\n",
      "\n",
      "Q: Who should I contact if I have questions about the 401k plan or need assistance?\n",
      "A: For questions or assistance with enrolling or managing your 401k account, contact the provider's customer service center or visit their website. You may also consult with a financial planner or tax advisor for personalized retirement planning advice.\n",
      "\n",
      "Q: What health insurance benefits does Contoso offer?\n",
      "A: Contoso covers 100% of the premiums for medical, dental, and vision plans for employees and their dependents. The company also offers flexible spending accounts, health savings accounts, and wellness programs.\n",
      "\n",
      "Q: What is Contoso's policy on paid time off?\n",
      "A: Contoso offers generous paid time off policies, including vacation, sick leave, holidays, parental leave, and sabbatical leave. Employees are encouraged to take time off to recharge and spend time with family and friends.\n",
      "\n",
      "Q: How does Contoso support professional development?\n",
      "A: Contoso invests in employee growth and development by providing learning opportunities, career advancement, and the pursuit of passions. Benefits include tuition reimbursement, online courses, mentoring programs, and internal mobility.\n",
      "\n",
      "Q: What does Contoso do to promote work-life balance?\n",
      "A: Contoso respects work-life balance and supports employees with flexible work arrangements, remote work options, and employee assistance programs. The company culture also emphasizes recognition and appreciation of employees' achievements and contributions.\n"
     ]
    }
   ],
   "source": [
    "// Execute the SK function\n",
    "Console.WriteLine(await process_competion(prompt, 1000));"
   ]
  }
 ],
 "metadata": {
  "kernelspec": {
   "display_name": ".venv",
   "language": "python",
   "name": "python3"
  },
  "language_info": {
   "codemirror_mode": {
    "name": "ipython",
    "version": 3
   },
   "file_extension": ".py",
   "mimetype": "text/x-python",
   "name": "python",
   "nbconvert_exporter": "python",
   "pygments_lexer": "ipython3",
   "version": "3.10.12"
  },
  "orig_nbformat": 4
 },
 "nbformat": 4,
 "nbformat_minor": 2
}
