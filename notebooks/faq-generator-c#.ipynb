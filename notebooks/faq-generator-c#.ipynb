{
 "cells": [
  {
   "cell_type": "markdown",
   "metadata": {},
   "source": [
    "# Contract risk analysis"
   ]
  },
  {
   "cell_type": "code",
   "execution_count": 5,
   "metadata": {
    "dotnet_interactive": {
     "language": "csharp"
    },
    "polyglot_notebook": {
     "kernelName": "csharp"
    },
    "vscode": {
     "languageId": "polyglot-notebook"
    }
   },
   "outputs": [
    {
     "data": {
      "text/html": [
       "<div><div></div><div></div><div><strong>Installed Packages</strong><ul><li><span>Azure.AI.OpenAI, 1.0.0-beta.14</span></li><li><span>dotenv.net, 3.1.3</span></li><li><span>Scriban, 5.9.1</span></li></ul></div></div>"
      ]
     },
     "metadata": {},
     "output_type": "display_data"
    }
   ],
   "source": [
    "#r \"nuget: Azure.AI.OpenAI, 1.0.0-beta.14\"\n",
    "#r \"nuget: Scriban\"\n",
    "#r \"nuget: dotenv.net\"\n",
    "\n",
    "using Azure;\n",
    "using Azure.AI.OpenAI;\n",
    "using Scriban;\n",
    "\n",
    "using dotenv.net;\n",
    "DotEnv.Load();\n",
    "\n",
    "var endpoint=Environment.GetEnvironmentVariable(\"OPENAI_URI\");\n",
    "var key=Environment.GetEnvironmentVariable(\"OPENAI_KEY\");\n",
    "var model=Environment.GetEnvironmentVariable(\"OPENAI_GPT_DEPLOYMENT\");\n",
    "\n",
    "record Car (string make, string model, string basemodel, string color, int year, string condition, int mileage, int price);"
   ]
  },
  {
   "cell_type": "markdown",
   "metadata": {},
   "source": [
    "### Process a completion using the Azure SDK"
   ]
  },
  {
   "cell_type": "code",
   "execution_count": 6,
   "metadata": {
    "dotnet_interactive": {
     "language": "csharp"
    },
    "polyglot_notebook": {
     "kernelName": "csharp"
    },
    "vscode": {
     "languageId": "polyglot-notebook"
    }
   },
   "outputs": [],
   "source": [
    "async Task<string> process_competion(string prompt, int max_tokens=500, float temperature=0.3f)\n",
    "{\n",
    "    OpenAIClient client = new(new Uri(endpoint), new AzureKeyCredential(key));\n",
    "\n",
    "    var chatCompletionsOptions = new ChatCompletionsOptions()\n",
    "    {\n",
    "        DeploymentName = model, //This must match the custom deployment name you chose for your model\n",
    "        Messages =\n",
    "        {\n",
    "            new ChatRequestAssistantMessage(prompt),\n",
    "        },\n",
    "        MaxTokens = max_tokens,\n",
    "        Temperature = temperature\n",
    "    };\n",
    "\n",
    "    Response<ChatCompletions> response = await client.GetChatCompletionsAsync(chatCompletionsOptions);\n",
    "\n",
    "    return response.Value.Choices[0].Message.Content;\n",
    "}"
   ]
  },
  {
   "cell_type": "markdown",
   "metadata": {},
   "source": [
    "### Render an Scriban template"
   ]
  },
  {
   "cell_type": "code",
   "execution_count": 7,
   "metadata": {
    "dotnet_interactive": {
     "language": "csharp"
    },
    "polyglot_notebook": {
     "kernelName": "csharp"
    },
    "vscode": {
     "languageId": "polyglot-notebook"
    }
   },
   "outputs": [],
   "source": [
    "string render_tempate(string template, dynamic data) {\n",
    "    var templateObject = Template.Parse(template);\n",
    "    return templateObject.Render(data);\n",
    "}"
   ]
  },
  {
   "cell_type": "code",
   "execution_count": 12,
   "metadata": {
    "dotnet_interactive": {
     "language": "csharp"
    },
    "polyglot_notebook": {
     "kernelName": "csharp"
    },
    "vscode": {
     "languageId": "polyglot-notebook"
    }
   },
   "outputs": [
    {
     "name": "stdout",
     "output_type": "stream",
     "text": [
      "System:\n",
      "You are an agent that can help generate FAQ documents.\n",
      "Today's date is 2024-03-07 11:35:28.\n",
      "\n",
      "User:\n",
      "For the following text, generate a detailed FAQ document titled 'Contoso Company Benefits FAQ'. \n",
      "\n",
      "Text: ===\n",
      "test\n",
      "===\n",
      "\n",
      "Sample Output format: ===\n",
      "Title: // title\n",
      "Date: // Current date\n",
      "\n",
      "Q: What is 401k?\n",
      "A:  A: A 401k plan is a retirement savings plan that allows you to contribute a portion of your pre-tax income to a designated account.\n",
      "===\n",
      "\n",
      "Use only the provided text. Do not use any external sources.\n"
     ]
    }
   ],
   "source": [
    "//# Create a semantic kernel inline function\n",
    "var faq_template = @\"System:\n",
    "You are an agent that can help generate FAQ documents.\n",
    "Today's date is {{date}}.\n",
    "\n",
    "User:\n",
    "For the following text, generate a detailed FAQ document titled 'Contoso Company Benefits FAQ'. \n",
    "\n",
    "Text: ===\n",
    "{{input}}\n",
    "===\n",
    "\n",
    "Sample Output format: ===\n",
    "Title: // title\n",
    "Date: // Current date\n",
    "\n",
    "Q: What is 401k?\n",
    "A:  A: A 401k plan is a retirement savings plan that allows you to contribute a portion of your pre-tax income to a designated account.\n",
    "===\n",
    "\n",
    "Use only the provided text. Do not use any external sources.\";\n",
    "\n",
    "var input = \"test\";\n",
    "var datestr = DateTime.Now.ToString(\"yyyy-MM-dd HH:mm:ss\");\n",
    "var prompt = render_tempate(faq_template, new {input=input, date=datestr});\n",
    "Console.WriteLine(prompt);"
   ]
  },
  {
   "cell_type": "markdown",
   "metadata": {},
   "source": [
    "### Proces Prompt and Completion"
   ]
  },
  {
   "cell_type": "code",
   "execution_count": 11,
   "metadata": {
    "dotnet_interactive": {
     "language": "csharp"
    },
    "polyglot_notebook": {
     "kernelName": "csharp"
    },
    "vscode": {
     "languageId": "polyglot-notebook"
    }
   },
   "outputs": [
    {
     "name": "stdout",
     "output_type": "stream",
     "text": [
      "Introducing the stunning 2019 Ford Explorer XLT in a vibrant red color, now available for just $25,000! With only 32,000 miles on the odometer, this well-maintained vehicle is in excellent condition and ready to take you on your next adventure. The Explorer XLT offers a spacious and comfortable interior, advanced safety features, and powerful performance, making it the perfect choice for families or anyone in need of a reliable and stylish SUV. Don't miss out on this incredible deal - come test drive the 2019 Ford Explorer XLT today!\n"
     ]
    }
   ],
   "source": [
    "// Create a semantic kernel inline function\n",
    "var sales_desc_generation_template = \"Create a one paragraph sales description that includes the price for a {{input}}\";\n",
    "var prompt = render_tempate(sales_desc_generation_template, new {input = description});\n",
    "\n",
    "\n",
    "// Execute the SK function\n",
    "Console.WriteLine(await process_competion(prompt, 200));"
   ]
  }
 ],
 "metadata": {
  "kernelspec": {
   "display_name": ".venv",
   "language": "python",
   "name": "python3"
  },
  "language_info": {
   "codemirror_mode": {
    "name": "ipython",
    "version": 3
   },
   "file_extension": ".py",
   "mimetype": "text/x-python",
   "name": "python",
   "nbconvert_exporter": "python",
   "pygments_lexer": "ipython3",
   "version": "3.10.12"
  },
  "orig_nbformat": 4
 },
 "nbformat": 4,
 "nbformat_minor": 2
}
