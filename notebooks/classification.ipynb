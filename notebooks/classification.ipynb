{
 "cells": [
  {
   "cell_type": "code",
   "execution_count": 2,
   "metadata": {},
   "outputs": [],
   "source": [
    "import common\n",
    "\n",
    "# Get a configured kernel\n",
    "kernel = common.get_kernel()"
   ]
  },
  {
   "cell_type": "code",
   "execution_count": 3,
   "metadata": {},
   "outputs": [
    {
     "name": "stdout",
     "output_type": "stream",
     "text": [
      "Mammals:\n",
      "- Dog\n",
      "- Cat\n",
      "- Elephant\n",
      "- Dolphin\n",
      "- Whale\n",
      "\n",
      "Fish:\n",
      "- Shark\n",
      "\n",
      "Reptiles:\n",
      "- Snake\n"
     ]
    }
   ],
   "source": [
    "prompt_template = \"\"\"For the following list of animals:\n",
    "\n",
    "- Dog\n",
    "- Cat\n",
    "- Elephant\n",
    "- Dolphin\n",
    "- Shark\n",
    "- Whale\n",
    "- Snake\n",
    "\n",
    "Can you classify and list by animal type?\n",
    "\"\"\"\n",
    "\n",
    "classification_func = kernel.create_semantic_function(prompt_template, \n",
    "                            max_tokens=common.get_max_tokens('short'), \n",
    "                            temperature=0.3)\n",
    "\n",
    "print(classification_func())"
   ]
  }
 ],
 "metadata": {
  "kernelspec": {
   "display_name": ".venv",
   "language": "python",
   "name": "python3"
  },
  "language_info": {
   "codemirror_mode": {
    "name": "ipython",
    "version": 3
   },
   "file_extension": ".py",
   "mimetype": "text/x-python",
   "name": "python",
   "nbconvert_exporter": "python",
   "pygments_lexer": "ipython3",
   "version": "3.10.12"
  },
  "orig_nbformat": 4
 },
 "nbformat": 4,
 "nbformat_minor": 2
}
