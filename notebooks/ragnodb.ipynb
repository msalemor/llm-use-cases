{
 "cells": [
  {
   "cell_type": "code",
   "execution_count": null,
   "metadata": {},
   "outputs": [],
   "source": [
    "import common\n",
    "\n",
    "# Get a configured model\n",
    "client = common.get_openai_client()"
   ]
  },
  {
   "cell_type": "code",
   "execution_count": null,
   "metadata": {},
   "outputs": [],
   "source": [
    "prompt_template = \"\"\"Using only the best answers, answer the following question: \"\n",
    "{{input}}\n",
    "\n",
    "\n",
    "Text: ###\n",
    "1. CRISPR (Clustered Regularly Interspaced Short Palindromic Repeats) is a revolutionary gene-editing tool that allows precise modification of an organism's DNA. It can be used to correct genetic defects, create genetically modified organisms, study gene functions, and potentially treat various diseases by editing the DNA sequence.\n",
    "\n",
    "2. Blockchain is a decentralized, distributed ledger technology. It ensures security through cryptographic techniques and consensus protocols. Each block in the chain contains a cryptographic hash of the previous block, making it tamper-evident. Transactions are validated by multiple participants (nodes) in the network, enhancing security and preventing unauthorized changes.\n",
    "\n",
    "3. Quantum computing leverages the principles of quantum mechanics to perform computations using quantum bits (qubits), which can exist in multiple states simultaneously, unlike classical bits that are either 0 or 1. This ability for qubits to exist in superposition allows quantum computers to solve certain complex problems much faster than classical computers.\n",
    "\n",
    "4. Machine learning is a subset of artificial intelligence where systems learn from data and improve their performance over time without being explicitly programmed. Its applications range from recommendation systems in online platforms, fraud detection in financial transactions, autonomous vehicles, natural language processing, to medical diagnostics and image recognition.\n",
    "\n",
    "5. Self-driving cars use a combination of sensors such as cameras, lidar, radar, and GPS to perceive the environment. These sensors collect data, which is processed by sophisticated algorithms to create a real-time map of the car's surroundings. Decision-making algorithms then analyze this data to make decisions about steering, acceleration, and braking, allowing the vehicle to navigate and operate autonomously.\n",
    "\n",
    "6. NFTs are a specialized application of blockchain technology, utilizing its security and decentralization to authenticate and establish ownership of digital assets that are unique and non-interchangeable.\n",
    "\n",
    "###\n",
    "\n",
    "Output format: ###\n",
    "Question: ''\n",
    "Answer: ''\n",
    "###\n",
    "\n",
    "\n",
    "Use only the provided text. Provide the original question and the answer. If the question cannot be answered from the text, answer \"I don't know.\"\"\"\n",
    "\n",
    "print(common.Call_OpenAI(client,common.gpt_api_deployment,common.render_template(prompt_template,input=\"What is CRISPR?\")))\n",
    "print(common.Call_OpenAI(client,common.gpt_api_deployment,common.render_template(prompt_template,input=\"What is an NFT?\")))\n",
    "print(common.Call_OpenAI(client,common.gpt_api_deployment,common.render_template(prompt_template,input=\"What is the speed of light?\")))\n"
   ]
  }
 ],
 "metadata": {
  "kernelspec": {
   "display_name": ".venv",
   "language": "python",
   "name": "python3"
  },
  "language_info": {
   "codemirror_mode": {
    "name": "ipython",
    "version": 3
   },
   "file_extension": ".py",
   "mimetype": "text/x-python",
   "name": "python",
   "nbconvert_exporter": "python",
   "pygments_lexer": "ipython3",
   "version": "3.10.12"
  },
  "orig_nbformat": 4
 },
 "nbformat": 4,
 "nbformat_minor": 2
}
