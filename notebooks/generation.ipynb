{
 "cells": [
  {
   "cell_type": "code",
   "execution_count": null,
   "metadata": {},
   "outputs": [],
   "source": [
    "import common\n",
    "\n",
    "# Get a configured kernel\n",
    "kernel = common.get_kernel()"
   ]
  },
  {
   "cell_type": "code",
   "execution_count": null,
   "metadata": {},
   "outputs": [],
   "source": [
    "def mock_get_car() -> dict:\n",
    "    return {\n",
    "        \"make\": \"Ford\",\n",
    "        \"model\": \"Explorer\",\n",
    "        \"base\": \"XLT\",\n",
    "        \"color\": \"red\",\n",
    "        \"year\": 2019,\n",
    "        \"condition\": \"good\",\n",
    "        \"mileage\": 32000,\t\n",
    "        \"price\": 25000\n",
    "    }\n",
    "\n",
    "def get_car_description(car: dict) -> str:\n",
    "    return f'{car[\"year\"]} {car[\"make\"]} {car[\"model\"]} {car[\"base\"]} {car[\"color\"]} with {car[\"mileage\"]} miles in {car[\"condition\"]} condition for ${car[\"price\"]}.'\n",
    "\n",
    "car = mock_get_car()\n",
    "car_description = get_car_description(car)\n",
    "\n",
    "# Create a semantic kernel inline function\n",
    "gen_template = \"Create a one paragraph sales description that includes the price for a {{$input}}\"\n",
    "gen_func = kernel.create_semantic_function(gen_template, \n",
    "                                           max_tokens=common.get_max_tokens(gen_template+car_description,'medium'), \n",
    "                                           temperature=0.3)\n",
    "\n",
    "# Execute the SK function\n",
    "print(gen_func(car_description))"
   ]
  }
 ],
 "metadata": {
  "kernelspec": {
   "display_name": ".venv",
   "language": "python",
   "name": "python3"
  },
  "language_info": {
   "codemirror_mode": {
    "name": "ipython",
    "version": 3
   },
   "file_extension": ".py",
   "mimetype": "text/x-python",
   "name": "python",
   "nbconvert_exporter": "python",
   "pygments_lexer": "ipython3",
   "version": "3.10.12"
  },
  "orig_nbformat": 4
 },
 "nbformat": 4,
 "nbformat_minor": 2
}
