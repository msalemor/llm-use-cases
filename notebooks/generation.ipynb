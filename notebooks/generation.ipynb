{
 "cells": [
  {
   "cell_type": "code",
   "execution_count": null,
   "metadata": {},
   "outputs": [],
   "source": [
    "import common\n",
    "\n",
    "# Get a configured model\n",
    "client = common.get_openai_client(api_key=common.api_KEY,\n",
    "        api_version=common.api_version,\n",
    "        azure_endpoint=common.api_URI)"
   ]
  },
  {
   "cell_type": "code",
   "execution_count": null,
   "metadata": {},
   "outputs": [],
   "source": [
    "def mock_get_car() -> dict:\n",
    "    return {\n",
    "        \"make\": \"Ford\",\n",
    "        \"model\": \"Explorer\",\n",
    "        \"base\": \"XLT\",\n",
    "        \"color\": \"red\",\n",
    "        \"year\": 2019,\n",
    "        \"condition\": \"good\",\n",
    "        \"mileage\": 32000,\t\n",
    "        \"price\": 25000\n",
    "    }\n",
    "\n",
    "def get_car_description(car: dict) -> str:\n",
    "    return f'{car[\"year\"]} {car[\"make\"]} {car[\"model\"]} {car[\"base\"]} {car[\"color\"]} with {car[\"mileage\"]} miles in {car[\"condition\"]} condition for ${car[\"price\"]}.'\n",
    "\n",
    "car = mock_get_car()\n",
    "car_description = get_car_description(car)\n",
    "\n",
    "# Create a semantic kernel inline function\n",
    "sales_desc_generation_template = \"Create a one paragraph sales description that includes the price for a {{input}}\"\n",
    "template = common.render_template(sales_desc_generation_template, input=car_description)\n",
    "\n",
    "# Execute the SK function\n",
    "print(common.Call_OpenAI(client,common.gpt_api_deployment,template,max_tokens=500))"
   ]
  }
 ],
 "metadata": {
  "kernelspec": {
   "display_name": ".venv",
   "language": "python",
   "name": "python3"
  },
  "language_info": {
   "codemirror_mode": {
    "name": "ipython",
    "version": 3
   },
   "file_extension": ".py",
   "mimetype": "text/x-python",
   "name": "python",
   "nbconvert_exporter": "python",
   "pygments_lexer": "ipython3",
   "version": "3.10.12"
  },
  "orig_nbformat": 4
 },
 "nbformat": 4,
 "nbformat_minor": 2
}
