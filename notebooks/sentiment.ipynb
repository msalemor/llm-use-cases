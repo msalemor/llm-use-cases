{
 "cells": [
  {
   "cell_type": "code",
   "execution_count": null,
   "metadata": {},
   "outputs": [],
   "source": [
    "import common\n",
    "\n",
    "# Get a configured model\n",
    "client = common.get_openai_client(api_key=common.api_KEY,\n",
    "        api_version=common.api_version,\n",
    "        azure_endpoint=common.api_URI)"
   ]
  },
  {
   "cell_type": "code",
   "execution_count": null,
   "metadata": {},
   "outputs": [],
   "source": [
    "import json\n",
    "\n",
    "reviews = [\n",
    "    \"\"\"Mark S.: \\\"This smartphone has exceeded my expectations in every way. The camera quality is exceptional, capturing vivid details and colors. The battery life is impressive, easily lasting a full day with heavy usage. The sleek design and intuitive interface make it a pleasure to use. I'm a satisfied customer and would recommend it to anyone!\\\"\"\"\",\n",
    "    \"\"\"Maya L.: \\\"I've been using this phone for a few weeks now, and it's a game-changer. The processing speed is fantastic, and I've experienced no lag even with multiple apps running. The display is vibrant, making videos and games look stunning. The fingerprint sensor is quick and accurate. Overall, a solid choice for anyone looking for a reliable and feature-packed smartphone.\\\"\"\"\",\n",
    "    \"\"\"David W.: \\\"What sets this smartphone apart is its seamless integration with other devices. The ecosystem it creates is truly impressive, making my daily tasks more efficient. The build quality is robust, and the phone feels great in hand. The software updates have been regular, showing a commitment to keeping the device up to date. I'm very happy with my purchase.\\\"\"\"\",\n",
    "    \"\"\"Jennifer P.: \\\"The smartphone is decent overall. The camera takes good photos, and the battery life is acceptable. However, I expected a bit more from the performance – there's a slight lag at times, especially when running resource-intensive apps. The design is standard, nothing particularly eye-catching. It's a reliable phone, but not a standout in the market.\\\"\"\"\",\n",
    "    \"\"\"Ryan M.: \\\"This smartphone is a complete disappointment. The camera quality is subpar, producing grainy and washed-out photos. The battery drains rapidly, and even with minimal usage, it struggles to last half a day. The software is buggy, with frequent crashes and unresponsive touch screen. Save yourself the trouble and look elsewhere. This phone is not worth the money.\\\"\"\"\",    \n",
    "]\n",
    "\n",
    "# Create a semantic kernel inline function\n",
    "sentiment_template = \"\"\"From 1-10, 10 being a an excellent sentiment. What is the sentiment for: {{input}}?\n",
    "\n",
    "Output format: {\\\"sentiment\\\": 5}\n",
    "\n",
    "Output in JSON format only.\"\"\"\n",
    "\n",
    "# Execute the SK function\n",
    "total_score = 0\n",
    "for review in reviews:\n",
    "    template = common.render_template(sentiment_template, input=review)\n",
    "    data = common.Call_OpenAI(client,common.gpt_api_deployment,template)\n",
    "    score = json.loads(data)['sentiment']\n",
    "    print(f'Review: {review[0:60]}, Score: {score}')\n",
    "    total_score += score\n",
    "\n",
    "print(\"Average sentiment score: {}\".format(total_score/len(reviews)))"
   ]
  }
 ],
 "metadata": {
  "kernelspec": {
   "display_name": ".venv",
   "language": "python",
   "name": "python3"
  },
  "language_info": {
   "codemirror_mode": {
    "name": "ipython",
    "version": 3
   },
   "file_extension": ".py",
   "mimetype": "text/x-python",
   "name": "python",
   "nbconvert_exporter": "python",
   "pygments_lexer": "ipython3",
   "version": "3.10.12"
  },
  "orig_nbformat": 4
 },
 "nbformat": 4,
 "nbformat_minor": 2
}
