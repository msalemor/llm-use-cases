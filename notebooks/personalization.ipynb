{
 "cells": [
  {
   "cell_type": "code",
   "execution_count": 5,
   "metadata": {},
   "outputs": [
    {
     "name": "stdout",
     "output_type": "stream",
     "text": [
      "Looking for a reliable and stylish SUV that can handle all of life's adventures? Look no further than this 2019 Ford Explorer XLT in a stunning red color with only 32000 miles on the odometer. This vehicle is in excellent condition, and has been well-maintained by its previous owner. Equipped with all the latest features and technology, you'll enjoy a comfortable and convenient ride every time you get behind the wheel. With an affordable price of just $25000, this Ford Explorer XLT is a fantastic value for anyone in the market for a high-quality used SUV. Don't miss out on this opportunity to own a top-of-the-line vehicle at an unbeatable price!\n"
     ]
    }
   ],
   "source": [
    "import os\n",
    "import openai\n",
    "from dotenv import load_dotenv\n",
    "\n",
    "load_dotenv()\n",
    "\n",
    "openai.api_type = \"azure\"\n",
    "# This comes from keys in the Azure Portal for OpenAI\n",
    "openai.api_base = os.getenv(\"OPENAI_URI\")\n",
    "# This comes from keys in the Azure Portal for OpenAI\n",
    "openai.api_key = os.getenv(\"OPENAI_KEY\")\n",
    "# This is the name in the Azure portal for OpenAI given to the ChatGPT3.5 model\n",
    "openai.api_version = \"2023-03-15-preview\"\n",
    "engine = \"gpt\"\n",
    "assistant_role = \"You are an assistant that creates car sales descriptions for used cars.\"\n",
    "\n",
    "languageCodes = {\n",
    "    \"en\": \"English\",\n",
    "    \"es\": \"Spanish\",\n",
    "}\n",
    "\n",
    "def mock_get_car() -> dict:\n",
    "    return {\n",
    "        \"make\": \"Ford\",\n",
    "        \"model\": \"Explorer\",\n",
    "        \"base\": \"XLT\",\n",
    "        \"color\": \"red\",\n",
    "        \"year\": 2019,\n",
    "        \"condition\": \"good\",\n",
    "        \"mileage\": 32000,\t\n",
    "        \"price\": 25000\n",
    "    }\n",
    "\n",
    "def get_car_description(car: dict) -> str:\n",
    "    return f'{car[\"year\"]} {car[\"make\"]} {car[\"model\"]} {car[\"base\"]} {car[\"color\"]} with {car[\"mileage\"]} miles in {car[\"condition\"]} condition for ${car[\"price\"]}.'\n",
    "\n",
    "car = mock_get_car()\n",
    "car_description = get_car_description(car)\n",
    "\n",
    "prompt = f'Create a one paragraph sales description that includes the price for a {car_description}'\n",
    "\n",
    "response = openai.ChatCompletion.create(\n",
    "    engine=\"gpt\",\n",
    "    messages=[{\"role\": \"system\", \"content\": assistant_role},\n",
    "              {\"role\": \"user\", \"content\": prompt}],\n",
    "    temperature=0.5,\n",
    "    max_tokens=200,\n",
    "    top_p=0.95,\n",
    "    frequency_penalty=0,\n",
    "    presence_penalty=0,\n",
    "    stop=None)\n",
    "\n",
    "completion = response.choices[0].message.content\n",
    "print(completion)"
   ]
  }
 ],
 "metadata": {
  "kernelspec": {
   "display_name": ".venv",
   "language": "python",
   "name": "python3"
  },
  "language_info": {
   "codemirror_mode": {
    "name": "ipython",
    "version": 3
   },
   "file_extension": ".py",
   "mimetype": "text/x-python",
   "name": "python",
   "nbconvert_exporter": "python",
   "pygments_lexer": "ipython3",
   "version": "3.10.6"
  },
  "orig_nbformat": 4
 },
 "nbformat": 4,
 "nbformat_minor": 2
}
