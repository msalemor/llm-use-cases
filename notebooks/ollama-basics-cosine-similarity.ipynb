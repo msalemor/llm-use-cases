{
 "cells": [
  {
   "cell_type": "markdown",
   "metadata": {},
   "source": [
    "# Ollama embedding similarity\n",
    "\n",
    "## Imports"
   ]
  },
  {
   "cell_type": "code",
   "execution_count": null,
   "metadata": {},
   "outputs": [],
   "source": [
    "import requests\n",
    "import ollama"
   ]
  },
  {
   "cell_type": "markdown",
   "metadata": {},
   "source": [
    "## Models \n",
    "\n",
    "- Phi3: context window 8k\n",
    "- nomic: 8k context 768 dimensions"
   ]
  },
  {
   "cell_type": "code",
   "execution_count": null,
   "metadata": {},
   "outputs": [],
   "source": [
    "def embed(prompt:str, model='nomic-embed-text'):\n",
    "    vector = ollama.embeddings(model=model, prompt=prompt)['embedding']\n",
    "    #print(len(vector))\n",
    "    return vector\n",
    "\n",
    "def completion(prompt:str, model='phi3'):\n",
    "    response = ollama.chat(model=model, messages=[\n",
    "    {\n",
    "        'role': 'user',\n",
    "        'content': prompt,\n",
    "    },\n",
    "    ])\n",
    "    print(response['message']['content'])\n",
    "\n",
    "def rest_embed(prompt:str, model='nomic-embed-text',endpoint='http://localhost:11434/api/embeddings'):\n",
    "    payload = {\n",
    "        \"model\": model,\n",
    "        \"prompt\": prompt\n",
    "    }\n",
    "    req = requests.post(endpoint, json=payload)\n",
    "    req.raise_for_status()\n",
    "    vector = req.json()['embedding']\n",
    "    #print(len(vector))\n",
    "    return vector\n",
    "\n",
    "def rest_completion(prompt:str, model='phi3',endpoint='http://localhost:11434/api/chat'):\n",
    "    payload = {\n",
    "        \"model\": model,\n",
    "        \"messages\": [\n",
    "            {\n",
    "                'role': 'user',\n",
    "                'content': prompt,\n",
    "            }\n",
    "        ],\n",
    "        \"stream\": False\n",
    "    }\n",
    "    req = requests.post(endpoint, json=payload)\n",
    "    req.raise_for_status()\n",
    "    return req.json()['message']['content']"
   ]
  },
  {
   "cell_type": "code",
   "execution_count": null,
   "metadata": {},
   "outputs": [],
   "source": [
    "food = [\n",
    "    \"Tacos al pastor\",\n",
    "    \"Pizza Margherita\",\n",
    "    \"Picanha na brasa\",\n",
    "    \"Fettuccine alla carbonara\",\n",
    "    \"Mole de pollo\",\n",
    "    \"Asado de tira\",\n",
    "    \"Tiramisu\",\n",
    "    \"Brigadeiro\",\n",
    "    \"Arroz con leche\"\n",
    "]\n",
    "\n",
    "characters = [\n",
    "    \"Harry Potter\",\n",
    "    \"Ron Weasley\",\n",
    "    \"Hermione Granger\",\n",
    "    \"Albus Dumbledore\",\n",
    "    \"Frodo Baggins\",\n",
    "    \"Gandalf\",\n",
    "    \"Aragorn\",\n",
    "    \"Legolas\",\n",
    "]\n",
    "\n",
    "history = [\n",
    "    \"\"\"Guatemala's history is rich and complex, marked by the remarkable achievements of the Maya civilization and the dramatic changes following Spanish conquest. The Maya, known for their monumental architecture, advanced mathematics, and astronomical systems, thrived in the region for thousands of years before the arrival of the Spanish in the 16th century. After nearly three centuries under Spanish rule, Guatemala gained independence in 1821, followed by periods of political turmoil, including a 36-year civil war. Today, Guatemala is a republic that continues to navigate the challenges of its historical legacy.\"\"\",    \n",
    "    \"\"\"The history of the United States is a rich tapestry that spans thousands of years, beginning with the arrival of the first people in the Americas around 15,000 BC. These indigenous cultures underwent significant transformations, particularly with the arrival of Europeans in the 16th century. The subsequent period saw the struggle for independence, the formation of a new nation, and the expansion across the continent. Key events such as the Civil War, the Industrial Revolution, and participation in global conflicts have shaped the modern era of the United States, reflecting a history of resilience and change.\"\"\"\n",
    "]\n",
    "\n",
    "vectordb = []\n",
    "for f in history:\n",
    "    v = {\"chunk\":f, \"vector\":embed(f)}\n",
    "    print(v)\n",
    "    vectordb.append(v)"
   ]
  },
  {
   "cell_type": "code",
   "execution_count": null,
   "metadata": {},
   "outputs": [],
   "source": [
    "def dot_product(v1, v2):\n",
    "    return sum(map(lambda x: x[0] * x[1], zip(v1, v2)))\n",
    "\n",
    "def magnitude(vector):\n",
    "    return sum(map(lambda x: x**2, vector)) ** 0.5\n",
    "\n",
    "def cosine_similarity(v1, v2):\n",
    "    return dot_product(v1, v2) / (magnitude(v1) * magnitude(v2))"
   ]
  },
  {
   "cell_type": "code",
   "execution_count": null,
   "metadata": {},
   "outputs": [],
   "source": [
    "v1 = embed(\"Was there slavery in the united states?\")\n",
    "for v in vectordb:\n",
    "    v2 = v['vector']\n",
    "    print(v['chunk'][:10], cosine_similarity(v1, v2))\n"
   ]
  }
 ],
 "metadata": {
  "kernelspec": {
   "display_name": ".venv",
   "language": "python",
   "name": "python3"
  },
  "language_info": {
   "codemirror_mode": {
    "name": "ipython",
    "version": 3
   },
   "file_extension": ".py",
   "mimetype": "text/x-python",
   "name": "python",
   "nbconvert_exporter": "python",
   "pygments_lexer": "ipython3",
   "version": "3.11.9"
  },
  "orig_nbformat": 4
 },
 "nbformat": 4,
 "nbformat_minor": 2
}
