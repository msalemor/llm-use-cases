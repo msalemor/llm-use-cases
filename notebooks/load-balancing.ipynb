{
 "cells": [
  {
   "cell_type": "code",
   "execution_count": 12,
   "metadata": {},
   "outputs": [
    {
     "name": "stdout",
     "output_type": "stream",
     "text": [
      "The speed of light is approximately 299,792,458 meters per second (or about 186,282 miles per second).\n"
     ]
    }
   ],
   "source": [
    "import common\n",
    "from openai import AzureOpenAI\n",
    "\n",
    "# Get a configured model\n",
    "client = AzureOpenAI(\n",
    "        api_key=common.api_KEY,\n",
    "        api_version=\"2023-12-01-preview\",\n",
    "        azure_endpoint=common.api_URI)\n",
    "\n",
    "endpoints = [\n",
    "    (common.api_URI,common.api_KEY,1),\n",
    "    (common.api_URI,common.api_KEY,2)\n",
    "]\n",
    "\n",
    "response = client.chat.completions.create(\n",
    "        model=common.gpt_api_deployment,\n",
    "        messages=[\n",
    "            {\"role\": \"assistant\", \"content\": \"What is the speed of light?\"},\n",
    "        ],\n",
    "        max_tokens=100,\n",
    "        temperature=0.3\n",
    "    )\n",
    "\n",
    "print(response.choices[0].message.content)\n"
   ]
  }
 ],
 "metadata": {
  "kernelspec": {
   "display_name": ".venv",
   "language": "python",
   "name": "python3"
  },
  "language_info": {
   "codemirror_mode": {
    "name": "ipython",
    "version": 3
   },
   "file_extension": ".py",
   "mimetype": "text/x-python",
   "name": "python",
   "nbconvert_exporter": "python",
   "pygments_lexer": "ipython3",
   "version": "3.10.12"
  },
  "orig_nbformat": 4
 },
 "nbformat": 4,
 "nbformat_minor": 2
}
