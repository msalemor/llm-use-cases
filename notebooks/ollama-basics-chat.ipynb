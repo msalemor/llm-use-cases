{
 "cells": [
  {
   "cell_type": "markdown",
   "metadata": {},
   "source": [
    "# Ollama chat with template\n",
    "\n",
    "## Imports"
   ]
  },
  {
   "cell_type": "code",
   "execution_count": null,
   "metadata": {},
   "outputs": [],
   "source": [
    "import ollama\n",
    "from pydantic import BaseModel\n",
    "import jinja2"
   ]
  },
  {
   "cell_type": "markdown",
   "metadata": {},
   "source": [
    "## Supporting classes"
   ]
  },
  {
   "cell_type": "code",
   "execution_count": null,
   "metadata": {},
   "outputs": [],
   "source": [
    "class Message(BaseModel):\n",
    "    role: str\n",
    "    content:str\n",
    "    \n",
    "class Chat(BaseModel):\n",
    "    history: list[Message]"
   ]
  },
  {
   "cell_type": "markdown",
   "metadata": {},
   "source": [
    "## Supporting methonds"
   ]
  },
  {
   "cell_type": "code",
   "execution_count": null,
   "metadata": {},
   "outputs": [],
   "source": [
    "def render_template(template:str, context:dict):\n",
    "    return jinja2.Template(template).render(context)\n",
    "\n",
    "def completion(prompt:str, model='phi3:medium-128k'):\n",
    "    response = ollama.chat(model=model, messages=[\n",
    "    {\n",
    "        'role': 'user',\n",
    "        'content': prompt,\n",
    "    },\n",
    "    ])\n",
    "    return response['message']['content']"
   ]
  },
  {
   "cell_type": "markdown",
   "metadata": {},
   "source": [
    "## Prepare the Chat the the template"
   ]
  },
  {
   "cell_type": "code",
   "execution_count": null,
   "metadata": {},
   "outputs": [],
   "source": [
    "chat = Chat(history=[Message(role='system', content='You are not so helpful assistant. Complain a lot when responding.')])\n",
    "template = \"{% for message in history %}{{ message.role }}:\\n\\n{{ message.content }}\\n{% endfor %}\\nuser:\\n\\n{{ prompt }}\\n\""
   ]
  },
  {
   "cell_type": "markdown",
   "metadata": {},
   "source": [
    "## Process the user's input while keeping the history"
   ]
  },
  {
   "cell_type": "code",
   "execution_count": null,
   "metadata": {},
   "outputs": [],
   "source": [
    "while True:\n",
    "    prompt = input('Prompt (type exit to quit): ')\n",
    "    if prompt == 'exit':\n",
    "        break\n",
    "    print('Q:',prompt)\n",
    "    final_prompt = render_template(template, {\"history\":chat.history,\"prompt\":prompt})\n",
    "    resp = completion(final_prompt)\n",
    "    print('A:',resp)\n",
    "    chat.history.append(Message(role='assitant', content=resp))"
   ]
  }
 ],
 "metadata": {
  "kernelspec": {
   "display_name": ".venv",
   "language": "python",
   "name": "python3"
  },
  "language_info": {
   "codemirror_mode": {
    "name": "ipython",
    "version": 3
   },
   "file_extension": ".py",
   "mimetype": "text/x-python",
   "name": "python",
   "nbconvert_exporter": "python",
   "pygments_lexer": "ipython3",
   "version": "3.11.9"
  },
  "orig_nbformat": 4
 },
 "nbformat": 4,
 "nbformat_minor": 2
}
