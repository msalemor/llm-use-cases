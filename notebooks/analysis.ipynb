{
 "cells": [
  {
   "cell_type": "code",
   "execution_count": 3,
   "metadata": {},
   "outputs": [],
   "source": [
    "import common\n",
    "\n",
    "# Get a configured model\n",
    "client = common.get_openai_client(api_key=common.api_KEY,\n",
    "        api_version=common.api_version,\n",
    "        azure_endpoint=common.api_URI)"
   ]
  },
  {
   "cell_type": "code",
   "execution_count": 4,
   "metadata": {},
   "outputs": [],
   "source": [
    "def mock_get_contract(id: str) -> str:\n",
    "    if id == \"LEASE_AGREEMENT\":\n",
    "        return '''RESIDENTIAL LEASE AGREEMENT\n",
    "RENT. The Tenant shall pay to Landlord the sum of $1,500 per month (hereinafter referred to as \"Rent\") for the duration of the Term of the Lease. The Rent shall be payable on or before every day of the month (hereinafter referred to as the \"Due Date\"), notwithstanding that the said date falls on a weekend or holiday.\n",
    "A. Late Rent. If Rent is not paid within days of the Due Date, the Rent shall be considered past due, and a late fee of a $50 or 5% of the Rent past due shall be applied for every day Rent is late or O occurrence Rent is late.\n",
    "B. Returned Checks. In the event that a check intended as payment for Rent is dishonored for whatever reason, the same shall be considered as Late Rent with the late fee being payable on the same.'''\n",
    "    return \"\""
   ]
  },
  {
   "cell_type": "code",
   "execution_count": 7,
   "metadata": {},
   "outputs": [],
   "source": [
    "# get a contract\n",
    "contract = mock_get_contract(\"LEASE_AGREEMENT\")\n",
    "\n",
    "# Create a semantic kernel inline function\n",
    "analysis_template = \"\"\"System:\n",
    "You are an agent that can help summarize and analyze contracts for risk. Be professional and courteous.\n",
    "\n",
    "User:\n",
    "For the following text, summarize and list risks. \\n{{input}}\n",
    "\n",
    "Output format:\n",
    "Summary: \n",
    "\"\"\n",
    "\n",
    "Risks: \n",
    "-||-\n",
    "\n",
    "\"\"\""
   ]
  },
  {
   "cell_type": "code",
   "execution_count": 8,
   "metadata": {},
   "outputs": [
    {
     "name": "stdout",
     "output_type": "stream",
     "text": [
      "Summary: The residential lease agreement states that the tenant must pay $1,500 per month on or before the Due Date, with a late fee of $50 or 5% of the Rent past due if payment is not received within days of the Due Date. If a check intended for payment is dishonored, it will also be considered as Late Rent with the late fee being payable on the same.\n",
      "\n",
      "Risks:\n",
      "1. Late payment of rent may result in a late fee being applied, which could increase the cost of the lease for the tenant.\n",
      "2. Dishonored checks may also result in a late fee being applied, which could increase the cost of the lease for the tenant.\n"
     ]
    }
   ],
   "source": [
    "# Execute the function\n",
    "template = common.render_template(analysis_template, input=contract)\n",
    "print(common.Call_OpenAI(client,common.gpt_api_deployment,template,max_tokens=300))"
   ]
  }
 ],
 "metadata": {
  "kernelspec": {
   "display_name": ".venv",
   "language": "python",
   "name": "python3"
  },
  "language_info": {
   "codemirror_mode": {
    "name": "ipython",
    "version": 3
   },
   "file_extension": ".py",
   "mimetype": "text/x-python",
   "name": "python",
   "nbconvert_exporter": "python",
   "pygments_lexer": "ipython3",
   "version": "3.10.12"
  },
  "orig_nbformat": 4
 },
 "nbformat": 4,
 "nbformat_minor": 2
}
