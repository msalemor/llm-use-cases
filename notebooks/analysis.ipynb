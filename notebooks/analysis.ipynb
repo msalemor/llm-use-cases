{
 "cells": [
  {
   "cell_type": "code",
   "execution_count": 13,
   "metadata": {},
   "outputs": [],
   "source": [
    "import common\n",
    "\n",
    "# Get a configured kernel\n",
    "kernel = common.get_kernel()"
   ]
  },
  {
   "cell_type": "code",
   "execution_count": 14,
   "metadata": {},
   "outputs": [
    {
     "name": "stdout",
     "output_type": "stream",
     "text": [
      "The residential lease agreement states that the tenant must pay $1,500 per month for the duration of the lease, with rent due on or before the due date. If rent is not paid within days of the due date, a late fee of $50 or 5% of the rent past due will be applied. If a check intended as payment is dishonored, it will also be considered as late rent with the late fee payable. The risks include potential late fees and additional charges for dishonored checks.\n"
     ]
    }
   ],
   "source": [
    "def mock_get_contract(id: str) -> str:\n",
    "    if id == \"LEASE_AGREEMENT\":\n",
    "        return '''RESIDENTIAL LEASE AGREEMENT\n",
    "RENT. The Tenant shall pay to Landlord the sum of $1,500 per month (hereinafter referred to as \"Rent\") for the duration of the Term of the Lease. The Rent shall be payable on or before every day of the month (hereinafter referred to as the \"Due Date\"), notwithstanding that the said date falls on a weekend or holiday.\n",
    "A. Late Rent. If Rent is not paid within days of the Due Date, the Rent shall be considered past due, and a late fee of a $50 or 5% of the Rent past due shall be applied for every day Rent is late or O occurrence Rent is late.\n",
    "B. Returned Checks. In the event that a check intended as payment for Rent is dishonored for whatever reason, the same shall be considered as Late Rent with the late fee being payable on the same.'''\n",
    "    return \"\"\n",
    "\n",
    "# get a contract\n",
    "contract = mock_get_contract(\"LEASE_AGREEMENT\")\n",
    "\n",
    "# Create a semantic kernel inline function\n",
    "analysis_template = f'For the following text, summarize and list risks. \\n{{$input}}'\n",
    "analysis_func = kernel.create_semantic_function(analysis_template, max_tokens=common.get_max_tokens(analysis_template+contract,'medium'), temperature=0.3)\n",
    "\n",
    "# Execute the function\n",
    "print(analysis_func(contract))"
   ]
  }
 ],
 "metadata": {
  "kernelspec": {
   "display_name": ".venv",
   "language": "python",
   "name": "python3"
  },
  "language_info": {
   "codemirror_mode": {
    "name": "ipython",
    "version": 3
   },
   "file_extension": ".py",
   "mimetype": "text/x-python",
   "name": "python",
   "nbconvert_exporter": "python",
   "pygments_lexer": "ipython3",
   "version": "3.10.12"
  },
  "orig_nbformat": 4
 },
 "nbformat": 4,
 "nbformat_minor": 2
}
