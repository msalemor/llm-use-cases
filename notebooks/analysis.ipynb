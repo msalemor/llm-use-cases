{
 "cells": [
  {
   "cell_type": "code",
   "execution_count": 1,
   "metadata": {},
   "outputs": [
    {
     "name": "stdout",
     "output_type": "stream",
     "text": [
      "Summary: The residential lease agreement outlines the terms of rent payment, including the amount, due date, and consequences for late or returned payments.\n",
      "\n",
      "Risks:\n",
      "1. Late Rent: The tenant may face late fees and penalties if they do not pay rent on time.\n",
      "2. Returned Checks: If the tenant's check bounces, it will be considered late rent and they will be charged a late fee.\n",
      "3. Financial Instability: If the tenant is unable to pay rent consistently, they may face\n"
     ]
    }
   ],
   "source": [
    "import os\n",
    "import openai\n",
    "from dotenv import load_dotenv\n",
    "\n",
    "load_dotenv()\n",
    "\n",
    "openai.api_type = \"azure\"\n",
    "# This comes from keys in the Azure Portal for OpenAI\n",
    "openai.api_base = os.getenv(\"OPENAI_URI\")\n",
    "# This comes from keys in the Azure Portal for OpenAI\n",
    "openai.api_key = os.getenv(\"OPENAI_KEY\")\n",
    "# This is the name in the Azure portal for OpenAI given to the ChatGPT3.5 model\n",
    "openai.api_version = \"2023-03-15-preview\"\n",
    "engine = \"gpt\"\n",
    "assistant_role = \"You are an assistant that can summarize and help analyze risks.\"\n",
    "\n",
    "\n",
    "def mock_get_contract(id: str) -> str:\n",
    "    if id == \"LEASE_AGREEMENT\":\n",
    "        return '''RESIDENTIAL LEASE AGREEMENT\n",
    "RENT. The Tenant shall pay to Landlord the sum of $1,500 per month (hereinafter referred to as \"Rent\") for the duration of the Term of the Lease. The Rent shall be payable on or before every day of the month (hereinafter referred to as the \"Due Date\"), notwithstanding that the said date falls on a weekend or holiday.\n",
    "A. Late Rent. If Rent is not paid within days of the Due Date, the Rent shall be considered past due, and a late fee of a $50 or 5% of the Rent past due shall be applied for every day Rent is late or O occurrence Rent is late.\n",
    "B. Returned Checks. In the event that a check intended as payment for Rent is dishonored for whatever reason, the same shall be considered as Late Rent with the late fee being payable on the same.'''\n",
    "    return \"\"\n",
    "\n",
    "\n",
    "contract = mock_get_contract(\"LEASE_AGREEMENT\")\n",
    "prompt = f'Summarize and list risks.\\nText:\\n\\n{contract}'\n",
    "\n",
    "response = openai.ChatCompletion.create(\n",
    "    engine=\"gpt\",\n",
    "    messages=[{\"role\": \"system\", \"content\": assistant_role},\n",
    "              {\"role\": \"user\", \"content\": prompt}],\n",
    "    temperature=0.3,\n",
    "    max_tokens=100,\n",
    "    top_p=0.95,\n",
    "    frequency_penalty=0,\n",
    "    presence_penalty=0,\n",
    "    stop=None)\n",
    "\n",
    "completion = response.choices[0].message.content\n",
    "print(completion)"
   ]
  }
 ],
 "metadata": {
  "kernelspec": {
   "display_name": ".venv",
   "language": "python",
   "name": "python3"
  },
  "language_info": {
   "codemirror_mode": {
    "name": "ipython",
    "version": 3
   },
   "file_extension": ".py",
   "mimetype": "text/x-python",
   "name": "python",
   "nbconvert_exporter": "python",
   "pygments_lexer": "ipython3",
   "version": "3.10.6"
  },
  "orig_nbformat": 4
 },
 "nbformat": 4,
 "nbformat_minor": 2
}
