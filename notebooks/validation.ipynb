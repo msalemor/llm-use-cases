{
 "cells": [
  {
   "cell_type": "markdown",
   "metadata": {},
   "source": [
    "# Validation\n",
    "\n",
    "## Scores how similar two answers are"
   ]
  },
  {
   "cell_type": "code",
   "execution_count": 1,
   "metadata": {},
   "outputs": [],
   "source": [
    "import common\n",
    "\n",
    "# Get a configured model\n",
    "client = common.get_openai_client()"
   ]
  },
  {
   "cell_type": "code",
   "execution_count": 7,
   "metadata": {},
   "outputs": [],
   "source": [
    "template = \"\"\"Score how close of an answer the received answer is versus the expected answer on a scale from  0-10, with 10 being a complete match:\n",
    "\n",
    "Expected answer:\n",
    "<EXPECTED_ANSWER>\n",
    "\n",
    "Received answer:\n",
    "<ANSWER>\n",
    "\n",
    "Output format:\n",
    "{\n",
    "\"score\":0\n",
    "}\n",
    "\n",
    "Output in JSON format only.\"\"\""
   ]
  },
  {
   "cell_type": "code",
   "execution_count": 8,
   "metadata": {},
   "outputs": [
    {
     "data": {
      "text/plain": [
       "'Score how close of an answer the received answer is versus the expected answer on a scale from  0-10, with 10 being a complete match:\\n\\nExpected answer:\\nThe speed of light in a vacuum is approximately 299,792,458 meters per second (m/s). To convert this value to kilometers per second (km/s), we divide by 1,000 since there are 1,000 meters in a kilometer. Therefore, the speed of light in kilometers per second is approximately 299,792.458 km/s.\\n\\nReceived answer:\\nThe speed of light is 300,000 km/s.\\n\\nOutput format:\\n{\\n\"score\":0\\n}\\n\\nOutput in JSON format only.'"
      ]
     },
     "execution_count": 8,
     "metadata": {},
     "output_type": "execute_result"
    }
   ],
   "source": [
    "EXPECTED_ANSWER = \"The speed of light in a vacuum is approximately 299,792,458 meters per second (m/s). To convert this value to kilometers per second (km/s), we divide by 1,000 since there are 1,000 meters in a kilometer. Therefore, the speed of light in kilometers per second is approximately 299,792.458 km/s.\"\n",
    "ANSWER = \"The speed of light is 300,000 km/s.\"\n",
    "prompt = template.replace(\"<EXPECTED_ANSWER>\", EXPECTED_ANSWER).replace(\"<ANSWER>\", ANSWER)\n",
    "prompt"
   ]
  },
  {
   "cell_type": "code",
   "execution_count": 15,
   "metadata": {},
   "outputs": [
    {
     "name": "stdout",
     "output_type": "stream",
     "text": [
      "{\n",
      "\"score\": 7\n",
      "}\n"
     ]
    }
   ],
   "source": [
    "result = common.Call_OpenAI(client,common.gpt_api_deployment,prompt,temperature=0.0)\n",
    "print(result)"
   ]
  },
  {
   "cell_type": "code",
   "execution_count": 5,
   "metadata": {},
   "outputs": [
    {
     "data": {
      "text/plain": [
       "'Score how close of an answer the received answer is versus the expected answer on a scale from  0-10, with 10 being a complete match:\\n\\nExpected answer:\\nThe company offers paid sick leave, vacation, and paid medical insurance\\n\\nReceived answer:\\nSome of the benefits are paid holidays and 401k matching.\\n\\nOutput format:\\n{\\n\"score\":0\\n}\\n\\nOutput in JSON format only.'"
      ]
     },
     "execution_count": 5,
     "metadata": {},
     "output_type": "execute_result"
    }
   ],
   "source": [
    "EXPECTED_ANSWER = \"The company offers paid sick leave, vacation, and paid medical insurance.\"\n",
    "ANSWER = \"Some of the benefits are paid holidays and 401k matching.\"\n",
    "prompt = template.replace(\"<EXPECTED_ANSWER>\", EXPECTED_ANSWER).replace(\"<ANSWER>\", ANSWER)\n",
    "prompt"
   ]
  },
  {
   "cell_type": "code",
   "execution_count": 6,
   "metadata": {},
   "outputs": [
    {
     "name": "stdout",
     "output_type": "stream",
     "text": [
      "{\n",
      "\"score\":2\n",
      "}\n"
     ]
    }
   ],
   "source": [
    "result = common.Call_OpenAI(client,common.gpt_api_deployment,prompt,temperature=0.1)\n",
    "print(result)"
   ]
  }
 ],
 "metadata": {
  "kernelspec": {
   "display_name": ".venv",
   "language": "python",
   "name": "python3"
  },
  "language_info": {
   "codemirror_mode": {
    "name": "ipython",
    "version": 3
   },
   "file_extension": ".py",
   "mimetype": "text/x-python",
   "name": "python",
   "nbconvert_exporter": "python",
   "pygments_lexer": "ipython3",
   "version": "3.10.12"
  },
  "orig_nbformat": 4
 },
 "nbformat": 4,
 "nbformat_minor": 2
}
