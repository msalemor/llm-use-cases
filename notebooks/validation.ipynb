{
 "cells": [
  {
   "cell_type": "markdown",
   "metadata": {},
   "source": [
    "# Validation\n",
    "\n",
    "### Score how similar a baseline answer to an actual answer."
   ]
  },
  {
   "cell_type": "code",
   "execution_count": 1,
   "metadata": {},
   "outputs": [],
   "source": [
    "import common\n",
    "\n",
    "# Get a configured model\n",
    "client = common.get_openai_client(\n",
    "        api_key=common.api_KEY,\n",
    "        api_version=common.api_version,\n",
    "        azure_endpoint=common.api_URI)"
   ]
  },
  {
   "cell_type": "markdown",
   "metadata": {},
   "source": [
    "### Create a Jinja2 template"
   ]
  },
  {
   "cell_type": "code",
   "execution_count": null,
   "metadata": {},
   "outputs": [],
   "source": [
    "prompt_template = \"\"\"On a scale from 0-10 with 10 being a very good match, how close of a match is the Actual Response to the Baseline Response:\n",
    "\n",
    "Baseline response:\n",
    "{{EXPECTED_ANSWER}}\n",
    "\n",
    "Actual Response:\n",
    "{{ANSWER}}\n",
    "\n",
    "Output format:\n",
    "{\n",
    "\"score\":0,\n",
    "\"reason\":\"\"\n",
    "}\n",
    "\n",
    "Output in JSON format only.\"\"\""
   ]
  },
  {
   "cell_type": "markdown",
   "metadata": {},
   "source": [
    "### Check a good answer"
   ]
  },
  {
   "cell_type": "code",
   "execution_count": null,
   "metadata": {},
   "outputs": [],
   "source": [
    "EXPECTED_ANSWER = \"The speed of light in a vacuum is approximately 299,792,458 meters per second (m/s). To convert this value to kilometers per second (km/s), we divide by 1,000 since there are 1,000 meters in a kilometer. Therefore, the speed of light in kilometers per second is approximately 299,792.458 km/s.\"\n",
    "ANSWER = \"The speed of light is approximately 300,000 km/s.\"\n",
    "prompt = rendered_template = common.render_template(prompt_template, EXPECTED_ANSWER=EXPECTED_ANSWER, ANSWER=ANSWER)"
   ]
  },
  {
   "cell_type": "code",
   "execution_count": null,
   "metadata": {},
   "outputs": [],
   "source": [
    "result = common.Call_OpenAI(client,common.gpt_api_deployment,prompt,temperature=0.0)\n",
    "print(result)"
   ]
  },
  {
   "cell_type": "markdown",
   "metadata": {},
   "source": [
    "### Check a bad answer"
   ]
  },
  {
   "cell_type": "code",
   "execution_count": null,
   "metadata": {},
   "outputs": [],
   "source": [
    "EXPECTED_ANSWER = \"The company offers paid sick leave, vacation, and paid medical insurance.\"\n",
    "ANSWER = \"Some of the benefits are paid holidays and 401k matching.\"\n",
    "prompt = rendered_template = common.render_template(prompt_template, EXPECTED_ANSWER=EXPECTED_ANSWER, ANSWER=ANSWER)"
   ]
  },
  {
   "cell_type": "code",
   "execution_count": null,
   "metadata": {},
   "outputs": [],
   "source": [
    "result = common.Call_OpenAI(client,common.gpt_api_deployment,prompt,temperature=0.0)\n",
    "print(result)"
   ]
  }
 ],
 "metadata": {
  "kernelspec": {
   "display_name": ".venv",
   "language": "python",
   "name": "python3"
  },
  "language_info": {
   "codemirror_mode": {
    "name": "ipython",
    "version": 3
   },
   "file_extension": ".py",
   "mimetype": "text/x-python",
   "name": "python",
   "nbconvert_exporter": "python",
   "pygments_lexer": "ipython3",
   "version": "3.10.12"
  },
  "orig_nbformat": 4
 },
 "nbformat": 4,
 "nbformat_minor": 2
}
