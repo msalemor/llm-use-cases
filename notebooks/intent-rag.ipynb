{
 "cells": [
  {
   "cell_type": "code",
   "execution_count": 64,
   "metadata": {},
   "outputs": [],
   "source": [
    "import common\n",
    "import json\n",
    "\n",
    "# Get a configured model\n",
    "client = common.get_openai_client()\n",
    "\n",
    "def validate_json(payload:str) -> bool:\n",
    "    check = json.loads(payload)\n",
    "    if \"intent\" in check:\n",
    "        return True\n",
    "    else:\n",
    "        return False\n",
    "    \n",
    "def get_intent(payload:str) -> str:\n",
    "    check = json.loads(payload)\n",
    "    return check[\"intent\"]\n",
    "\n",
    "def mock_rag():\n",
    "    return \"\"\"Water is an inorganic compound with the chemical formula H2O. It is a transparent, tasteless, odorless,[c] and nearly colorless chemical substance, and it is the main constituent of Earth's hydrosphere and the fluids of all known living organisms (in which it acts as a solvent[20]). It is vital for all known forms of life, despite not providing food energy or organic micronutrients. Its chemical formula, H2O, indicates that each of its molecules contains one oxygen and two hydrogen atoms, connected by covalent bonds. The hydrogen atoms are attached to the oxygen atom at an angle of 104.45°.[21] \"Water\" is also the name of the liquid state of H2O at standard temperature and pressure.\"\"\"\n",
    "\n",
    "def process_for_intent(intentJson:str,input:str) -> str:\n",
    "  if validate_json(intentJson):\n",
    "      intent = get_intent(intentJson)      \n",
    "      if intent == \"AnswerQuestion\":\n",
    "          rag_template = input + \"\\n\" + mock_rag() +\"\\n\\nUse only the provided text.\"\n",
    "          answer = common.Call_OpenAI(client,common.gpt_api_deployment,rag_template)\n",
    "          print(f'A: {answer}')\n",
    "      else:\n",
    "          query_template = input\n",
    "          answer = common.Call_OpenAI(client,common.gpt_api_deployment,query_template)\n",
    "          print(f'A: {answer}')"
   ]
  },
  {
   "cell_type": "code",
   "execution_count": 67,
   "metadata": {},
   "outputs": [
    {
     "name": "stdout",
     "output_type": "stream",
     "text": [
      "Q: What is the chemical composition of water?\n",
      "A: Water has the chemical formula H2O and is an inorganic compound. It is transparent, tasteless, odorless, and nearly colorless. Water is the main constituent of Earth's hydrosphere and is found in the fluids of all known living organisms. Its chemical formula indicates that each molecule contains one oxygen and two hydrogen atoms connected by covalent bonds. The hydrogen atoms are attached to the oxygen atom at an angle of 104.45°. \"Water\" also refers to\n",
      "\n",
      "Q: Write a SQL query to get the customer id and name with the highest balance. The customer table has the following fields: customer_id, customer_name, balance.\n",
      "A: SELECT customer_id, customer_name \n",
      "FROM customer \n",
      "WHERE balance = (SELECT MAX(balance) FROM customer)\n"
     ]
    }
   ],
   "source": [
    "intent_template = \"\"\"An intent is an action from the list of defined intents.\n",
    "\n",
    "Defined intents:\n",
    "AnswerQuestion\n",
    "QueryDatabase\n",
    "\n",
    "\n",
    "What is the intent for the following request:\n",
    "{{input}}\n",
    "\n",
    "Output format:\n",
    "{\n",
    "  \"intent\": \"intent\",\n",
    "}\n",
    "\n",
    "Do not provide explanations. Output in JSON format only.\n",
    "\"\"\"\n",
    "\n",
    "input = \"What is the chemical composition of water?\"\n",
    "template = common.render_template(intent_template,input=input)\n",
    "intent = common.Call_OpenAI(client,common.gpt_api_deployment,template)\n",
    "\n",
    "print(f'Q: {input}')\n",
    "process_for_intent(intent,input)\n",
    "\n",
    "\n",
    "input = \"Write a SQL query to get the customer id and name with the highest balance. The customer table has the following fields: customer_id, customer_name, balance.\"\n",
    "template = common.render_template(intent_template,input=input)\n",
    "intent = common.Call_OpenAI(client,common.gpt_api_deployment,template)\n",
    "\n",
    "print(f'\\nQ: {input}')\n",
    "process_for_intent(intent,input)\n",
    "\n"
   ]
  }
 ],
 "metadata": {
  "kernelspec": {
   "display_name": ".venv",
   "language": "python",
   "name": "python3"
  },
  "language_info": {
   "codemirror_mode": {
    "name": "ipython",
    "version": 3
   },
   "file_extension": ".py",
   "mimetype": "text/x-python",
   "name": "python",
   "nbconvert_exporter": "python",
   "pygments_lexer": "ipython3",
   "version": "3.10.12"
  },
  "orig_nbformat": 4
 },
 "nbformat": 4,
 "nbformat_minor": 2
}
