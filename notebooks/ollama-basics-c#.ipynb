{
 "cells": [
  {
   "cell_type": "markdown",
   "metadata": {},
   "source": [
    "# Ollama basics\n",
    "\n",
    "## Models \n",
    "\n",
    "- Phi3: context window 8k\n",
    "- nomic: 8k context 768 dimensions\n",
    "\n",
    "## Imports"
   ]
  },
  {
   "cell_type": "code",
   "execution_count": null,
   "metadata": {
    "dotnet_interactive": {
     "language": "csharp"
    },
    "polyglot_notebook": {
     "kernelName": "csharp"
    },
    "vscode": {
     "languageId": "polyglot-notebook"
    }
   },
   "outputs": [],
   "source": [
    "using System.Net.Http;\n",
    "using System.Text.Json;\n"
   ]
  },
  {
   "cell_type": "markdown",
   "metadata": {},
   "source": [
    "## HTTP Client"
   ]
  },
  {
   "cell_type": "code",
   "execution_count": null,
   "metadata": {
    "dotnet_interactive": {
     "language": "csharp"
    },
    "polyglot_notebook": {
     "kernelName": "csharp"
    },
    "vscode": {
     "languageId": "polyglot-notebook"
    }
   },
   "outputs": [],
   "source": [
    "var client = new HttpClient();"
   ]
  },
  {
   "cell_type": "markdown",
   "metadata": {},
   "source": [
    "## Embeddings"
   ]
  },
  {
   "cell_type": "code",
   "execution_count": null,
   "metadata": {
    "dotnet_interactive": {
     "language": "csharp"
    },
    "polyglot_notebook": {
     "kernelName": "csharp"
    },
    "vscode": {
     "languageId": "polyglot-notebook"
    }
   },
   "outputs": [],
   "source": [
    "record EmbeddingResponse(double[] embedding);\n",
    "async Task<double[]> Embed(string prompt, string model = \"nomic-embed-text\", string endpoint=\"http://localhost:11434/api/embeddings\")\n",
    "{\n",
    "    var jsonStr = JsonSerializer.Serialize(new { prompt, model });\n",
    "    var response = await client.PostAsync(endpoint, new StringContent(jsonStr, System.Text.Encoding.UTF8, \"application/json\"));\n",
    "    if (response.IsSuccessStatusCode)\n",
    "    {\n",
    "        var responseStr = await response.Content.ReadAsStringAsync();\n",
    "        var embedding = JsonSerializer.Deserialize<EmbeddingResponse>(responseStr);\n",
    "        return embedding.embedding;\n",
    "    }\n",
    "    return [];\n",
    "}"
   ]
  },
  {
   "cell_type": "code",
   "execution_count": null,
   "metadata": {
    "dotnet_interactive": {
     "language": "csharp"
    },
    "polyglot_notebook": {
     "kernelName": "csharp"
    },
    "vscode": {
     "languageId": "polyglot-notebook"
    }
   },
   "outputs": [],
   "source": [
    "var vector = await Embed(\"The quick brown fox jumps over the lazy dog\");\n",
    "vector"
   ]
  },
  {
   "cell_type": "markdown",
   "metadata": {},
   "source": [
    "## Chat completion"
   ]
  },
  {
   "cell_type": "code",
   "execution_count": null,
   "metadata": {
    "dotnet_interactive": {
     "language": "csharp"
    },
    "polyglot_notebook": {
     "kernelName": "csharp"
    },
    "vscode": {
     "languageId": "polyglot-notebook"
    }
   },
   "outputs": [],
   "source": [
    "record Message(string role, string content);\n",
    "record CompletionResponse(Message message);\n",
    "\n",
    "async Task<string> Completion(string prompt, string model = \"phi3\", string endpoint=\"http://localhost:11434/api/chat\")\n",
    "{   \n",
    "    var messages = new Message[] { new Message(\"user\", prompt) };    \n",
    "    var jsonStr = JsonSerializer.Serialize(new { model,messages,stream=false });\n",
    "    Console.WriteLine(jsonStr);\n",
    "    var response = await client.PostAsync(endpoint, new StringContent(jsonStr, System.Text.Encoding.UTF8, \"application/json\"));\n",
    "    if (response.IsSuccessStatusCode)\n",
    "    {\n",
    "        var responseStr = await response.Content.ReadAsStringAsync();\n",
    "        var completion = JsonSerializer.Deserialize<CompletionResponse>(responseStr);\n",
    "        return completion.message.content;\n",
    "    }\n",
    "    return \"Failure\";\n",
    "}"
   ]
  },
  {
   "cell_type": "code",
   "execution_count": null,
   "metadata": {
    "dotnet_interactive": {
     "language": "csharp"
    },
    "polyglot_notebook": {
     "kernelName": "csharp"
    },
    "vscode": {
     "languageId": "polyglot-notebook"
    }
   },
   "outputs": [],
   "source": [
    "var completion = await Completion(\"What is the meaning of life?\");\n",
    "completion"
   ]
  },
  {
   "cell_type": "markdown",
   "metadata": {},
   "source": []
  }
 ],
 "metadata": {
  "kernelspec": {
   "display_name": ".NET (C#)",
   "language": "C#",
   "name": ".net-csharp"
  },
  "language_info": {
   "codemirror_mode": {
    "name": "ipython",
    "version": 3
   },
   "file_extension": ".py",
   "mimetype": "text/x-python",
   "name": "python",
   "nbconvert_exporter": "python",
   "pygments_lexer": "ipython3",
   "version": "3.11.9"
  },
  "orig_nbformat": 4,
  "polyglot_notebook": {
   "kernelInfo": {
    "defaultKernelName": "csharp",
    "items": [
     {
      "aliases": [],
      "name": "csharp"
     }
    ]
   }
  }
 },
 "nbformat": 4,
 "nbformat_minor": 2
}
