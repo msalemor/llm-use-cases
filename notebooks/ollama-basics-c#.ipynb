{
 "cells": [
  {
   "cell_type": "markdown",
   "metadata": {},
   "source": [
    "# Ollama basics\n",
    "\n",
    "## Models \n",
    "\n",
    "- Phi3: context window 8k\n",
    "- nomic: 8k context 768 dimensions\n",
    "\n",
    "## Imports"
   ]
  },
  {
   "cell_type": "code",
   "execution_count": 6,
   "metadata": {
    "vscode": {
     "languageId": "polyglot-notebook"
    }
   },
   "outputs": [],
   "source": [
    "using System.Net.Http;\n",
    "using System.Text.Json;\n"
   ]
  },
  {
   "cell_type": "markdown",
   "metadata": {},
   "source": [
    "## HTTP Client"
   ]
  },
  {
   "cell_type": "code",
   "execution_count": null,
   "metadata": {
    "vscode": {
     "languageId": "polyglot-notebook"
    }
   },
   "outputs": [],
   "source": [
    "var client = new HttpClient();"
   ]
  },
  {
   "cell_type": "markdown",
   "metadata": {},
   "source": [
    "## Embeddings"
   ]
  },
  {
   "cell_type": "code",
   "execution_count": 10,
   "metadata": {
    "vscode": {
     "languageId": "polyglot-notebook"
    }
   },
   "outputs": [],
   "source": [
    "record EmbeddingResponse(double[] embedding);\n",
    "async Task<double[]> Embed(string prompt, string model = \"nomic-embed-text\", string endpoint=\"http://localhost:11434/api/embeddings\")\n",
    "{\n",
    "    var jsonStr = JsonSerializer.Serialize(new { prompt, model });\n",
    "    var response = await client.PostAsync(endpoint, new StringContent(jsonStr, System.Text.Encoding.UTF8, \"application/json\"));\n",
    "    if (response.IsSuccessStatusCode)\n",
    "    {\n",
    "        var responseStr = await response.Content.ReadAsStringAsync();\n",
    "        var embedding = JsonSerializer.Deserialize<EmbeddingResponse>(responseStr);\n",
    "        return embedding.embedding;\n",
    "    }\n",
    "    return [];\n",
    "}"
   ]
  },
  {
   "cell_type": "code",
   "execution_count": 13,
   "metadata": {
    "vscode": {
     "languageId": "polyglot-notebook"
    }
   },
   "outputs": [
    {
     "data": {
      "text/html": [
       "<div class=\"dni-plaintext\"><pre>[ -0.057263270020484924, 0.12748487293720245, -2.4964606761932373, -1.1152739524841309, -0.010251402854919434, 0.6649207472801208, 1.0781058073043823, -0.10475101321935654, 0.08069080859422684, -1.9524312019348145, -1.4347624778747559, 1.335611343383789, 0.8929026126861572, -0.14799360930919647, 0.15196077525615692, -0.3206965923309326, 0.791202187538147, 0.06509207934141159, 0.4560195803642273, -0.04940776154398918 ... (748 more) ]</pre></div><style>\r\n",
       ".dni-code-hint {\r\n",
       "    font-style: italic;\r\n",
       "    overflow: hidden;\r\n",
       "    white-space: nowrap;\r\n",
       "}\r\n",
       ".dni-treeview {\r\n",
       "    white-space: nowrap;\r\n",
       "}\r\n",
       ".dni-treeview td {\r\n",
       "    vertical-align: top;\r\n",
       "    text-align: start;\r\n",
       "}\r\n",
       "details.dni-treeview {\r\n",
       "    padding-left: 1em;\r\n",
       "}\r\n",
       "table td {\r\n",
       "    text-align: start;\r\n",
       "}\r\n",
       "table tr { \r\n",
       "    vertical-align: top; \r\n",
       "    margin: 0em 0px;\r\n",
       "}\r\n",
       "table tr td pre \r\n",
       "{ \r\n",
       "    vertical-align: top !important; \r\n",
       "    margin: 0em 0px !important;\r\n",
       "} \r\n",
       "table th {\r\n",
       "    text-align: start;\r\n",
       "}\r\n",
       "</style>"
      ]
     },
     "metadata": {},
     "output_type": "display_data"
    }
   ],
   "source": [
    "var vector = await Embed(\"The quick brown fox jumps over the lazy dog\");\n",
    "vector"
   ]
  },
  {
   "cell_type": "markdown",
   "metadata": {},
   "source": [
    "## Chat completion"
   ]
  },
  {
   "cell_type": "code",
   "execution_count": 21,
   "metadata": {
    "vscode": {
     "languageId": "polyglot-notebook"
    }
   },
   "outputs": [],
   "source": [
    "record Message(string role, string content);\n",
    "record CompletionResponse(Message message);\n",
    "\n",
    "async Task<string> Completion(string prompt, string model = \"phi3\", string endpoint=\"http://localhost:11434/api/chat\")\n",
    "{   \n",
    "    var messages = new Message[] { new Message(\"user\", prompt) };    \n",
    "    var jsonStr = JsonSerializer.Serialize(new { model,messages,stream=false });\n",
    "    Console.WriteLine(jsonStr);\n",
    "    var response = await client.PostAsync(endpoint, new StringContent(jsonStr, System.Text.Encoding.UTF8, \"application/json\"));\n",
    "    if (response.IsSuccessStatusCode)\n",
    "    {\n",
    "        var responseStr = await response.Content.ReadAsStringAsync();\n",
    "        var completion = JsonSerializer.Deserialize<CompletionResponse>(responseStr);\n",
    "        return completion.message.content;\n",
    "    }\n",
    "    return \"Failure\";\n",
    "}"
   ]
  },
  {
   "cell_type": "code",
   "execution_count": 22,
   "metadata": {
    "vscode": {
     "languageId": "polyglot-notebook"
    }
   },
   "outputs": [
    {
     "name": "stdout",
     "output_type": "stream",
     "text": [
      "{\"model\":\"phi3\",\"messages\":[{\"role\":\"user\",\"content\":\"What is the meaning of life?\"}],\"stream\":false}\n"
     ]
    },
    {
     "data": {
      "text/plain": [
       " The question of the meaning of life has intrigued philosophers, scientists, and thinkers for centuries. It's a profound inquiry that can be answered in various ways depending on one's belief system, cultural background, or personal philosophy.\n",
       "\n",
       "1. Philosophical viewpoints: Some philosophical schools offer different perspectives on life's meaning. For example, existentialism proposes that individuals create their own purpose through choices and actions, while Absurdism acknowledges the inherent lack of meaning in existence but suggests finding happiness in embracing this paradox.\n",
       "\n",
       "2. Religious beliefs: Many religions offer answers to life's ultimate purpose, often centering around concepts such as divine creation, fulfillment of a specific destiny or role within that universe, and the afterlife. Each religion provides its own unique explanation for humanity's existence and purpose in the world.\n",
       "\n",
       "3. Personal growth: Some people believe life's meaning lies in personal development and self-improvement. This perspective encourages individuals to strive for betterment through learning, relationships, and experiences while contributing positively to society.\n",
       "\n",
       "4. Scientific explanation: From a scientific standpoint, the purpose of human existence may not be intrinsic, but rather an evolutionary outcome shaped by natural selection and adaptation. In this context, humans' role in life is primarily focused on survival, reproduction, and passing down genes to future generations.\n",
       "\n",
       "5. Finding joy: Some individuals believe that the meaning of life is about finding happiness and fulfillment through relationships, hobbies, passions, or creative pursuits. They emphasize living in the present moment and cherishing one's experiences rather than searching for a singular objective purpose.\n",
       "\n",
       "Ultimately, there may not be a single answer to the meaning of life question; instead, it is an open-ended quest that can take various forms based on personal belief systems or perspectives. It encourages deep contemplation and self-reflection, as well as engagement with others who may offer unique insights into this timeless query."
      ]
     },
     "metadata": {},
     "output_type": "display_data"
    }
   ],
   "source": [
    "var completion = await Completion(\"What is the meaning of life?\");\n",
    "completion"
   ]
  },
  {
   "cell_type": "markdown",
   "metadata": {},
   "source": []
  }
 ],
 "metadata": {
  "kernelspec": {
   "display_name": ".NET (C#)",
   "language": "C#",
   "name": ".net-csharp"
  },
  "language_info": {
   "codemirror_mode": {
    "name": "ipython",
    "version": 3
   },
   "file_extension": ".py",
   "mimetype": "text/x-python",
   "name": "python",
   "nbconvert_exporter": "python",
   "pygments_lexer": "ipython3",
   "version": "3.11.9"
  },
  "orig_nbformat": 4,
  "polyglot_notebook": {
   "kernelInfo": {
    "defaultKernelName": "csharp",
    "items": [
     {
      "aliases": [],
      "name": "csharp"
     }
    ]
   }
  }
 },
 "nbformat": 4,
 "nbformat_minor": 2
}
