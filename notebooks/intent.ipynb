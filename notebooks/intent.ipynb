{
 "cells": [
  {
   "cell_type": "code",
   "execution_count": 1,
   "metadata": {},
   "outputs": [],
   "source": [
    "import common\n",
    "\n",
    "# Get a configured model\n",
    "client = common.get_openai_client(api_key=common.api_KEY,\n",
    "        api_version=common.api_version,\n",
    "        azure_endpoint=common.api_URI)"
   ]
  },
  {
   "cell_type": "code",
   "execution_count": 5,
   "metadata": {},
   "outputs": [
    {
     "name": "stdout",
     "output_type": "stream",
     "text": [
      "{\n",
      "  \"intent\": \"Reserve\",\n",
      "  \"entities\": [\"Friday's Restaurant\", \"2 people\", \"7pm\", \"Friday\"]\n",
      "}\n",
      "{\n",
      "  \"intent\": \"GetItinerary\",\n",
      "  \"entities\": []\n",
      "}\n",
      "{\n",
      "  \"intent\": \"GetWeather\",\n",
      "  \"entities\": [\"London\"]\n",
      "}\n"
     ]
    }
   ],
   "source": [
    "intent_template = \"\"\"An intent is an action from the list of defined intents. An action is defined as a place, location, name, time or date.\n",
    "\n",
    "Defined intents:\n",
    "GetItinerary\n",
    "Reserve\n",
    "CancelReservation\n",
    "CheckReservation\n",
    "GetReservation\n",
    "GetWeather\n",
    "\n",
    "What is the intent and entities for the following request:\n",
    "{{input}}\n",
    "\n",
    "Output format:\n",
    "{\n",
    "  \"intent\": \"intent\",\n",
    "  \"entities\": [\"action\"]\n",
    "}\n",
    "\n",
    "Do not provide explanations. Output in JSON format only.\n",
    "\n",
    "\"\"\"\n",
    "\n",
    "print(common.Call_OpenAI(client,common.gpt_api_deployment,common.render_template(intent_template,input=\"I want to make a reservation for 2 people at 7pm on Friday at Friday's Restaurant.\")))\n",
    "print(common.Call_OpenAI(client,common.gpt_api_deployment,common.render_template(intent_template,input=\"What is my upcoming travel itinerary?\")))\n",
    "print(common.Call_OpenAI(client,common.gpt_api_deployment,common.render_template(intent_template,input=\"What is the weather like in London?\")))\n"
   ]
  }
 ],
 "metadata": {
  "kernelspec": {
   "display_name": ".venv",
   "language": "python",
   "name": "python3"
  },
  "language_info": {
   "codemirror_mode": {
    "name": "ipython",
    "version": 3
   },
   "file_extension": ".py",
   "mimetype": "text/x-python",
   "name": "python",
   "nbconvert_exporter": "python",
   "pygments_lexer": "ipython3",
   "version": "3.10.12"
  },
  "orig_nbformat": 4
 },
 "nbformat": 4,
 "nbformat_minor": 2
}
