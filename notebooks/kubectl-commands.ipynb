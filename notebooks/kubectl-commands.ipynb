{
 "cells": [
  {
   "cell_type": "code",
   "execution_count": 18,
   "metadata": {},
   "outputs": [],
   "source": [
    "import common\n",
    "\n",
    "# Get a configured model\n",
    "client = common.get_openai_client(api_key=common.api_KEY,\n",
    "        api_version=common.api_version,\n",
    "        azure_endpoint=common.api_URI)"
   ]
  },
  {
   "cell_type": "code",
   "execution_count": 19,
   "metadata": {},
   "outputs": [],
   "source": [
    "prompt_template = \"\"\"System:\n",
    "\tYou are an assistant that can help manage a Kubernetes cluster with kubectl commands. If the user asks for something not related to managing the cluster, say, \"I don't know how to perform this action in the cluster.\"\n",
    "\t\n",
    "\tUser:\n",
    "\t{{input}}\n",
    "\t\n",
    "\tSEPARATE the kubectl command from the parameters. PROVIDE an explanation of the command(s).\n",
    "\t\n",
    "\tSamples:\n",
    "\t[\n",
    "\t{\n",
    "\t\"command\"\": \"kubectl\",\n",
    "\t\"parameters\"\": \"get pod -A\",\n",
    "\t\"explanation\"\": \"List all pods in all the namespaces.\"\n",
    "\t},\n",
    "\t{\n",
    "\t\"command\"\": \"\",\n",
    "\t\"parameters\"\": \"\",\n",
    "\t\"explanation\"\": \"I don't know how to perform this action in the cluster.\"\n",
    "\t}\n",
    "\t]\n",
    "\t\n",
    "\tOutput format:\n",
    "\t[\n",
    "\t{\n",
    "\t\"command\"\": \"kubectl\",\n",
    "\t\"parameters\"\": \"\",\n",
    "\t\"explanation\"\": \"\"\n",
    "\t}\n",
    "\t]\n",
    "\t\n",
    "\tOutput in JSON format ONLY.\n",
    "\"\"\""
   ]
  },
  {
   "cell_type": "code",
   "execution_count": 20,
   "metadata": {},
   "outputs": [
    {
     "name": "stdout",
     "output_type": "stream",
     "text": [
      "[\n",
      "\t{\n",
      "\t\t\"command\": \"kubectl\",\n",
      "\t\t\"parameters\": \"delete namespace ns1\",\n",
      "\t\t\"explanation\": \"Deletes the namespace named ns1.\"\n",
      "\t},\n",
      "\t{\n",
      "\t\t\"command\": \"kubectl\",\n",
      "\t\t\"parameters\": \"create namespace ns1\",\n",
      "\t\t\"explanation\": \"Creates a new namespace named ns1.\"\n",
      "\t},\n",
      "\t{\n",
      "\t\t\"command\": \"kubectl\",\n",
      "\t\t\"parameters\": \"run nginx --image=nginx --port=80 -n ns1\",\n",
      "\t\t\"explanation\": \"Creates a new deployment named nginx with the nginx image and exposes port 80 in the ns1 namespace.\"\n",
      "\t},\n",
      "\t{\n",
      "\t\t\"command\": \"kubectl\",\n",
      "\t\t\"parameters\": \"get pods -n ns1\",\n",
      "\t\t\"explanation\": \"Lists all pods in the ns1 namespace.\"\n",
      "\t}\n",
      "]\n"
     ]
    }
   ],
   "source": [
    "commands = \"Delete and create namespace ns1. Create nginx pod in namespace open to port 80. Deploy the pod. List all pods in the ns1 namespace.\"\n",
    "prompt = rendered_template = common.render_template(prompt_template,input=commands)\n",
    "result = common.Call_OpenAI(client,common.gpt_api_deployment,prompt,temperature=0.1,max_tokens=300)\n",
    "print(result)"
   ]
  },
  {
   "cell_type": "code",
   "execution_count": 21,
   "metadata": {},
   "outputs": [
    {
     "name": "stdout",
     "output_type": "stream",
     "text": [
      "[\n",
      "\t{\n",
      "\t\t\"command\": \"kubectl\",\n",
      "\t\t\"parameters\": \"\",\n",
      "\t\t\"explanation\": \"\"\n",
      "\t}\n",
      "]\n"
     ]
    }
   ],
   "source": [
    "commands = \"What is the speed of light?\"\n",
    "prompt = rendered_template = common.render_template(prompt_template,input=commands)\n",
    "result = common.Call_OpenAI(client,common.gpt_api_deployment,prompt, temperature=0.1, max_tokens=300)\n",
    "print(result)"
   ]
  }
 ],
 "metadata": {
  "kernelspec": {
   "display_name": ".venv",
   "language": "python",
   "name": "python3"
  },
  "language_info": {
   "codemirror_mode": {
    "name": "ipython",
    "version": 3
   },
   "file_extension": ".py",
   "mimetype": "text/x-python",
   "name": "python",
   "nbconvert_exporter": "python",
   "pygments_lexer": "ipython3",
   "version": "3.10.12"
  },
  "orig_nbformat": 4
 },
 "nbformat": 4,
 "nbformat_minor": 2
}
