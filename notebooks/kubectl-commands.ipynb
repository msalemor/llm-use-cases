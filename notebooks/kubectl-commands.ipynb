{
 "cells": [
  {
   "cell_type": "code",
   "execution_count": 1,
   "metadata": {},
   "outputs": [],
   "source": [
    "import common\n",
    "\n",
    "# Get a configured model\n",
    "client = common.get_openai_client(api_key=common.api_KEY,\n",
    "        api_version=common.api_version,\n",
    "        azure_endpoint=common.api_URI)"
   ]
  },
  {
   "cell_type": "code",
   "execution_count": 2,
   "metadata": {},
   "outputs": [],
   "source": [
    "prompt_template = \"\"\"System:\n",
    "\tYou are an assistant that can help manage Azure with Azure CLI (az) commands. If the user asks for something not related to managing Azure, say \"\"I don't know how to perform this action in the cluster.\"\"\n",
    "\t\n",
    "\tUser:\n",
    "\t{{input}}\n",
    "\t\n",
    "\tSEPARATE the az command from the parameters. PROVIDE an explanation of the command(s).\n",
    "\t\n",
    "\tSamples:\n",
    "\t[\n",
    "\t{\n",
    "\t\"command\"\": \"az\",\n",
    "\t\"parameters\"\": \"login\",\n",
    "\t\"explanation\"\": \"Login into Azure.\"\n",
    "\t},\n",
    "\t{\n",
    "\t\"command\"\": \"\",\n",
    "\t\"parameters\"\": \"\",\n",
    "\t\"explanation\"\": \"I don't know how to perform this action in the cluster.\"\n",
    "\t}\n",
    "\t]\n",
    "\t\n",
    "\tOutput format:\n",
    "\t[\n",
    "\t{\n",
    "\t\"command\"\": \"az\",\n",
    "\t\"parameters\"\": \"\",\n",
    "\t\"explanation\"\": \"\"\n",
    "\t}\n",
    "\t]\n",
    "\t\n",
    "\tOutput in JSON format ONLY.\n",
    "\"\"\""
   ]
  },
  {
   "cell_type": "code",
   "execution_count": 3,
   "metadata": {},
   "outputs": [],
   "source": [
    "commands = \"Create a namespace ns1. Delete a namespace ns1.\"\n",
    "prompt = rendered_template = common.render_template(prompt_template,input=commands)"
   ]
  },
  {
   "cell_type": "code",
   "execution_count": 4,
   "metadata": {},
   "outputs": [
    {
     "name": "stdout",
     "output_type": "stream",
     "text": [
      "[\n",
      "\t{\n",
      "\t\t\"command\": \"az\",\n",
      "\t\t\"parameters\": \"namespace create --name ns1\",\n",
      "\t\t\"explanation\": \"Create a namespace named ns1.\"\n",
      "\t},\n",
      "\t{\n",
      "\t\t\"command\": \"az\",\n",
      "\t\t\"parameters\": \"namespace delete --name ns1\",\n",
      "\t\t\"explanation\": \"Delete the namespace named ns1.\"\n",
      "\t}\n",
      "]\n"
     ]
    }
   ],
   "source": [
    "result = common.Call_OpenAI(client,common.gpt_api_deployment,prompt)\n",
    "print(result)"
   ]
  }
 ],
 "metadata": {
  "kernelspec": {
   "display_name": ".venv",
   "language": "python",
   "name": "python3"
  },
  "language_info": {
   "codemirror_mode": {
    "name": "ipython",
    "version": 3
   },
   "file_extension": ".py",
   "mimetype": "text/x-python",
   "name": "python",
   "nbconvert_exporter": "python",
   "pygments_lexer": "ipython3",
   "version": "3.10.12"
  },
  "orig_nbformat": 4
 },
 "nbformat": 4,
 "nbformat_minor": 2
}
