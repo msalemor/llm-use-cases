{
 "cells": [
  {
   "cell_type": "markdown",
   "metadata": {},
   "source": [
    "# Compute Selection - Vision\n",
    "\n",
    "Under this scenario, a score from 0-10, with 10 being closest match, is generated comparing a baseline response against an actual response."
   ]
  },
  {
   "cell_type": "code",
   "execution_count": 8,
   "metadata": {},
   "outputs": [],
   "source": [
    "import common\n",
    "import os\n",
    "from PIL import Image\n",
    "import requests\n",
    "from io import BytesIO"
   ]
  },
  {
   "cell_type": "code",
   "execution_count": 9,
   "metadata": {},
   "outputs": [],
   "source": [
    "# Get a configured model\n",
    "client = common.get_openai_client(\n",
    "        api_key=common.api_KEY,\n",
    "        api_version=common.api_version,\n",
    "        azure_endpoint=common.api_URI)"
   ]
  },
  {
   "cell_type": "code",
   "execution_count": 10,
   "metadata": {},
   "outputs": [],
   "source": [
    "def call_openai(url:str,prompt:str,max_tokens=1000,temperature=0.2):\n",
    "    response = client.chat.completions.create(\n",
    "            model=common.gpt_api_deployment,\n",
    "            messages=[\n",
    "                {\n",
    "                \"role\": \"system\",\n",
    "                \"content\": \"You are a helpful assistant that can help provide a compute recommendation based on the provided information. Use only the provided information.\"\n",
    "                },\n",
    "                {\n",
    "                \"role\": \"user\",\n",
    "                \"content\": [\n",
    "                    {\"type\": \"text\", \"text\": prompt},\n",
    "                    {\n",
    "                    \"type\": \"image_url\",\n",
    "                    \"image_url\": {\n",
    "                        \"url\": url,\n",
    "                        \"detail\": \"high\"\n",
    "                    },\n",
    "                    },\n",
    "                ],\n",
    "                }\n",
    "            ],\n",
    "            max_tokens=max_tokens,\n",
    "            temperature=temperature\n",
    "        )\n",
    "    return str(response.choices[0].message.content)"
   ]
  },
  {
   "cell_type": "code",
   "execution_count": 11,
   "metadata": {},
   "outputs": [],
   "source": [
    "def get_image(url):\n",
    "    response = requests.get(url)\n",
    "    img = Image.open(BytesIO(response.content))\n",
    "    img = img.resize((img.width//2, img.height//2))\n",
    "    return img\n"
   ]
  },
  {
   "cell_type": "code",
   "execution_count": 12,
   "metadata": {},
   "outputs": [],
   "source": [
    "url = \"https://alemoraoaist.z13.web.core.windows.net/images/services-mindmap.png\"\n"
   ]
  },
  {
   "cell_type": "code",
   "execution_count": 13,
   "metadata": {},
   "outputs": [],
   "source": [
    "def full_process(url, question):\n",
    "    print(\"Image:\")\n",
    "    get_image(url).show()\n",
    "    print(\"User:\")\n",
    "    common.split_sentence(question)\n",
    "    print(\"\\nAssistant:\")\n",
    "    ans = call_openai(url,question)\n",
    "    common.split_sentence(ans)"
   ]
  },
  {
   "cell_type": "code",
   "execution_count": 14,
   "metadata": {},
   "outputs": [
    {
     "name": "stdout",
     "output_type": "stream",
     "text": [
      "Image:\n"
     ]
    },
    {
     "data": {
      "image/png": "[encoded data removed]",
      "text/plain": [
       "<PIL.Image.Image image mode=RGBA size=420x137>"
      ]
     },
     "metadata": {},
     "output_type": "display_data"
    },
    {
     "name": "stdout",
     "output_type": "stream",
     "text": [
      "User:\n",
      "Describe what is in the image.\n",
      "\n",
      "Assistant:\n",
      "The image is a mind map labeled \"Azure Services Mind Map.\" It has two main categories connected to the central label\n",
      "\"Azure Services\": \"Compute\" and \"Database.\" Under \"Compute,\" there are two sub-categories: - Virtual Machines - AKS\n",
      "(Azure Kubernetes Service) Under \"Database,\" there are two sub-categories: - Azure SQL - Azure MySQL Each sub-category\n",
      "is connected to its main category with a line, indicating a relationship or classification under the main category.\n"
     ]
    }
   ],
   "source": [
    "question = \"Describe what is in the image.\"\n",
    "full_process(url, question)"
   ]
  },
  {
   "cell_type": "code",
   "execution_count": 28,
   "metadata": {},
   "outputs": [
    {
     "name": "stdout",
     "output_type": "stream",
     "text": [
      "Image:\n"
     ]
    },
    {
     "data": {
      "image/png": "[encoded data removed]",
      "text/plain": [
       "<PIL.Image.Image image mode=RGBA size=420x137>"
      ]
     },
     "metadata": {},
     "output_type": "display_data"
    },
    {
     "name": "stdout",
     "output_type": "stream",
     "text": [
      "User:\n",
      "Turn the mind map into a list Output format: === Title: // Mind map title Node: // Node title Children: // List of\n",
      "children ===\n",
      "\n",
      "Assistant:\n",
      "=== Title: Azure Services Mind Map Node: Azure Services Children: Compute, Database Node: Compute Children: Virtual\n",
      "Machines, AKS Node: Database Children: Azure SQL, Azure MySQL ===\n"
     ]
    }
   ],
   "source": [
    "question = \"\"\"Turn the mind map into a list \n",
    "\n",
    "Output format: ===\n",
    "Title: // Mind map title\n",
    "Node: // Node title\n",
    "  Children: // List of children\n",
    "===\n",
    "\"\"\"\n",
    "full_process(url, question)"
   ]
  }
 ],
 "metadata": {
  "kernelspec": {
   "display_name": ".venv",
   "language": "python",
   "name": "python3"
  },
  "language_info": {
   "codemirror_mode": {
    "name": "ipython",
    "version": 3
   },
   "file_extension": ".py",
   "mimetype": "text/x-python",
   "name": "python",
   "nbconvert_exporter": "python",
   "pygments_lexer": "ipython3",
   "version": "3.10.12"
  },
  "orig_nbformat": 4
 },
 "nbformat": 4,
 "nbformat_minor": 2
}
