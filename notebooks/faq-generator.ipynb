{
 "cells": [
  {
   "cell_type": "code",
   "execution_count": 1,
   "metadata": {},
   "outputs": [],
   "source": [
    "import common\n",
    "\n",
    "# Get a configured model\n",
    "client = common.get_openai_client(api_key=common.api_KEY,\n",
    "        api_version=common.api_version,\n",
    "        azure_endpoint=common.api_URI)"
   ]
  },
  {
   "cell_type": "markdown",
   "metadata": {},
   "source": [
    "### Read a the source document for the FAQ should be generated"
   ]
  },
  {
   "cell_type": "code",
   "execution_count": 19,
   "metadata": {},
   "outputs": [],
   "source": [
    "def read_file(file_path):\n",
    "    with open(file_path, 'r') as file:\n",
    "        return file.read()\n",
    "    \n",
    "contents1 = read_file('data/benefits.txt')\n",
    "contents2 = read_file('data/401k.txt')"
   ]
  },
  {
   "cell_type": "markdown",
   "metadata": {},
   "source": [
    "### Prepare the FAQ template"
   ]
  },
  {
   "cell_type": "code",
   "execution_count": 26,
   "metadata": {},
   "outputs": [],
   "source": [
    "# Create a semantic kernel inline function\n",
    "faq_template = \"\"\"System:\n",
    "You are an agent that can help generate FAQ documents.\n",
    "Today's date is February 19, 2024.\n",
    "\n",
    "User:\n",
    "For the following text, generate a detailed FAQ document titled 'Contoso Company Benefits FAQ'. \n",
    "\n",
    "Text: ===\n",
    "{{input}}\n",
    "===\n",
    "\n",
    "Sample Output format: ===\n",
    "Title: // title\n",
    "Date: // Current date\n",
    "\n",
    "Q: What is 401k?\n",
    "A:  A: A 401k plan is a retirement savings plan that allows you to contribute a portion of your pre-tax income to a designated account.\n",
    "===\n",
    "\n",
    "Use only the provided text. Do not use any external sources.\"\"\""
   ]
  },
  {
   "cell_type": "markdown",
   "metadata": {},
   "source": [
    "### Create the FAQ"
   ]
  },
  {
   "cell_type": "code",
   "execution_count": 27,
   "metadata": {},
   "outputs": [
    {
     "name": "stdout",
     "output_type": "stream",
     "text": [
      "Title: Contoso Company Benefits FAQ\n",
      "Date: February 19, 2024\n",
      "\n",
      "Q: What health insurance benefits does Contoso offer?\n",
      "A: Contoso covers 100% of the premiums for medical, dental, and vision plans for employees and their dependents. Additionally, flexible spending accounts, health savings accounts, and wellness programs are available.\n",
      "\n",
      "Q: How does Contoso support retirement savings?\n",
      "A: Contoso matches 50% of employees' contributions to their 401(k) plans, up to 6% of their salary. The company also provides financial education and planning services to help employees achieve their retirement goals.\n",
      "\n",
      "Q: What paid time off policies does Contoso have?\n",
      "A: Contoso offers generous paid time off policies, including vacation, sick leave, holidays, parental leave, and sabbatical leave. Employees are encouraged to take time off to recharge and spend quality time with their families and friends.\n",
      "\n",
      "Q: How does Contoso facilitate professional development?\n",
      "A: Contoso invests in employees' growth and development through opportunities to learn new skills, advance their careers, and pursue their passions. This includes tuition reimbursement, online courses, mentoring programs, and internal mobility.\n",
      "\n",
      "Q: What does Contoso do to promote work-life balance?\n",
      "A: Contoso respects employees' work-life balance by supporting them with flexible work arrangements, remote work options, and employee assistance programs. The company culture also focuses on recognition and appreciation of employees' achievements and contributions.\n",
      "\n",
      "Q: What is a 401k plan?\n",
      "A: A 401k plan is a retirement savings plan that allows you to contribute a portion of your pre-tax income to a designated account. Contoso offers a 401k plan with a company match to all eligible employees as part of its benefits package.\n",
      "\n",
      "Q: How much does Contoso match in the 401k plan?\n",
      "A: Contoso matches 50% of employees' contributions to their 401(k) plans, up to 6% of their salary.\n",
      "\n",
      "Q: Can I choose my investment options in the 401k plan?\n",
      "A: Yes, you can choose from a variety of investment options, ranging from conservative to aggressive, based on your risk tolerance and retirement goals. You can also change your contribution amount and investment allocation at any time, subject to certain restrictions and fees.\n",
      "\n",
      "Q: Are there any rules and limitations for withdrawing money from the 401k plan?\n",
      "A: Yes, you can only withdraw money from your 401k account under certain circumstances, such as reaching age 59.5, leaving the company, or experiencing financial hardship. Early withdrawals may incur a 10% penalty tax and income tax on the amount withdrawn. Loans from your 401k account are subject to taxes and penalties if not repaid on time.\n",
      "\n",
      "Q: Where can I find more details about the 401k plan?\n",
      "A: You can read the summary plan description (SPD) and the participant disclosure notice (PDN) for more information about the 401k plan, including eligibility requirements, contribution limits, vesting schedule, investment options, fees, and withdrawal rules. These documents are available on the provider's website or can be requested from the human resources department.\n",
      "\n",
      "Q: Who can I contact for assistance with the 401k plan?\n",
      "A: For questions or assistance with enrolling or managing your 401k account, please contact the provider's customer service center or visit their website. You may also consult with a financial planner or tax advisor for personalized retirement planning advice.\n"
     ]
    }
   ],
   "source": [
    "# Execute the function\n",
    "template = common.render_template(faq_template, input=contents1+contents2)\n",
    "faq_doc = common.Call_OpenAI(client,common.gpt_api_deployment,template,max_tokens=2048)\n",
    "print(faq_doc)"
   ]
  }
 ],
 "metadata": {
  "kernelspec": {
   "display_name": ".venv",
   "language": "python",
   "name": "python3"
  },
  "language_info": {
   "codemirror_mode": {
    "name": "ipython",
    "version": 3
   },
   "file_extension": ".py",
   "mimetype": "text/x-python",
   "name": "python",
   "nbconvert_exporter": "python",
   "pygments_lexer": "ipython3",
   "version": "3.10.12"
  },
  "orig_nbformat": 4
 },
 "nbformat": 4,
 "nbformat_minor": 2
}
