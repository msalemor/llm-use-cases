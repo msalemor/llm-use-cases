{
 "cells": [
  {
   "cell_type": "code",
   "execution_count": 1,
   "metadata": {
    "dotnet_interactive": {
     "language": "csharp"
    },
    "polyglot_notebook": {
     "kernelName": "csharp"
    }
   },
   "outputs": [],
   "source": [
    "import common\n",
    "import os\n",
    "\n",
    "# Get a configured model\n",
    "client = common.get_openai_client(api_key=common.api_KEY,\n",
    "        api_version=common.api_version,\n",
    "        azure_endpoint=common.api_URI)"
   ]
  },
  {
   "cell_type": "markdown",
   "metadata": {},
   "source": [
    "### Read a the source documents"
   ]
  },
  {
   "cell_type": "code",
   "execution_count": 2,
   "metadata": {},
   "outputs": [],
   "source": [
    "def read_file(file_path):\n",
    "    with open(file_path, 'r') as file:\n",
    "        return file.read()\n",
    "\n",
    "def read_all_files_folder(path) -> str:\n",
    "    content = \"\"\n",
    "    for file in os.listdir(path):\n",
    "        file_content = read_file(path + file)\n",
    "        content += file_content + \"\\n\"\n",
    "    return content\n",
    "    \n",
    "content = read_all_files_folder(\"data/\")"
   ]
  },
  {
   "cell_type": "markdown",
   "metadata": {},
   "source": [
    "### Prepare the FAQ template"
   ]
  },
  {
   "cell_type": "code",
   "execution_count": 3,
   "metadata": {},
   "outputs": [],
   "source": [
    "# Create a semantic kernel inline function\n",
    "faq_template = \"\"\"System:\n",
    "You are an agent that can help generate FAQ documents.\n",
    "Today's date is February 19, 2024.\n",
    "\n",
    "User:\n",
    "For the following text, generate a detailed FAQ document titled 'Contoso Company Benefits FAQ'. \n",
    "\n",
    "Text: ===\n",
    "{{input}}\n",
    "===\n",
    "\n",
    "Sample Output format: ===\n",
    "Title: // title\n",
    "Date: // Current date\n",
    "\n",
    "Q: What is 401k?\n",
    "A:  A: A 401k plan is a retirement savings plan that allows you to contribute a portion of your pre-tax income to a designated account.\n",
    "===\n",
    "\n",
    "Use only the provided text. Do not use any external sources.\"\"\""
   ]
  },
  {
   "cell_type": "markdown",
   "metadata": {},
   "source": [
    "### Create the FAQ"
   ]
  },
  {
   "cell_type": "code",
   "execution_count": 4,
   "metadata": {},
   "outputs": [
    {
     "name": "stdout",
     "output_type": "stream",
     "text": [
      "Title: Contoso Company Benefits FAQ\n",
      "Date: February 19, 2024\n",
      "\n",
      "Q: What is a 401k plan?\n",
      "A: A 401k plan is a retirement savings plan that allows you to contribute a portion of your pre-tax income to a designated account.\n",
      "\n",
      "Q: Who is eligible for the 401k plan at Contoso?\n",
      "A: The company offers a 401k plan to all eligible employees as part of its benefits package.\n",
      "\n",
      "Q: Does Contoso match 401k contributions?\n",
      "A: Yes, the company matches your contributions up to a certain percentage, which depends on your years of service and salary level.\n",
      "\n",
      "Q: Who administers the 401k plan for Contoso?\n",
      "A: The 401k plan is administered by a third-party provider, who is responsible for investing your contributions and providing you with online access to your account.\n",
      "\n",
      "Q: Can I choose my investment options for my 401k plan?\n",
      "A: Yes, you can choose from a variety of investment options, ranging from conservative to aggressive, depending on your risk tolerance and retirement goals.\n",
      "\n",
      "Q: Am I able to change my contribution amount and investment allocation?\n",
      "A: Yes, you can change your contribution amount and investment allocation at any time, subject to certain restrictions and fees.\n",
      "\n",
      "Q: Are there rules and limitations to the 401k plan?\n",
      "A: Yes, there are rules such as withdrawal limitations before age 59.5, potential penalties and taxes for early withdrawal, and rules regarding loans from your 401k account.\n",
      "\n",
      "Q: Where can I find more details about the 401k plan?\n",
      "A: You can read the summary plan description (SPD) and the participant disclosure notice (PDN) for more details. These documents are available on the provider's website or through the human resources department.\n",
      "\n",
      "Q: Who do I contact if I have questions about the 401k plan?\n",
      "A: You can contact the provider's customer service center, visit their website, or consult with a financial planner or tax advisor for personalized advice.\n",
      "\n",
      "Q: What health insurance benefits does Contoso offer?\n",
      "A: Contoso covers 100% of the premiums for medical, dental, and vision plans for employees and their dependents, along with flexible spending accounts, health savings accounts, and wellness programs.\n",
      "\n",
      "Q: What retirement savings benefits are available?\n",
      "A: Contoso matches 50% of employees' contributions to their 401(k) plans, up to 6% of their salary, and offers financial education and planning services.\n",
      "\n",
      "Q: What paid time off policies does Contoso have?\n",
      "A: Contoso offers vacation, sick leave, holidays, parental leave, and sabbatical leave as part of its paid time off policies.\n",
      "\n",
      "Q: Does Contoso support professional development?\n",
      "A: Yes, Contoso provides opportunities for learning new skills, career advancement, and pursuing passions through tuition reimbursement, online courses, mentoring programs, and internal mobility.\n",
      "\n",
      "Q: How does Contoso promote work-life balance?\n",
      "A: Contoso respects work-life balance with flexible work arrangements, remote work options, employee assistance programs, and a culture of recognition and appreciation.\n"
     ]
    }
   ],
   "source": [
    "# Execute the function\n",
    "template = common.render_template(faq_template, input=content)\n",
    "faq_doc = common.Call_OpenAI(client,common.gpt_api_deployment,template,max_tokens=2048)\n",
    "print(faq_doc)"
   ]
  }
 ],
 "metadata": {
  "kernelspec": {
   "display_name": "v31013",
   "language": "python",
   "name": "python3"
  },
  "language_info": {
   "codemirror_mode": {
    "name": "ipython",
    "version": 3
   },
   "file_extension": ".py",
   "mimetype": "text/x-python",
   "name": "python",
   "nbconvert_exporter": "python",
   "pygments_lexer": "ipython3",
   "version": "3.10.13"
  },
  "orig_nbformat": 4,
  "polyglot_notebook": {
   "kernelInfo": {
    "defaultKernelName": "csharp",
    "items": [
     {
      "aliases": [],
      "name": "csharp"
     }
    ]
   }
  }
 },
 "nbformat": 4,
 "nbformat_minor": 2
}
