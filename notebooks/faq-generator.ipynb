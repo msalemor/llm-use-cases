{
 "cells": [
  {
   "cell_type": "code",
   "execution_count": 1,
   "metadata": {},
   "outputs": [],
   "source": [
    "import common\n",
    "\n",
    "# Get a configured model\n",
    "client = common.get_openai_client(api_key=common.api_KEY,\n",
    "        api_version=common.api_version,\n",
    "        azure_endpoint=common.api_URI)"
   ]
  },
  {
   "cell_type": "markdown",
   "metadata": {},
   "source": [
    "### Read a the doc for which an FAQ should be generated"
   ]
  },
  {
   "cell_type": "code",
   "execution_count": 13,
   "metadata": {},
   "outputs": [],
   "source": [
    "def read_file(file_path):\n",
    "    with open(file_path, 'r') as file:\n",
    "        return file.read()\n",
    "contents = read_file('data/401k.txt')"
   ]
  },
  {
   "cell_type": "markdown",
   "metadata": {},
   "source": [
    "### Prepare the FAQ template"
   ]
  },
  {
   "cell_type": "code",
   "execution_count": 6,
   "metadata": {},
   "outputs": [],
   "source": [
    "# Create a semantic kernel inline function\n",
    "faq_template = \"\"\"System:\n",
    "You are an agent that can help generate FAQ documents.\n",
    "\n",
    "User:\n",
    "For the following text, generate an FAQ. \n",
    "\n",
    "Text: ===\n",
    "{{input}}\n",
    "===\n",
    "\n",
    "Use only the provided text. Do not use any external sources.\n",
    "\n",
    "\"\"\""
   ]
  },
  {
   "cell_type": "markdown",
   "metadata": {},
   "source": [
    "### Create the FAQ"
   ]
  },
  {
   "cell_type": "code",
   "execution_count": 11,
   "metadata": {},
   "outputs": [
    {
     "name": "stdout",
     "output_type": "stream",
     "text": [
      "FAQ Document: 401K Policy at Contoso\n",
      "\n",
      "Q: What is a 401k plan?\n",
      "A: A 401k plan is a retirement savings plan that allows employees to contribute a portion of their pre-tax income to a designated account.\n",
      "\n",
      "Q: Who is eligible for the 401k plan at Contoso?\n",
      "A: All eligible employees at Contoso are offered a 401k plan as part of the company's benefits package.\n",
      "\n",
      "Q: Does Contoso match 401k contributions?\n",
      "A: Yes, Contoso matches employee contributions up to a certain percentage, which is determined by the employee's years of service and salary level.\n",
      "\n",
      "Q: Who administers the 401k plan?\n",
      "A: The 401k plan is administered by a third-party provider responsible for investing contributions and providing online account access.\n",
      "\n",
      "Q: Can I choose my investment options?\n",
      "A: Yes, you can choose from a variety of investment options and change your contribution amount and investment allocation at any time, subject to restrictions and fees.\n",
      "\n",
      "Q: What are the rules and limitations of withdrawing from my 401k account?\n",
      "A: Withdrawals are typically allowed under certain circumstances, such as reaching age 59.5, leaving the company, or experiencing financial hardship. Early withdrawals may incur a 10% penalty tax and income tax.\n",
      "\n",
      "Q: Are there penalties for failing to repay a loan from my 401k account?\n",
      "A: Yes, if you take out a loan from your 401k account and fail to repay it on time, you may have to pay taxes and penalties.\n",
      "\n",
      "Q: Where can I find more details about the 401k plan?\n",
      "A: You can read the summary plan description (SPD) and the participant disclosure notice (PDN) for detailed information about the plan, available on the provider's website or through the human resources department.\n",
      "\n",
      "Q: Who should I contact if I have questions about the 401k plan or need assistance?\n",
      "A: For questions or assistance, contact the provider's customer service center, visit their website, or consult with a financial planner or tax advisor for personalized retirement planning advice.\n"
     ]
    }
   ],
   "source": [
    "# Execute the function\n",
    "template = common.render_template(faq_template, input=contents)\n",
    "faq_doc = common.Call_OpenAI(client,common.gpt_api_deployment,template,max_tokens=2048)\n",
    "print(faq_doc)"
   ]
  }
 ],
 "metadata": {
  "kernelspec": {
   "display_name": ".venv",
   "language": "python",
   "name": "python3"
  },
  "language_info": {
   "codemirror_mode": {
    "name": "ipython",
    "version": 3
   },
   "file_extension": ".py",
   "mimetype": "text/x-python",
   "name": "python",
   "nbconvert_exporter": "python",
   "pygments_lexer": "ipython3",
   "version": "3.10.12"
  },
  "orig_nbformat": 4
 },
 "nbformat": 4,
 "nbformat_minor": 2
}
