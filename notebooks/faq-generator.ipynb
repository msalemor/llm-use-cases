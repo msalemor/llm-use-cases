{
 "cells": [
  {
   "cell_type": "code",
   "execution_count": 1,
   "metadata": {},
   "outputs": [],
   "source": [
    "import common\n",
    "import os\n",
    "\n",
    "# Get a configured model\n",
    "client = common.get_openai_client(api_key=common.api_KEY,\n",
    "        api_version=common.api_version,\n",
    "        azure_endpoint=common.api_URI)"
   ]
  },
  {
   "cell_type": "markdown",
   "metadata": {},
   "source": [
    "### Read a the source documents"
   ]
  },
  {
   "cell_type": "code",
   "execution_count": 3,
   "metadata": {},
   "outputs": [
    {
     "name": "stdout",
     "output_type": "stream",
     "text": [
      "401K Policy\n",
      "Contoso\n",
      "\n",
      "A 401k plan is a retirement savings plan that allows you to contribute a portion of your pre-tax income to a designated account. The company offers a 401k plan to all eligible employees as part of its benefits package. The company also matches your contributions up to a certain percentage, depending on your years of service and salary level. This means that the company will add money to your 401k account for every dollar you contribute, up to the matching limit.\n",
      "\n",
      "The 401k plan is administered by a third-party provider, who is responsible for investing your contributions and providing you with online access to your account. You can choose from a variety of investment options, ranging from conservative to aggressive, depending on your risk tolerance and retirement goals. You can also change your contribution amount and investment allocation at any time, subject to certain restrictions and fees.\n",
      "\n",
      "The 401k plan is a great way to save for your future and take advantage of the company's generous matching contribution. However, there are also some rules and limitations that you should be aware of before enrolling in the plan. For example, you can only withdraw money from your 401k account under certain circumstances, such as reaching age 59.5, leaving the company, or experiencing a financial hardship. If you withdraw money before age 59.5, you may have to pay a 10% penalty tax and income tax on the amount withdrawn. You may also have to pay taxes and penalties if you take out a loan from your 401k account and fail to repay it on time.\n",
      "\n",
      "The company encourages you to read the summary plan description (SPD) and the participant disclosure notice (PDN) for more details about the 401k plan. These documents explain the eligibility requirements, contribution limits, vesting schedule, investment options, fees, withdrawal rules, and other important information about the plan. You can find these documents on the provider's website or request a copy from the human resources department.\n",
      "\n",
      "If you have any questions about the 401k plan or need assistance with enrolling or managing your account, please contact the provider's customer service center or visit their website. You can also consult with a financial planner or tax advisor for personalized advice on your retirement planning.\n",
      "\n",
      "\n",
      "y Benefits\n",
      "Contoso\n",
      "\n",
      "Health insurance: We cover 100% of the premiums for medical, dental and vision plans for our employees and their dependents. We also offer flexible spending accounts, health savings accounts and wellness programs.\n",
      "Retirement savings: We match 50% of our employees' contributions to their 401(k) plans, up to 6% of their salary. We also offer financial education and planning services to help them achieve their retirement goals.\n",
      "Paid time off: We offer generous paid time off policies, including vacation, sick leave, holidays, parental leave and sabbatical leave. We encourage our employees to take time off to recharge and spend quality time with their families and friends.\n",
      "Professional development: We invest in our employees' growth and development by providing them with opportunities to learn new skills, advance their careers and pursue their passions. We offer tuition reimbursement, online courses, mentoring programs and internal mobility.\n",
      "Work-life balance: We respect our employees' work-life balance and support them with flexible work arrangements, remote work options and employee assistance programs. We also have a culture of recognition and appreciation that celebrates our employees' achievements and contributions.\n",
      "\n",
      "\n"
     ]
    }
   ],
   "source": [
    "def read_file(file_path):\n",
    "    with open(file_path, 'r') as file:\n",
    "        return file.read()\n",
    "\n",
    "def read_all_files_folder(path) -> str:\n",
    "    content = \"\"\n",
    "    for file in os.listdir(path):\n",
    "        file_content = read_file(path + file)\n",
    "        content += file_content + \"\\n\"\n",
    "    return content\n",
    "    \n",
    "content = read_all_files_folder(\"data/\")"
   ]
  },
  {
   "cell_type": "markdown",
   "metadata": {},
   "source": [
    "### Prepare the FAQ template"
   ]
  },
  {
   "cell_type": "code",
   "execution_count": 5,
   "metadata": {},
   "outputs": [],
   "source": [
    "# Create a semantic kernel inline function\n",
    "faq_template = \"\"\"System:\n",
    "You are an agent that can help generate FAQ documents.\n",
    "Today's date is February 19, 2024.\n",
    "\n",
    "User:\n",
    "For the following text, generate a detailed FAQ document titled 'Contoso Company Benefits FAQ'. \n",
    "\n",
    "Text: ===\n",
    "{{input}}\n",
    "===\n",
    "\n",
    "Sample Output format: ===\n",
    "Title: // title\n",
    "Date: // Current date\n",
    "\n",
    "Q: What is 401k?\n",
    "A:  A: A 401k plan is a retirement savings plan that allows you to contribute a portion of your pre-tax income to a designated account.\n",
    "===\n",
    "\n",
    "Use only the provided text. Do not use any external sources.\"\"\""
   ]
  },
  {
   "cell_type": "markdown",
   "metadata": {},
   "source": [
    "### Create the FAQ"
   ]
  },
  {
   "cell_type": "code",
   "execution_count": 6,
   "metadata": {},
   "outputs": [
    {
     "name": "stdout",
     "output_type": "stream",
     "text": [
      "Title: Contoso Company Benefits FAQ\n",
      "Date: February 19, 2024\n",
      "\n",
      "Q: What is a 401k plan?\n",
      "A: A 401k plan is a retirement savings plan that allows you to contribute a portion of your pre-tax income to a designated account. It is part of the benefits package offered by Contoso to all eligible employees.\n",
      "\n",
      "Q: Does Contoso offer any contribution matching for the 401k plan?\n",
      "A: Yes, Contoso matches your contributions up to a certain percentage, which is determined by your years of service and salary level.\n",
      "\n",
      "Q: Who administers the 401k plan?\n",
      "A: The 401k plan is administered by a third-party provider, who is responsible for investing your contributions and providing you with online access to your account.\n",
      "\n",
      "Q: Can I choose my investment options for my 401k plan?\n",
      "A: Yes, you can choose from a variety of investment options ranging from conservative to aggressive, depending on your risk tolerance and retirement goals. You can also change your contribution amount and investment allocation at any time, subject to certain restrictions and fees.\n",
      "\n",
      "Q: Are there any rules and limitations to the 401k plan?\n",
      "A: Yes, there are rules and limitations such as withdrawal restrictions. You can only withdraw money under certain circumstances like reaching age 59.5, leaving the company, or experiencing financial hardship. Early withdrawals may incur a 10% penalty tax and income tax on the amount withdrawn.\n",
      "\n",
      "Q: Where can I find more details about the 401k plan?\n",
      "A: You can read the summary plan description (SPD) and the participant disclosure notice (PDN) for more details. These documents are available on the provider's website or can be requested from the human resources department.\n",
      "\n",
      "Q: Who do I contact for assistance with the 401k plan?\n",
      "A: For assistance, you can contact the provider's customer service center, visit their website, or consult with a financial planner or tax advisor for personalized retirement planning advice.\n",
      "\n",
      "Q: What health insurance benefits does Contoso offer?\n",
      "A: Contoso covers 100% of the premiums for medical, dental, and vision plans for employees and their dependents. Additionally, flexible spending accounts, health savings accounts, and wellness programs are offered.\n",
      "\n",
      "Q: What is Contoso's policy on paid time off?\n",
      "A: Contoso offers generous paid time off policies, including vacation, sick leave, holidays, parental leave, and sabbatical leave. Employees are encouraged to take time off to recharge and spend quality time with their families and friends.\n",
      "\n",
      "Q: Does Contoso support professional development for employees?\n",
      "A: Yes, Contoso invests in employees' growth and development by providing opportunities to learn new skills, advance careers, and pursue passions. This includes tuition reimbursement, online courses, mentoring programs, and internal mobility.\n",
      "\n",
      "Q: How does Contoso promote work-life balance?\n",
      "A: Contoso respects employees' work-life balance by supporting them with flexible work arrangements, remote work options, and employee assistance programs. The company culture also includes recognition and appreciation of employees' achievements and contributions.\n"
     ]
    }
   ],
   "source": [
    "# Execute the function\n",
    "template = common.render_template(faq_template, input=content)\n",
    "faq_doc = common.Call_OpenAI(client,common.gpt_api_deployment,template,max_tokens=2048)\n",
    "print(faq_doc)"
   ]
  }
 ],
 "metadata": {
  "kernelspec": {
   "display_name": ".venv",
   "language": "python",
   "name": "python3"
  },
  "language_info": {
   "codemirror_mode": {
    "name": "ipython",
    "version": 3
   },
   "file_extension": ".py",
   "mimetype": "text/x-python",
   "name": "python",
   "nbconvert_exporter": "python",
   "pygments_lexer": "ipython3",
   "version": "3.10.12"
  },
  "orig_nbformat": 4
 },
 "nbformat": 4,
 "nbformat_minor": 2
}
