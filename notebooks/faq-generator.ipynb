{
 "cells": [
  {
   "cell_type": "code",
   "execution_count": 1,
   "metadata": {},
   "outputs": [],
   "source": [
    "import common\n",
    "\n",
    "# Get a configured model\n",
    "client = common.get_openai_client(api_key=common.api_KEY,\n",
    "        api_version=common.api_version,\n",
    "        azure_endpoint=common.api_URI)"
   ]
  },
  {
   "cell_type": "markdown",
   "metadata": {},
   "source": [
    "### Read a the source document for the FAQ should be generated"
   ]
  },
  {
   "cell_type": "code",
   "execution_count": 19,
   "metadata": {},
   "outputs": [],
   "source": [
    "def read_file(file_path):\n",
    "    with open(file_path, 'r') as file:\n",
    "        return file.read()\n",
    "    \n",
    "contents1 = read_file('data/benefits.txt')\n",
    "contents2 = read_file('data/401k.txt')"
   ]
  },
  {
   "cell_type": "markdown",
   "metadata": {},
   "source": [
    "### Prepare the FAQ template"
   ]
  },
  {
   "cell_type": "code",
   "execution_count": 20,
   "metadata": {},
   "outputs": [],
   "source": [
    "# Create a semantic kernel inline function\n",
    "faq_template = \"\"\"System:\n",
    "You are an agent that can help generate FAQ documents.\n",
    "\n",
    "User:\n",
    "For the following text, generate an FAQ title 'Contoso Company Benefits FAQ'. \n",
    "\n",
    "Text: ===\n",
    "{{input}}\n",
    "===\n",
    "\n",
    "Sample Output format: ===\n",
    "Q: What is 401k?\n",
    "A:  A: A 401k plan is a retirement savings plan that allows you to contribute a portion of your pre-tax income to a designated account.\n",
    "===\n",
    "\n",
    "Use only the provided text. Do not use any external sources.\n",
    "\n",
    "\"\"\""
   ]
  },
  {
   "cell_type": "markdown",
   "metadata": {},
   "source": [
    "### Create the FAQ"
   ]
  },
  {
   "cell_type": "code",
   "execution_count": 21,
   "metadata": {},
   "outputs": [
    {
     "name": "stdout",
     "output_type": "stream",
     "text": [
      "Contoso Company Benefits FAQ\n",
      "\n",
      "Q: What types of health insurance does Contoso cover?\n",
      "A: Contoso covers 100% of the premiums for medical, dental, and vision plans for employees and their dependents.\n",
      "\n",
      "Q: Does Contoso offer any accounts for healthcare expenses?\n",
      "A: Yes, Contoso offers flexible spending accounts, health savings accounts, and wellness programs.\n",
      "\n",
      "Q: What is Contoso's policy on retirement savings?\n",
      "A: Contoso matches 50% of employees' contributions to their 401(k) plans, up to 6% of their salary.\n",
      "\n",
      "Q: Are there any services provided to help employees with retirement planning?\n",
      "A: Yes, Contoso offers financial education and planning services to help employees achieve their retirement goals.\n",
      "\n",
      "Q: What kind of paid time off does Contoso offer?\n",
      "A: Contoso offers vacation, sick leave, holidays, parental leave, and sabbatical leave as part of their paid time off policies.\n",
      "\n",
      "Q: How does Contoso support professional development?\n",
      "A: Contoso provides opportunities for learning new skills, career advancement, and pursuing passions through tuition reimbursement, online courses, mentoring programs, and internal mobility.\n",
      "\n",
      "Q: What does Contoso do to ensure work-life balance for employees?\n",
      "A: Contoso offers flexible work arrangements, remote work options, and employee assistance programs, along with a culture that recognizes and appreciates employee achievements.\n",
      "\n",
      "Q: What is a 401k plan?\n",
      "A: A 401k plan is a retirement savings plan that allows employees to contribute a portion of their pre-tax income to a designated account, with the company matching contributions up to a certain percentage.\n",
      "\n",
      "Q: Who administers Contoso's 401k plan?\n",
      "A: Contoso's 401k plan is administered by a third-party provider responsible for investing contributions and providing online account access.\n",
      "\n",
      "Q: Can employees choose their investment options in the 401k plan?\n",
      "A: Yes, employees can choose from a variety of investment options and change their contribution amount and investment allocation at any time, subject to restrictions and fees.\n",
      "\n",
      "Q: What are the rules and limitations of withdrawing from a 401k plan?\n",
      "A: Withdrawals are typically allowed after reaching age 59.5, leaving the company, or experiencing financial hardship. Early withdrawals may incur a 10% penalty tax and income tax, and there may be taxes and penalties for failing to repay a 401k loan on time.\n",
      "\n",
      "Q: Where can employees find more information about the 401k plan?\n",
      "A: Employees can read the summary plan description (SPD) and the participant disclosure notice (PDN), available on the provider's website or through the human resources department.\n",
      "\n",
      "Q: Who should employees contact for questions about the 401k plan?\n",
      "A: Employees should contact the provider's customer service center, visit their website, or consult with a financial planner or tax advisor for personalized retirement planning advice.\n"
     ]
    }
   ],
   "source": [
    "# Execute the function\n",
    "template = common.render_template(faq_template, input=contents1+contents2)\n",
    "faq_doc = common.Call_OpenAI(client,common.gpt_api_deployment,template,max_tokens=2048)\n",
    "print(faq_doc)"
   ]
  }
 ],
 "metadata": {
  "kernelspec": {
   "display_name": ".venv",
   "language": "python",
   "name": "python3"
  },
  "language_info": {
   "codemirror_mode": {
    "name": "ipython",
    "version": 3
   },
   "file_extension": ".py",
   "mimetype": "text/x-python",
   "name": "python",
   "nbconvert_exporter": "python",
   "pygments_lexer": "ipython3",
   "version": "3.10.12"
  },
  "orig_nbformat": 4
 },
 "nbformat": 4,
 "nbformat_minor": 2
}
