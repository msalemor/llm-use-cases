{
 "cells": [
  {
   "cell_type": "markdown",
   "metadata": {},
   "source": [
    "# Contract risk analysis"
   ]
  },
  {
   "cell_type": "code",
   "execution_count": 2,
   "metadata": {
    "dotnet_interactive": {
     "language": "csharp"
    },
    "polyglot_notebook": {
     "kernelName": "csharp"
    },
    "vscode": {
     "languageId": "polyglot-notebook"
    }
   },
   "outputs": [
    {
     "data": {
      "text/html": [
       "<div><div></div><div></div><div><strong>Installed Packages</strong><ul><li><span>Azure.AI.OpenAI, 1.0.0-beta.14</span></li><li><span>dotenv.net, 3.1.3</span></li><li><span>Scriban, 5.9.1</span></li></ul></div></div>"
      ]
     },
     "metadata": {},
     "output_type": "display_data"
    }
   ],
   "source": [
    "#r \"nuget: Azure.AI.OpenAI, 1.0.0-beta.14\"\n",
    "#r \"nuget: Scriban\"\n",
    "#r \"nuget: dotenv.net\"\n",
    "\n",
    "using Azure;\n",
    "using Azure.AI.OpenAI;\n",
    "using Scriban;\n",
    "\n",
    "using dotenv.net;\n",
    "DotEnv.Load();\n",
    "\n",
    "var endpoint=Environment.GetEnvironmentVariable(\"OPENAI_URI\");\n",
    "var key=Environment.GetEnvironmentVariable(\"OPENAI_KEY\");\n",
    "var model=Environment.GetEnvironmentVariable(\"OPENAI_GPT_DEPLOYMENT\");\n"
   ]
  },
  {
   "cell_type": "markdown",
   "metadata": {},
   "source": [
    "### Process a completion using the Azure SDK"
   ]
  },
  {
   "cell_type": "code",
   "execution_count": 3,
   "metadata": {
    "dotnet_interactive": {
     "language": "csharp"
    },
    "polyglot_notebook": {
     "kernelName": "csharp"
    },
    "vscode": {
     "languageId": "polyglot-notebook"
    }
   },
   "outputs": [],
   "source": [
    "async Task<string> process_competion(string prompt, int max_tokens=500, float temperature=0.3f)\n",
    "{\n",
    "    OpenAIClient client = new(new Uri(endpoint), new AzureKeyCredential(key));\n",
    "\n",
    "    var chatCompletionsOptions = new ChatCompletionsOptions()\n",
    "    {\n",
    "        DeploymentName = model, //This must match the custom deployment name you chose for your model\n",
    "        Messages =\n",
    "        {\n",
    "            new ChatRequestAssistantMessage(prompt),\n",
    "        },\n",
    "        MaxTokens = max_tokens,\n",
    "        Temperature = temperature\n",
    "    };\n",
    "\n",
    "    Response<ChatCompletions> response = await client.GetChatCompletionsAsync(chatCompletionsOptions);\n",
    "\n",
    "    return response.Value.Choices[0].Message.Content;\n",
    "}"
   ]
  },
  {
   "cell_type": "markdown",
   "metadata": {},
   "source": [
    "### Render an Scriban template"
   ]
  },
  {
   "cell_type": "code",
   "execution_count": 4,
   "metadata": {
    "dotnet_interactive": {
     "language": "csharp"
    },
    "polyglot_notebook": {
     "kernelName": "csharp"
    },
    "vscode": {
     "languageId": "polyglot-notebook"
    }
   },
   "outputs": [],
   "source": [
    "string render_tempate(string template, dynamic data) {\n",
    "    var templateObject = Template.Parse(template);\n",
    "    return templateObject.Render(data);\n",
    "}"
   ]
  },
  {
   "cell_type": "markdown",
   "metadata": {},
   "source": [
    "### Prepare a template and submit it for completion"
   ]
  },
  {
   "cell_type": "code",
   "execution_count": 5,
   "metadata": {
    "dotnet_interactive": {
     "language": "csharp"
    },
    "polyglot_notebook": {
     "kernelName": "csharp"
    },
    "vscode": {
     "languageId": "polyglot-notebook"
    }
   },
   "outputs": [
    {
     "name": "stdout",
     "output_type": "stream",
     "text": [
      "Sure! Here's the classification by animal type:\n",
      "\n",
      "Mammals:\n",
      "- Dog\n",
      "- Cat\n",
      "- Elephant\n",
      "- Dolphin\n",
      "- Whale\n",
      "\n",
      "Fish:\n",
      "- Shark\n",
      "\n",
      "Reptiles:\n",
      "- Snake\n"
     ]
    }
   ],
   "source": [
    "var promptTemplate = @\"For the following list of animals:\n",
    "\n",
    "- Dog\n",
    "- Cat\n",
    "- Elephant\n",
    "- Dolphin\n",
    "- Shark\n",
    "- Whale\n",
    "- Snake\n",
    "\n",
    "Can you classify and list by animal type?\";\n",
    "\n",
    "\n",
    "Console.WriteLine(await process_competion(promptTemplate));"
   ]
  }
 ],
 "metadata": {
  "kernelspec": {
   "display_name": ".venv",
   "language": "python",
   "name": "python3"
  },
  "language_info": {
   "codemirror_mode": {
    "name": "ipython",
    "version": 3
   },
   "file_extension": ".py",
   "mimetype": "text/x-python",
   "name": "python",
   "nbconvert_exporter": "python",
   "pygments_lexer": "ipython3",
   "version": "3.10.12"
  },
  "orig_nbformat": 4
 },
 "nbformat": 4,
 "nbformat_minor": 2
}
