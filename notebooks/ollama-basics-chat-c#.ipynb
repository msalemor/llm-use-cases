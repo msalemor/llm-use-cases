{
 "cells": [
  {
   "cell_type": "markdown",
   "metadata": {},
   "source": [
    "# Ollama template chatbot\n",
    "\n",
    "## Model\n",
    "\n",
    "- Phi3-128k-medium\n",
    "\n",
    "## Imports"
   ]
  },
  {
   "cell_type": "code",
   "execution_count": null,
   "metadata": {
    "dotnet_interactive": {
     "language": "csharp"
    },
    "polyglot_notebook": {
     "kernelName": "csharp"
    },
    "vscode": {
     "languageId": "polyglot-notebook"
    }
   },
   "outputs": [],
   "source": [
    "#r \"nuget:Scriban\"\n",
    "\n",
    "using System.Net.Http;\n",
    "using System.Text.Json;\n",
    "using Scriban;\n",
    "using Microsoft.DotNet.Interactive;\n",
    "\n",
    "var client = new HttpClient();\n"
   ]
  },
  {
   "cell_type": "markdown",
   "metadata": {},
   "source": [
    "## Supporting classes and records"
   ]
  },
  {
   "cell_type": "code",
   "execution_count": null,
   "metadata": {
    "vscode": {
     "languageId": "polyglot-notebook"
    }
   },
   "outputs": [],
   "source": [
    "public record Message(string role, string content);\n",
    "public record CompletionResponse(Message message);\n",
    "public class Chat\n",
    "{\n",
    "    public List<Message> History { get; set; }\n",
    "\n",
    "    public Chat(List<Message> history)\n",
    "    {\n",
    "        History = history;\n",
    "    }    \n",
    "}"
   ]
  },
  {
   "cell_type": "markdown",
   "metadata": {},
   "source": [
    "## Supporting methods"
   ]
  },
  {
   "cell_type": "code",
   "execution_count": null,
   "metadata": {
    "dotnet_interactive": {
     "language": "csharp"
    },
    "polyglot_notebook": {
     "kernelName": "csharp"
    },
    "vscode": {
     "languageId": "polyglot-notebook"
    }
   },
   "outputs": [],
   "source": [
    "async Task<string> Completion(string prompt, string model = \"phi3:medium-128k\", string endpoint=\"http://localhost:11434/api/chat\")\n",
    "{   \n",
    "    var messages = new Message[] { new Message(\"user\", prompt) };    \n",
    "    var jsonStr = JsonSerializer.Serialize(new { model,messages,stream=false });\n",
    "    var response = await client.PostAsync(endpoint, new StringContent(jsonStr, System.Text.Encoding.UTF8, \"application/json\"));\n",
    "    if (response.IsSuccessStatusCode)\n",
    "    {\n",
    "        var responseStr = await response.Content.ReadAsStringAsync();\n",
    "        var completion = JsonSerializer.Deserialize<CompletionResponse>(responseStr);\n",
    "        return completion.message.content;\n",
    "    }\n",
    "    return string.Empty;\n",
    "}\n",
    "\n",
    "string RenderTemplate(string template, object model)\n",
    "{\n",
    "    var templateObject = Template.Parse(template);\n",
    "    var result = templateObject.Render(model);\n",
    "    return result;\n",
    "}"
   ]
  },
  {
   "cell_type": "markdown",
   "metadata": {},
   "source": [
    "## Prepare the chat history and template"
   ]
  },
  {
   "cell_type": "markdown",
   "metadata": {},
   "source": []
  },
  {
   "cell_type": "code",
   "execution_count": null,
   "metadata": {
    "vscode": {
     "languageId": "polyglot-notebook"
    }
   },
   "outputs": [],
   "source": [
    "var chat = new Chat([new Message(\"system\", \"You are a grumpy but funny assistant.\")]);\n",
    "var template = \"{{ for message in history }}{{ message.role }}:\\n{{ message.content }}\\n{{ end }}\\nuser:\\n{{prompt}}\";"
   ]
  },
  {
   "cell_type": "markdown",
   "metadata": {},
   "source": [
    "## Process the user's input while keeping the history"
   ]
  },
  {
   "cell_type": "code",
   "execution_count": null,
   "metadata": {
    "vscode": {
     "languageId": "polyglot-notebook"
    }
   },
   "outputs": [],
   "source": [
    "while(true)\n",
    "{\n",
    "    var input = await Kernel.GetInputAsync(\"Enter a your prompt: \");\n",
    "    if (input == \"exit\")\n",
    "    {\n",
    "        break;\n",
    "    }\n",
    "    var finalPrompt = RenderTemplate(template, new { history = chat.History, prompt = input });\n",
    "    Console.WriteLine($\"Q: {input}\");\n",
    "    chat.History.Add(new Message(\"user\", input));\n",
    "    var resp = await Completion(finalPrompt);\n",
    "    Console.WriteLine($\"A: {resp}\");\n",
    "    chat.History.Add(new Message(\"assistant\", resp));\n",
    "    // As the history grows, we should limit the number of messages to keep within the model's context window\n",
    "    // Refer to this blog: https://blog.pamelafox.org/2024/06/truncating-conversation-history-for.html\n",
    "}"
   ]
  }
 ],
 "metadata": {
  "kernelspec": {
   "display_name": ".NET (C#)",
   "language": "C#",
   "name": ".net-csharp"
  },
  "language_info": {
   "codemirror_mode": {
    "name": "ipython",
    "version": 3
   },
   "file_extension": ".py",
   "mimetype": "text/x-python",
   "name": "python",
   "nbconvert_exporter": "python",
   "pygments_lexer": "ipython3",
   "version": "3.11.9"
  },
  "orig_nbformat": 4,
  "polyglot_notebook": {
   "kernelInfo": {
    "defaultKernelName": "csharp",
    "items": [
     {
      "aliases": [],
      "name": "csharp"
     }
    ]
   }
  }
 },
 "nbformat": 4,
 "nbformat_minor": 2
}
