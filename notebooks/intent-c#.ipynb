{
 "cells": [
  {
   "cell_type": "markdown",
   "metadata": {},
   "source": [
    "# Contract risk analysis"
   ]
  },
  {
   "cell_type": "code",
   "execution_count": 1,
   "metadata": {
    "dotnet_interactive": {
     "language": "csharp"
    },
    "polyglot_notebook": {
     "kernelName": "csharp"
    },
    "vscode": {
     "languageId": "polyglot-notebook"
    }
   },
   "outputs": [
    {
     "data": {
      "text/html": [
       "<div><div></div><div></div><div><strong>Installed Packages</strong><ul><li><span>Azure.AI.OpenAI, 1.0.0-beta.14</span></li><li><span>dotenv.net, 3.1.3</span></li><li><span>Scriban, 5.9.1</span></li></ul></div></div>"
      ]
     },
     "metadata": {},
     "output_type": "display_data"
    }
   ],
   "source": [
    "#r \"nuget: Azure.AI.OpenAI, 1.0.0-beta.14\"\n",
    "#r \"nuget: Scriban\"\n",
    "#r \"nuget: dotenv.net\"\n",
    "\n",
    "using Azure;\n",
    "using Azure.AI.OpenAI;\n",
    "using Scriban;\n",
    "\n",
    "using dotenv.net;\n",
    "DotEnv.Load();\n",
    "\n",
    "var endpoint=Environment.GetEnvironmentVariable(\"OPENAI_URI\");\n",
    "var key=Environment.GetEnvironmentVariable(\"OPENAI_KEY\");\n",
    "var model=Environment.GetEnvironmentVariable(\"OPENAI_GPT_DEPLOYMENT\");\n"
   ]
  },
  {
   "cell_type": "markdown",
   "metadata": {},
   "source": [
    "### Process a completion using the Azure SDK"
   ]
  },
  {
   "cell_type": "code",
   "execution_count": 2,
   "metadata": {
    "dotnet_interactive": {
     "language": "csharp"
    },
    "polyglot_notebook": {
     "kernelName": "csharp"
    },
    "vscode": {
     "languageId": "polyglot-notebook"
    }
   },
   "outputs": [],
   "source": [
    "async Task<string> process_competion(string prompt, int max_tokens=500, float temperature=0.3f)\n",
    "{\n",
    "    OpenAIClient client = new(new Uri(endpoint), new AzureKeyCredential(key));\n",
    "\n",
    "    var chatCompletionsOptions = new ChatCompletionsOptions()\n",
    "    {\n",
    "        DeploymentName = model, //This must match the custom deployment name you chose for your model\n",
    "        Messages =\n",
    "        {\n",
    "            new ChatRequestAssistantMessage(prompt),\n",
    "        },\n",
    "        MaxTokens = max_tokens,\n",
    "        Temperature = temperature\n",
    "    };\n",
    "\n",
    "    Response<ChatCompletions> response = await client.GetChatCompletionsAsync(chatCompletionsOptions);\n",
    "\n",
    "    return response.Value.Choices[0].Message.Content;\n",
    "}"
   ]
  },
  {
   "cell_type": "markdown",
   "metadata": {},
   "source": [
    "### Render an Scriban template"
   ]
  },
  {
   "cell_type": "code",
   "execution_count": 3,
   "metadata": {
    "dotnet_interactive": {
     "language": "csharp"
    },
    "polyglot_notebook": {
     "kernelName": "csharp"
    },
    "vscode": {
     "languageId": "polyglot-notebook"
    }
   },
   "outputs": [],
   "source": [
    "string render_tempate(string template, dynamic data) {\n",
    "    var templateObject = Template.Parse(template);\n",
    "    return templateObject.Render(data);\n",
    "}"
   ]
  },
  {
   "cell_type": "markdown",
   "metadata": {},
   "source": [
    "### Prepare a template and submit it for completion"
   ]
  },
  {
   "cell_type": "code",
   "execution_count": 4,
   "metadata": {
    "dotnet_interactive": {
     "language": "csharp"
    },
    "polyglot_notebook": {
     "kernelName": "csharp"
    },
    "vscode": {
     "languageId": "polyglot-notebook"
    }
   },
   "outputs": [],
   "source": [
    "var intent_template = @\"System:\n",
    "You are a travel assistant that can help determine intent. An intent is an action from the list of Defined Intents. An action is defined as a place, location, name, time or date.\n",
    "\n",
    "Defined Intents:\n",
    "GetItinerary\n",
    "Reserve\n",
    "CancelReservation\n",
    "CheckReservation\n",
    "GetReservation\n",
    "GetWeather\n",
    "Unknown\n",
    "\n",
    "User:\n",
    "What is the intent and entities for the following request:\n",
    "{{input}}\n",
    "\n",
    "Output format:\n",
    "{\n",
    "  \"\"intent\"\": \"\"intent\"\",\n",
    "  \"\"entities\"\": [\"\"action\"\"]\n",
    "}\n",
    "\n",
    "Do not provide explanations. Output in JSON format only.\";"
   ]
  },
  {
   "cell_type": "code",
   "execution_count": 9,
   "metadata": {
    "dotnet_interactive": {
     "language": "csharp"
    },
    "polyglot_notebook": {
     "kernelName": "csharp"
    },
    "vscode": {
     "languageId": "polyglot-notebook"
    }
   },
   "outputs": [
    {
     "name": "stdout",
     "output_type": "stream",
     "text": [
      "{\n",
      "  \"intent\": \"Reserve\",\n",
      "  \"entities\": [\"reservation\", \"2 people\", \"7pm\", \"Friday\", \"Friday's Restaurant\"]\n",
      "}\n"
     ]
    }
   ],
   "source": [
    "var input=\"I want to make a reservation for 2 people at 7pm on Friday at Friday's Restaurant.\";\n",
    "var prompt = render_tempate(intent_template, new {input=input});\n",
    "Console.WriteLine(await process_competion(prompt));"
   ]
  },
  {
   "cell_type": "code",
   "execution_count": 10,
   "metadata": {
    "dotnet_interactive": {
     "language": "csharp"
    },
    "polyglot_notebook": {
     "kernelName": "csharp"
    },
    "vscode": {
     "languageId": "polyglot-notebook"
    }
   },
   "outputs": [
    {
     "name": "stdout",
     "output_type": "stream",
     "text": [
      "{\n",
      "  \"intent\": \"GetWeather\",\n",
      "  \"entities\": [\"London\"]\n",
      "}\n"
     ]
    }
   ],
   "source": [
    "input=\"What is the weather like in London?\";\n",
    "var prompt = render_tempate(intent_template, new {input=input});\n",
    "Console.WriteLine(await process_competion(prompt));"
   ]
  },
  {
   "cell_type": "code",
   "execution_count": 11,
   "metadata": {
    "dotnet_interactive": {
     "language": "csharp"
    },
    "polyglot_notebook": {
     "kernelName": "csharp"
    },
    "vscode": {
     "languageId": "polyglot-notebook"
    }
   },
   "outputs": [
    {
     "name": "stdout",
     "output_type": "stream",
     "text": [
      "{\n",
      "  \"intent\": \"Unknown\",\n",
      "  \"entities\": []\n",
      "}\n"
     ]
    }
   ],
   "source": [
    "input=\"What is the speed of light?\";\n",
    "var prompt = render_tempate(intent_template, new {input=input});\n",
    "Console.WriteLine(await process_competion(prompt));"
   ]
  }
 ],
 "metadata": {
  "kernelspec": {
   "display_name": ".venv",
   "language": "python",
   "name": "python3"
  },
  "language_info": {
   "codemirror_mode": {
    "name": "ipython",
    "version": 3
   },
   "file_extension": ".py",
   "mimetype": "text/x-python",
   "name": "python",
   "nbconvert_exporter": "python",
   "pygments_lexer": "ipython3",
   "version": "3.10.12"
  },
  "orig_nbformat": 4
 },
 "nbformat": 4,
 "nbformat_minor": 2
}
