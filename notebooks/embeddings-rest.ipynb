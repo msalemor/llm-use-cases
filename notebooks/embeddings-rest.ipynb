{
 "cells": [
  {
   "cell_type": "markdown",
   "metadata": {},
   "source": [
    "# Embedding with REST\n",
    "\n",
    "- Simplest example of generating an embedding with a REST call"
   ]
  },
  {
   "cell_type": "code",
   "execution_count": null,
   "metadata": {},
   "outputs": [],
   "source": [
    "import common\n",
    "import requests\n",
    "import json\n",
    "\n",
    "\"\"\"curl https://YOUR_RESOURCE_NAME.openai.azure.com/openai/deployments/YOUR_DEPLOYMENT_NAME/embeddings?api-version=2023-05-15 \\\n",
    "  -H \"Content-Type: application/json\" \\\n",
    "  -H \"api-key: YOUR_API_KEY\" \\\n",
    "  -d \"{\\\"input\\\": \\\"The food was delicious and the waiter...\\\"}\"\"\"\n"
   ]
  },
  {
   "cell_type": "code",
   "execution_count": null,
   "metadata": {},
   "outputs": [],
   "source": [
    "def post_request(url:str, input:str):\n",
    "    headers = {\n",
    "        \"Content-Type\": \"application/json\",\n",
    "        \"api-key\": common.ada_key\n",
    "    }\n",
    "    response = requests.post(url, headers=headers, json={\"input\": input})\n",
    "    return response.json()"
   ]
  },
  {
   "cell_type": "code",
   "execution_count": null,
   "metadata": {},
   "outputs": [],
   "source": [
    "input = \"The food was delicious and the waiter...\"\n",
    "res = post_request(common.ada_full_uri, input)\n",
    "#print(f\"Embedding text:\\n{input}\\n\")\n",
    "#print(\"Embedding:\")\n",
    "#print(json.dumps(res, indent=4))\n",
    "data = res['data'][0]['embedding']\n",
    "for i in range(len(data)):\n",
    "    print(f\"{i}: {data[i]}\")"
   ]
  }
 ],
 "metadata": {
  "kernelspec": {
   "display_name": ".venv",
   "language": "python",
   "name": "python3"
  },
  "language_info": {
   "codemirror_mode": {
    "name": "ipython",
    "version": 3
   },
   "file_extension": ".py",
   "mimetype": "text/x-python",
   "name": "python",
   "nbconvert_exporter": "python",
   "pygments_lexer": "ipython3",
   "version": "3.11.8"
  },
  "orig_nbformat": 4
 },
 "nbformat": 4,
 "nbformat_minor": 2
}
