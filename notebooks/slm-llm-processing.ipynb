{
 "cells": [
  {
   "cell_type": "markdown",
   "metadata": {},
   "source": [
    "# SLM and LLM token count processing\n",
    "\n",
    "## Imports"
   ]
  },
  {
   "cell_type": "code",
   "execution_count": 71,
   "metadata": {},
   "outputs": [],
   "source": [
    "import ollama\n",
    "import common\n",
    "import tiktoken\n",
    "\n",
    "client = common.get_openai_client(api_key=common.api_KEY,\n",
    "        api_version=common.api_version,\n",
    "        azure_endpoint=common.api_URI)"
   ]
  },
  {
   "cell_type": "markdown",
   "metadata": {},
   "source": [
    "## Call Ollama and Azure GPT"
   ]
  },
  {
   "cell_type": "code",
   "execution_count": null,
   "metadata": {},
   "outputs": [],
   "source": [
    "def gpt_completion(prompt:str, model='gpt4o'):\n",
    "    completion = client.chat.completions.create(\n",
    "        model=model,\n",
    "        messages=[\n",
    "        {\n",
    "           \"role\": \"user\",\n",
    "            \"content\": prompt,\n",
    "        }]\n",
    "    )\n",
    "    \n",
    "    return completion.choices[0].message.content\n",
    "\n",
    "    \n",
    "def ollama_completion(prompt:str, model='llava'):\n",
    "    response = ollama.chat(model=model, messages=[\n",
    "    {\n",
    "        'role': 'user',\n",
    "        'content': prompt,\n",
    "    },\n",
    "    ])\n",
    "    return response['message']['content']"
   ]
  },
  {
   "cell_type": "markdown",
   "metadata": {},
   "source": [
    "## Choose to summarize based on token count with Ollama Llava or Azure OpenAI GPT4o"
   ]
  },
  {
   "cell_type": "code",
   "execution_count": null,
   "metadata": {},
   "outputs": [],
   "source": [
    "encoding = tiktoken.get_encoding(\"o200k_base\")\n",
    "def get_tokens(text: str) -> str:\n",
    "    return encoding.encode(text)\n",
    "\n",
    "def summarize(text: str):\n",
    "    template = f\"Summarize the following text in one paragraph:\\n{text}\"\n",
    "    token_count = len(get_tokens(template))\n",
    "    print(f\"Token count: {token_count}\")\n",
    "    if  token_count> 4096:\n",
    "        # GPT processing\n",
    "        print(\"Processing with GPT\")\n",
    "        return gpt_completion(template)\n",
    "    else:\n",
    "        # Ollama processing\n",
    "        print(\"Processing with Ollama\")\n",
    "        return ollama_completion(template)\n",
    "\n",
    "def read_file(file_path: str) -> str:\n",
    "    with open(file_path, 'r') as file:\n",
    "        return file.read()"
   ]
  },
  {
   "cell_type": "markdown",
   "metadata": {},
   "source": [
    "## Read a file and determine if it can be processed by Ollama locally or with Azure GPT"
   ]
  },
  {
   "cell_type": "code",
   "execution_count": 68,
   "metadata": {},
   "outputs": [
    {
     "name": "stdout",
     "output_type": "stream",
     "text": [
      "Token count: 463\n",
      "Processing with Ollama\n",
      " The text discusses a 401(k) plan offered by Contoso to its eligible employees as part of its benefits package. The company matches employee contributions up to a certain percentage, based on years of service and salary level. A third-party provider administers the plan, allowing participants to choose from various investment options ranging from conservative to aggressive. Participants can adjust their contribution amount and investment allocation at any time. While there are rules and limitations regarding withdrawals, the company encourages employees to read the summary plan description (SPD) and participant disclosure notice (PDN) for more information about the 401(k) plan. Employees with questions can contact the provider's customer service center or consult a financial planner or tax advisor. \n"
     ]
    }
   ],
   "source": [
    "short_data = read_file(\"data/401k.txt\")\n",
    "print(summarize(short_data))"
   ]
  },
  {
   "cell_type": "markdown",
   "metadata": {},
   "source": [
    "## Read a file and determine if it can be processed by Ollama locally or with Azure GPT"
   ]
  },
  {
   "cell_type": "code",
   "execution_count": 69,
   "metadata": {},
   "outputs": [
    {
     "name": "stdout",
     "output_type": "stream",
     "text": [
      "Token count: 5797\n",
      "Processing with GPT\n",
      "Kubernetes is an evolving platform for managing container-based applications, focusing on application workloads rather than infrastructure. It uses a declarative approach to deployments supported by robust APIs, facilitating modern, portable, microservices-based applications. Azure Kubernetes Service (AKS) simplifies Kubernetes management by handling the control plane, with users only paying for the nodes running applications. Kubernetes architecture splits into a control plane and nodes; the control plane manages core services and workload orchestration, while nodes execute application workloads. Components like kube-apiserver and etcd in the control plane and kubelet and kube-proxy on nodes play crucial roles. AKS nodes use Azure VMs, with configurable sizes and scaling to meet application demands. Current best practices include using deployments for stateless applications and StatefulSets or DaemonSets for stateful applications and specific tasks respectively. Kubernetes deployments use YAML manifests for defining applications, while Helm charts help manage application packages. Resources are logically grouped into namespaces to divide the AKS cluster for management and access control. Container runtime configuration uses containerd, which has replaced Docker, enhancing performance and resource usage. Resource reservations ensure node functionality, with specific rules for CPU and memory allocation. Lastly, node pools allow scalability and reliability, with each group containing VMs based on the desired configuration.\n"
     ]
    }
   ],
   "source": [
    "long_data = read_file(\"data/aks_core_concepts.txt\")\n",
    "print(summarize(long_data))\n"
   ]
  }
 ],
 "metadata": {
  "kernelspec": {
   "display_name": ".venv",
   "language": "python",
   "name": "python3"
  },
  "language_info": {
   "codemirror_mode": {
    "name": "ipython",
    "version": 3
   },
   "file_extension": ".py",
   "mimetype": "text/x-python",
   "name": "python",
   "nbconvert_exporter": "python",
   "pygments_lexer": "ipython3",
   "version": "3.11.9"
  },
  "orig_nbformat": 4
 },
 "nbformat": 4,
 "nbformat_minor": 2
}
