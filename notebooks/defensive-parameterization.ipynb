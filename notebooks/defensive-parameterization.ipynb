{
 "cells": [
  {
   "cell_type": "markdown",
   "metadata": {},
   "source": [
    "# Defensive Parameterization\n",
    "\n",
    "- Under this scenario, the Prompt would be created and completed on behalf of a user, only for allowed topics.\n"
   ]
  },
  {
   "cell_type": "code",
   "execution_count": 1,
   "metadata": {},
   "outputs": [],
   "source": [
    "import common\n",
    "\n",
    "# Get a configured model\n",
    "client = common.get_openai_client(api_key=common.api_KEY,\n",
    "        api_version=common.api_version,\n",
    "        azure_endpoint=common.api_URI)"
   ]
  },
  {
   "cell_type": "code",
   "execution_count": 2,
   "metadata": {},
   "outputs": [],
   "source": [
    "hr_topics = [\"company benefits\",\"401k\",\"vacation policy\",\"leave of absence\"]"
   ]
  },
  {
   "cell_type": "code",
   "execution_count": 10,
   "metadata": {},
   "outputs": [],
   "source": [
    "prompt_template = \"\"\"System:\n",
    "You are an agent that can help draft Contoso company policies given a topic.\n",
    "\n",
    "User:\n",
    "Write a company policy document for the following topic:\n",
    "\n",
    "Topic:\n",
    "{{input}}\n",
    "\"\"\""
   ]
  },
  {
   "cell_type": "code",
   "execution_count": 13,
   "metadata": {},
   "outputs": [
    {
     "name": "stdout",
     "output_type": "stream",
     "text": [
      "Contoso Company Benefits Policy\n",
      "\n",
      "At Contoso, we believe in providing our employees with a comprehensive benefits package that supports their health, well-being, and financial security. Our benefits program is designed to attract and retain top talent, and we are committed to offering competitive benefits that meet the needs of our diverse workforce.\n",
      "\n",
      "Health Benefits\n",
      "We offer a range of health benefits to our employees, including medical, dental, and vision insurance. Our medical insurance covers a variety of services, including preventative care, hospitalization, and prescription drugs. Our dental insurance covers routine check-ups, cleanings, and major dental work. Our vision insurance covers eye exams, glasses, and contact lenses. We also offer a health savings account (HSA) to help employees save for medical expenses.\n",
      "\n",
      "Retirement Benefits\n",
      "We offer a 401(k) retirement plan to help employees save for their future. We match a percentage of employee contributions, up to a certain amount, to help them reach their retirement goals. We also offer financial planning resources to help employees make informed decisions about their retirement savings.\n",
      "\n",
      "Paid Time Off\n",
      "We believe in the importance of work-life balance, and we offer generous paid time off (PTO) to our employees. This includes vacation time, sick leave, and personal days. We also offer paid holidays to ensure that our employees have time to spend with their families and loved ones.\n",
      "\n",
      "Other Benefits\n",
      "In addition to our health, retirement, and PTO benefits, we offer a range of other benefits to our employees. This includes life insurance, disability insurance, and employee assistance programs. We also offer flexible spending accounts (FSAs) to help employees save money on eligible expenses, such as childcare and healthcare costs.\n",
      "\n",
      "Eligibility\n",
      "Our benefits program is available to all full-time employees who meet the eligibility requirements. Part-time employees may be eligible for some benefits, depending on their hours worked.\n",
      "\n",
      "Conclusion\n",
      "At Contoso, we are committed to providing our employees with a comprehensive benefits package that supports their health, well-being, and financial security. We believe that our benefits program is a key part of our commitment to attracting and retaining top talent, and we are proud to offer competitive benefits that meet the needs of our diverse workforce.\n"
     ]
    }
   ],
   "source": [
    "if \"company benefits\" in hr_topics:\n",
    "    rendered_template = common.render_template(prompt_template,input=\"company benefits\")    \n",
    "    print(common.Call_OpenAI(client, common.gpt_api_deployment, rendered_template, temperature=0.0, max_tokens=500))\n"
   ]
  },
  {
   "cell_type": "code",
   "execution_count": 14,
   "metadata": {},
   "outputs": [
    {
     "name": "stdout",
     "output_type": "stream",
     "text": [
      "No brokerageLink in hr_topics\n"
     ]
    }
   ],
   "source": [
    "if \"brokerageLink\" in hr_topics:\n",
    "    rendered_template = common.render_template(prompt_template,input=\"company benefits\")    \n",
    "    print(common.Call_OpenAI(client, common.gpt_api_deployment, rendered_template, temperature=0.0))\n",
    "else:\n",
    "    print(\"No brokerageLink in hr_topics\")"
   ]
  }
 ],
 "metadata": {
  "kernelspec": {
   "display_name": ".venv",
   "language": "python",
   "name": "python3"
  },
  "language_info": {
   "codemirror_mode": {
    "name": "ipython",
    "version": 3
   },
   "file_extension": ".py",
   "mimetype": "text/x-python",
   "name": "python",
   "nbconvert_exporter": "python",
   "pygments_lexer": "ipython3",
   "version": "3.10.12"
  },
  "orig_nbformat": 4
 },
 "nbformat": 4,
 "nbformat_minor": 2
}
