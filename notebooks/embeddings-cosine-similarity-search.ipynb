{
 "cells": [
  {
   "cell_type": "markdown",
   "metadata": {},
   "source": [
    "# Embeddings - Consine Similarity\n",
    "\n",
    "- Simplest example of generating an embedding with a REST call"
   ]
  },
  {
   "cell_type": "code",
   "execution_count": 35,
   "metadata": {},
   "outputs": [],
   "source": [
    "import common\n",
    "import requests\n",
    "\n",
    "\"\"\"curl https://YOUR_RESOURCE_NAME.openai.azure.com/openai/deployments/YOUR_DEPLOYMENT_NAME/embeddings?api-version=2023-05-15 \\\n",
    "  -H \"Content-Type: application/json\" \\\n",
    "  -H \"api-key: YOUR_API_KEY\" \\\n",
    "  -d \"{\\\"input\\\": \\\"The food was delicious and the waiter...\\\"}\"\"\"\n",
    "\n",
    "# Get a configured model\n",
    "client = common.get_openai_client(api_key=common.api_KEY,\n",
    "        api_version=common.api_version,\n",
    "        azure_endpoint=common.api_URI)"
   ]
  },
  {
   "cell_type": "code",
   "execution_count": 36,
   "metadata": {},
   "outputs": [],
   "source": [
    "def post_request(url:str, prompt:str):\n",
    "    headers = {\n",
    "        \"Content-Type\": \"application/json\",\n",
    "        \"api-key\": common.api_KEY\n",
    "    }\n",
    "    response = requests.post(url, headers=headers, json={\"input\": prompt})\n",
    "    return response.json()"
   ]
  },
  {
   "cell_type": "code",
   "execution_count": 37,
   "metadata": {},
   "outputs": [],
   "source": [
    "def get_embedding(prompt:str):\n",
    "    res = post_request(common.ada_full_URI, prompt)\n",
    "    return (prompt,res['data'][0]['embedding'])"
   ]
  },
  {
   "cell_type": "code",
   "execution_count": 38,
   "metadata": {},
   "outputs": [],
   "source": [
    "def cosine_similarity(v1, v2):\n",
    "    dot_product = sum(a*b for a, b in zip(v1, v2))\n",
    "    magnitude_A = sum(a*a for a in v1)**0.5\n",
    "    magnitude_B = sum(b*b for b in v2)**0.5\n",
    "    # cosine_similarity = dot_product(A*B) / (magnitude_A * magnitude_B) is the cosine of the angle\n",
    "    # With numpy, it's simply:\n",
    "    # dot_product = np.dot(A, B)\n",
    "    # magnitude_A = np.linalg.norm(A)\n",
    "    # magnitude_B = np.linalg.norm(B)\n",
    "    # cosine_similarity = dot_product / (magnitude_A * magnitude_B)\n",
    "    return dot_product / (magnitude_A * magnitude_B)"
   ]
  },
  {
   "cell_type": "markdown",
   "metadata": {},
   "source": [
    "### Prepare the mock vector database"
   ]
  },
  {
   "cell_type": "code",
   "execution_count": 39,
   "metadata": {},
   "outputs": [],
   "source": [
    "vector_database = [\n",
    "    {\"content\":\"The chemical composition of water is H2O.\", \"embedding\":[]},\n",
    "    {\"content\":\"The speed of light is 300,000 km/s.\", \"embedding\":[]},\n",
    "    {\"content\":\"Acceleration of gravity on earth is 9.8m/s^2.\", \"embedding\":[]},\n",
    "    {\"content\":\"The chemical composition of salt or sodium clorida is NaCl.\", \"embedding\":[]},\n",
    "    {\"content\":\"\", \"embedding\":[]},\n",
    "]\n",
    "for prompt in vector_database:\n",
    "    prompt[\"embedding\"] = get_embedding(prompt[\"content\"])[1]\n"
   ]
  },
  {
   "cell_type": "markdown",
   "metadata": {},
   "source": [
    "### Embed the question"
   ]
  },
  {
   "cell_type": "code",
   "execution_count": 40,
   "metadata": {},
   "outputs": [],
   "source": [
    "(p1,e1) = get_embedding(\"What is the speed of light?\")"
   ]
  },
  {
   "cell_type": "markdown",
   "metadata": {},
   "source": [
    "### Nearest search"
   ]
  },
  {
   "cell_type": "code",
   "execution_count": 41,
   "metadata": {},
   "outputs": [
    {
     "name": "stdout",
     "output_type": "stream",
     "text": [
      "{'content': 'The speed of light is 300,000 km/s.', 'similarity': 0.9076484494720922}\n",
      "{'content': 'Acceleration of gravity on earth is 9.8m/s^2.', 'similarity': 0.8044927978430234}\n",
      "{'content': 'The chemical composition of water is H2O.', 'similarity': 0.7380432345349796}\n"
     ]
    }
   ],
   "source": [
    "limit =3\n",
    "relevance=0.5\n",
    "count = 0\n",
    "local_list = []\n",
    "for entry in vector_database:\n",
    "    cs = cosine_similarity(e1, entry[\"embedding\"])\n",
    "    if cs>relevance:\n",
    "        #print(entry)\n",
    "        local_list.append({\"content\":entry[\"content\"],\"similarity\":cs})\n",
    "    count+=1    \n",
    "    if count==limit:\n",
    "        break\n",
    "    #if (cs>0.7):\n",
    "    #    print(f\"Content: {entry[\"prompt\"]} Similarity: {cs}\")\n",
    "\n",
    "local_list.sort(key=lambda x: x[\"similarity\"], reverse=True)\n",
    "for entry in local_list:\n",
    "    print(entry)"
   ]
  }
 ],
 "metadata": {
  "kernelspec": {
   "display_name": ".venv",
   "language": "python",
   "name": "python3"
  },
  "language_info": {
   "codemirror_mode": {
    "name": "ipython",
    "version": 3
   },
   "file_extension": ".py",
   "mimetype": "text/x-python",
   "name": "python",
   "nbconvert_exporter": "python",
   "pygments_lexer": "ipython3",
   "version": "3.10.13"
  },
  "orig_nbformat": 4
 },
 "nbformat": 4,
 "nbformat_minor": 2
}
