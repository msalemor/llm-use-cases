{
 "cells": [
  {
   "cell_type": "markdown",
   "metadata": {},
   "source": [
    "# Cosine Similarity - Near Search\n",
    "\n",
    "- Perform a near search using cosine similarity\n",
    "\n",
    "### Import packages"
   ]
  },
  {
   "cell_type": "code",
   "execution_count": 1,
   "metadata": {},
   "outputs": [
    {
     "data": {
      "text/plain": [
       "'https://alemoraoaican.openai.azure.com/openai/deployments/ada-large/embeddings?api-version=2023-05-15'"
      ]
     },
     "execution_count": 1,
     "metadata": {},
     "output_type": "execute_result"
    }
   ],
   "source": [
    "import common\n",
    "import requests\n",
    "\n",
    "\"\"\"curl https://YOUR_RESOURCE_NAME.openai.azure.com/openai/deployments/YOUR_DEPLOYMENT_NAME/embeddings?api-version=2023-05-15 \\\n",
    "  -H \"Content-Type: application/json\" \\\n",
    "  -H \"api-key: YOUR_API_KEY\" \\\n",
    "  -d \"{\\\"input\\\": \\\"The food was delicious and the waiter...\\\"}\"\"\"\n",
    "common.ada_full_uri\n"
   ]
  },
  {
   "cell_type": "markdown",
   "metadata": {},
   "source": [
    "### Get an embedding\n",
    "\n",
    "- 02/2024 - new models: text-embedding-3-small and text-embedding-3-large\n",
    "- By default, the length of the embedding vector will be 1536 for text-embedding-3-small or 3072 for text-embedding-3-large. You can reduce the dimensions of the embedding by passing in the dimensions parameter without the embedding losing its concept-representing properties.\n",
    "- Parameters:\n",
    "```bash\n",
    "input string or array Required\n",
    "Input text to embed, encoded as a string or array of tokens. To embed multiple inputs in a single request, pass an array of strings or array of token arrays. The input must not exceed the max input tokens for the model (8192 tokens for text-embedding-ada-002), cannot be an empty string, and any array must be 2048 dimensions or less. Example Python code for counting tokens.\n",
    "\n",
    "model string Required\n",
    "ID of the model to use. You can use the List models API to see all of your available models, or see our Model overview for descriptions of them.\n",
    "\n",
    "encoding_format string Optional\n",
    "Defaults to float\n",
    "The format to return the embeddings in. Can be either float or base64.\n",
    "\n",
    "dimensions integer Optional\n",
    "The number of dimensions the resulting output embeddings should have. Only supported in text-embedding-3 and later models.\n",
    "\n",
    "user string Optional\n",
    "A unique identifier representing your end-user, which can help OpenAI to monitor and detect abuse. Learn more.\n",
    "```"
   ]
  },
  {
   "cell_type": "code",
   "execution_count": 38,
   "metadata": {},
   "outputs": [],
   "source": [
    "headers = {\n",
    "        \"Content-Type\": \"application/json\",\n",
    "        \"api-key\": common.ada_key\n",
    "}\n",
    "def get_embedding(input:str,model=2,dimension=1536):\n",
    "    json_data = None\n",
    "    if model != 2:\n",
    "        json_data = {\"input\": input,\"dimensions\":dimension}\n",
    "    else:\n",
    "        json_data = {\"input\": input}\n",
    "    response = requests.post(common.ada_full_uri, \n",
    "                             headers=headers, \n",
    "                             json=json_data)\n",
    "    response.raise_for_status()\n",
    "    res = response.json()\n",
    "    vector = res['data'][0]['embedding']\n",
    "    print(f\"Input: {input} Vector size: {len(vector)}\")\n",
    "    return (input,vector)"
   ]
  },
  {
   "cell_type": "markdown",
   "metadata": {},
   "source": [
    "### Calculate the Cosine Similarity"
   ]
  },
  {
   "cell_type": "code",
   "execution_count": 39,
   "metadata": {},
   "outputs": [],
   "source": [
    "def cosine_similarity(v1, v2):\n",
    "    dot_product = sum(a*b for a, b in zip(v1, v2))\n",
    "    magnitude_A = sum(a*a for a in v1)**0.5\n",
    "    magnitude_B = sum(b*b for b in v2)**0.5\n",
    "    # cosine_similarity = dot_product(A*B) / (magnitude_A * magnitude_B) is the cosine of the angle\n",
    "    # With numpy, it's simply:\n",
    "    # dot_product = np.dot(A, B)\n",
    "    # magnitude_A = np.linalg.norm(A)\n",
    "    # magnitude_B = np.linalg.norm(B)\n",
    "    # cosine_similarity = dot_product / (magnitude_A * magnitude_B)\n",
    "    return dot_product / (magnitude_A * magnitude_B)"
   ]
  },
  {
   "cell_type": "markdown",
   "metadata": {},
   "source": [
    "### Prepare the mock vector database"
   ]
  },
  {
   "cell_type": "code",
   "execution_count": 43,
   "metadata": {},
   "outputs": [],
   "source": [
    "model=3 # using new ada model 3 or previous model 2\n",
    "dimension=256 # if using models 3 you can change the dimension ortherwise it will be 1536"
   ]
  },
  {
   "cell_type": "code",
   "execution_count": 41,
   "metadata": {},
   "outputs": [
    {
     "name": "stdout",
     "output_type": "stream",
     "text": [
      "Input: The chemical composition of water is H2O. Vector size: 256\n",
      "Input: The speed of light is 300,000 km/s. Vector size: 256\n",
      "Input: Acceleration of gravity on earth is 9.8m/s^2. Vector size: 256\n",
      "Input: The chemical composition of salt or sodium clorida is NaCl. Vector size: 256\n"
     ]
    }
   ],
   "source": [
    "content = [\n",
    "    \"The chemical composition of water is H2O.\",\n",
    "    \"The speed of light is 300,000 km/s.\",\n",
    "    \"Acceleration of gravity on earth is 9.8m/s^2.\",\n",
    "    \"The chemical composition of salt or sodium clorida is NaCl.\",\n",
    "]\n",
    "vector_database = [get_embedding(c,model,dimension) for c in content]"
   ]
  },
  {
   "cell_type": "markdown",
   "metadata": {},
   "source": [
    "### Embed the question"
   ]
  },
  {
   "cell_type": "code",
   "execution_count": 42,
   "metadata": {},
   "outputs": [
    {
     "name": "stdout",
     "output_type": "stream",
     "text": [
      "Input: What is the speed of light? Vector size: 256\n"
     ]
    }
   ],
   "source": [
    "(p1,e1) = get_embedding(\"What is the speed of light?\",model,dimension)"
   ]
  },
  {
   "cell_type": "markdown",
   "metadata": {},
   "source": [
    "### Perform nearest search"
   ]
  },
  {
   "cell_type": "code",
   "execution_count": 34,
   "metadata": {},
   "outputs": [],
   "source": [
    "limit =3\n",
    "relevance=0.1\n",
    "count = 0\n",
    "results_list = []\n",
    "for entry in vector_database:\n",
    "    (content,entry_embedding) = entry\n",
    "    cs = cosine_similarity(e1, entry_embedding)\n",
    "    if cs>relevance:\n",
    "        results_list.append((content,cs))\n",
    "    count+=1    \n",
    "    if count==limit:\n",
    "        break"
   ]
  },
  {
   "cell_type": "markdown",
   "metadata": {},
   "source": [
    "### Print the results"
   ]
  },
  {
   "cell_type": "code",
   "execution_count": 35,
   "metadata": {},
   "outputs": [
    {
     "name": "stdout",
     "output_type": "stream",
     "text": [
      "Similarity: 0.6822626605775532, Content: The speed of light is 300,000 km/s.\n",
      "Similarity: 0.2587818231311923, Content: Acceleration of gravity on earth is 9.8m/s^2.\n",
      "Similarity: 0.13597596777794896, Content: The chemical composition of water is H2O.\n"
     ]
    }
   ],
   "source": [
    "results_list.sort(key=lambda x: x[1], reverse=True)\n",
    "for entry in results_list:\n",
    "    print(f\"Similarity: {entry[1]}, Content: {entry[0]}\")"
   ]
  }
 ],
 "metadata": {
  "kernelspec": {
   "display_name": ".venv",
   "language": "python",
   "name": "python3"
  },
  "language_info": {
   "codemirror_mode": {
    "name": "ipython",
    "version": 3
   },
   "file_extension": ".py",
   "mimetype": "text/x-python",
   "name": "python",
   "nbconvert_exporter": "python",
   "pygments_lexer": "ipython3",
   "version": "3.10.13"
  },
  "orig_nbformat": 4
 },
 "nbformat": 4,
 "nbformat_minor": 2
}
