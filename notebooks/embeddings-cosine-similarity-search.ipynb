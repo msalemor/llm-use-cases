{
 "cells": [
  {
   "cell_type": "markdown",
   "metadata": {},
   "source": [
    "# Consine Similarity - Near Search\n",
    "\n",
    "- Perform a near search using cosine similarity\n",
    "\n",
    "### Importt packages"
   ]
  },
  {
   "cell_type": "code",
   "execution_count": 17,
   "metadata": {},
   "outputs": [],
   "source": [
    "import common\n",
    "import requests\n",
    "\n",
    "\"\"\"curl https://YOUR_RESOURCE_NAME.openai.azure.com/openai/deployments/YOUR_DEPLOYMENT_NAME/embeddings?api-version=2023-05-15 \\\n",
    "  -H \"Content-Type: application/json\" \\\n",
    "  -H \"api-key: YOUR_API_KEY\" \\\n",
    "  -d \"{\\\"input\\\": \\\"The food was delicious and the waiter...\\\"}\"\"\"\n",
    "\n",
    "# Get a configured model\n",
    "client = common.get_openai_client(api_key=common.api_KEY,\n",
    "        api_version=common.api_version,\n",
    "        azure_endpoint=common.api_URI)"
   ]
  },
  {
   "cell_type": "markdown",
   "metadata": {},
   "source": [
    "### Make a POST request"
   ]
  },
  {
   "cell_type": "code",
   "execution_count": 18,
   "metadata": {},
   "outputs": [],
   "source": [
    "def post_request(url:str, input:str):\n",
    "    headers = {\n",
    "        \"Content-Type\": \"application/json\",\n",
    "        \"api-key\": common.api_KEY\n",
    "    }\n",
    "    response = requests.post(url, headers=headers, json={\"input\": input})\n",
    "    return response.json()"
   ]
  },
  {
   "cell_type": "markdown",
   "metadata": {},
   "source": [
    "### Get an embedding"
   ]
  },
  {
   "cell_type": "code",
   "execution_count": 19,
   "metadata": {},
   "outputs": [],
   "source": [
    "def get_embedding(input:str):\n",
    "    res = post_request(common.ada_full_URI, input)\n",
    "    return (input,res['data'][0]['embedding'])"
   ]
  },
  {
   "cell_type": "markdown",
   "metadata": {},
   "source": [
    "### Calculate the Cosine Similarity"
   ]
  },
  {
   "cell_type": "code",
   "execution_count": 20,
   "metadata": {},
   "outputs": [],
   "source": [
    "def cosine_similarity(v1, v2):\n",
    "    dot_product = sum(a*b for a, b in zip(v1, v2))\n",
    "    magnitude_A = sum(a*a for a in v1)**0.5\n",
    "    magnitude_B = sum(b*b for b in v2)**0.5\n",
    "    # cosine_similarity = dot_product(A*B) / (magnitude_A * magnitude_B) is the cosine of the angle\n",
    "    # With numpy, it's simply:\n",
    "    # dot_product = np.dot(A, B)\n",
    "    # magnitude_A = np.linalg.norm(A)\n",
    "    # magnitude_B = np.linalg.norm(B)\n",
    "    # cosine_similarity = dot_product / (magnitude_A * magnitude_B)\n",
    "    return dot_product / (magnitude_A * magnitude_B)"
   ]
  },
  {
   "cell_type": "markdown",
   "metadata": {},
   "source": [
    "### Prepare the mock vector database"
   ]
  },
  {
   "cell_type": "code",
   "execution_count": 21,
   "metadata": {},
   "outputs": [],
   "source": [
    "content = [\n",
    "    \"The chemical composition of water is H2O.\",\n",
    "    \"The speed of light is 300,000 km/s.\",\n",
    "    \"Acceleration of gravity on earth is 9.8m/s^2.\",\n",
    "    \"The chemical composition of salt or sodium clorida is NaCl.\",\n",
    "]\n",
    "vector_database = [get_embedding(c) for c in content]"
   ]
  },
  {
   "cell_type": "markdown",
   "metadata": {},
   "source": [
    "### Embed the question"
   ]
  },
  {
   "cell_type": "code",
   "execution_count": 22,
   "metadata": {},
   "outputs": [],
   "source": [
    "(p1,e1) = get_embedding(\"What is the speed of light?\")"
   ]
  },
  {
   "cell_type": "markdown",
   "metadata": {},
   "source": [
    "### Perform Nearest search"
   ]
  },
  {
   "cell_type": "code",
   "execution_count": 27,
   "metadata": {},
   "outputs": [],
   "source": [
    "limit =3\n",
    "relevance=0.5\n",
    "count = 0\n",
    "results_list = []\n",
    "for entry in vector_database:\n",
    "    (content,entry_embedding) = entry\n",
    "    cs = cosine_similarity(e1, entry_embedding)\n",
    "    if cs>relevance:\n",
    "        results_list.append((content,cs))\n",
    "    count+=1    \n",
    "    if count==limit:\n",
    "        break"
   ]
  },
  {
   "cell_type": "markdown",
   "metadata": {},
   "source": [
    "### Print Results"
   ]
  },
  {
   "cell_type": "code",
   "execution_count": 28,
   "metadata": {},
   "outputs": [
    {
     "name": "stdout",
     "output_type": "stream",
     "text": [
      "Similarity: 0.9076484494720922, Content: The speed of light is 300,000 km/s.\n",
      "Similarity: 0.8044927978430234, Content: Acceleration of gravity on earth is 9.8m/s^2.\n",
      "Similarity: 0.7380432345349796, Content: The chemical composition of water is H2O.\n"
     ]
    }
   ],
   "source": [
    "results_list.sort(key=lambda x: x[1], reverse=True)\n",
    "for entry in results_list:\n",
    "    print(f\"Similarity: {entry[1]}, Content: {entry[0]}\")"
   ]
  }
 ],
 "metadata": {
  "kernelspec": {
   "display_name": ".venv",
   "language": "python",
   "name": "python3"
  },
  "language_info": {
   "codemirror_mode": {
    "name": "ipython",
    "version": 3
   },
   "file_extension": ".py",
   "mimetype": "text/x-python",
   "name": "python",
   "nbconvert_exporter": "python",
   "pygments_lexer": "ipython3",
   "version": "3.10.13"
  },
  "orig_nbformat": 4
 },
 "nbformat": 4,
 "nbformat_minor": 2
}
