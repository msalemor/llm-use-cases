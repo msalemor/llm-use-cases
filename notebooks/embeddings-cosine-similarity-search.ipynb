{
 "cells": [
  {
   "cell_type": "markdown",
   "metadata": {},
   "source": [
    "# Embeddings - Consine Similarity\n",
    "\n",
    "- Simplest example of generating an embedding with a REST call"
   ]
  },
  {
   "cell_type": "code",
   "execution_count": 1,
   "metadata": {},
   "outputs": [],
   "source": [
    "import common\n",
    "import requests\n",
    "import json\n",
    "\n",
    "\"\"\"curl https://YOUR_RESOURCE_NAME.openai.azure.com/openai/deployments/YOUR_DEPLOYMENT_NAME/embeddings?api-version=2023-05-15 \\\n",
    "  -H \"Content-Type: application/json\" \\\n",
    "  -H \"api-key: YOUR_API_KEY\" \\\n",
    "  -d \"{\\\"input\\\": \\\"The food was delicious and the waiter...\\\"}\"\"\"\n",
    "\n",
    "# Get a configured model\n",
    "client = common.get_openai_client(api_key=common.api_KEY,\n",
    "        api_version=common.api_version,\n",
    "        azure_endpoint=common.api_URI)"
   ]
  },
  {
   "cell_type": "code",
   "execution_count": 2,
   "metadata": {},
   "outputs": [],
   "source": [
    "def post_request(url:str, prompt:str):\n",
    "    headers = {\n",
    "        \"Content-Type\": \"application/json\",\n",
    "        \"api-key\": common.api_KEY\n",
    "    }\n",
    "    response = requests.post(url, headers=headers, json={\"input\": prompt})\n",
    "    return response.json()"
   ]
  },
  {
   "cell_type": "code",
   "execution_count": 25,
   "metadata": {},
   "outputs": [],
   "source": [
    "def get_embedding(prompt:str):\n",
    "    res = post_request(common.ada_full_URI, prompt)\n",
    "    return (prompt,res['data'][0]['embedding'])"
   ]
  },
  {
   "cell_type": "code",
   "execution_count": 29,
   "metadata": {},
   "outputs": [],
   "source": [
    "def cosine_similarity(v1, v2):\n",
    "    dot_product = sum(a*b for a, b in zip(v1, v2))\n",
    "    magnitude_A = sum(a*a for a in v1)**0.5\n",
    "    magnitude_B = sum(b*b for b in v2)**0.5\n",
    "    # cosine_similarity = dot_product(A*B) / (magnitude_A * magnitude_B) is the cosine of the angle\n",
    "    # With numpy, it's simply:\n",
    "    # dot_product = np.dot(A, B)\n",
    "    # magnitude_A = np.linalg.norm(A)\n",
    "    # magnitude_B = np.linalg.norm(B)\n",
    "    # cosine_similarity = dot_product / (magnitude_A * magnitude_B)\n",
    "    return dot_product / (magnitude_A * magnitude_B)"
   ]
  },
  {
   "cell_type": "code",
   "execution_count": 4,
   "metadata": {},
   "outputs": [
    {
     "data": {
      "text/plain": [
       "[{'prompt': 'Test 1', 'embedding': [1, 2, 3, 4, 5, 6, 7, 8, 9, 10]}]"
      ]
     },
     "execution_count": 4,
     "metadata": {},
     "output_type": "execute_result"
    }
   ],
   "source": [
    "prompt_list = [\n",
    "    {\"prompt\":\"The chemical composition of water is H2O\", \"embedding\":[]},\n",
    "    {\"prompt\":\"The speed of light is 300,000 km/hr\", \"embedding\":[]},\n",
    "    {\"prompt\":\"The speed of light is 299,792 km/s\", \"embedding\":[]},\n",
    "    {\"prompt\":\"Acceleration of gravity on earth is 9.8m/s^2\", \"embedding\":[]},\n",
    "]\n"
   ]
  },
  {
   "cell_type": "code",
   "execution_count": 31,
   "metadata": {},
   "outputs": [],
   "source": [
    "(p1,e1) = get_embedding(\"I love tacos.\")\n",
    "#r1 = post_request(common.ada_full_URI, p1)\n",
    "#e1 = r1['data'][0]['embedding']\n",
    "\n",
    "(p2,e2) = get_embedding(\"I love Mexican food.\")\n"
   ]
  }
 ],
 "metadata": {
  "kernelspec": {
   "display_name": ".venv",
   "language": "python",
   "name": "python3"
  },
  "language_info": {
   "codemirror_mode": {
    "name": "ipython",
    "version": 3
   },
   "file_extension": ".py",
   "mimetype": "text/x-python",
   "name": "python",
   "nbconvert_exporter": "python",
   "pygments_lexer": "ipython3",
   "version": "3.10.13"
  },
  "orig_nbformat": 4
 },
 "nbformat": 4,
 "nbformat_minor": 2
}
