{
 "cells": [
  {
   "cell_type": "code",
   "execution_count": 2,
   "metadata": {},
   "outputs": [],
   "source": [
    "import common\n",
    "\n",
    "# Get a configured kernel\n",
    "kernel = common.get_kernel()"
   ]
  },
  {
   "cell_type": "code",
   "execution_count": 5,
   "metadata": {},
   "outputs": [
    {
     "name": "stdout",
     "output_type": "stream",
     "text": [
      "Azure Container Apps es un entorno completamente administrado que le permite ejecutar microservicios y aplicaciones en contenedores en una plataforma sin servidor. Los usos comunes de Azure Container Apps incluyen: \n",
      "Desplegar puntos finales de API\n",
      "Alojar aplicaciones de procesamiento en segundo plano\n",
      "Manejar procesamiento impulsado por eventos\n",
      "Ejecutar microservicios.\n"
     ]
    }
   ],
   "source": [
    "languageCodes = {\n",
    "    \"en\": \"English\",\n",
    "    \"es\": \"Spanish\",\n",
    "}\n",
    "\n",
    "def mock_get_extract_language(languageCode) -> str:\n",
    "    if (languageCode == \"en\"):\n",
    "        return '''Azure Container Apps is a fully managed environment that enables you to run microservices and containerized applications on a serverless platform. Common uses of Azure Container Apps include:\n",
    "Deploying API endpoints\n",
    "Hosting background processing applications\n",
    "Handling event-driven processing\n",
    "Running microservices'''\n",
    "    return \"\"\n",
    "\n",
    "\n",
    "source_language = languageCodes[\"en\"]  # English\n",
    "target_language = languageCodes[\"es\"]  # Spanish\n",
    "target_text = mock_get_extract_language(\"en\")\n",
    "\n",
    "translationFunc = kernel.create_semantic_function('Translate the text from {{$Source}} to {{$Target}}.\\nText:\\n\\n{{$input}}',max_tokens=100,temperature=0.3)\n",
    "context = kernel.create_new_context()\n",
    "context['Source'] = source_language\n",
    "context['Target'] = target_language\n",
    "context['input'] = target_text\n",
    "\n",
    "bot_answer = await translationFunc.invoke_async(context=context)\n",
    "print(bot_answer)"
   ]
  }
 ],
 "metadata": {
  "kernelspec": {
   "display_name": ".venv",
   "language": "python",
   "name": "python3"
  },
  "language_info": {
   "codemirror_mode": {
    "name": "ipython",
    "version": 3
   },
   "file_extension": ".py",
   "mimetype": "text/x-python",
   "name": "python",
   "nbconvert_exporter": "python",
   "pygments_lexer": "ipython3",
   "version": "3.10.12"
  },
  "orig_nbformat": 4
 },
 "nbformat": 4,
 "nbformat_minor": 2
}
