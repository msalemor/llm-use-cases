{
 "cells": [
  {
   "cell_type": "code",
   "execution_count": 1,
   "metadata": {},
   "outputs": [
    {
     "name": "stdout",
     "output_type": "stream",
     "text": [
      "Azure Container Apps es un entorno completamente administrado que le permite ejecutar microservicios y aplicaciones en contenedores en una plataforma sin servidor. Los usos comunes de Azure Container Apps incluyen:\n",
      "Desplegar puntos finales de API\n",
      "Hospedar aplicaciones de procesamiento en segundo plano\n",
      "Manejar procesamiento impulsado por eventos\n",
      "Ejecutar microservicios.\n"
     ]
    }
   ],
   "source": [
    "import os\n",
    "import openai\n",
    "from dotenv import load_dotenv\n",
    "\n",
    "load_dotenv()\n",
    "\n",
    "openai.api_type = \"azure\"\n",
    "# This comes from keys in the Azure Portal for OpenAI\n",
    "openai.api_base = os.getenv(\"OPENAI_URI\")\n",
    "# This comes from keys in the Azure Portal for OpenAI\n",
    "openai.api_key = os.getenv(\"OPENAI_KEY\")\n",
    "# This is the name in the Azure portal for OpenAI given to the ChatGPT3.5 model\n",
    "openai.api_version = \"2023-03-15-preview\"\n",
    "engine = \"gpt\"\n",
    "assistant_role = \"You are an assistant that can help with language translations.\"\n",
    "\n",
    "languageCodes = {\n",
    "    \"en\": \"English\",\n",
    "    \"es\": \"Spanish\",\n",
    "}\n",
    "\n",
    "\n",
    "def mock_get_extract_language(languageCode) -> str:\n",
    "    if (languageCode == \"en\"):\n",
    "        return '''Azure Container Apps is a fully managed environment that enables you to run microservices and containerized applications on a serverless platform. Common uses of Azure Container Apps include:\n",
    "Deploying API endpoints\n",
    "Hosting background processing applications\n",
    "Handling event-driven processing\n",
    "Running microservices'''\n",
    "    return \"\"\n",
    "\n",
    "\n",
    "source_language = languageCodes[\"en\"]  # English\n",
    "target_language = languageCodes[\"es\"]  # Spanish\n",
    "target_text = mock_get_extract_language(\"en\")\n",
    "\n",
    "prompt = f'Translate the text from {source_language} to {target_language}.\\nText\\n\\n{target_text}'\n",
    "\n",
    "response = openai.ChatCompletion.create(\n",
    "    engine=\"gpt\",\n",
    "    messages=[{\"role\": \"system\", \"content\": assistant_role},\n",
    "              {\"role\": \"user\", \"content\": prompt}],\n",
    "    temperature=0.1,\n",
    "    max_tokens=100,\n",
    "    top_p=0.95,\n",
    "    frequency_penalty=0,\n",
    "    presence_penalty=0,\n",
    "    stop=None)\n",
    "\n",
    "completion = response.choices[0].message.content\n",
    "print(completion)"
   ]
  }
 ],
 "metadata": {
  "kernelspec": {
   "display_name": ".venv",
   "language": "python",
   "name": "python3"
  },
  "language_info": {
   "codemirror_mode": {
    "name": "ipython",
    "version": 3
   },
   "file_extension": ".py",
   "mimetype": "text/x-python",
   "name": "python",
   "nbconvert_exporter": "python",
   "pygments_lexer": "ipython3",
   "version": "3.10.6"
  },
  "orig_nbformat": 4
 },
 "nbformat": 4,
 "nbformat_minor": 2
}
