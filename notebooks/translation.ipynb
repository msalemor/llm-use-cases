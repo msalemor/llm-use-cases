{
 "cells": [
  {
   "cell_type": "code",
   "execution_count": null,
   "metadata": {},
   "outputs": [],
   "source": [
    "import common\n",
    "\n",
    "# Get a configured Semantic Kernel\n",
    "# Note all other demos except this one use the OpenAI SDK\n",
    "kernel = common.get_kernel()"
   ]
  },
  {
   "cell_type": "code",
   "execution_count": null,
   "metadata": {},
   "outputs": [],
   "source": [
    "languageCodes = {\n",
    "    \"en\": \"English\",\n",
    "    \"es\": \"Spanish\",\n",
    "}\n",
    "\n",
    "def mock_get_extract_language(languageCode) -> str:\n",
    "    if (languageCode == \"en\"):\n",
    "        return '''Azure Container Apps is a fully managed environment that enables you to run microservices and containerized applications on a serverless platform. Common uses of Azure Container Apps include:\n",
    "Deploying API endpoints\n",
    "Hosting background processing applications\n",
    "Handling event-driven processing\n",
    "Running microservices'''\n",
    "    return \"\"\n",
    "\n",
    "\n",
    "source_language = languageCodes[\"en\"]  # English\n",
    "target_language = languageCodes[\"es\"]  # Spanish\n",
    "target_text = mock_get_extract_language(\"en\")\n",
    "\n",
    "translation_template = \"'Translate the text from {{$Source}} to {{$Target}}.\\nText:\\n\\n{{$input}}'\"\n",
    "translationFunc = kernel.create_semantic_function(translation_template,max_tokens=100,temperature=0.3)\n",
    "context = kernel.create_new_context()\n",
    "context['Source'] = source_language\n",
    "context['Target'] = target_language\n",
    "context['input'] = target_text\n",
    "\n",
    "bot_answer = await translationFunc.invoke_async(context=context)\n",
    "print(bot_answer)"
   ]
  }
 ],
 "metadata": {
  "kernelspec": {
   "display_name": ".venv",
   "language": "python",
   "name": "python3"
  },
  "language_info": {
   "codemirror_mode": {
    "name": "ipython",
    "version": 3
   },
   "file_extension": ".py",
   "mimetype": "text/x-python",
   "name": "python",
   "nbconvert_exporter": "python",
   "pygments_lexer": "ipython3",
   "version": "3.10.12"
  },
  "orig_nbformat": 4
 },
 "nbformat": 4,
 "nbformat_minor": 2
}
