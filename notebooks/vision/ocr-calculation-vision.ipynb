{
 "cells": [
  {
   "cell_type": "markdown",
   "metadata": {},
   "source": [
    "# Split bill - Vision (OCR + calculation)\n",
    "\n",
    "Under this scenario, a bill in analyzed and the total is split between 3 people."
   ]
  },
  {
   "cell_type": "code",
   "execution_count": 3,
   "metadata": {},
   "outputs": [],
   "source": [
    "# Added so that I can refer to common in the parent folder\n",
    "from pathlib import Path\n",
    "import sys\n",
    "path = str(Path(Path('.').parent.absolute()).parent.absolute())\n",
    "sys.path.insert(0, path)\n",
    "\n",
    "# Import the common module\n",
    "import common\n",
    "import os\n",
    "from PIL import Image\n",
    "import requests\n",
    "from io import BytesIO"
   ]
  },
  {
   "cell_type": "code",
   "execution_count": 4,
   "metadata": {},
   "outputs": [],
   "source": [
    "# Get a configured model\n",
    "client = common.get_openai_client(\n",
    "        api_key=common.api_KEY,\n",
    "        api_version=common.api_version,\n",
    "        azure_endpoint=common.api_URI)"
   ]
  },
  {
   "cell_type": "code",
   "execution_count": 5,
   "metadata": {},
   "outputs": [],
   "source": [
    "def call_openai(url:str,prompt:str,max_tokens=1000,temperature=0.2):\n",
    "    response = client.chat.completions.create(\n",
    "            model=common.gpt_api_deployment,\n",
    "            messages=[\n",
    "                {\n",
    "                \"role\": \"system\",\n",
    "                \"content\": \"You are a helpful assistant that can help provide a compute recommendation based on the provided information. Use only the provided information.\"\n",
    "                },\n",
    "                {\n",
    "                \"role\": \"user\",\n",
    "                \"content\": [\n",
    "                    {\"type\": \"text\", \"text\": prompt},\n",
    "                    {\n",
    "                    \"type\": \"image_url\",\n",
    "                    \"image_url\": {\n",
    "                        \"url\": url,\n",
    "                        \"detail\": \"high\"\n",
    "                    },\n",
    "                    },\n",
    "                ],\n",
    "                }\n",
    "            ],\n",
    "            max_tokens=max_tokens,\n",
    "            temperature=temperature\n",
    "        )\n",
    "    return str(response.choices[0].message.content)"
   ]
  },
  {
   "cell_type": "code",
   "execution_count": 6,
   "metadata": {},
   "outputs": [],
   "source": [
    "def get_image(url):\n",
    "    response = requests.get(url)\n",
    "    img = Image.open(BytesIO(response.content))\n",
    "    img = img.resize((img.width//2, img.height//2))\n",
    "    return img\n"
   ]
  },
  {
   "cell_type": "code",
   "execution_count": 7,
   "metadata": {},
   "outputs": [],
   "source": [
    "url = \"https://alemoraoaist.z13.web.core.windows.net/images/bill-for-ocr.png\"\n"
   ]
  },
  {
   "cell_type": "code",
   "execution_count": 8,
   "metadata": {},
   "outputs": [],
   "source": [
    "def full_process(url, question):\n",
    "    print(\"Image:\")\n",
    "    get_image(url).show()\n",
    "    print(\"User:\")\n",
    "    common.split_sentence(question)\n",
    "    print(\"\\nAssistant:\")\n",
    "    ans = call_openai(url,question)\n",
    "    common.split_sentence(ans)"
   ]
  },
  {
   "cell_type": "code",
   "execution_count": 9,
   "metadata": {},
   "outputs": [
    {
     "name": "stdout",
     "output_type": "stream",
     "text": [
      "Image:\n"
     ]
    },
    {
     "data": {
      "image/png": "[encoded data removed]",
      "text/plain": [
       "<PIL.Image.Image image mode=P size=583x420>"
      ]
     },
     "metadata": {},
     "output_type": "display_data"
    },
    {
     "name": "stdout",
     "output_type": "stream",
     "text": [
      "User:\n",
      "Describe what is in the image.\n",
      "\n",
      "Assistant:\n",
      "The image shows a bill statement from Contoso Mobile. The bill is addressed to a customer living at 123 X Street,\n",
      "Somewhere, FL 33138. The due date for the bill is March 25, 2024. The bill details are presented in a table with two\n",
      "columns: Category and Amount. The categories and amounts listed are as follows: - Previous Balance: $110.25 - Payment –\n",
      "Thank you: $110.25CR (CR likely indicates a credit) - Adjustments: $0.00 - New Charges: $135.28 - Total Amount Due:\n",
      "$135.28 The table has a blue header and alternating blue and white rows for each category.\n"
     ]
    }
   ],
   "source": [
    "question = \"Describe what is in the image.\"\n",
    "full_process(url, question)"
   ]
  },
  {
   "cell_type": "code",
   "execution_count": 9,
   "metadata": {},
   "outputs": [
    {
     "name": "stdout",
     "output_type": "stream",
     "text": [
      "Image:\n"
     ]
    },
    {
     "data": {
      "image/png": "[encoded data removed]",
      "text/plain": [
       "<PIL.Image.Image image mode=P size=583x420>"
      ]
     },
     "metadata": {},
     "output_type": "display_data"
    },
    {
     "name": "stdout",
     "output_type": "stream",
     "text": [
      "User:\n",
      "Get a list of the charges. Output in CSV format and the category and amount columns. What is the total amount? Divide\n",
      "the amount by 3 people. What is each one's share?\n",
      "\n",
      "Assistant:\n",
      "```csv Category,Amount Previous Balance,110.25 Payment – Thank you,-110.25 Adjustments,0.00 New Charges,135.28 Total\n",
      "Amount Due,135.28 ``` The total amount due is $135.28. Divided by 3 people, each one's share is: $135.28 / 3 = $45.09\n",
      "(rounded to two decimal places)\n"
     ]
    }
   ],
   "source": [
    "question = \"\"\"Get a list of the charges. \n",
    "\n",
    "Output in CSV format and the category and amount columns.\n",
    "\n",
    "What is the total amount? Divide the amount by 3 people. What is each one's share?\n",
    "\n",
    "\"\"\"\n",
    "full_process(url, question)"
   ]
  }
 ],
 "metadata": {
  "kernelspec": {
   "display_name": ".venv",
   "language": "python",
   "name": "python3"
  },
  "language_info": {
   "codemirror_mode": {
    "name": "ipython",
    "version": 3
   },
   "file_extension": ".py",
   "mimetype": "text/x-python",
   "name": "python",
   "nbconvert_exporter": "python",
   "pygments_lexer": "ipython3",
   "version": "3.10.13"
  },
  "orig_nbformat": 4
 },
 "nbformat": 4,
 "nbformat_minor": 2
}
