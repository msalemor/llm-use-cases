{
 "cells": [
  {
   "cell_type": "markdown",
   "metadata": {},
   "source": [
    "# Contract risk analysis"
   ]
  },
  {
   "cell_type": "code",
   "execution_count": 7,
   "metadata": {
    "dotnet_interactive": {
     "language": "csharp"
    },
    "polyglot_notebook": {
     "kernelName": "csharp"
    },
    "vscode": {
     "languageId": "polyglot-notebook"
    }
   },
   "outputs": [
    {
     "data": {
      "text/html": [
       "<div><div></div><div></div><div><strong>Installed Packages</strong><ul><li><span>Azure.AI.OpenAI, 1.0.0-beta.14</span></li><li><span>dotenv.net, 3.1.3</span></li><li><span>Scriban, 5.9.1</span></li></ul></div></div>"
      ]
     },
     "metadata": {},
     "output_type": "display_data"
    }
   ],
   "source": [
    "#r \"nuget: Azure.AI.OpenAI, 1.0.0-beta.14\"\n",
    "#r \"nuget: Scriban\"\n",
    "#r \"nuget: dotenv.net\"\n",
    "\n",
    "using Azure;\n",
    "using Azure.AI.OpenAI;\n",
    "using Scriban;\n",
    "\n",
    "using dotenv.net;\n",
    "DotEnv.Load(options: new DotEnvOptions(envFilePaths: new[] { \"../.env\" }));\n",
    "\n",
    "var endpoint=Environment.GetEnvironmentVariable(\"OPENAI_URI\");\n",
    "var key=Environment.GetEnvironmentVariable(\"OPENAI_KEY\");\n",
    "var model=Environment.GetEnvironmentVariable(\"OPENAI_GPT_DEPLOYMENT\");\n",
    "\n"
   ]
  },
  {
   "cell_type": "markdown",
   "metadata": {},
   "source": [
    "### Process a completion using the Azure SDK"
   ]
  },
  {
   "cell_type": "code",
   "execution_count": 10,
   "metadata": {
    "dotnet_interactive": {
     "language": "csharp"
    },
    "polyglot_notebook": {
     "kernelName": "csharp"
    },
    "vscode": {
     "languageId": "polyglot-notebook"
    }
   },
   "outputs": [],
   "source": [
    "async Task<string> ProcessCompletion(string prompt, string imageUri, int max_tokens=500, float temperature=0.3f)\n",
    "{\n",
    "    OpenAIClient client = new(new Uri(endpoint), new AzureKeyCredential(key));\n",
    "\n",
    "    var chatCompletionsOptions = new ChatCompletionsOptions()\n",
    "    {\n",
    "        DeploymentName = model, //This must match the custom deployment name you chose for your model\n",
    "        Messages =\n",
    "        {\n",
    "            new ChatRequestUserMessage(\n",
    "                new ChatMessageTextContentItem(prompt),\n",
    "                new ChatMessageImageContentItem(new Uri(imageUri))),\n",
    "        },\n",
    "        MaxTokens = max_tokens,\n",
    "        Temperature = temperature\n",
    "    };\n",
    "\n",
    "    Response<ChatCompletions> response = await client.GetChatCompletionsAsync(chatCompletionsOptions);\n",
    "\n",
    "    return response.Value.Choices[0].Message.Content;\n",
    "}"
   ]
  },
  {
   "cell_type": "code",
   "execution_count": 11,
   "metadata": {
    "dotnet_interactive": {
     "language": "csharp"
    },
    "polyglot_notebook": {
     "kernelName": "csharp"
    },
    "vscode": {
     "languageId": "polyglot-notebook"
    }
   },
   "outputs": [
    {
     "name": "stdout",
     "output_type": "stream",
     "text": [
      "The image is a flowchart that helps users decide which Azure service to use for their application deployment. It starts with a decision on whether to migrate an existing application or build a new one. Based on the requirements such as full control, high-performance computing workload, use of Spring Boot apps, event-driven workload, managed web hosting platform, and orchestration needs, the flowchart guides the user to the appropriate Azure service. The services include Azure App Service, Azure Spring Apps, Virtual Machine, Azure Batch, Azure Functions, Azure Container Instances, Azure Service Fabric, Azure Red Hat OpenShift (ARO), and Azure Kubernetes Service (AKS). The flowchart also mentions container exclusive services like Azure Container Instances, Azure Red Hat OpenShift, Azure Kubernetes Service, Azure Container Apps, and container compatible services like Azure Batch, Azure Functions, Azure Service Fabric, Azure Spring Apps, and Azure App Service.\n"
     ]
    }
   ],
   "source": [
    "var uri = \"https://alemoraoaist.z13.web.core.windows.net/images/compute-diagram.png\";\n",
    "Console.WriteLine(await ProcessCompletion(\"Please describe this image\", uri));"
   ]
  },
  {
   "cell_type": "code",
   "execution_count": 12,
   "metadata": {
    "dotnet_interactive": {
     "language": "csharp"
    },
    "polyglot_notebook": {
     "kernelName": "csharp"
    },
    "vscode": {
     "languageId": "polyglot-notebook"
    }
   },
   "outputs": [
    {
     "name": "stdout",
     "output_type": "stream",
     "text": [
      "If you are familiar with deploying containers, the best recommendation for compute would be Azure Kubernetes Service (AKS). According to the diagram, if you are building a new application that can be containerized and you need full-fledged orchestration, AKS is the suggested service. AKS provides a managed Kubernetes service that simplifies the deployment, management, and scaling of containerized applications using Kubernetes. It also offers access to the Kubernetes API, which is beneficial if you are already familiar with Kubernetes. Additionally, AKS integrates with other Azure services, providing a comprehensive and scalable solution for container deployment.\n"
     ]
    }
   ],
   "source": [
    "var prompt = \"Based on the diagram, what is the best recommendation for compute if I am familiar with deploying containers? Explain the recommendation.\";\n",
    "Console.WriteLine(await ProcessCompletion(prompt, uri));"
   ]
  }
 ],
 "metadata": {
  "kernelspec": {
   "display_name": ".NET (C#)",
   "language": "C#",
   "name": ".net-csharp"
  },
  "language_info": {
   "codemirror_mode": {
    "name": "ipython",
    "version": 3
   },
   "file_extension": ".py",
   "mimetype": "text/x-python",
   "name": "python",
   "nbconvert_exporter": "python",
   "pygments_lexer": "ipython3",
   "version": "3.10.13"
  },
  "orig_nbformat": 4,
  "polyglot_notebook": {
   "kernelInfo": {
    "defaultKernelName": "csharp",
    "items": [
     {
      "aliases": [],
      "name": "csharp"
     }
    ]
   }
  }
 },
 "nbformat": 4,
 "nbformat_minor": 2
}
