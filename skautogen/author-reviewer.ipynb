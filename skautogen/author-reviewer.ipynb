{
 "cells": [
  {
   "cell_type": "markdown",
   "id": "23b7bd27",
   "metadata": {},
   "source": [
    "# Author-Reviewer Agentic Demo\n",
    "\n",
    "## Load the packages"
   ]
  },
  {
   "cell_type": "code",
   "execution_count": null,
   "id": "f6679e0e",
   "metadata": {
    "polyglot_notebook": {
     "kernelName": "csharp"
    }
   },
   "outputs": [],
   "source": [
    "#r \"nuget: dotenv.net\"\n",
    "#r \"nuget: Microsoft.SemanticKernel, 1.55.0\"\n",
    "#r \"nuget: Microsoft.SemanticKernel.Plugins.Web, 1.54.0-alpha\"\n",
    "#r \"nuget: AutoGen, 0.2.3\"\n",
    "#r \"nuget: AutoGen.SourceGenerator, 0.2.3\"\n",
    "\n",
    "using AutoGen.Core;\n",
    "using AutoGen.OpenAI;\n",
    "using AutoGen.OpenAI.Extension;\n",
    "using Azure.AI.OpenAI;\n",
    "using dotenv.net;"
   ]
  },
  {
   "cell_type": "markdown",
   "id": "b0bb115e",
   "metadata": {},
   "source": [
    "### Load the environment variables"
   ]
  },
  {
   "cell_type": "code",
   "execution_count": null,
   "metadata": {
    "polyglot_notebook": {
     "kernelName": "csharp"
    }
   },
   "outputs": [],
   "source": [
    "DotEnv.Load();\n",
    "\n",
    "var endpoint = Environment.GetEnvironmentVariable(\"GPT_OPENAI_ENDPOINT\");\n",
    "var deployment = Environment.GetEnvironmentVariable(\"GPT_OPENAI_DEPLOYMENT_NAME\");\n",
    "var apiKey = Environment.GetEnvironmentVariable(\"GPT_OPENAI_KEY\");"
   ]
  },
  {
   "cell_type": "markdown",
   "id": "0aa6dc00",
   "metadata": {},
   "source": [
    "### Get an OpenAIClient"
   ]
  },
  {
   "cell_type": "code",
   "execution_count": null,
   "id": "d66148c9",
   "metadata": {
    "polyglot_notebook": {
     "kernelName": "csharp"
    }
   },
   "outputs": [],
   "source": [
    "AzureOpenAIClient GetAzureOpenAIClient()\n",
    "{                \n",
    "    if (string.IsNullOrEmpty(apiKey) || string.IsNullOrEmpty(endpoint))\n",
    "    {\n",
    "        throw new InvalidOperationException(\"Azure OpenAI configuration is not properly set.\");\n",
    "    }\n",
    "\n",
    "    var client = new AzureOpenAIClient(\n",
    "        new Uri(endpoint),\n",
    "        new System.ClientModel.ApiKeyCredential(apiKey));\n",
    "\n",
    "    return client;\n",
    "}"
   ]
  },
  {
   "cell_type": "markdown",
   "id": "26b805db",
   "metadata": {},
   "source": [
    "### Get an OpenAI client"
   ]
  },
  {
   "cell_type": "code",
   "execution_count": null,
   "id": "87cec544",
   "metadata": {
    "polyglot_notebook": {
     "kernelName": "csharp"
    }
   },
   "outputs": [],
   "source": [
    "var client = GetAzureOpenAIClient();"
   ]
  },
  {
   "cell_type": "markdown",
   "id": "215598d0",
   "metadata": {},
   "source": [
    "### Configure the author"
   ]
  },
  {
   "cell_type": "code",
   "execution_count": null,
   "id": "46edbd43",
   "metadata": {
    "polyglot_notebook": {
     "kernelName": "csharp"
    }
   },
   "outputs": [],
   "source": [
    "var author = new OpenAIChatAgent(\n",
    "chatClient: client.GetChatClient(deploymentName: deployment),\n",
    "name: \"author\",\n",
    "temperature:1.0f,\n",
    "systemMessage: \"You are a technical document writer. Your task is to write a one page technical document the given a topic.\")\n",
    "    .RegisterMessageConnector()\n",
    "    .RegisterMiddleware(\n",
    "        async (messages, option, agent, _) =>\n",
    "        {\n",
    "            var reply = await agent.GenerateReplyAsync(messages, option);\n",
    "\n",
    "            //if (reply.GetContent()?.ToLower().Contains(\"complete\") is true)\n",
    "            //{\n",
    "            //    Console.WriteLine(\"Teacher has completed the conversation.\");\n",
    "            //    \n",
    "            //    return new TextMessage(\n",
    "            //        Role.Assistant,\n",
    "            //        GroupChatExtension.TERMINATE,\n",
    "            //        from: reply.From\n",
    "            //    );\n",
    "            //}\n",
    "\n",
    "            return reply;\n",
    "        })\n",
    "    .RegisterPrintMessage();"
   ]
  },
  {
   "cell_type": "markdown",
   "id": "5749a8d6",
   "metadata": {},
   "source": [
    "### Configure the reviewer"
   ]
  },
  {
   "cell_type": "code",
   "execution_count": null,
   "metadata": {
    "polyglot_notebook": {
     "kernelName": "csharp"
    }
   },
   "outputs": [],
   "source": [
    "var reviewer = new OpenAIChatAgent(\n",
    "chatClient: client.GetChatClient(deploymentName: deployment),\n",
    "name: \"reviewer\",\n",
    "temperature:0.1f,\n",
    "systemMessage: \"You are a technical document reviewer who provides feedback. Your task is to review the provided technical document and provide improvement suggestions including at least one edge case. When the document includes the feedback revisions, say 'TERMINATE' in your response\")\n",
    "    .RegisterMessageConnector()\n",
    "    .RegisterMiddleware(\n",
    "        async (messages, option, agent, _) =>\n",
    "        {\n",
    "            var reply = await agent.GenerateReplyAsync(messages, option);\n",
    "\n",
    "            if (reply.GetContent()?.ToLower().Contains(\"TERMINATE\") is true)\n",
    "            {\n",
    "                Console.WriteLine(\"Teacher has completed the conversation.\");\n",
    "                \n",
    "                return new TextMessage(\n",
    "                    Role.Assistant,\n",
    "                    GroupChatExtension.TERMINATE,\n",
    "                    from: reply.From\n",
    "                );\n",
    "            }\n",
    "\n",
    "            return reply;\n",
    "        })\n",
    "    .RegisterPrintMessage();"
   ]
  },
  {
   "cell_type": "markdown",
   "id": "9ae40ae0",
   "metadata": {},
   "source": [
    "### Start a conversation"
   ]
  },
  {
   "cell_type": "code",
   "execution_count": null,
   "metadata": {
    "polyglot_notebook": {
     "kernelName": "csharp"
    }
   },
   "outputs": [],
   "source": [
    "var conversation = await reviewer.InitiateChatAsync(\n",
    "            receiver: author,\n",
    "            message: @\"prompt engineering.\",\n",
    "            maxRound: 6\n",
    "        );\n",
    "\n",
    "conversation"
   ]
  }
 ],
 "metadata": {
  "kernelspec": {
   "display_name": ".NET (C#)",
   "language": "C#",
   "name": ".net-csharp"
  },
  "polyglot_notebook": {
   "kernelInfo": {
    "defaultKernelName": "csharp",
    "items": [
     {
      "aliases": [],
      "languageName": "csharp",
      "name": "csharp"
     }
    ]
   }
  }
 },
 "nbformat": 4,
 "nbformat_minor": 5
}
