{
 "cells": [
  {
   "cell_type": "markdown",
   "id": "23b7bd27",
   "metadata": {},
   "source": [
    "# Comedians Agentic demo\n",
    "\n",
    "## Load the packages"
   ]
  },
  {
   "cell_type": "code",
   "execution_count": null,
   "id": "f6679e0e",
   "metadata": {
    "polyglot_notebook": {
     "kernelName": "csharp"
    }
   },
   "outputs": [],
   "source": [
    "#r \"nuget: dotenv.net\"\n",
    "#r \"nuget: Microsoft.SemanticKernel, 1.55.0\"\n",
    "#r \"nuget: Microsoft.SemanticKernel.Plugins.Web, 1.54.0-alpha\"\n",
    "#r \"nuget: AutoGen, 0.2.3\"\n",
    "#r \"nuget: AutoGen.SourceGenerator, 0.2.3\"\n",
    "\n",
    "using AutoGen.Core;\n",
    "using AutoGen.OpenAI;\n",
    "using AutoGen.OpenAI.Extension;\n",
    "using Azure.AI.OpenAI;\n",
    "using dotenv.net;"
   ]
  },
  {
   "cell_type": "markdown",
   "id": "b0bb115e",
   "metadata": {},
   "source": [
    "### Load the environment variables"
   ]
  },
  {
   "cell_type": "code",
   "execution_count": null,
   "metadata": {
    "polyglot_notebook": {
     "kernelName": "csharp"
    }
   },
   "outputs": [],
   "source": [
    "DotEnv.Load();\n",
    "\n",
    "var endpoint = Environment.GetEnvironmentVariable(\"GPT_OPENAI_ENDPOINT\");\n",
    "var deployment = Environment.GetEnvironmentVariable(\"GPT_OPENAI_DEPLOYMENT_NAME\");\n",
    "var apiKey = Environment.GetEnvironmentVariable(\"GPT_OPENAI_KEY\");"
   ]
  },
  {
   "cell_type": "markdown",
   "id": "0aa6dc00",
   "metadata": {},
   "source": [
    "### Get an OpenAIClient"
   ]
  },
  {
   "cell_type": "code",
   "execution_count": null,
   "id": "d66148c9",
   "metadata": {
    "polyglot_notebook": {
     "kernelName": "csharp"
    }
   },
   "outputs": [],
   "source": [
    "AzureOpenAIClient GetAzureOpenAIClient()\n",
    "{                \n",
    "    if (string.IsNullOrEmpty(apiKey) || string.IsNullOrEmpty(endpoint))\n",
    "    {\n",
    "        throw new InvalidOperationException(\"Azure OpenAI configuration is not properly set.\");\n",
    "    }\n",
    "\n",
    "    var client = new AzureOpenAIClient(\n",
    "        new Uri(endpoint),\n",
    "        new System.ClientModel.ApiKeyCredential(apiKey));\n",
    "\n",
    "    return client;\n",
    "}"
   ]
  },
  {
   "cell_type": "markdown",
   "id": "26b805db",
   "metadata": {},
   "source": [
    "### Get an OpenAI client"
   ]
  },
  {
   "cell_type": "code",
   "execution_count": null,
   "id": "87cec544",
   "metadata": {
    "polyglot_notebook": {
     "kernelName": "csharp"
    }
   },
   "outputs": [],
   "source": [
    "var client = GetAzureOpenAIClient();"
   ]
  },
  {
   "cell_type": "markdown",
   "id": "215598d0",
   "metadata": {},
   "source": [
    "### Configure the first comedian"
   ]
  },
  {
   "cell_type": "code",
   "execution_count": null,
   "id": "46edbd43",
   "metadata": {
    "polyglot_notebook": {
     "kernelName": "csharp"
    }
   },
   "outputs": [],
   "source": [
    "var comedian1 = new OpenAIChatAgent(\n",
    "chatClient: client.GetChatClient(deploymentName: deployment),\n",
    "name: \"comedian1\",\n",
    "temperature:1.0f,\n",
    "systemMessage: \"You are a comedian. Your task is to generate 'knock-knock' jokes. Make sure the jokes are appropriate and funny.\")\n",
    "    .RegisterMessageConnector()\n",
    "    .RegisterMiddleware(\n",
    "        async (messages, option, agent, _) =>\n",
    "        {\n",
    "            var reply = await agent.GenerateReplyAsync(messages, option);\n",
    "\n",
    "            if (reply.GetContent()?.ToLower().Contains(\"complete\") is true)\n",
    "            {\n",
    "                Console.WriteLine(\"Teacher has completed the conversation.\");\n",
    "                \n",
    "                return new TextMessage(\n",
    "                    Role.Assistant,\n",
    "                    GroupChatExtension.TERMINATE,\n",
    "                    from: reply.From\n",
    "                );\n",
    "            }\n",
    "\n",
    "            return reply;\n",
    "        })\n",
    "    .RegisterPrintMessage();"
   ]
  },
  {
   "cell_type": "code",
   "execution_count": null,
   "metadata": {
    "polyglot_notebook": {
     "kernelName": "csharp"
    }
   },
   "outputs": [],
   "source": [
    "var comedian2 = new OpenAIChatAgent(\n",
    "chatClient: client.GetChatClient(deploymentName: deployment),\n",
    "name: \"comedian2\",\n",
    "temperature:1.0f,\n",
    "systemMessage: \"You are a comedian. Your task is to generate 'chicken that crossed the road' jokes. Make sure the jokes are appropriate and funny.\")\n",
    "    .RegisterMessageConnector()\n",
    "    .RegisterMiddleware(\n",
    "        async (messages, option, agent, _) =>\n",
    "        {\n",
    "            var reply = await agent.GenerateReplyAsync(messages, option);\n",
    "\n",
    "            if (reply.GetContent()?.ToLower().Contains(\"complete\") is true)\n",
    "            {\n",
    "                Console.WriteLine(\"Teacher has completed the conversation.\");\n",
    "                \n",
    "                return new TextMessage(\n",
    "                    Role.Assistant,\n",
    "                    GroupChatExtension.TERMINATE,\n",
    "                    from: reply.From\n",
    "                );\n",
    "            }\n",
    "\n",
    "            return reply;\n",
    "        })\n",
    "    .RegisterPrintMessage();"
   ]
  },
  {
   "cell_type": "code",
   "execution_count": null,
   "metadata": {
    "polyglot_notebook": {
     "kernelName": "csharp"
    }
   },
   "outputs": [],
   "source": [
    "var conversation = await comedian1.InitiateChatAsync(\n",
    "            receiver: comedian2,\n",
    "            message: @\"Tell me a joke\",\n",
    "            maxRound: 10\n",
    "        );\n",
    "\n",
    "conversation"
   ]
  }
 ],
 "metadata": {
  "kernelspec": {
   "display_name": ".NET (C#)",
   "language": "C#",
   "name": ".net-csharp"
  },
  "polyglot_notebook": {
   "kernelInfo": {
    "defaultKernelName": "csharp",
    "items": [
     {
      "aliases": [],
      "languageName": "csharp",
      "name": "csharp"
     }
    ]
   }
  }
 },
 "nbformat": 4,
 "nbformat_minor": 5
}
